{
 "cells": [
  {
   "cell_type": "code",
   "execution_count": 1,
   "id": "8e41a995",
   "metadata": {},
   "outputs": [],
   "source": [
    "import numpy as np\n",
    "import pandas as pd\n",
    "import pickle\n",
    "import matplotlib.pyplot as plt\n",
    "import seaborn as sns\n",
    "from sklearn.ensemble import RandomForestClassifier\n",
    "from sklearn.linear_model import LogisticRegression\n",
    "import sklearn"
   ]
  },
  {
   "cell_type": "code",
   "execution_count": 2,
   "id": "cd3ab4f8",
   "metadata": {},
   "outputs": [],
   "source": [
    "parents_dict = pickle.load(open(\"../../CAR_data/upstream_node_dict\", \"rb\"))\n",
    "expression_sc = pd.read_csv(\"../../CAR_data/log_sc_expr_with_celltypes.csv\")\n",
    "expression_marker_genes = pd.read_csv(\"../../CAR_data/marker_genes_log_sc_expr_with_celltypes.csv\")\n",
    "raw_counts = pd.read_csv(\"../../CAR_data/raw_counts_post_qc_genes_of_interest.csv\")"
   ]
  },
  {
   "cell_type": "code",
   "execution_count": 3,
   "id": "990733a7",
   "metadata": {},
   "outputs": [],
   "source": [
    "TFs = pickle.load(open(\"../../CAR_data/TF_list\", \"rb\"))\n",
    "TFs.remove(\"AP1\")"
   ]
  },
  {
   "cell_type": "markdown",
   "id": "f82e1bf5",
   "metadata": {},
   "source": [
    "# Try to predict cell type as a function of CAR expression level \n",
    "\n",
    "**Actually not a good idea because the expression we have is not representative of CAR expression. Ask Rocio about it**"
   ]
  },
  {
   "cell_type": "code",
   "execution_count": 4,
   "id": "d05bec06",
   "metadata": {
    "scrolled": true
   },
   "outputs": [],
   "source": [
    "CARs = [\"41BB\", \"CTLA4\", \"CD40\", \"IL15Ra\", \"CD28\"]\n",
    "cell_type_marker = [\"CD4\", \"CD8A\", \"CD8B\"]\n",
    "\n",
    "def encode_function(string, list_of_functions):\n",
    "    return(list_of_functions.index(string))\n",
    "\n",
    "expression_sc[cell_type_marker] = expression_marker_genes[cell_type_marker]\n",
    "cell_functions = list(np.unique(expression_sc[\"cell_type\"]))\n",
    "expression_sc[\"function_encoded\"] = expression_sc[\"cell_type\"].apply(encode_function, args = (cell_functions,))\n",
    "#raw_counts[\"function_encoded\"] = raw_counts[\"cell_type\"].apply(encode_function, args = (cell_functions,))"
   ]
  },
  {
   "cell_type": "code",
   "execution_count": 5,
   "id": "f7f28f35",
   "metadata": {},
   "outputs": [],
   "source": [
    "from sklearn.model_selection import train_test_split\n",
    "from sklearn.metrics import classification_report\n",
    "from sklearn.metrics import balanced_accuracy_score\n",
    "from sklearn.model_selection import GridSearchCV\n",
    "from sklearn.preprocessing import MinMaxScaler\n",
    "\n",
    "\n",
    "X, X_test = train_test_split(expression_sc, test_size=0.1, random_state=1)\n",
    "scaler = MinMaxScaler()\n",
    "X_scaled = X.copy()\n",
    "X_test_scaled = X_test.copy()\n",
    "X_scaled[TFs + CARs + cell_type_marker] = scaler.fit_transform(X[TFs + CARs + cell_type_marker])\n",
    "X_test_scaled[TFs + CARs + cell_type_marker] = scaler.transform(X_test[TFs + CARs + cell_type_marker])\n",
    "\n"
   ]
  },
  {
   "cell_type": "code",
   "execution_count": 6,
   "id": "ec12beb6",
   "metadata": {
    "scrolled": true
   },
   "outputs": [
    {
     "name": "stdout",
     "output_type": "stream",
     "text": [
      " Mean accuracy: train = 0.8395442992293244, \n",
      " Mean accuracy: test = 0.2831179820703069\n",
      "Classification report\n",
      "                      precision    recall  f1-score   support\n",
      "\n",
      "         CD4 HLAhigh       0.15      0.09      0.11        55\n",
      "          CD4 Memory       0.42      0.28      0.34       107\n",
      "   CD4 Th2/Activated       0.50      0.30      0.37        10\n",
      "       CD4 activated       0.32      0.34      0.33        93\n",
      "    CD8 Cytox/Memory       0.27      0.43      0.33       106\n",
      "      CD8 Effector A       0.54      0.46      0.49        46\n",
      "CD8 Effector HLAhigh       0.11      0.11      0.11        55\n",
      "           NK T cell       0.50      0.25      0.33         4\n",
      "\n",
      "            accuracy                           0.30       476\n",
      "           macro avg       0.35      0.28      0.30       476\n",
      "        weighted avg       0.31      0.30      0.30       476\n",
      "\n"
     ]
    }
   ],
   "source": [
    "\n",
    "rf_class = RandomForestClassifier(random_state=2)\n",
    "rf_class.fit(X = X[CARs], y = X[\"function_encoded\"])\n",
    "\n",
    "y_pred_test = rf_class.predict(X = X_test[CARs])\n",
    "y_pred_train = rf_class.predict(X = X[CARs])\n",
    "\n",
    "score_test = balanced_accuracy_score(y_true = X_test[\"function_encoded\"],\n",
    "                              y_pred = y_pred_test\n",
    "                             )\n",
    "score_train = balanced_accuracy_score(y_true = X[\"function_encoded\"],\n",
    "                              y_pred = y_pred_train\n",
    "                             )\n",
    "print(f\" Mean accuracy: train = {score_train}, \\n Mean accuracy: test = {score_test}\")\n",
    "\n",
    "#print(best_classifier.predict_proba(validation_inputs_5_CD8))\n",
    "\n",
    "print(\"Classification report\") \n",
    "print(classification_report(X_test[\"function_encoded\"], y_pred_test, target_names=cell_functions,\n",
    "                            zero_division=\"warn\" ))"
   ]
  },
  {
   "cell_type": "code",
   "execution_count": 7,
   "id": "e130ea84",
   "metadata": {},
   "outputs": [
    {
     "name": "stdout",
     "output_type": "stream",
     "text": [
      " Mean accuracy: train = 0.9705902534124118, \n",
      " Mean accuracy: test = 0.47649196622964796\n",
      "Classification report\n",
      "                      precision    recall  f1-score   support\n",
      "\n",
      "         CD4 HLAhigh       0.48      0.22      0.30        55\n",
      "          CD4 Memory       0.57      0.64      0.61       107\n",
      "   CD4 Th2/Activated       0.60      0.30      0.40        10\n",
      "       CD4 activated       0.48      0.58      0.53        93\n",
      "    CD8 Cytox/Memory       0.64      0.77      0.70       106\n",
      "      CD8 Effector A       0.72      0.72      0.72        46\n",
      "CD8 Effector HLAhigh       0.49      0.33      0.39        55\n",
      "           NK T cell       0.50      0.25      0.33         4\n",
      "\n",
      "            accuracy                           0.57       476\n",
      "           macro avg       0.56      0.48      0.50       476\n",
      "        weighted avg       0.56      0.57      0.56       476\n",
      "\n"
     ]
    }
   ],
   "source": [
    "\n",
    "\n",
    "rf_class = RandomForestClassifier(random_state=2)\n",
    "rf_class.fit(X = X[CARs+cell_type_marker], y = X[\"function_encoded\"])\n",
    "\n",
    "y_pred_test = rf_class.predict(X = X_test[CARs+cell_type_marker])\n",
    "y_pred_train = rf_class.predict(X = X[CARs+cell_type_marker])\n",
    "\n",
    "score_test = balanced_accuracy_score(y_true = X_test[\"function_encoded\"],\n",
    "                              y_pred = y_pred_test\n",
    "                             )\n",
    "score_train = balanced_accuracy_score(y_true = X[\"function_encoded\"],\n",
    "                              y_pred = y_pred_train\n",
    "                             )\n",
    "print(f\" Mean accuracy: train = {score_train}, \\n Mean accuracy: test = {score_test}\")\n",
    "\n",
    "#print(best_classifier.predict_proba(validation_inputs_5_CD8))\n",
    "\n",
    "print(\"Classification report\") \n",
    "print(classification_report(X_test[\"function_encoded\"], y_pred_test, target_names=cell_functions,\n",
    "                            zero_division=\"warn\" ))"
   ]
  },
  {
   "cell_type": "markdown",
   "id": "6fff4cf0",
   "metadata": {},
   "source": [
    "# Logistic regression for robustness\n",
    "\n",
    "## CD4 and CD8 mixed"
   ]
  },
  {
   "cell_type": "code",
   "execution_count": 8,
   "id": "2990584d",
   "metadata": {
    "scrolled": true
   },
   "outputs": [
    {
     "name": "stdout",
     "output_type": "stream",
     "text": [
      " Mean accuracy: train = 0.23001600132232033, \n",
      " Mean accuracy: test = 0.21684234899190086\n",
      "Classification report\n",
      "                      precision    recall  f1-score   support\n",
      "\n",
      "         CD4 HLAhigh       0.00      0.00      0.00        55\n",
      "          CD4 Memory       0.32      0.39      0.35       107\n",
      "   CD4 Th2/Activated       0.00      0.00      0.00        10\n",
      "       CD4 activated       0.32      0.33      0.32        93\n",
      "    CD8 Cytox/Memory       0.28      0.54      0.37       106\n",
      "      CD8 Effector A       0.57      0.43      0.49        46\n",
      "CD8 Effector HLAhigh       0.40      0.04      0.07        55\n",
      "           NK T cell       0.00      0.00      0.00         4\n",
      "\n",
      "            accuracy                           0.32       476\n",
      "           macro avg       0.24      0.22      0.20       476\n",
      "        weighted avg       0.30      0.32      0.28       476\n",
      "\n"
     ]
    },
    {
     "name": "stderr",
     "output_type": "stream",
     "text": [
      "/home/ubuntu/storage/miniconda3/envs/dev_fuzzy/lib/python3.9/site-packages/sklearn/metrics/_classification.py:1318: UndefinedMetricWarning: Precision and F-score are ill-defined and being set to 0.0 in labels with no predicted samples. Use `zero_division` parameter to control this behavior.\n",
      "  _warn_prf(average, modifier, msg_start, len(result))\n",
      "/home/ubuntu/storage/miniconda3/envs/dev_fuzzy/lib/python3.9/site-packages/sklearn/metrics/_classification.py:1318: UndefinedMetricWarning: Precision and F-score are ill-defined and being set to 0.0 in labels with no predicted samples. Use `zero_division` parameter to control this behavior.\n",
      "  _warn_prf(average, modifier, msg_start, len(result))\n",
      "/home/ubuntu/storage/miniconda3/envs/dev_fuzzy/lib/python3.9/site-packages/sklearn/metrics/_classification.py:1318: UndefinedMetricWarning: Precision and F-score are ill-defined and being set to 0.0 in labels with no predicted samples. Use `zero_division` parameter to control this behavior.\n",
      "  _warn_prf(average, modifier, msg_start, len(result))\n"
     ]
    }
   ],
   "source": [
    "\n",
    "rf_class = LogisticRegression(random_state=2)\n",
    "rf_class.fit(X = X_scaled[CARs], y = X_scaled[\"function_encoded\"])\n",
    "\n",
    "y_pred_test = rf_class.predict(X = X_test_scaled[CARs])\n",
    "y_pred_train = rf_class.predict(X = X_scaled[CARs])\n",
    "\n",
    "score_test = balanced_accuracy_score(y_true = X_test_scaled[\"function_encoded\"],\n",
    "                              y_pred = y_pred_test\n",
    "                             )\n",
    "score_train = balanced_accuracy_score(y_true = X_scaled[\"function_encoded\"],\n",
    "                              y_pred = y_pred_train\n",
    "                             )\n",
    "print(f\" Mean accuracy: train = {score_train}, \\n Mean accuracy: test = {score_test}\")\n",
    "\n",
    "#print(best_classifier.predict_proba(validation_inputs_5_CD8))\n",
    "\n",
    "print(\"Classification report\") \n",
    "print(classification_report(X_test_scaled[\"function_encoded\"], y_pred_test, target_names=cell_functions,\n",
    "                            zero_division=\"warn\" ))"
   ]
  },
  {
   "cell_type": "code",
   "execution_count": 9,
   "id": "afb0c3a6",
   "metadata": {
    "scrolled": false
   },
   "outputs": [
    {
     "name": "stdout",
     "output_type": "stream",
     "text": [
      " Mean accuracy: train = 0.35381696518884476, \n",
      " Mean accuracy: test = 0.3620885207042437\n",
      "Classification report\n",
      "                      precision    recall  f1-score   support\n",
      "\n",
      "         CD4 HLAhigh       0.33      0.02      0.03        55\n",
      "          CD4 Memory       0.49      0.74      0.59       107\n",
      "   CD4 Th2/Activated       0.00      0.00      0.00        10\n",
      "       CD4 activated       0.49      0.53      0.51        93\n",
      "    CD8 Cytox/Memory       0.60      0.88      0.71       106\n",
      "      CD8 Effector A       0.72      0.61      0.66        46\n",
      "CD8 Effector HLAhigh       0.41      0.13      0.19        55\n",
      "           NK T cell       0.00      0.00      0.00         4\n",
      "\n",
      "            accuracy                           0.54       476\n",
      "           macro avg       0.38      0.36      0.34       476\n",
      "        weighted avg       0.49      0.54      0.48       476\n",
      "\n"
     ]
    },
    {
     "name": "stderr",
     "output_type": "stream",
     "text": [
      "/home/ubuntu/storage/miniconda3/envs/dev_fuzzy/lib/python3.9/site-packages/sklearn/metrics/_classification.py:1318: UndefinedMetricWarning: Precision and F-score are ill-defined and being set to 0.0 in labels with no predicted samples. Use `zero_division` parameter to control this behavior.\n",
      "  _warn_prf(average, modifier, msg_start, len(result))\n",
      "/home/ubuntu/storage/miniconda3/envs/dev_fuzzy/lib/python3.9/site-packages/sklearn/metrics/_classification.py:1318: UndefinedMetricWarning: Precision and F-score are ill-defined and being set to 0.0 in labels with no predicted samples. Use `zero_division` parameter to control this behavior.\n",
      "  _warn_prf(average, modifier, msg_start, len(result))\n",
      "/home/ubuntu/storage/miniconda3/envs/dev_fuzzy/lib/python3.9/site-packages/sklearn/metrics/_classification.py:1318: UndefinedMetricWarning: Precision and F-score are ill-defined and being set to 0.0 in labels with no predicted samples. Use `zero_division` parameter to control this behavior.\n",
      "  _warn_prf(average, modifier, msg_start, len(result))\n"
     ]
    },
    {
     "data": {
      "image/png": "[encoded data removed]",
      "text/plain": [
       "<Figure size 720x720 with 2 Axes>"
      ]
     },
     "metadata": {
      "needs_background": "light"
     },
     "output_type": "display_data"
    }
   ],
   "source": [
    "\n",
    "\n",
    "rf_class = LogisticRegression(random_state=2)\n",
    "rf_class.fit(X = X_scaled[CARs+cell_type_marker], y = X_scaled[\"function_encoded\"])\n",
    "\n",
    "y_pred_test = rf_class.predict(X = X_test_scaled[CARs+cell_type_marker])\n",
    "y_pred_train = rf_class.predict(X = X_scaled[CARs+cell_type_marker])\n",
    "\n",
    "score_test = balanced_accuracy_score(y_true = X_test_scaled[\"function_encoded\"],\n",
    "                              y_pred = y_pred_test\n",
    "                             )\n",
    "score_train = balanced_accuracy_score(y_true = X_scaled[\"function_encoded\"],\n",
    "                              y_pred = y_pred_train\n",
    "                             )\n",
    "print(f\" Mean accuracy: train = {score_train}, \\n Mean accuracy: test = {score_test}\")\n",
    "\n",
    "#print(best_classifier.predict_proba(validation_inputs_5_CD8))\n",
    "\n",
    "print(\"Classification report\") \n",
    "print(classification_report(X_test_scaled[\"function_encoded\"], y_pred_test, target_names=cell_functions,\n",
    "                            zero_division=\"warn\" ))\n",
    "\n",
    "fig, ax = plt.subplots(figsize=(10, 10))\n",
    "cm = sklearn.metrics.confusion_matrix(X_test_scaled[\"function_encoded\"], y_pred_test, labels=[0,1,2,3, 4, 5, 6, 7])\n",
    "disp = sklearn.metrics.ConfusionMatrixDisplay(confusion_matrix=cm,\n",
    "                              display_labels=cell_functions)\n",
    "disp.plot(ax = ax)\n",
    "disp.ax_.set_xticklabels(disp.ax_.get_xmajorticklabels(), rotation = 45)\n",
    "\n",
    "plt.show()"
   ]
  },
  {
   "cell_type": "markdown",
   "id": "87efe1c9",
   "metadata": {},
   "source": [
    "## Separate CD4 and CD8 for comparison with the domain name\n",
    "### Predict from CAR expression"
   ]
  },
  {
   "cell_type": "code",
   "execution_count": 10,
   "id": "dc07baf5",
   "metadata": {},
   "outputs": [
    {
     "name": "stderr",
     "output_type": "stream",
     "text": [
      "/home/ubuntu/storage/miniconda3/envs/dev_fuzzy/lib/python3.9/site-packages/sklearn/base.py:493: FutureWarning: The feature names should match those that were passed during fit. Starting version 1.2, an error will be raised.\n",
      "Feature names seen at fit time, yet now missing:\n",
      "- CD4\n",
      "- CD8A\n",
      "- CD8B\n",
      "\n",
      "  warnings.warn(message, FutureWarning)\n"
     ]
    },
    {
     "ename": "ValueError",
     "evalue": "X has 48 features, but MinMaxScaler is expecting 51 features as input.",
     "output_type": "error",
     "traceback": [
      "\u001b[0;31m---------------------------------------------------------------------------\u001b[0m",
      "\u001b[0;31mValueError\u001b[0m                                Traceback (most recent call last)",
      "Input \u001b[0;32mIn [10]\u001b[0m, in \u001b[0;36m<cell line: 9>\u001b[0;34m()\u001b[0m\n\u001b[1;32m      7\u001b[0m X_test_scaled_CD4 \u001b[38;5;241m=\u001b[39m X_test_CD4\u001b[38;5;241m.\u001b[39mcopy()\n\u001b[1;32m      8\u001b[0m X_scaled_CD4[TFs \u001b[38;5;241m+\u001b[39m CARs ] \u001b[38;5;241m=\u001b[39m scaler_CD4\u001b[38;5;241m.\u001b[39mfit_transform(X_CD4[TFs \u001b[38;5;241m+\u001b[39m CARs ])\n\u001b[0;32m----> 9\u001b[0m X_test_scaled_CD4[TFs \u001b[38;5;241m+\u001b[39m CARs ] \u001b[38;5;241m=\u001b[39m \u001b[43mscaler\u001b[49m\u001b[38;5;241;43m.\u001b[39;49m\u001b[43mtransform\u001b[49m\u001b[43m(\u001b[49m\u001b[43mX_test_CD4\u001b[49m\u001b[43m[\u001b[49m\u001b[43mTFs\u001b[49m\u001b[43m \u001b[49m\u001b[38;5;241;43m+\u001b[39;49m\u001b[43m \u001b[49m\u001b[43mCARs\u001b[49m\u001b[43m \u001b[49m\u001b[43m]\u001b[49m\u001b[43m)\u001b[49m\n\u001b[1;32m     12\u001b[0m X_CD8, X_test_CD8 \u001b[38;5;241m=\u001b[39m train_test_split(expression_sc_CD8, test_size\u001b[38;5;241m=\u001b[39m\u001b[38;5;241m0.1\u001b[39m, random_state\u001b[38;5;241m=\u001b[39m\u001b[38;5;241m1\u001b[39m)\n\u001b[1;32m     13\u001b[0m scaler_CD8 \u001b[38;5;241m=\u001b[39m MinMaxScaler()\n",
      "File \u001b[0;32m~/storage/miniconda3/envs/dev_fuzzy/lib/python3.9/site-packages/sklearn/preprocessing/_data.py:496\u001b[0m, in \u001b[0;36mMinMaxScaler.transform\u001b[0;34m(self, X)\u001b[0m\n\u001b[1;32m    482\u001b[0m \u001b[38;5;124;03m\"\"\"Scale features of X according to feature_range.\u001b[39;00m\n\u001b[1;32m    483\u001b[0m \n\u001b[1;32m    484\u001b[0m \u001b[38;5;124;03mParameters\u001b[39;00m\n\u001b[0;32m   (...)\u001b[0m\n\u001b[1;32m    492\u001b[0m \u001b[38;5;124;03m    Transformed data.\u001b[39;00m\n\u001b[1;32m    493\u001b[0m \u001b[38;5;124;03m\"\"\"\u001b[39;00m\n\u001b[1;32m    494\u001b[0m check_is_fitted(\u001b[38;5;28mself\u001b[39m)\n\u001b[0;32m--> 496\u001b[0m X \u001b[38;5;241m=\u001b[39m \u001b[38;5;28;43mself\u001b[39;49m\u001b[38;5;241;43m.\u001b[39;49m\u001b[43m_validate_data\u001b[49m\u001b[43m(\u001b[49m\n\u001b[1;32m    497\u001b[0m \u001b[43m    \u001b[49m\u001b[43mX\u001b[49m\u001b[43m,\u001b[49m\n\u001b[1;32m    498\u001b[0m \u001b[43m    \u001b[49m\u001b[43mcopy\u001b[49m\u001b[38;5;241;43m=\u001b[39;49m\u001b[38;5;28;43mself\u001b[39;49m\u001b[38;5;241;43m.\u001b[39;49m\u001b[43mcopy\u001b[49m\u001b[43m,\u001b[49m\n\u001b[1;32m    499\u001b[0m \u001b[43m    \u001b[49m\u001b[43mdtype\u001b[49m\u001b[38;5;241;43m=\u001b[39;49m\u001b[43mFLOAT_DTYPES\u001b[49m\u001b[43m,\u001b[49m\n\u001b[1;32m    500\u001b[0m \u001b[43m    \u001b[49m\u001b[43mforce_all_finite\u001b[49m\u001b[38;5;241;43m=\u001b[39;49m\u001b[38;5;124;43m\"\u001b[39;49m\u001b[38;5;124;43mallow-nan\u001b[39;49m\u001b[38;5;124;43m\"\u001b[39;49m\u001b[43m,\u001b[49m\n\u001b[1;32m    501\u001b[0m \u001b[43m    \u001b[49m\u001b[43mreset\u001b[49m\u001b[38;5;241;43m=\u001b[39;49m\u001b[38;5;28;43;01mFalse\u001b[39;49;00m\u001b[43m,\u001b[49m\n\u001b[1;32m    502\u001b[0m \u001b[43m\u001b[49m\u001b[43m)\u001b[49m\n\u001b[1;32m    504\u001b[0m X \u001b[38;5;241m*\u001b[39m\u001b[38;5;241m=\u001b[39m \u001b[38;5;28mself\u001b[39m\u001b[38;5;241m.\u001b[39mscale_\n\u001b[1;32m    505\u001b[0m X \u001b[38;5;241m+\u001b[39m\u001b[38;5;241m=\u001b[39m \u001b[38;5;28mself\u001b[39m\u001b[38;5;241m.\u001b[39mmin_\n",
      "File \u001b[0;32m~/storage/miniconda3/envs/dev_fuzzy/lib/python3.9/site-packages/sklearn/base.py:585\u001b[0m, in \u001b[0;36mBaseEstimator._validate_data\u001b[0;34m(self, X, y, reset, validate_separately, **check_params)\u001b[0m\n\u001b[1;32m    582\u001b[0m     out \u001b[38;5;241m=\u001b[39m X, y\n\u001b[1;32m    584\u001b[0m \u001b[38;5;28;01mif\u001b[39;00m \u001b[38;5;129;01mnot\u001b[39;00m no_val_X \u001b[38;5;129;01mand\u001b[39;00m check_params\u001b[38;5;241m.\u001b[39mget(\u001b[38;5;124m\"\u001b[39m\u001b[38;5;124mensure_2d\u001b[39m\u001b[38;5;124m\"\u001b[39m, \u001b[38;5;28;01mTrue\u001b[39;00m):\n\u001b[0;32m--> 585\u001b[0m     \u001b[38;5;28;43mself\u001b[39;49m\u001b[38;5;241;43m.\u001b[39;49m\u001b[43m_check_n_features\u001b[49m\u001b[43m(\u001b[49m\u001b[43mX\u001b[49m\u001b[43m,\u001b[49m\u001b[43m \u001b[49m\u001b[43mreset\u001b[49m\u001b[38;5;241;43m=\u001b[39;49m\u001b[43mreset\u001b[49m\u001b[43m)\u001b[49m\n\u001b[1;32m    587\u001b[0m \u001b[38;5;28;01mreturn\u001b[39;00m out\n",
      "File \u001b[0;32m~/storage/miniconda3/envs/dev_fuzzy/lib/python3.9/site-packages/sklearn/base.py:400\u001b[0m, in \u001b[0;36mBaseEstimator._check_n_features\u001b[0;34m(self, X, reset)\u001b[0m\n\u001b[1;32m    397\u001b[0m     \u001b[38;5;28;01mreturn\u001b[39;00m\n\u001b[1;32m    399\u001b[0m \u001b[38;5;28;01mif\u001b[39;00m n_features \u001b[38;5;241m!=\u001b[39m \u001b[38;5;28mself\u001b[39m\u001b[38;5;241m.\u001b[39mn_features_in_:\n\u001b[0;32m--> 400\u001b[0m     \u001b[38;5;28;01mraise\u001b[39;00m \u001b[38;5;167;01mValueError\u001b[39;00m(\n\u001b[1;32m    401\u001b[0m         \u001b[38;5;124mf\u001b[39m\u001b[38;5;124m\"\u001b[39m\u001b[38;5;124mX has \u001b[39m\u001b[38;5;132;01m{\u001b[39;00mn_features\u001b[38;5;132;01m}\u001b[39;00m\u001b[38;5;124m features, but \u001b[39m\u001b[38;5;132;01m{\u001b[39;00m\u001b[38;5;28mself\u001b[39m\u001b[38;5;241m.\u001b[39m\u001b[38;5;18m__class__\u001b[39m\u001b[38;5;241m.\u001b[39m\u001b[38;5;18m__name__\u001b[39m\u001b[38;5;132;01m}\u001b[39;00m\u001b[38;5;124m \u001b[39m\u001b[38;5;124m\"\u001b[39m\n\u001b[1;32m    402\u001b[0m         \u001b[38;5;124mf\u001b[39m\u001b[38;5;124m\"\u001b[39m\u001b[38;5;124mis expecting \u001b[39m\u001b[38;5;132;01m{\u001b[39;00m\u001b[38;5;28mself\u001b[39m\u001b[38;5;241m.\u001b[39mn_features_in_\u001b[38;5;132;01m}\u001b[39;00m\u001b[38;5;124m features as input.\u001b[39m\u001b[38;5;124m\"\u001b[39m\n\u001b[1;32m    403\u001b[0m     )\n",
      "\u001b[0;31mValueError\u001b[0m: X has 48 features, but MinMaxScaler is expecting 51 features as input."
     ]
    }
   ],
   "source": [
    "expression_sc_CD4 = expression_sc[expression_sc['Type']==\"CD4\"]\n",
    "expression_sc_CD8 = expression_sc[expression_sc['Type']==\"CD8\"]\n",
    "\n",
    "X_CD4, X_test_CD4 = train_test_split(expression_sc_CD4, test_size=0.1, random_state=1)\n",
    "scaler_CD4 = MinMaxScaler()\n",
    "X_scaled_CD4 = X_CD4.copy()\n",
    "X_test_scaled_CD4 = X_test_CD4.copy()\n",
    "X_scaled_CD4[TFs + CARs ] = scaler_CD4.fit_transform(X_CD4[TFs + CARs ])\n",
    "X_test_scaled_CD4[TFs + CARs ] = scaler.transform(X_test_CD4[TFs + CARs ])\n",
    "\n",
    "\n",
    "X_CD8, X_test_CD8 = train_test_split(expression_sc_CD8, test_size=0.1, random_state=1)\n",
    "scaler_CD8 = MinMaxScaler()\n",
    "X_scaled_CD8 = X_CD8.copy()\n",
    "X_test_scaled_CD8 = X_test_CD8.copy()\n",
    "X_scaled_CD8[TFs + CARs] = scaler_CD8.fit_transform(X_CD8[TFs + CARs ])\n",
    "X_test_scaled_CD8[TFs + CARs] = scaler.transform(X_test_CD8[TFs + CARs ])\n",
    "\n"
   ]
  },
  {
   "cell_type": "code",
   "execution_count": null,
   "id": "0f02168d",
   "metadata": {
    "scrolled": true
   },
   "outputs": [],
   "source": [
    "rf_class = LogisticRegression(random_state=2)\n",
    "rf_class.fit(X = X_scaled_CD4[CARs], y = X_scaled_CD4[\"function_encoded\"])\n",
    "\n",
    "y_pred_test = rf_class.predict(X = X_test_scaled_CD4[CARs])\n",
    "y_pred_train = rf_class.predict(X = X_scaled_CD4[CARs])\n",
    "\n",
    "score_test = balanced_accuracy_score(y_true = X_test_scaled_CD4[\"function_encoded\"],\n",
    "                              y_pred = y_pred_test\n",
    "                             )\n",
    "score_train = balanced_accuracy_score(y_true = X_scaled_CD4[\"function_encoded\"],\n",
    "                              y_pred = y_pred_train\n",
    "                             )\n",
    "print(f\" Mean accuracy: train = {score_train}, \\n Mean accuracy: test = {score_test}\")\n",
    "\n",
    "#print(best_classifier.predict_proba(validation_inputs_5_CD8))\n",
    "\n",
    "print(\"Classification report\") \n",
    "print(classification_report(X_test_scaled_CD4[\"function_encoded\"], y_pred_test, target_names=cell_functions[0:4],\n",
    "                            zero_division=\"warn\" ))\n",
    "\n",
    "fig, ax = plt.subplots(figsize=(10, 10))\n",
    "cm = sklearn.metrics.confusion_matrix(X_test_scaled_CD4[\"function_encoded\"], y_pred_test, labels=[0,1,2,3])\n",
    "disp = sklearn.metrics.ConfusionMatrixDisplay(confusion_matrix=cm,\n",
    "                              display_labels=cell_functions[0:4])\n",
    "disp.plot(ax = ax)\n",
    "disp.ax_.set_xticklabels(disp.ax_.get_xmajorticklabels(), rotation = 45)\n",
    "\n",
    "plt.show()"
   ]
  },
  {
   "cell_type": "code",
   "execution_count": null,
   "id": "442edee5",
   "metadata": {
    "scrolled": true
   },
   "outputs": [],
   "source": [
    "rf_class = LogisticRegression(random_state=2)\n",
    "rf_class.fit(X = X_scaled_CD8[CARs], y = X_scaled_CD8[\"function_encoded\"])\n",
    "\n",
    "y_pred_test = rf_class.predict(X = X_test_scaled_CD8[CARs])\n",
    "y_pred_train = rf_class.predict(X = X_scaled_CD8[CARs])\n",
    "\n",
    "score_test = balanced_accuracy_score(y_true = X_test_scaled_CD8[\"function_encoded\"],\n",
    "                              y_pred = y_pred_test\n",
    "                             )\n",
    "score_train = balanced_accuracy_score(y_true = X_scaled_CD8[\"function_encoded\"],\n",
    "                              y_pred = y_pred_train\n",
    "                             )\n",
    "print(f\" Mean accuracy: train = {score_train}, \\n Mean accuracy: test = {score_test}\")\n",
    "\n",
    "#print(best_classifier.predict_proba(validation_inputs_5_CD8))\n",
    "\n",
    "print(\"Classification report\") \n",
    "print(classification_report(X_test_scaled_CD8[\"function_encoded\"], y_pred_test, target_names=cell_functions[4:8],\n",
    "                            zero_division=\"warn\" ))\n",
    "\n",
    "fig, ax = plt.subplots(figsize=(10, 10))\n",
    "cm = sklearn.metrics.confusion_matrix(X_test_scaled_CD8[\"function_encoded\"], y_pred_test, labels=[4, 5, 6, 7])\n",
    "disp = sklearn.metrics.ConfusionMatrixDisplay(confusion_matrix=cm,\n",
    "                              display_labels=cell_functions[4:8])\n",
    "disp.plot(ax = ax)\n",
    "disp.ax_.set_xticklabels(disp.ax_.get_xmajorticklabels(), rotation = 45)\n",
    "\n",
    "plt.show()"
   ]
  },
  {
   "cell_type": "markdown",
   "id": "03c63ed8",
   "metadata": {},
   "source": [
    "### Predict from TF expression"
   ]
  },
  {
   "cell_type": "code",
   "execution_count": null,
   "id": "052b5527",
   "metadata": {
    "scrolled": true
   },
   "outputs": [],
   "source": [
    "rf_class = LogisticRegression(random_state=2)\n",
    "rf_class.fit(X = X_scaled_CD4[TFs], y = X_scaled_CD4[\"function_encoded\"])\n",
    "\n",
    "y_pred_test = rf_class.predict(X = X_test_scaled_CD4[TFs])\n",
    "y_pred_train = rf_class.predict(X = X_scaled_CD4[TFs])\n",
    "\n",
    "score_test = balanced_accuracy_score(y_true = X_test_scaled_CD4[\"function_encoded\"],\n",
    "                              y_pred = y_pred_test\n",
    "                             )\n",
    "score_train = balanced_accuracy_score(y_true = X_scaled_CD4[\"function_encoded\"],\n",
    "                              y_pred = y_pred_train\n",
    "                             )\n",
    "print(f\" Mean accuracy: train = {score_train}, \\n Mean accuracy: test = {score_test}\")\n",
    "\n",
    "#print(best_classifier.predict_proba(validation_inputs_5_CD8))\n",
    "\n",
    "print(\"Classification report\") \n",
    "print(classification_report(X_test_scaled_CD4[\"function_encoded\"], y_pred_test, target_names=cell_functions[0:4],\n",
    "                            zero_division=\"warn\" ))\n",
    "\n",
    "fig, ax = plt.subplots(figsize=(10, 10))\n",
    "cm = sklearn.metrics.confusion_matrix(X_test_scaled_CD4[\"function_encoded\"], y_pred_test, labels=[0,1,2,3])\n",
    "disp = sklearn.metrics.ConfusionMatrixDisplay(confusion_matrix=cm,\n",
    "                              display_labels=cell_functions[0:4])\n",
    "disp.plot(ax = ax)\n",
    "disp.ax_.set_xticklabels(disp.ax_.get_xmajorticklabels(), rotation = 45)\n",
    "\n",
    "plt.show()"
   ]
  },
  {
   "cell_type": "code",
   "execution_count": null,
   "id": "b56f165a",
   "metadata": {
    "scrolled": false
   },
   "outputs": [],
   "source": [
    "rf_class = LogisticRegression(random_state=2)\n",
    "rf_class.fit(X = X_scaled_CD8[TFs], y = X_scaled_CD8[\"function_encoded\"])\n",
    "\n",
    "y_pred_test = rf_class.predict(X = X_test_scaled_CD8[TFs])\n",
    "y_pred_train = rf_class.predict(X = X_scaled_CD8[TFs])\n",
    "\n",
    "score_test = balanced_accuracy_score(y_true = X_test_scaled_CD8[\"function_encoded\"],\n",
    "                              y_pred = y_pred_test\n",
    "                             )\n",
    "score_train = balanced_accuracy_score(y_true = X_scaled_CD8[\"function_encoded\"],\n",
    "                              y_pred = y_pred_train\n",
    "                             )\n",
    "print(f\" Mean accuracy: train = {score_train}, \\n Mean accuracy: test = {score_test}\")\n",
    "\n",
    "#print(best_classifier.predict_proba(validation_inputs_5_CD8))\n",
    "\n",
    "print(\"Classification report\") \n",
    "print(classification_report(X_test_scaled_CD8[\"function_encoded\"], y_pred_test, target_names=cell_functions[4:8],\n",
    "                            zero_division=\"warn\" ))\n",
    "\n",
    "fig, ax = plt.subplots(figsize=(10, 10))\n",
    "cm = sklearn.metrics.confusion_matrix(X_test_scaled_CD8[\"function_encoded\"], y_pred_test, labels=[4, 5, 6, 7])\n",
    "disp = sklearn.metrics.ConfusionMatrixDisplay(confusion_matrix=cm,\n",
    "                              display_labels=cell_functions[4:8])\n",
    "disp.plot(ax = ax)\n",
    "disp.ax_.set_xticklabels(disp.ax_.get_xmajorticklabels(), rotation = 45)\n",
    "\n",
    "plt.show()"
   ]
  },
  {
   "cell_type": "code",
   "execution_count": null,
   "id": "f31d4763",
   "metadata": {},
   "outputs": [],
   "source": []
  },
  {
   "cell_type": "markdown",
   "id": "9ee88948",
   "metadata": {},
   "source": [
    "# Parameter exploration for the random forest"
   ]
  },
  {
   "cell_type": "code",
   "execution_count": null,
   "id": "ef558322",
   "metadata": {},
   "outputs": [],
   "source": [
    "rf = RandomForestClassifier(random_state=2)\n",
    "param_dict = {\"max_depth\" : [None, 1000, 500, 100], \n",
    "              \"min_samples_split\" : [2, 10, 50, 100],\n",
    "             \"min_samples_leaf\" : [1, 10, 100, 500, 1000],\n",
    "             \"max_leaf_nodes\" : [None, 3000, 1000, 500], \n",
    "             \"ccp_alpha\" : [0, 0.01, 0.1, 1, 5 ]}\n",
    "\n",
    "grid1 = GridSearchCV(estimator=rf,\n",
    "                    param_grid=param_dict,\n",
    "                    scoring=\"balanced_accuracy\",\n",
    "                    verbose=3,\n",
    "                    return_train_score=True,\n",
    "                    refit=True, \n",
    "                    cv = 2)\n",
    "grid2 = GridSearchCV(estimator=rf,\n",
    "                    param_grid=param_dict,\n",
    "                    scoring=\"balanced_accuracy\",\n",
    "                    verbose=3,\n",
    "                    return_train_score=True,\n",
    "                    refit=True, \n",
    "                    cv = 2)"
   ]
  },
  {
   "cell_type": "raw",
   "id": "537b2361",
   "metadata": {},
   "source": [
    "grid1.fit(X = X[CARs], y = X[\"function_encoded\"])"
   ]
  },
  {
   "cell_type": "raw",
   "id": "359f94c7",
   "metadata": {},
   "source": [
    "grid2.fit(X = X[CARs+cell_type_marker], y = X[\"function_encoded\"])"
   ]
  },
  {
   "cell_type": "code",
   "execution_count": null,
   "id": "c909e571",
   "metadata": {},
   "outputs": [],
   "source": [
    "print(grid1.best_estimator_)\n",
    "print(grid1.best_score_)"
   ]
  },
  {
   "cell_type": "code",
   "execution_count": null,
   "id": "c94d3003",
   "metadata": {},
   "outputs": [],
   "source": [
    "print(grid2.best_estimator_)\n",
    "print(grid2.best_score_)"
   ]
  },
  {
   "cell_type": "markdown",
   "id": "031a0446",
   "metadata": {},
   "source": [
    "# Classification from TF expression"
   ]
  },
  {
   "cell_type": "code",
   "execution_count": null,
   "id": "ee6a1399",
   "metadata": {},
   "outputs": [],
   "source": [
    "\n",
    "rf_class = RandomForestClassifier(random_state=2)\n",
    "rf_class.fit(X = X[TFs], y = X[\"function_encoded\"])\n",
    "\n",
    "y_pred_test = rf_class.predict(X = X_test[TFs])\n",
    "y_pred_train = rf_class.predict(X = X[TFs])\n",
    "\n",
    "score_test = balanced_accuracy_score(y_true = X_test[\"function_encoded\"],\n",
    "                              y_pred = y_pred_test\n",
    "                             )\n",
    "score_train = balanced_accuracy_score(y_true = X[\"function_encoded\"],\n",
    "                              y_pred = y_pred_train\n",
    "                             )\n",
    "print(f\" Mean accuracy: train = {score_train}, \\n Mean accuracy: test = {score_test}\")\n",
    "\n",
    "#print(best_classifier.predict_proba(validation_inputs_5_CD8))\n",
    "\n",
    "print(\"Classification report\") \n",
    "print(classification_report(X_test[\"function_encoded\"], y_pred_test, target_names=cell_functions,\n",
    "                            zero_division=\"warn\" ))"
   ]
  },
  {
   "cell_type": "code",
   "execution_count": null,
   "id": "9c0ae15a",
   "metadata": {},
   "outputs": [],
   "source": [
    "\n",
    "\n",
    "rf_class = RandomForestClassifier(random_state=2)\n",
    "rf_class.fit(X = X[TFs+cell_type_marker], y = X[\"function_encoded\"])\n",
    "\n",
    "y_pred_test = rf_class.predict(X = X_test[TFs+cell_type_marker])\n",
    "y_pred_train = rf_class.predict(X = X[TFs+cell_type_marker])\n",
    "\n",
    "score_test = balanced_accuracy_score(y_true = X_test[\"function_encoded\"],\n",
    "                              y_pred = y_pred_test\n",
    "                             )\n",
    "score_train = balanced_accuracy_score(y_true = X[\"function_encoded\"],\n",
    "                              y_pred = y_pred_train\n",
    "                             )\n",
    "print(f\" Mean accuracy: train = {score_train}, \\n Mean accuracy: test = {score_test}\")\n",
    "\n",
    "#print(best_classifier.predict_proba(validation_inputs_5_CD8))\n",
    "\n",
    "print(\"Classification report\") \n",
    "print(classification_report(X_test[\"function_encoded\"], y_pred_test, target_names=cell_functions,\n",
    "                            zero_division=\"warn\" ))"
   ]
  },
  {
   "cell_type": "code",
   "execution_count": null,
   "id": "2b8c015d",
   "metadata": {},
   "outputs": [],
   "source": []
  },
  {
   "cell_type": "code",
   "execution_count": null,
   "id": "142922f4",
   "metadata": {
    "scrolled": true
   },
   "outputs": [],
   "source": [
    "\n",
    "rf_class = LogisticRegression(random_state=2, max_iter = 1000)\n",
    "rf_class.fit(X = X_scaled[TFs], y = X_scaled[\"function_encoded\"])\n",
    "\n",
    "y_pred_test = rf_class.predict(X = X_test_scaled[TFs])\n",
    "y_pred_train = rf_class.predict(X = X_scaled[TFs])\n",
    "\n",
    "score_test = balanced_accuracy_score(y_true = X_test_scaled[\"function_encoded\"],\n",
    "                              y_pred = y_pred_test\n",
    "                             )\n",
    "score_train = balanced_accuracy_score(y_true = X_scaled[\"function_encoded\"],\n",
    "                              y_pred = y_pred_train\n",
    "                             )\n",
    "print(f\" Mean accuracy: train = {score_train}, \\n Mean accuracy: test = {score_test}\")\n",
    "\n",
    "#print(best_classifier.predict_proba(validation_inputs_5_CD8))\n",
    "\n",
    "print(\"Classification report\") \n",
    "print(classification_report(X_test_scaled[\"function_encoded\"], y_pred_test, target_names=cell_functions,\n",
    "                            zero_division=\"warn\" ))"
   ]
  },
  {
   "cell_type": "code",
   "execution_count": null,
   "id": "8fdd5d74",
   "metadata": {
    "scrolled": false
   },
   "outputs": [],
   "source": [
    "\n",
    "\n",
    "rf_class = LogisticRegression(random_state=2, max_iter = 1000)\n",
    "rf_class.fit(X = X_scaled[TFs+cell_type_marker], y = X_scaled[\"function_encoded\"])\n",
    "\n",
    "y_pred_test = rf_class.predict(X = X_test_scaled[TFs+cell_type_marker])\n",
    "y_pred_train = rf_class.predict(X = X_scaled[TFs+cell_type_marker])\n",
    "\n",
    "score_test = balanced_accuracy_score(y_true = X_test_scaled[\"function_encoded\"],\n",
    "                              y_pred = y_pred_test\n",
    "                             )\n",
    "score_train = balanced_accuracy_score(y_true = X_scaled[\"function_encoded\"],\n",
    "                              y_pred = y_pred_train\n",
    "                             )\n",
    "print(f\" Mean accuracy: train = {score_train}, \\n Mean accuracy: test = {score_test}\")\n",
    "\n",
    "#print(best_classifier.predict_proba(validation_inputs_5_CD8))\n",
    "\n",
    "print(\"Classification report\") \n",
    "print(classification_report(X_test_scaled[\"function_encoded\"], y_pred_test, target_names=cell_functions,\n",
    "                            zero_division=\"warn\" ))"
   ]
  },
  {
   "cell_type": "markdown",
   "id": "ce86f00e",
   "metadata": {},
   "source": [
    "## Classification from TF raw counts"
   ]
  },
  {
   "cell_type": "code",
   "execution_count": null,
   "id": "63be6688",
   "metadata": {},
   "outputs": [],
   "source": [
    "raw_counts = pd.read_csv(\"../../CAR_data/raw_counts_post_qc_genes_of_interest_celltypes.csv\", index_col = 0)"
   ]
  },
  {
   "cell_type": "code",
   "execution_count": null,
   "id": "aa12b2ad",
   "metadata": {},
   "outputs": [],
   "source": [
    "from sklearn.model_selection import train_test_split\n",
    "from sklearn.metrics import classification_report\n",
    "from sklearn.metrics import balanced_accuracy_score\n",
    "from sklearn.model_selection import GridSearchCV\n",
    "from sklearn.preprocessing import MinMaxScaler\n"
   ]
  },
  {
   "cell_type": "code",
   "execution_count": null,
   "id": "2b9fc444",
   "metadata": {},
   "outputs": [],
   "source": [
    "raw_counts"
   ]
  },
  {
   "cell_type": "code",
   "execution_count": null,
   "id": "2fa71a89",
   "metadata": {},
   "outputs": [],
   "source": [
    "raw_counts[\"function_encoded\"] = raw_counts[\"cell_type\"].apply(encode_function, args = (cell_functions,))\n",
    "raw_counts_CD4 = raw_counts[raw_counts['Type']==\"CD4\"]\n",
    "raw_counts_CD8 = raw_counts[raw_counts['Type']==\"CD8\"]\n",
    "\n",
    "X_CD4_raw, X_test_CD4_raw = train_test_split(raw_counts_CD4, test_size=0.1, random_state=2)\n",
    "scaler_CD4_raw = MinMaxScaler()\n",
    "X_scaled_CD4_raw = X_CD4_raw.copy()\n",
    "X_test_scaled_CD4_raw = X_test_CD4_raw.copy()\n",
    "X_scaled_CD4_raw[TFs + CARs ] = scaler_CD4_raw.fit_transform(X_CD4_raw[TFs + CARs ])\n",
    "X_test_scaled_CD4_raw[TFs + CARs ] = scaler_CD4_raw.transform(X_test_CD4_raw[TFs + CARs ])\n",
    "\n",
    "\n",
    "X_CD8_raw, X_test_CD8_raw = train_test_split(raw_counts_CD8, test_size=0.1, random_state=2)\n",
    "scaler_CD8_raw = MinMaxScaler()\n",
    "X_scaled_CD8_raw = X_CD8_raw.copy()\n",
    "X_test_scaled_CD8_raw = X_test_CD8_raw.copy()\n",
    "X_scaled_CD8_raw[TFs + CARs] = scaler_CD8_raw.fit_transform(X_CD8_raw[TFs + CARs ])\n",
    "X_test_scaled_CD8_raw[TFs + CARs] = scaler_CD8_raw.transform(X_test_CD8_raw[TFs + CARs ])"
   ]
  },
  {
   "cell_type": "code",
   "execution_count": null,
   "id": "e92e6afe",
   "metadata": {
    "scrolled": false
   },
   "outputs": [],
   "source": [
    "rf_class = LogisticRegression(random_state=2)\n",
    "rf_class.fit(X = X_scaled_CD4_raw[TFs], y = X_scaled_CD4_raw[\"function_encoded\"])\n",
    "\n",
    "y_pred_test = rf_class.predict(X = X_test_scaled_CD4_raw[TFs])\n",
    "y_pred_train = rf_class.predict(X = X_scaled_CD4_raw[TFs])\n",
    "\n",
    "score_test = balanced_accuracy_score(y_true = X_test_scaled_CD4_raw[\"function_encoded\"],\n",
    "                              y_pred = y_pred_test\n",
    "                             )\n",
    "score_train = balanced_accuracy_score(y_true = X_scaled_CD4_raw[\"function_encoded\"],\n",
    "                              y_pred = y_pred_train\n",
    "                             )\n",
    "print(f\" Mean accuracy: train = {score_train}, \\n Mean accuracy: test = {score_test}\")\n",
    "\n",
    "#print(best_classifier.predict_proba(validation_inputs_5_CD8))\n",
    "\n",
    "print(\"Classification report\") \n",
    "print(classification_report(X_test_scaled_CD4_raw[\"function_encoded\"], y_pred_test, target_names=cell_functions[0:4],\n",
    "                            zero_division=\"warn\" ))\n",
    "\n",
    "fig, ax = plt.subplots(figsize=(10, 10))\n",
    "cm = sklearn.metrics.confusion_matrix(X_test_scaled_CD4_raw[\"function_encoded\"], y_pred_test, labels=[0,1,2,3])\n",
    "disp = sklearn.metrics.ConfusionMatrixDisplay(confusion_matrix=cm,\n",
    "                              display_labels=cell_functions[0:4])\n",
    "disp.plot(ax = ax)\n",
    "disp.ax_.set_xticklabels(disp.ax_.get_xmajorticklabels(), rotation = 45)\n",
    "\n",
    "plt.show()"
   ]
  },
  {
   "cell_type": "code",
   "execution_count": null,
   "id": "4f94c100",
   "metadata": {
    "scrolled": false
   },
   "outputs": [],
   "source": [
    "rf_class = LogisticRegression(random_state=2)\n",
    "rf_class.fit(X = X_scaled_CD8_raw[TFs], y = X_scaled_CD8_raw[\"function_encoded\"])\n",
    "\n",
    "y_pred_test = rf_class.predict(X = X_test_scaled_CD8_raw[TFs])\n",
    "y_pred_train = rf_class.predict(X = X_scaled_CD8_raw[TFs])\n",
    "\n",
    "score_test = balanced_accuracy_score(y_true = X_test_scaled_CD8_raw[\"function_encoded\"],\n",
    "                              y_pred = y_pred_test\n",
    "                             )\n",
    "score_train = balanced_accuracy_score(y_true = X_scaled_CD8_raw[\"function_encoded\"],\n",
    "                              y_pred = y_pred_train\n",
    "                             )\n",
    "print(f\" Mean accuracy: train = {score_train}, \\n Mean accuracy: test = {score_test}\")\n",
    "\n",
    "#print(best_classifier.predict_proba(validation_inputs_5_CD8))\n",
    "\n",
    "print(\"Classification report\") \n",
    "print(classification_report(X_test_scaled_CD8_raw[\"function_encoded\"], y_pred_test, target_names=cell_functions[4:8],\n",
    "                            zero_division=\"warn\" ))\n",
    "\n",
    "fig, ax = plt.subplots(figsize=(10, 10))\n",
    "cm = sklearn.metrics.confusion_matrix(X_test_scaled_CD8_raw[\"function_encoded\"], y_pred_test, labels=[4, 5, 6, 7])\n",
    "disp = sklearn.metrics.ConfusionMatrixDisplay(confusion_matrix=cm,\n",
    "                              display_labels=cell_functions[4:8])\n",
    "disp.plot(ax = ax)\n",
    "disp.ax_.set_xticklabels(disp.ax_.get_xmajorticklabels(), rotation = 45)\n",
    "\n",
    "plt.show()"
   ]
  },
  {
   "cell_type": "code",
   "execution_count": null,
   "id": "31f3eb5e",
   "metadata": {},
   "outputs": [],
   "source": []
  }
 ],
 "metadata": {
  "kernelspec": {
   "display_name": "Python 3 (ipykernel)",
   "language": "python",
   "name": "python3"
  },
  "language_info": {
   "codemirror_mode": {
    "name": "ipython",
    "version": 3
   },
   "file_extension": ".py",
   "mimetype": "text/x-python",
   "name": "python",
   "nbconvert_exporter": "python",
   "pygments_lexer": "ipython3",
   "version": "3.9.12"
  }
 },
 "nbformat": 4,
 "nbformat_minor": 5
}
