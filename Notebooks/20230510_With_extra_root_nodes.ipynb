{
 "cells": [
  {
   "cell_type": "code",
   "execution_count": 1,
   "id": "6a745e14",
   "metadata": {},
   "outputs": [
    {
     "name": "stderr",
     "output_type": "stream",
     "text": [
      "/Users/adr/miniconda3/envs/biofuzznet/lib/python3.10/site-packages/tqdm/auto.py:22: TqdmWarning: IProgress not found. Please update jupyter and ipywidgets. See https://ipywidgets.readthedocs.io/en/stable/user_install.html\n",
      "  from .autonotebook import tqdm as notebook_tqdm\n"
     ]
    }
   ],
   "source": [
    "import pandas as pd\n",
    "\n",
    "from biological_fuzzy_logic_networks.DREAM_analysis.utils import prepare_cell_line_data, cl_data_to_input\n",
    "from biological_fuzzy_logic_networks.DREAM.DREAMBioFuzzNet import DREAMBioFuzzNet\n",
    "from biological_fuzzy_logic_networks.utils import read_sif"
   ]
  },
  {
   "cell_type": "code",
   "execution_count": 2,
   "id": "b0986f3b",
   "metadata": {},
   "outputs": [],
   "source": [
    "nodes, edges = read_sif(\"/Users/adr/Box/CAR_Tcells/Data/DREAMdata/PKN_Alice.sif\")\n",
    "\n",
    "model = DREAMBioFuzzNet(nodes, edges)\n",
    "model.remove_edges_from([('SERUM', 'SMAD23'), ('SERUM', 'AMPK')])"
   ]
  },
  {
   "cell_type": "code",
   "execution_count": 3,
   "id": "ba991033",
   "metadata": {},
   "outputs": [
    {
     "data": {
      "text/plain": [
       "['SERUM', 'AMPK', 'SMAD23', 'EGF']"
      ]
     },
     "execution_count": 3,
     "metadata": {},
     "output_type": "execute_result"
    }
   ],
   "source": [
    "model.root_nodes"
   ]
  },
  {
   "cell_type": "code",
   "execution_count": 4,
   "id": "05b2a995",
   "metadata": {},
   "outputs": [
    {
     "name": "stdout",
     "output_type": "stream",
     "text": [
      "['ZR7530']\n"
     ]
    },
    {
     "name": "stderr",
     "output_type": "stream",
     "text": [
      "/Users/adr/Projects/biological_fuzzy_logic_networks/biological_fuzzy_logic_networks/DREAM_analysis/utils.py:241: FutureWarning: In a future version, `df.iloc[:, i] = newvals` will attempt to set the values inplace instead of always setting a new array. To retain the old behavior, use either `df[df.columns[i]] = newvals` or, if columns are non-unique, `df.isetitem(i, newvals)`\n",
      "  train.loc[:, root_nodes] = input_value\n",
      "/Users/adr/Projects/biological_fuzzy_logic_networks/biological_fuzzy_logic_networks/DREAM_analysis/utils.py:243: FutureWarning: In a future version, `df.iloc[:, i] = newvals` will attempt to set the values inplace instead of always setting a new array. To retain the old behavior, use either `df[df.columns[i]] = newvals` or, if columns are non-unique, `df.isetitem(i, newvals)`\n",
      "  valid.loc[:, root_nodes] = input_value\n"
     ]
    }
   ],
   "source": [
    "cl_data = prepare_cell_line_data(\n",
    "        data_file=\"/Users/adr/Box/CAR_Tcells/Data/DREAMdata/ZR7530.csv\",\n",
    "        time_point=9)\n",
    "\n",
    "(train_data,\n",
    "valid_data,\n",
    "train_inhibitors,\n",
    "valid_inhibitors,\n",
    "train_input,\n",
    "valid_input,\n",
    "train,\n",
    "valid,\n",
    "scaler,\n",
    "        )= cl_data_to_input(\n",
    "    data=cl_data,\n",
    "    model=model,\n",
    "    train_treatments=None,\n",
    "    valid_treatments=None,\n",
    "    train_cell_lines=None,\n",
    "    valid_cell_lines=None,\n",
    "    inhibition_value=1,\n",
    "    minmaxscale=True,\n",
    "    add_root_values=True,\n",
    "    input_value=1,\n",
    "    root_nodes=[\"EGF\", \"SERUM\"]\n",
    ")"
   ]
  },
  {
   "cell_type": "code",
   "execution_count": 5,
   "id": "a3408d69",
   "metadata": {},
   "outputs": [
    {
     "data": {
      "text/plain": [
       "{'SERUM': tensor([1., 1., 1.,  ..., 1., 1., 1.]),\n",
       " 'AMPK': tensor([0.2185, 0.3181, 0.3327,  ..., 0.4065, 0.1896, 0.2123]),\n",
       " 'SMAD23': tensor([0.4374, 0.4164, 0.7976,  ..., 0.3045, 0.0000, 0.4363]),\n",
       " 'EGF': tensor([1., 1., 1.,  ..., 1., 1., 1.])}"
      ]
     },
     "execution_count": 5,
     "metadata": {},
     "output_type": "execute_result"
    }
   ],
   "source": [
    "train_input"
   ]
  },
  {
   "cell_type": "code",
   "execution_count": 6,
   "id": "b0796078",
   "metadata": {},
   "outputs": [],
   "source": [
    "n_epochs=1\n",
    "learning_rate=0.05\n",
    "batch_size=300"
   ]
  },
  {
   "cell_type": "code",
   "execution_count": null,
   "id": "b5a9bbf4",
   "metadata": {},
   "outputs": [
    {
     "name": "stderr",
     "output_type": "stream",
     "text": [
      "\r",
      "  0%|                                                                                                                                 | 0/1 [00:00<?, ?it/s]"
     ]
    }
   ],
   "source": [
    "loss, best_val_loss, loop_states = model.conduct_optimisation(\n",
    "        input=train_input,\n",
    "        valid_input=valid_input,\n",
    "        ground_truth=train_data,\n",
    "        valid_ground_truth=valid_data,\n",
    "        train_inhibitors=train_inhibitors,\n",
    "        valid_inhibitors=valid_inhibitors,\n",
    "        epochs=n_epochs,\n",
    "        learning_rate=learning_rate,\n",
    "        batch_size=batch_size,\n",
    "        checkpoint_path=None,\n",
    "        convergence_check=False,\n",
    "        logger=None,\n",
    "    )"
   ]
  },
  {
   "cell_type": "code",
   "execution_count": null,
   "id": "7b16735f",
   "metadata": {},
   "outputs": [],
   "source": []
  }
 ],
 "metadata": {
  "kernelspec": {
   "display_name": "Python 3 (ipykernel)",
   "language": "python",
   "name": "python3"
  },
  "language_info": {
   "codemirror_mode": {
    "name": "ipython",
    "version": 3
   },
   "file_extension": ".py",
   "mimetype": "text/x-python",
   "name": "python",
   "nbconvert_exporter": "python",
   "pygments_lexer": "ipython3",
   "version": "3.10.9"
  }
 },
 "nbformat": 4,
 "nbformat_minor": 5
}
