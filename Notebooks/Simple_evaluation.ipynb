{
 "cells": [
  {
   "cell_type": "code",
   "execution_count": 1,
   "id": "2feb05a6",
   "metadata": {},
   "outputs": [
    {
     "name": "stderr",
     "output_type": "stream",
     "text": [
      "/home/ubuntu/Extra_data/miniconda3/envs/biofuzznet/lib/python3.9/site-packages/tqdm/auto.py:22: TqdmWarning: IProgress not found. Please update jupyter and ipywidgets. See https://ipywidgets.readthedocs.io/en/stable/user_install.html\n",
      "  from .autonotebook import tqdm as notebook_tqdm\n"
     ]
    }
   ],
   "source": [
    "import pandas as pd\n",
    "import numpy as np\n",
    "import seaborn as sns\n",
    "import matplotlib.pyplot as plt\n",
    "import matplotlib as mpl\n",
    "from scipy.special import rel_entr\n",
    "from sklearn.metrics import r2_score\n",
    "\n",
    "import os\n",
    "import json\n",
    "\n",
    "from biological_fuzzy_logic_networks.manuscripts_functions.metrics import compute_scalar_mmd, wasserstein_distance"
   ]
  },
  {
   "cell_type": "code",
   "execution_count": null,
   "id": "2d76ba92",
   "metadata": {},
   "outputs": [],
   "source": [
    "folder = \"/path/to/Output/\"\n",
    "config_folder = \"/path/to/Configs/\""
   ]
  },
  {
   "cell_type": "code",
   "execution_count": null,
   "id": "7ebcc53b",
   "metadata": {},
   "outputs": [],
   "source": [
    "pred = pd.read_csv(f\"{folder}valid_output_states.csv\", index_col=0)\n",
    "true = pd.read_csv(f\"{folder}valid_data.csv\", index_col=0).reset_index(drop=True)\n"
   ]
  },
  {
   "cell_type": "code",
   "execution_count": null,
   "id": "14454318",
   "metadata": {},
   "outputs": [],
   "source": [
    "markers = set(pred.columns).intersection(set(true.columns))\n",
    "eval_markers = [\"RB\", \"p53\", \"p38\", \"JNK\", \"GSK3B\", \"cleavedCas\", \"MKK36\", \"MAPKAPK2\", \n",
    "                \"FAK\", \"CREB\", \"H3\", \"p90RSK\", \"ERK12\"]\n",
    "r2_scores = []\n",
    "correlations = []\n",
    "for marker in eval_markers:\n",
    "    corr = true[marker].corr(pred[marker], method='pearson')\n",
    "    correlations.append(corr)\n",
    "    r2 = r2_score(true[marker], pred[marker])\n",
    "    r2_scores.append(r2)\n",
    "    sns.scatterplot(x=true[marker], y=pred[marker])\n",
    "    plt.xlabel(\"True\")\n",
    "    plt.ylabel(\"Prediction\")\n",
    "    plt.title(f\"{marker}, {round(r2, 2)}\")\n",
    "    plt.show()"
   ]
  },
  {
   "cell_type": "code",
   "execution_count": null,
   "id": "a207c917",
   "metadata": {},
   "outputs": [],
   "source": []
  }
 ],
 "metadata": {
  "kernelspec": {
   "display_name": "Python 3 (ipykernel)",
   "language": "python",
   "name": "python3"
  },
  "language_info": {
   "codemirror_mode": {
    "name": "ipython",
    "version": 3
   },
   "file_extension": ".py",
   "mimetype": "text/x-python",
   "name": "python",
   "nbconvert_exporter": "python",
   "pygments_lexer": "ipython3",
   "version": "3.9.16"
  }
 },
 "nbformat": 4,
 "nbformat_minor": 5
}
