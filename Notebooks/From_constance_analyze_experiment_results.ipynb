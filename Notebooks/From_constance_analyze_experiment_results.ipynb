{
 "cells": [
  {
   "cell_type": "code",
   "execution_count": null,
   "metadata": {},
   "outputs": [],
   "source": [
    "import pandas as pd\n",
    "import torch\n",
    "import numpy as np\n",
    "import pickle\n",
    "import seaborn as sns\n",
    "import matplotlib.pyplot as plt\n",
    "from math import exp\n",
    "import sys\n",
    "import os\n",
    "import networkx as nx\n",
    "\n",
    "import biological_fuzzy_logic_networks.biofuzznet as biofuzznet\n",
    "import biological_fuzzy_logic_networks.biomixnet as biomixnet\n",
    "import biological_fuzzy_logic_networks.utils as utils"
   ]
  },
  {
   "cell_type": "code",
   "execution_count": null,
   "metadata": {},
   "outputs": [],
   "source": [
    "ZERO_THRESHOLD = 0.05"
   ]
  },
  {
   "cell_type": "code",
   "execution_count": null,
   "metadata": {},
   "outputs": [],
   "source": [
    "def get_results(true_networks, optimized_networks, num_gates, threshold = ZERO_THRESHOLD):\n",
    "    \"\"\"\n",
    "    Parameters:\n",
    "        true_networks_list: list containing the true network structure for all 10 folds\n",
    "        optimized_networks_list: list containing the optimized biomixnet structure for all 10 folds, n the same order as true_networks_list\n",
    "        num_gates: int, number of gates that were optimized\n",
    "        treshold: zero threshold for comparing to ideal gate vaule (0 or 1)\n",
    "\n",
    "    \"\"\"\n",
    "    summary_df = []\n",
    "    for i in range(10):\n",
    "        fold_df = []\n",
    "        for mixed in optimized_networks[i].mixed_gates:\n",
    "            solution_dic = {}\n",
    "            solution_dic[\"Fold\"] = i\n",
    "            solution_dic[\"Num gates\"] = num_gates\n",
    "            true_type = true_networks[i].nodes()[mixed][\"node_type\"]\n",
    "            solution_dic[\"Gate\"] = mixed\n",
    "            solution_dic[\"True type\"] = true_type\n",
    "            param = torch.sigmoid(optimized_networks[i].nodes()[mixed][\"gate\"].AND_param)\n",
    "            if (1-param) <= threshold:\n",
    "                solution_dic[\"Predicted type\"] = \"logic_gate_AND\"\n",
    "            elif (param) <= threshold:\n",
    "                solution_dic[\"Predicted type\"] = \"logic_gate_OR\"\n",
    "            else:\n",
    "                solution_dic[\"Predicted type\"] = \"Unknown\"\n",
    "                print(f\"Unable to decide gate at threshold {threshold}, AND_param has value {param}\")\n",
    "            solution_dic[\"Gate AND param\"] = float(param.data)\n",
    "            solution_dic[\"Correctly predicted\"] = solution_dic[\"Predicted type\"] == solution_dic[\"True type\"]\n",
    "            fold_df.append(pd.DataFrame.from_dict([solution_dic]))\n",
    "        summary_df.append(pd.concat(fold_df, axis = 0, ignore_index = True))\n",
    "    solution = pd.concat(summary_df, axis = 0, ignore_index= True)\n",
    "    return(solution)\n"
   ]
  },
  {
   "cell_type": "code",
   "execution_count": null,
   "metadata": {},
   "outputs": [],
   "source": [
    "def compute_test_set_RMSE(optimized_biomixnet, test_ground_truth):\n",
    "    test_set = pickle.load(open(test_ground_truth, 'rb'))\n",
    "    optimized_biomixnet.initialise_random_truth_and_output(len(test_set))\n",
    "    for node in optimized_biomixnet.root_nodes:\n",
    "        optimized_biomixnet.nodes()[node][\"output_state\"] = test_set[node]\n",
    "        optimized_biomixnet.nodes()[node][\"ground_truth\"] = test_set[node]\n",
    "    optimized_biomixnet.sequential_update(optimized_biomixnet.root_nodes)\n",
    "    rmse = utils.compute_RMSE_outputs(optimized_biomixnet, test_set)\n",
    "    return(rmse)"
   ]
  },
  {
   "cell_type": "code",
   "execution_count": null,
   "metadata": {},
   "outputs": [],
   "source": [
    "def get_all_results(data_folder, CV_folder, gate_folder, num_gates_max, num_folds = 10):\n",
    "    \"\"\"\n",
    "    data_folder: path to directory with data\n",
    "    CV_folder: name template of the folder (inside data_folder) containing the generated data for the folds. it is then assumed to be labeled as CV_folder_{i} for fold i\n",
    "    gate_folder: name template of the folder  (inside data_folder) containing the result data for the different number of mixed gates. it is then assumed to be labeled as gate_folder_{n} for number of mixed gates n\n",
    "    num_gates_max: maximum number of introduced mixed gates so that all solutions from 1 mixed gate to num_ègates_max mixed gates are enumerated\n",
    "    \"\"\"\n",
    "    all_solutions = []\n",
    "    RMSEs = []\n",
    "    for num_gates in range(1, num_gates_max+1):\n",
    "        true_networks = [pickle.load(open(f\"{data_folder}/{CV_folder}_{i}/model_structure_data_{num_gates}.p\",'rb')) for i in range(num_folds)]\n",
    "        optimized_networks = [pickle.load(open(f\"{data_folder}/{gate_folder}_{num_gates}/model_{i}.p\",'rb')) for i in range(num_folds)]\n",
    "        all_solutions.append(get_results(true_networks, optimized_networks, num_gates, threshold = ZERO_THRESHOLD))\n",
    "        rmse_gate = []\n",
    "        for net in range(len(optimized_networks)):\n",
    "            df = pd.DataFrame.from_dict([compute_test_set_RMSE(optimized_networks[net], f\"{data_folder}/{CV_folder}_{net}/test_ground_truth_{num_gates}.p\")])\n",
    "            df[\"Fold\"] = net\n",
    "            df[\"Num gates\"] = num_gates\n",
    "            rmse_gate.append(df)\n",
    "        RMSEs.append(pd.concat(rmse_gate, axis = 0))\n",
    "    return(pd.concat(all_solutions, axis = 0), pd.concat(RMSEs, axis = 0))"
   ]
  },
  {
   "cell_type": "code",
   "execution_count": null,
   "metadata": {},
   "outputs": [],
   "source": [
    "results_df, RMSEs = get_all_results(\"yourdatafolder\", \"CV_experiment\", \"gates\", 9, 10)"
   ]
  },
  {
   "cell_type": "code",
   "execution_count": null,
   "metadata": {},
   "outputs": [],
   "source": [
    "print(\"CORRECT GATE PREDICTIONS SUMMARY\")\n",
    "print(f\"Correctly predicted gates overall: {results_df['Correctly predicted'].sum()/len(results_df)*100} %\")\n",
    "AND_gates = results_df[results_df[\"True type\"] == \"logic_gate_AND\"]\n",
    "print(f\"Correctly predicted AND gates overall: {AND_gates['Correctly predicted'].sum()/len(AND_gates)*100} %\")\n",
    "OR_gates = results_df[results_df[\"True type\"] == \"logic_gate_OR\"]\n",
    "print(f\"Correctly predicted OR gates overall: {OR_gates['Correctly predicted'].sum()/len(OR_gates)*100} %\")"
   ]
  },
  {
   "cell_type": "code",
   "execution_count": null,
   "metadata": {},
   "outputs": [],
   "source": [
    "print(\"CORRECT PREDICTIONS PER NUMBER OF MIXED GATES IN NETWORK\")\n",
    "\n",
    "num_gates_max = 9\n",
    "for num_gates in range(1, num_gates_max+1):\n",
    "    print(f\"\\nNUMBER OF MIXED GATES: {num_gates}\")\n",
    "    fold_df = results_df[results_df[\"Num gates\"] == num_gates]\n",
    "    print(f\"Correctly predicted gates overall: {fold_df['Correctly predicted'].sum()/len(fold_df)*100} %\")\n",
    "    AND_gates = fold_df[fold_df[\"True type\"] == \"logic_gate_AND\"]\n",
    "    print(f\"Correctly predicted AND gates overall: {AND_gates['Correctly predicted'].sum()/len(AND_gates)*100} %\")\n",
    "    OR_gates = fold_df[fold_df[\"True type\"] == \"logic_gate_OR\"]\n",
    "    print(f\"Correctly predicted OR gates overall: {OR_gates['Correctly predicted'].sum()/len(OR_gates)*100} %\")\n"
   ]
  },
  {
   "cell_type": "code",
   "execution_count": null,
   "metadata": {},
   "outputs": [],
   "source": [
    "print(\"RMSEs\")\n",
    "num_gates_max = 9\n",
    "for num_gates in range(1, num_gates_max+1):\n",
    "    print(f\"\\nRMSEs for Num gates: {num_gates}\")\n",
    "    fold_df = RMSEs[RMSEs[\"Num gates\"] == num_gates]\n",
    "    print(fold_df.describe())"
   ]
  }
 ],
 "metadata": {
  "kernelspec": {
   "display_name": "biofuzznet_dev",
   "language": "python",
   "name": "python3"
  },
  "language_info": {
   "codemirror_mode": {
    "name": "ipython",
    "version": 3
   },
   "file_extension": ".py",
   "mimetype": "text/x-python",
   "name": "python",
   "nbconvert_exporter": "python",
   "pygments_lexer": "ipython3",
   "version": "3.10.4"
  }
 },
 "nbformat": 4,
 "nbformat_minor": 2
}
