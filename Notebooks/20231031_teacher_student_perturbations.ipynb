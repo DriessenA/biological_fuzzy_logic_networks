{
 "cells": [
  {
   "cell_type": "code",
   "execution_count": 14,
   "id": "fabbe420",
   "metadata": {},
   "outputs": [],
   "source": [
    "from biological_fuzzy_logic_networks.DREAM import DREAMBioFuzzNet, DREAMdataset\n",
    "import torch\n",
    "import seaborn as sns\n",
    "import numpy as np"
   ]
  },
  {
   "cell_type": "code",
   "execution_count": 2,
   "id": "8f2477bb",
   "metadata": {},
   "outputs": [],
   "source": [
    "network_true = DREAMBioFuzzNet.DREAMBioFuzzNet.build_DREAMBioFuzzNet_from_file(\"/home/ubuntu/Extra_data/Data/DREAMdata/Synthetic/LiverDREAM_PKN.sif\")\n"
   ]
  },
  {
   "cell_type": "code",
   "execution_count": 3,
   "id": "ca783e3d",
   "metadata": {},
   "outputs": [],
   "source": [
    "network_true.initialise_random_truth_and_output(batch_size=10000)"
   ]
  },
  {
   "cell_type": "code",
   "execution_count": 4,
   "id": "1a5b2168",
   "metadata": {},
   "outputs": [
    {
     "data": {
      "text/plain": [
       "{'mek12': tensor([0.7148, 0.5108, 0.2642, 0.3905, 0.0593, 0.6358, 0.8034, 0.1008, 0.7094,\n",
       "         0.5853]),\n",
       " 'erk12': tensor([0.9525, 0.4368, 0.9416, 0.1023, 0.9399, 0.4581, 0.1434, 0.1251, 0.4988,\n",
       "         0.4404]),\n",
       " 'mkk4': tensor([0.5162, 0.0028, 0.0385, 0.7276, 0.4029, 0.1625, 0.1055, 0.4867, 0.3049,\n",
       "         0.7724]),\n",
       " 'jnk12': tensor([0.7345, 0.8202, 0.5715, 0.6049, 0.7837, 0.2191, 0.4465, 0.3391, 0.5842,\n",
       "         0.1657]),\n",
       " 'ikk': tensor([0.2231, 0.5356, 0.6071, 0.3588, 0.1759, 0.5816, 0.2619, 0.2704, 0.1147,\n",
       "         0.2474]),\n",
       " 'ikb': tensor([0.5614, 0.6313, 0.8781, 0.4319, 0.5816, 0.7213, 0.0320, 0.8352, 0.4407,\n",
       "         0.1152]),\n",
       " 'ras': tensor([0.3799, 0.3864, 0.7731, 0.7026, 0.7157, 0.6725, 0.5130, 0.2049, 0.3858,\n",
       "         0.1787]),\n",
       " 'map3k7': tensor([0.6177, 0.8851, 0.2946, 0.0039, 0.1059, 0.7692, 0.7327, 0.4528, 0.5036,\n",
       "         0.3686]),\n",
       " 'igf1': tensor([0.5393, 0.3522, 0.4722, 0.2738, 0.2414, 0.8682, 0.2540, 0.7708, 0.9933,\n",
       "         0.3264]),\n",
       " 'pi3k': tensor([0.9397, 0.9913, 0.2052, 0.3053, 0.1818, 0.8434, 0.4828, 0.5873, 0.6707,\n",
       "         0.0860]),\n",
       " 'il1a': tensor([0.0270, 0.7642, 0.5550, 0.9132, 0.7056, 0.1352, 0.1777, 0.8384, 0.5457,\n",
       "         0.9262]),\n",
       " 'map3k1': tensor([0.8924, 0.3558, 0.8563, 0.5706, 0.5204, 0.6720, 0.3357, 0.5842, 0.4954,\n",
       "         0.0832]),\n",
       " 'tgfa': tensor([0.4158, 0.9204, 0.0750, 0.7321, 0.7127, 0.6460, 0.1081, 0.1669, 0.8738,\n",
       "         0.1173]),\n",
       " 'tnfa': tensor([0.4928, 0.8968, 0.2880, 0.2874, 0.2005, 0.7327, 0.7955, 0.7140, 0.6812,\n",
       "         0.9005]),\n",
       " 'akt': tensor([0.9306, 0.7773, 0.8061, 0.6601, 0.8720, 0.9161, 0.0795, 0.3205, 0.5012,\n",
       "         0.9024]),\n",
       " 'p38': tensor([0.8295, 0.7956, 0.3766, 0.9624, 0.1363, 0.2982, 0.1605, 0.4737, 0.6516,\n",
       "         0.0144]),\n",
       " 'hsp27': tensor([0.6553, 0.2871, 0.4059, 0.8486, 0.2654, 0.2092, 0.9918, 0.6863, 0.6037,\n",
       "         0.3909])}"
      ]
     },
     "execution_count": 4,
     "metadata": {},
     "output_type": "execute_result"
    }
   ],
   "source": [
    "network_true.output_states"
   ]
  },
  {
   "cell_type": "code",
   "execution_count": 5,
   "id": "eb083c00",
   "metadata": {},
   "outputs": [
    {
     "data": {
      "text/plain": [
       "{'mek12': tensor([1., 1., 1., 1., 1., 1., 1., 1., 1., 1.]),\n",
       " 'erk12': tensor([1., 1., 1., 1., 1., 1., 1., 1., 1., 1.]),\n",
       " 'mkk4': tensor([1., 1., 1., 1., 1., 1., 1., 1., 1., 1.]),\n",
       " 'jnk12': tensor([1., 1., 1., 1., 1., 1., 1., 1., 1., 1.]),\n",
       " 'ikk': tensor([1., 1., 1., 1., 1., 1., 1., 1., 1., 1.]),\n",
       " 'ikb': tensor([1., 1., 1., 1., 1., 1., 1., 1., 1., 1.]),\n",
       " 'ras': tensor([1., 1., 1., 1., 1., 1., 1., 1., 1., 1.]),\n",
       " 'map3k7': tensor([1., 1., 1., 1., 1., 1., 1., 1., 1., 1.]),\n",
       " 'igf1': tensor([1., 1., 1., 1., 1., 1., 1., 1., 1., 1.]),\n",
       " 'pi3k': tensor([1., 1., 1., 1., 1., 1., 1., 1., 1., 1.]),\n",
       " 'il1a': tensor([1., 1., 1., 1., 1., 1., 1., 1., 1., 1.]),\n",
       " 'map3k1': tensor([10, 10, 10, 10, 10, 10, 10, 10, 10, 10]),\n",
       " 'tgfa': tensor([1., 1., 1., 1., 1., 1., 1., 1., 1., 1.]),\n",
       " 'tnfa': tensor([1., 1., 1., 1., 1., 1., 1., 1., 1., 1.]),\n",
       " 'akt': tensor([1., 1., 1., 1., 1., 1., 1., 1., 1., 1.]),\n",
       " 'p38': tensor([1., 1., 1., 1., 1., 1., 1., 1., 1., 1.]),\n",
       " 'hsp27': tensor([1., 1., 1., 1., 1., 1., 1., 1., 1., 1.])}"
      ]
     },
     "execution_count": 5,
     "metadata": {},
     "output_type": "execute_result"
    }
   ],
   "source": [
    "inhibtion = {n: torch.ones(10) for n in network_true.biological_nodes}\n",
    "inhibtion[\"map3k1\"] = torch.tensor([10]*10)\n",
    "inhibtion"
   ]
  },
  {
   "cell_type": "code",
   "execution_count": 6,
   "id": "15a7c795",
   "metadata": {},
   "outputs": [],
   "source": [
    "network_true.sequential_update(network_true.root_nodes, inhibition=inhibtion)"
   ]
  },
  {
   "cell_type": "code",
   "execution_count": 7,
   "id": "db1f8718",
   "metadata": {},
   "outputs": [
    {
     "data": {
      "text/plain": [
       "{'mek12': tensor([7.4770e-03, 1.8952e-01, 1.6559e-02, 4.4476e-09, 1.6478e-01, 8.7734e-02,\n",
       "         4.9122e-03, 1.2191e-01, 1.1322e-05, 2.0451e-03],\n",
       "        grad_fn=<DivBackward0>),\n",
       " 'erk12': tensor([8.2013e-04, 6.3425e-02, 2.4558e-03, 1.0700e-12, 5.2938e-02, 2.3212e-02,\n",
       "         4.5715e-04, 3.5761e-02, 8.2089e-08, 1.3393e-04],\n",
       "        grad_fn=<DivBackward0>),\n",
       " 'mkk4': tensor([6.7418e-03, 1.2972e-04, 4.8769e-05, 6.9775e-05, 4.4906e-03, 1.4502e-02,\n",
       "         4.9910e-03, 8.7087e-03, 1.2407e-02, 8.0588e-03],\n",
       "        grad_fn=<MulBackward0>),\n",
       " 'jnk12': tensor([3.0721e-06, 2.6775e-11, 1.4955e-12, 4.3007e-12, 9.2709e-07, 2.9364e-05,\n",
       "         1.2659e-06, 6.5338e-06, 1.8540e-05, 5.1986e-06],\n",
       "        grad_fn=<SubBackward0>),\n",
       " 'ikk': tensor([0.1970, 0.1426, 0.0217, 0.0197, 0.1560, 0.3973, 0.3037, 0.2479, 0.3505,\n",
       "         0.2906], grad_fn=<SubBackward0>),\n",
       " 'ikb': tensor([1.1340e-02, 5.3097e-03, 5.9028e-05, 4.6444e-05, 6.5627e-03, 5.6024e-02,\n",
       "         3.0689e-02, 1.9294e-02, 4.2391e-02, 2.7767e-02],\n",
       "        grad_fn=<DivBackward0>),\n",
       " 'ras': tensor([0.2759, 0.8744, 0.3622, 0.0023, 0.8282, 0.6535, 0.2392, 0.7385, 0.0312,\n",
       "         0.1779], grad_fn=<DivBackward0>),\n",
       " 'map3k7': tensor([0.4701, 0.3875, 0.1304, 0.1235, 0.4007, 0.7433, 0.6253, 0.5463, 0.6853,\n",
       "         0.6030], grad_fn=<SubBackward0>),\n",
       " 'igf1': tensor([0.6093, 0.5427, 0.1656, 0.0732, 0.8954, 0.2118, 0.3798, 0.0841, 0.0469,\n",
       "         0.8202]),\n",
       " 'pi3k': tensor([0.5029, 0.9090, 0.2721, 0.1340, 0.8809, 0.9508, 0.9350, 0.4608, 0.7031,\n",
       "         0.9320], grad_fn=<SubBackward0>),\n",
       " 'il1a': tensor([0.8325, 0.0520, 0.1056, 0.1488, 0.6232, 0.8235, 0.4110, 0.8807, 0.8563,\n",
       "         0.6269]),\n",
       " 'map3k1': tensor([0.5491, 0.0277, 0.0487, 0.0698, 0.4705, 0.6297, 0.3118, 0.5742, 0.6026,\n",
       "         0.4826], grad_fn=<SubBackward0>),\n",
       " 'tgfa': tensor([0.4474, 0.9847, 0.5252, 0.0672, 0.9424, 0.7843, 0.4136, 0.8608, 0.1694,\n",
       "         0.3547]),\n",
       " 'tnfa': tensor([0.1512, 0.7024, 0.2457, 0.2079, 0.3219, 0.9643, 0.9684, 0.3054, 0.7705,\n",
       "         0.7891]),\n",
       " 'akt': tensor([0.2657, 0.5516, 0.1212, 0.0474, 0.5310, 0.5825, 0.5708, 0.2380, 0.4030,\n",
       "         0.5686], grad_fn=<DivBackward0>),\n",
       " 'p38': tensor([2.9629e-05, 6.4087e-09, 1.8623e-10, 3.6190e-10, 1.0406e-05, 2.5471e-04,\n",
       "         2.2966e-05, 6.0847e-05, 1.6739e-04, 5.8842e-05],\n",
       "        grad_fn=<MulBackward0>),\n",
       " 'hsp27': tensor([9.4535e-11, 3.9851e-17, 1.8094e-22, 4.8017e-22, 1.1046e-11, 2.8149e-08,\n",
       "         1.8006e-10, 6.5316e-10, 9.6194e-09, 8.7371e-10],\n",
       "        grad_fn=<SubBackward0>)}"
      ]
     },
     "execution_count": 7,
     "metadata": {},
     "output_type": "execute_result"
    }
   ],
   "source": [
    "network_true.output_states"
   ]
  },
  {
   "cell_type": "code",
   "execution_count": 8,
   "id": "132198af",
   "metadata": {},
   "outputs": [],
   "source": [
    "class HillTransferFunction(torch.nn.Module):\n",
    "    \"\"\"Apply a Hill transformation on 1D input\"\"\"\n",
    "\n",
    "    def __init__(self, n, K):\n",
    "\n",
    "        \"\"\"\n",
    "        Initialise the parameters if the transfer functino\n",
    "        \"\"\"\n",
    "        torch.nn.Module.__init__(self)\n",
    "\n",
    "        self.n = n\n",
    "        self.K = K\n",
    "        \n",
    "    def forward(self, input_):\n",
    "        \"\"\"\n",
    "        Tranforms a value through the transfer function\n",
    "        Args:\n",
    "            x = value to be transformed\n",
    "        \"\"\"\n",
    "        # I want to constrain K and n to be positive\n",
    "        # Hence I'll feed them into an exponential\n",
    "        output = [(x ** (1 + np.exp(self.n))) / (\n",
    "            np.exp(self.K) ** np.exp(self.n) + x ** np.exp(self.n)\n",
    "        ) for x in input_]\n",
    "\n",
    "        \n",
    "        return output\n"
   ]
  },
  {
   "cell_type": "code",
   "execution_count": 33,
   "id": "b82b5a14",
   "metadata": {},
   "outputs": [],
   "source": [
    "# n=0 means that effectively n=1\n",
    "Hill = HillTransferFunction(K=np.log(0.0001), n=0)\n",
    "input_ = [x/100 for x in range(101)]"
   ]
  },
  {
   "cell_type": "code",
   "execution_count": 34,
   "id": "db4c133d",
   "metadata": {},
   "outputs": [
    {
     "data": {
      "text/plain": [
       "<AxesSubplot:>"
      ]
     },
     "execution_count": 34,
     "metadata": {},
     "output_type": "execute_result"
    },
    {
     "data": {
      "image/png": "[encoded data removed]",
      "text/plain": [
       "<Figure size 640x480 with 1 Axes>"
      ]
     },
     "metadata": {},
     "output_type": "display_data"
    }
   ],
   "source": [
    "sns.lineplot(x=input_, y=Hill.forward(input_))"
   ]
  },
  {
   "cell_type": "code",
   "execution_count": null,
   "id": "c1d5aad9",
   "metadata": {},
   "outputs": [],
   "source": []
  }
 ],
 "metadata": {
  "kernelspec": {
   "display_name": "Python 3 (ipykernel)",
   "language": "python",
   "name": "python3"
  },
  "language_info": {
   "codemirror_mode": {
    "name": "ipython",
    "version": 3
   },
   "file_extension": ".py",
   "mimetype": "text/x-python",
   "name": "python",
   "nbconvert_exporter": "python",
   "pygments_lexer": "ipython3",
   "version": "3.9.16"
  }
 },
 "nbformat": 4,
 "nbformat_minor": 5
}
