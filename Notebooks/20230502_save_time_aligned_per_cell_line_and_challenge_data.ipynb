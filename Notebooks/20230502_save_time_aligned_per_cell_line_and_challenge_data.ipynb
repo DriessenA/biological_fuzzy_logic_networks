{
 "cells": [
  {
   "cell_type": "code",
   "execution_count": 1,
   "id": "3835357e",
   "metadata": {},
   "outputs": [],
   "source": [
    "import pandas as pd\n",
    "import numpy as np\n",
    "import seaborn as sns\n",
    "import matplotlib.pyplot as plt"
   ]
  },
  {
   "cell_type": "code",
   "execution_count": 2,
   "id": "3e6ef164",
   "metadata": {},
   "outputs": [],
   "source": [
    "all_data = pd.read_csv(\"/dccstor/ipc1/CAR/DREAM/DREAMdata/all_cl_time_aligned.csv\")"
   ]
  },
  {
   "cell_type": "code",
   "execution_count": 3,
   "id": "87cf8a98",
   "metadata": {},
   "outputs": [
    {
     "data": {
      "text/html": [
       "<div>\n",
       "<style scoped>\n",
       "    .dataframe tbody tr th:only-of-type {\n",
       "        vertical-align: middle;\n",
       "    }\n",
       "\n",
       "    .dataframe tbody tr th {\n",
       "        vertical-align: top;\n",
       "    }\n",
       "\n",
       "    .dataframe thead th {\n",
       "        text-align: right;\n",
       "    }\n",
       "</style>\n",
       "<table border=\"1\" class=\"dataframe\">\n",
       "  <thead>\n",
       "    <tr style=\"text-align: right;\">\n",
       "      <th></th>\n",
       "      <th>treatment</th>\n",
       "      <th>cell_line</th>\n",
       "      <th>time</th>\n",
       "      <th>cellID</th>\n",
       "      <th>fileID</th>\n",
       "      <th>b.CATENIN</th>\n",
       "      <th>cleavedCas</th>\n",
       "      <th>CyclinB</th>\n",
       "      <th>GAPDH</th>\n",
       "      <th>IdU</th>\n",
       "      <th>...</th>\n",
       "      <th>p.PLCg2</th>\n",
       "      <th>p.RB</th>\n",
       "      <th>p.S6</th>\n",
       "      <th>p.S6K</th>\n",
       "      <th>p.SMAD23</th>\n",
       "      <th>p.SRC</th>\n",
       "      <th>p.STAT1</th>\n",
       "      <th>p.STAT3</th>\n",
       "      <th>p.STAT5</th>\n",
       "      <th>time_course</th>\n",
       "    </tr>\n",
       "  </thead>\n",
       "  <tbody>\n",
       "    <tr>\n",
       "      <th>0</th>\n",
       "      <td>EGF</td>\n",
       "      <td>HCC1428</td>\n",
       "      <td>0.0</td>\n",
       "      <td>1</td>\n",
       "      <td>29</td>\n",
       "      <td>2.277863</td>\n",
       "      <td>1.577461</td>\n",
       "      <td>2.515730</td>\n",
       "      <td>2.965038</td>\n",
       "      <td>6.90317</td>\n",
       "      <td>...</td>\n",
       "      <td>4.419839</td>\n",
       "      <td>3.26107</td>\n",
       "      <td>7.03802</td>\n",
       "      <td>2.462533</td>\n",
       "      <td>1.597266</td>\n",
       "      <td>3.838360</td>\n",
       "      <td>4.049111</td>\n",
       "      <td>0.652426</td>\n",
       "      <td>3.305500</td>\n",
       "      <td>A</td>\n",
       "    </tr>\n",
       "    <tr>\n",
       "      <th>1</th>\n",
       "      <td>EGF</td>\n",
       "      <td>HCC1428</td>\n",
       "      <td>0.0</td>\n",
       "      <td>1</td>\n",
       "      <td>95</td>\n",
       "      <td>0.829853</td>\n",
       "      <td>1.953114</td>\n",
       "      <td>2.446810</td>\n",
       "      <td>3.426870</td>\n",
       "      <td>6.80673</td>\n",
       "      <td>...</td>\n",
       "      <td>3.198912</td>\n",
       "      <td>3.98929</td>\n",
       "      <td>3.41358</td>\n",
       "      <td>2.541979</td>\n",
       "      <td>2.594581</td>\n",
       "      <td>2.234090</td>\n",
       "      <td>2.796784</td>\n",
       "      <td>2.005433</td>\n",
       "      <td>3.396518</td>\n",
       "      <td>B</td>\n",
       "    </tr>\n",
       "    <tr>\n",
       "      <th>2</th>\n",
       "      <td>EGF</td>\n",
       "      <td>HCC1428</td>\n",
       "      <td>0.0</td>\n",
       "      <td>2</td>\n",
       "      <td>29</td>\n",
       "      <td>1.746819</td>\n",
       "      <td>3.045100</td>\n",
       "      <td>1.635950</td>\n",
       "      <td>2.459020</td>\n",
       "      <td>6.06703</td>\n",
       "      <td>...</td>\n",
       "      <td>2.809153</td>\n",
       "      <td>2.21759</td>\n",
       "      <td>3.31012</td>\n",
       "      <td>0.331558</td>\n",
       "      <td>1.669024</td>\n",
       "      <td>3.150189</td>\n",
       "      <td>3.229133</td>\n",
       "      <td>0.652426</td>\n",
       "      <td>3.241775</td>\n",
       "      <td>A</td>\n",
       "    </tr>\n",
       "    <tr>\n",
       "      <th>3</th>\n",
       "      <td>EGF</td>\n",
       "      <td>HCC1428</td>\n",
       "      <td>0.0</td>\n",
       "      <td>2</td>\n",
       "      <td>95</td>\n",
       "      <td>1.845799</td>\n",
       "      <td>3.538038</td>\n",
       "      <td>3.041430</td>\n",
       "      <td>2.508841</td>\n",
       "      <td>5.71532</td>\n",
       "      <td>...</td>\n",
       "      <td>3.177542</td>\n",
       "      <td>2.81194</td>\n",
       "      <td>7.28994</td>\n",
       "      <td>1.817634</td>\n",
       "      <td>2.223754</td>\n",
       "      <td>2.449400</td>\n",
       "      <td>3.094784</td>\n",
       "      <td>2.137521</td>\n",
       "      <td>3.303891</td>\n",
       "      <td>B</td>\n",
       "    </tr>\n",
       "    <tr>\n",
       "      <th>4</th>\n",
       "      <td>EGF</td>\n",
       "      <td>HCC1428</td>\n",
       "      <td>0.0</td>\n",
       "      <td>3</td>\n",
       "      <td>29</td>\n",
       "      <td>0.739657</td>\n",
       "      <td>3.386717</td>\n",
       "      <td>1.574390</td>\n",
       "      <td>3.104396</td>\n",
       "      <td>6.20346</td>\n",
       "      <td>...</td>\n",
       "      <td>2.596193</td>\n",
       "      <td>5.30232</td>\n",
       "      <td>4.63872</td>\n",
       "      <td>2.318320</td>\n",
       "      <td>2.303349</td>\n",
       "      <td>2.829673</td>\n",
       "      <td>2.343361</td>\n",
       "      <td>0.652426</td>\n",
       "      <td>2.180254</td>\n",
       "      <td>A</td>\n",
       "    </tr>\n",
       "    <tr>\n",
       "      <th>...</th>\n",
       "      <td>...</td>\n",
       "      <td>...</td>\n",
       "      <td>...</td>\n",
       "      <td>...</td>\n",
       "      <td>...</td>\n",
       "      <td>...</td>\n",
       "      <td>...</td>\n",
       "      <td>...</td>\n",
       "      <td>...</td>\n",
       "      <td>...</td>\n",
       "      <td>...</td>\n",
       "      <td>...</td>\n",
       "      <td>...</td>\n",
       "      <td>...</td>\n",
       "      <td>...</td>\n",
       "      <td>...</td>\n",
       "      <td>...</td>\n",
       "      <td>...</td>\n",
       "      <td>...</td>\n",
       "      <td>...</td>\n",
       "      <td>...</td>\n",
       "    </tr>\n",
       "    <tr>\n",
       "      <th>23131339</th>\n",
       "      <td>iPKC</td>\n",
       "      <td>T47D</td>\n",
       "      <td>60.0</td>\n",
       "      <td>3885</td>\n",
       "      <td>4444</td>\n",
       "      <td>0.796624</td>\n",
       "      <td>2.817705</td>\n",
       "      <td>2.708316</td>\n",
       "      <td>2.649728</td>\n",
       "      <td>5.30164</td>\n",
       "      <td>...</td>\n",
       "      <td>2.408345</td>\n",
       "      <td>2.71991</td>\n",
       "      <td>6.08711</td>\n",
       "      <td>1.649240</td>\n",
       "      <td>2.360670</td>\n",
       "      <td>2.825340</td>\n",
       "      <td>3.027605</td>\n",
       "      <td>2.544341</td>\n",
       "      <td>2.909578</td>\n",
       "      <td>B</td>\n",
       "    </tr>\n",
       "    <tr>\n",
       "      <th>23131340</th>\n",
       "      <td>iPKC</td>\n",
       "      <td>T47D</td>\n",
       "      <td>60.0</td>\n",
       "      <td>3886</td>\n",
       "      <td>4444</td>\n",
       "      <td>2.080326</td>\n",
       "      <td>3.073579</td>\n",
       "      <td>2.283993</td>\n",
       "      <td>4.164062</td>\n",
       "      <td>4.36651</td>\n",
       "      <td>...</td>\n",
       "      <td>3.454036</td>\n",
       "      <td>1.65488</td>\n",
       "      <td>8.32390</td>\n",
       "      <td>1.800680</td>\n",
       "      <td>2.093250</td>\n",
       "      <td>2.999610</td>\n",
       "      <td>3.747098</td>\n",
       "      <td>1.558878</td>\n",
       "      <td>2.663090</td>\n",
       "      <td>B</td>\n",
       "    </tr>\n",
       "    <tr>\n",
       "      <th>23131341</th>\n",
       "      <td>iPKC</td>\n",
       "      <td>T47D</td>\n",
       "      <td>60.0</td>\n",
       "      <td>3887</td>\n",
       "      <td>4444</td>\n",
       "      <td>0.796624</td>\n",
       "      <td>3.327099</td>\n",
       "      <td>2.626595</td>\n",
       "      <td>2.826593</td>\n",
       "      <td>5.32818</td>\n",
       "      <td>...</td>\n",
       "      <td>3.095702</td>\n",
       "      <td>2.12746</td>\n",
       "      <td>7.71649</td>\n",
       "      <td>2.712010</td>\n",
       "      <td>1.918540</td>\n",
       "      <td>2.640700</td>\n",
       "      <td>3.471636</td>\n",
       "      <td>2.576593</td>\n",
       "      <td>3.053585</td>\n",
       "      <td>B</td>\n",
       "    </tr>\n",
       "    <tr>\n",
       "      <th>23131342</th>\n",
       "      <td>iPKC</td>\n",
       "      <td>T47D</td>\n",
       "      <td>60.0</td>\n",
       "      <td>3888</td>\n",
       "      <td>4444</td>\n",
       "      <td>0.796624</td>\n",
       "      <td>2.488476</td>\n",
       "      <td>2.830036</td>\n",
       "      <td>3.098706</td>\n",
       "      <td>5.44272</td>\n",
       "      <td>...</td>\n",
       "      <td>2.801503</td>\n",
       "      <td>1.65488</td>\n",
       "      <td>7.86357</td>\n",
       "      <td>2.232220</td>\n",
       "      <td>2.026130</td>\n",
       "      <td>2.833090</td>\n",
       "      <td>3.484447</td>\n",
       "      <td>0.576076</td>\n",
       "      <td>2.616188</td>\n",
       "      <td>B</td>\n",
       "    </tr>\n",
       "    <tr>\n",
       "      <th>23131343</th>\n",
       "      <td>iPKC</td>\n",
       "      <td>T47D</td>\n",
       "      <td>60.0</td>\n",
       "      <td>3889</td>\n",
       "      <td>4444</td>\n",
       "      <td>0.796624</td>\n",
       "      <td>3.663461</td>\n",
       "      <td>4.831015</td>\n",
       "      <td>2.507195</td>\n",
       "      <td>8.66990</td>\n",
       "      <td>...</td>\n",
       "      <td>0.358041</td>\n",
       "      <td>6.39981</td>\n",
       "      <td>5.69771</td>\n",
       "      <td>1.434970</td>\n",
       "      <td>1.071560</td>\n",
       "      <td>2.106960</td>\n",
       "      <td>4.123085</td>\n",
       "      <td>1.671366</td>\n",
       "      <td>1.916392</td>\n",
       "      <td>B</td>\n",
       "    </tr>\n",
       "  </tbody>\n",
       "</table>\n",
       "<p>23131344 rows × 43 columns</p>\n",
       "</div>"
      ],
      "text/plain": [
       "         treatment cell_line  time  cellID  fileID  b.CATENIN  cleavedCas  \\\n",
       "0              EGF   HCC1428   0.0       1      29   2.277863    1.577461   \n",
       "1              EGF   HCC1428   0.0       1      95   0.829853    1.953114   \n",
       "2              EGF   HCC1428   0.0       2      29   1.746819    3.045100   \n",
       "3              EGF   HCC1428   0.0       2      95   1.845799    3.538038   \n",
       "4              EGF   HCC1428   0.0       3      29   0.739657    3.386717   \n",
       "...            ...       ...   ...     ...     ...        ...         ...   \n",
       "23131339      iPKC      T47D  60.0    3885    4444   0.796624    2.817705   \n",
       "23131340      iPKC      T47D  60.0    3886    4444   2.080326    3.073579   \n",
       "23131341      iPKC      T47D  60.0    3887    4444   0.796624    3.327099   \n",
       "23131342      iPKC      T47D  60.0    3888    4444   0.796624    2.488476   \n",
       "23131343      iPKC      T47D  60.0    3889    4444   0.796624    3.663461   \n",
       "\n",
       "           CyclinB     GAPDH      IdU  ...   p.PLCg2     p.RB     p.S6  \\\n",
       "0         2.515730  2.965038  6.90317  ...  4.419839  3.26107  7.03802   \n",
       "1         2.446810  3.426870  6.80673  ...  3.198912  3.98929  3.41358   \n",
       "2         1.635950  2.459020  6.06703  ...  2.809153  2.21759  3.31012   \n",
       "3         3.041430  2.508841  5.71532  ...  3.177542  2.81194  7.28994   \n",
       "4         1.574390  3.104396  6.20346  ...  2.596193  5.30232  4.63872   \n",
       "...            ...       ...      ...  ...       ...      ...      ...   \n",
       "23131339  2.708316  2.649728  5.30164  ...  2.408345  2.71991  6.08711   \n",
       "23131340  2.283993  4.164062  4.36651  ...  3.454036  1.65488  8.32390   \n",
       "23131341  2.626595  2.826593  5.32818  ...  3.095702  2.12746  7.71649   \n",
       "23131342  2.830036  3.098706  5.44272  ...  2.801503  1.65488  7.86357   \n",
       "23131343  4.831015  2.507195  8.66990  ...  0.358041  6.39981  5.69771   \n",
       "\n",
       "             p.S6K  p.SMAD23     p.SRC   p.STAT1   p.STAT3   p.STAT5  \\\n",
       "0         2.462533  1.597266  3.838360  4.049111  0.652426  3.305500   \n",
       "1         2.541979  2.594581  2.234090  2.796784  2.005433  3.396518   \n",
       "2         0.331558  1.669024  3.150189  3.229133  0.652426  3.241775   \n",
       "3         1.817634  2.223754  2.449400  3.094784  2.137521  3.303891   \n",
       "4         2.318320  2.303349  2.829673  2.343361  0.652426  2.180254   \n",
       "...            ...       ...       ...       ...       ...       ...   \n",
       "23131339  1.649240  2.360670  2.825340  3.027605  2.544341  2.909578   \n",
       "23131340  1.800680  2.093250  2.999610  3.747098  1.558878  2.663090   \n",
       "23131341  2.712010  1.918540  2.640700  3.471636  2.576593  3.053585   \n",
       "23131342  2.232220  2.026130  2.833090  3.484447  0.576076  2.616188   \n",
       "23131343  1.434970  1.071560  2.106960  4.123085  1.671366  1.916392   \n",
       "\n",
       "          time_course  \n",
       "0                   A  \n",
       "1                   B  \n",
       "2                   A  \n",
       "3                   B  \n",
       "4                   A  \n",
       "...               ...  \n",
       "23131339            B  \n",
       "23131340            B  \n",
       "23131341            B  \n",
       "23131342            B  \n",
       "23131343            B  \n",
       "\n",
       "[23131344 rows x 43 columns]"
      ]
     },
     "execution_count": 3,
     "metadata": {},
     "output_type": "execute_result"
    }
   ],
   "source": [
    "all_data"
   ]
  },
  {
   "cell_type": "code",
   "execution_count": 4,
   "id": "d4ca3aca",
   "metadata": {},
   "outputs": [
    {
     "data": {
      "text/plain": [
       "treatment              0\n",
       "cell_line              0\n",
       "time                   0\n",
       "cellID                 0\n",
       "fileID                 0\n",
       "b.CATENIN              0\n",
       "cleavedCas             0\n",
       "CyclinB                0\n",
       "GAPDH                  0\n",
       "IdU                    0\n",
       "Ki.67                  0\n",
       "p.4EBP1                0\n",
       "p.Akt.Ser473.          0\n",
       "p.AKT.Thr308.          0\n",
       "p.AMPK                 0\n",
       "p.BTK                  0\n",
       "p.CREB                 0\n",
       "p.ERK                  0\n",
       "p.FAK                  0\n",
       "p.GSK3b                0\n",
       "p.H3                   0\n",
       "p.HER2           6070638\n",
       "p.JNK                  0\n",
       "p.MAP2K3               0\n",
       "p.MAPKAPK2             0\n",
       "p.MEK                  0\n",
       "p.MKK3.MKK6            0\n",
       "p.MKK4                 0\n",
       "p.NFkB                 0\n",
       "p.p38                  0\n",
       "p.p53                  0\n",
       "p.p90RSK               0\n",
       "p.PDPK1                0\n",
       "p.PLCg2          2248286\n",
       "p.RB                   0\n",
       "p.S6                   0\n",
       "p.S6K                  0\n",
       "p.SMAD23               0\n",
       "p.SRC                  0\n",
       "p.STAT1                0\n",
       "p.STAT3                0\n",
       "p.STAT5                0\n",
       "time_course            0\n",
       "dtype: int64"
      ]
     },
     "execution_count": 4,
     "metadata": {},
     "output_type": "execute_result"
    }
   ],
   "source": [
    "all_data.isna().sum()"
   ]
  },
  {
   "cell_type": "code",
   "execution_count": 5,
   "id": "105a7230",
   "metadata": {},
   "outputs": [],
   "source": [
    "excluding_test_data = all_data.copy()"
   ]
  },
  {
   "cell_type": "markdown",
   "id": "f2aa6ce3",
   "metadata": {},
   "source": [
    "# subchallenge 1"
   ]
  },
  {
   "cell_type": "code",
   "execution_count": 6,
   "id": "0ddf6062",
   "metadata": {},
   "outputs": [
    {
     "data": {
      "text/plain": [
       "(23131344, 43)"
      ]
     },
     "execution_count": 6,
     "metadata": {},
     "output_type": "execute_result"
    }
   ],
   "source": [
    "excluding_test_data.shape"
   ]
  },
  {
   "cell_type": "code",
   "execution_count": 7,
   "id": "658d3f19",
   "metadata": {},
   "outputs": [],
   "source": [
    "# Subchallenge 1\n",
    "sc1_cl = [\"AU565\", \"EFM19\", \"HCC2218\", \"LY2\", \"MACLS2\", \"MDAMB436\"]\n",
    "sc1_markers = [\"p.ERK\", \"p.PLCg2\", \"p.HER2\", \"p.S6\", \"p.Akt.Ser473.\"]\n",
    "\n",
    "if not len(excluding_test_data.loc[excluding_test_data[\"cell_line\"].isin(sc1_cl), sc1_markers])==0:\n",
    "    excluding_test_data.loc[excluding_test_data[\"cell_line\"].isin(sc1_cl), sc1_markers] = np.nan\n",
    "\n",
    "sc1_test_set = pd.read_csv(\"/dccstor/ipc1/CAR/DREAM/DREAMdata/Challenge_data/sc1gold.csv\")\n"
   ]
  },
  {
   "cell_type": "code",
   "execution_count": 8,
   "id": "81fab854",
   "metadata": {},
   "outputs": [
    {
     "data": {
      "text/plain": [
       "p.ERK            0\n",
       "p.PLCg2          0\n",
       "p.HER2           0\n",
       "p.S6             0\n",
       "p.Akt.Ser473.    0\n",
       "dtype: int64"
      ]
     },
     "execution_count": 8,
     "metadata": {},
     "output_type": "execute_result"
    }
   ],
   "source": [
    "(all_data.loc[all_data[\"cell_line\"].isin(sc1_cl), sc1_markers]).isna().sum()"
   ]
  },
  {
   "cell_type": "code",
   "execution_count": 9,
   "id": "43145886",
   "metadata": {},
   "outputs": [
    {
     "name": "stdout",
     "output_type": "stream",
     "text": [
      "[ 0.   7.   9.  13.  17.  23.  30.  40.  60.   5.5 14.  18. ]\n",
      "[True, True, True, True, True, True, True, True, True, True, False, False]\n",
      "[True, True, True, True, True, True, True, True, True, True]\n"
     ]
    }
   ],
   "source": [
    "print(sc1_test_set[\"time\"].unique())\n",
    "print([True if time in all_data[\"time\"].unique() else False for time in sc1_test_set[\"time\"].unique() ])\n",
    "sc1_test_set.loc[sc1_test_set[\"time\"]==18, \"time\"] = 17\n",
    "sc1_test_set.loc[sc1_test_set[\"time\"]==14, \"time\"] = 13\n",
    "print([True if time in all_data[\"time\"].unique() else False for time in sc1_test_set[\"time\"].unique() ])\n"
   ]
  },
  {
   "cell_type": "code",
   "execution_count": 10,
   "id": "bcd4b75b",
   "metadata": {},
   "outputs": [
    {
     "data": {
      "text/plain": [
       "treatment              0\n",
       "cell_line              0\n",
       "time                   0\n",
       "cellID                 0\n",
       "fileID                 0\n",
       "b.CATENIN              0\n",
       "cleavedCas             0\n",
       "CyclinB                0\n",
       "GAPDH                  0\n",
       "IdU                    0\n",
       "Ki.67                  0\n",
       "p.4EBP1                0\n",
       "p.Akt.Ser473.          0\n",
       "p.AKT.Thr308.          0\n",
       "p.AMPK                 0\n",
       "p.BTK                  0\n",
       "p.CREB                 0\n",
       "p.ERK                  0\n",
       "p.FAK                  0\n",
       "p.GSK3b                0\n",
       "p.H3                   0\n",
       "p.HER2           6070638\n",
       "p.JNK                  0\n",
       "p.MAP2K3               0\n",
       "p.MAPKAPK2             0\n",
       "p.MEK                  0\n",
       "p.MKK3.MKK6            0\n",
       "p.MKK4                 0\n",
       "p.NFkB                 0\n",
       "p.p38                  0\n",
       "p.p53                  0\n",
       "p.p90RSK               0\n",
       "p.PDPK1                0\n",
       "p.PLCg2          2248286\n",
       "p.RB                   0\n",
       "p.S6                   0\n",
       "p.S6K                  0\n",
       "p.SMAD23               0\n",
       "p.SRC                  0\n",
       "p.STAT1                0\n",
       "p.STAT3                0\n",
       "p.STAT5                0\n",
       "time_course            0\n",
       "dtype: int64"
      ]
     },
     "execution_count": 10,
     "metadata": {},
     "output_type": "execute_result"
    }
   ],
   "source": [
    "all_data.isna().sum()"
   ]
  },
  {
   "cell_type": "code",
   "execution_count": 11,
   "id": "717f4130",
   "metadata": {},
   "outputs": [],
   "source": [
    "missing_HER2 = set(all_data.loc[all_data[\"p.HER2\"].isna(), \"cell_line\"].drop_duplicates().values)\n",
    "\n",
    "missing_PLCg2 = set(all_data.loc[all_data[\"p.PLCg2\"].isna(), \"cell_line\"].drop_duplicates().values)"
   ]
  },
  {
   "cell_type": "code",
   "execution_count": 12,
   "id": "e9524bf7",
   "metadata": {},
   "outputs": [
    {
     "data": {
      "text/plain": [
       "{'BT483',\n",
       " 'HCC1187',\n",
       " 'HCC1419',\n",
       " 'HCC1569',\n",
       " 'HCC1806',\n",
       " 'HCC1937',\n",
       " 'HCC70',\n",
       " 'MCF12A',\n",
       " 'MDAMB231',\n",
       " 'MDAMB361',\n",
       " 'MDAMB453',\n",
       " 'MDAMB468',\n",
       " 'MDAkb2',\n",
       " 'T47D',\n",
       " 'UACC893'}"
      ]
     },
     "execution_count": 12,
     "metadata": {},
     "output_type": "execute_result"
    }
   ],
   "source": [
    "missing_HER2"
   ]
  },
  {
   "cell_type": "markdown",
   "id": "0600afa1",
   "metadata": {},
   "source": [
    "# subchallenge 2"
   ]
  },
  {
   "cell_type": "code",
   "execution_count": 13,
   "id": "3d820ee1",
   "metadata": {},
   "outputs": [],
   "source": [
    "# Subchallenge 2\n",
    "cond_and_cl = {\"iEGFR\": [\"MDAMB468\", \"MCF12A\", \"BT483\"],\n",
    "               \"iMEK\": [\"184B5\", \"ZR751\", \"HCC202\"],\n",
    "               \"iPI3K\": [\"UACC3199\", \"SKBR3\", \"MDAMB231\"],\n",
    "               \"iPKC\": [\"HCC1806\", \"Hs578T\", \"HCC1428\"]}"
   ]
  },
  {
   "cell_type": "code",
   "execution_count": 14,
   "id": "e0e2bb62",
   "metadata": {},
   "outputs": [
    {
     "data": {
      "text/plain": [
       "(23131344, 43)"
      ]
     },
     "execution_count": 14,
     "metadata": {},
     "output_type": "execute_result"
    }
   ],
   "source": [
    "excluding_test_data.shape"
   ]
  },
  {
   "cell_type": "code",
   "execution_count": 15,
   "id": "66fa079f",
   "metadata": {},
   "outputs": [
    {
     "name": "stdout",
     "output_type": "stream",
     "text": [
      "iEGFR ['MDAMB468', 'MCF12A', 'BT483']\n",
      "iMEK ['184B5', 'ZR751', 'HCC202']\n",
      "iPI3K ['UACC3199', 'SKBR3', 'MDAMB231']\n",
      "iPKC ['HCC1806', 'Hs578T', 'HCC1428']\n"
     ]
    }
   ],
   "source": [
    "# SC2 is already not in the full cell line dataframe:\n",
    "sc2_test_set = []\n",
    "for treatment, cell_lines in cond_and_cl.items():\n",
    "    temp = excluding_test_data.loc[(excluding_test_data[\"treatment\"]==treatment)&(excluding_test_data[\"cell_line\"].isin(cell_lines)), :]\n",
    "    if len(temp)==0:\n",
    "        print(treatment, cell_lines)\n",
    "    else:\n",
    "        sc2_test_set.append(temp)\n",
    "        excluding_test_data = excluding_test_data.loc[~((excluding_test_data[\"treatment\"]==treatment)&(excluding_test_data[\"cell_line\"].isin(cell_lines))), :]\n",
    "        \n",
    "if len(sc2_test_set)==0:\n",
    "    sc2_test_set = pd.read_csv(\"/dccstor/ipc1/CAR/DREAM/DREAMdata/Challenge_data/sc2gold.csv\")"
   ]
  },
  {
   "cell_type": "code",
   "execution_count": 16,
   "id": "36b7edd4",
   "metadata": {},
   "outputs": [
    {
     "data": {
      "text/plain": [
       "(23131344, 43)"
      ]
     },
     "execution_count": 16,
     "metadata": {},
     "output_type": "execute_result"
    }
   ],
   "source": [
    "excluding_test_data.shape"
   ]
  },
  {
   "cell_type": "code",
   "execution_count": 17,
   "id": "f00d56b1",
   "metadata": {},
   "outputs": [
    {
     "name": "stdout",
     "output_type": "stream",
     "text": [
      "[True, True, True, True, True, True, True, False]\n",
      "[True, True, True, True, True, True, True]\n"
     ]
    }
   ],
   "source": [
    "print([True if time in all_data[\"time\"].unique() else False for time in sc2_test_set[\"time\"].unique() ])  \n",
    "sc2_test_set.loc[sc2_test_set[\"time\"]==16, \"time\"] = 17\n",
    "print([True if time in all_data[\"time\"].unique() else False for time in sc2_test_set[\"time\"].unique() ])  \n"
   ]
  },
  {
   "cell_type": "code",
   "execution_count": 18,
   "id": "05945819",
   "metadata": {},
   "outputs": [],
   "source": [
    "# We need to add SC2 test data to the dataframe\n",
    "all_data = pd.concat([all_data, sc2_test_set])\n"
   ]
  },
  {
   "cell_type": "code",
   "execution_count": 19,
   "id": "3fae22a0",
   "metadata": {},
   "outputs": [
    {
     "data": {
      "text/plain": [
       "treatment              0\n",
       "cell_line              0\n",
       "time                   0\n",
       "cellID                 0\n",
       "fileID                 0\n",
       "b.CATENIN              0\n",
       "cleavedCas             0\n",
       "CyclinB                0\n",
       "GAPDH                  0\n",
       "IdU                    0\n",
       "Ki.67                  0\n",
       "p.4EBP1                0\n",
       "p.Akt.Ser473.          0\n",
       "p.AKT.Thr308.          0\n",
       "p.AMPK                 0\n",
       "p.BTK                  0\n",
       "p.CREB                 0\n",
       "p.ERK                  0\n",
       "p.FAK                  0\n",
       "p.GSK3b                0\n",
       "p.H3                   0\n",
       "p.HER2           6781533\n",
       "p.JNK                  0\n",
       "p.MAP2K3               0\n",
       "p.MAPKAPK2             0\n",
       "p.MEK                  0\n",
       "p.MKK3.MKK6            0\n",
       "p.MKK4                 0\n",
       "p.NFkB                 0\n",
       "p.p38                  0\n",
       "p.p53                  0\n",
       "p.p90RSK               0\n",
       "p.PDPK1                0\n",
       "p.PLCg2          2959181\n",
       "p.RB                   0\n",
       "p.S6                   0\n",
       "p.S6K                  0\n",
       "p.SMAD23               0\n",
       "p.SRC                  0\n",
       "p.STAT1                0\n",
       "p.STAT3                0\n",
       "p.STAT5                0\n",
       "time_course       710895\n",
       "dtype: int64"
      ]
     },
     "execution_count": 19,
     "metadata": {},
     "output_type": "execute_result"
    }
   ],
   "source": [
    "all_data.isna().sum()"
   ]
  },
  {
   "cell_type": "code",
   "execution_count": 20,
   "id": "2053cfb8",
   "metadata": {},
   "outputs": [],
   "source": [
    "missing_HER2 = set(all_data.loc[all_data[\"p.HER2\"].isna(), \"cell_line\"].drop_duplicates().values)\n",
    "\n",
    "missing_PLCg2 = set(all_data.loc[all_data[\"p.PLCg2\"].isna(), \"cell_line\"].drop_duplicates().values)\n",
    "\n",
    "missing_timecourse = set(all_data.loc[all_data[\"time_course\"].isna(), \"cell_line\"].drop_duplicates().values)"
   ]
  },
  {
   "cell_type": "markdown",
   "id": "f530fa74",
   "metadata": {},
   "source": [
    "# subchallenge 3"
   ]
  },
  {
   "cell_type": "code",
   "execution_count": 21,
   "id": "e243c5d2",
   "metadata": {},
   "outputs": [
    {
     "data": {
      "text/plain": [
       "(23131344, 43)"
      ]
     },
     "execution_count": 21,
     "metadata": {},
     "output_type": "execute_result"
    }
   ],
   "source": [
    "excluding_test_data.shape"
   ]
  },
  {
   "cell_type": "code",
   "execution_count": 22,
   "id": "e3ddc902",
   "metadata": {},
   "outputs": [
    {
     "name": "stdout",
     "output_type": "stream",
     "text": [
      "0\n"
     ]
    }
   ],
   "source": [
    "# Subchallenge 3 treatment already not in full dataframe\n",
    "treatment = \"imTOR\"\n",
    "\n",
    "print(len(excluding_test_data[excluding_test_data[\"treatment\"]==treatment]))\n",
    "\n",
    "sc3_test_set = pd.read_csv(\"/dccstor/ipc1/CAR/DREAM/DREAMdata/Challenge_data/sc3gold.csv\")\n"
   ]
  },
  {
   "cell_type": "code",
   "execution_count": 23,
   "id": "454a7ea2",
   "metadata": {},
   "outputs": [
    {
     "name": "stdout",
     "output_type": "stream",
     "text": [
      "[ 0  7  9 13 17 40 60 14 16]\n",
      "[True, True, True, True, True, True, True, False, False]\n",
      "[True, True, True, True, True, True, True]\n"
     ]
    }
   ],
   "source": [
    "print(sc3_test_set[\"time\"].unique())\n",
    "print([True if time in all_data[\"time\"].unique() else False for time in sc3_test_set[\"time\"].unique() ])  \n",
    "sc3_test_set.loc[sc3_test_set[\"time\"]==16, \"time\"] = 17\n",
    "sc3_test_set.loc[sc3_test_set[\"time\"]==14, \"time\"] = 13\n",
    "print([True if time in all_data[\"time\"].unique() else False for time in sc3_test_set[\"time\"].unique() ])  \n"
   ]
  },
  {
   "cell_type": "code",
   "execution_count": 24,
   "id": "8cc49780",
   "metadata": {},
   "outputs": [],
   "source": [
    "all_data = pd.concat([all_data, sc3_test_set])"
   ]
  },
  {
   "cell_type": "code",
   "execution_count": 25,
   "id": "dc938fd1",
   "metadata": {},
   "outputs": [
    {
     "data": {
      "text/plain": [
       "treatment              0\n",
       "cell_line              0\n",
       "time                   0\n",
       "cellID                 0\n",
       "fileID                 0\n",
       "b.CATENIN              0\n",
       "cleavedCas             0\n",
       "CyclinB                0\n",
       "GAPDH                  0\n",
       "IdU                    0\n",
       "Ki.67                  0\n",
       "p.4EBP1                0\n",
       "p.Akt.Ser473.          0\n",
       "p.AKT.Thr308.          0\n",
       "p.AMPK                 0\n",
       "p.BTK                  0\n",
       "p.CREB                 0\n",
       "p.ERK                  0\n",
       "p.FAK                  0\n",
       "p.GSK3b                0\n",
       "p.H3                   0\n",
       "p.HER2           9417245\n",
       "p.JNK                  0\n",
       "p.MAP2K3               0\n",
       "p.MAPKAPK2             0\n",
       "p.MEK                  0\n",
       "p.MKK3.MKK6            0\n",
       "p.MKK4                 0\n",
       "p.NFkB                 0\n",
       "p.p38                  0\n",
       "p.p53                  0\n",
       "p.p90RSK               0\n",
       "p.PDPK1                0\n",
       "p.PLCg2          5594893\n",
       "p.RB                   0\n",
       "p.S6                   0\n",
       "p.S6K                  0\n",
       "p.SMAD23               0\n",
       "p.SRC                  0\n",
       "p.STAT1                0\n",
       "p.STAT3                0\n",
       "p.STAT5                0\n",
       "time_course      3346607\n",
       "dtype: int64"
      ]
     },
     "execution_count": 25,
     "metadata": {},
     "output_type": "execute_result"
    }
   ],
   "source": [
    "all_data.isna().sum()"
   ]
  },
  {
   "cell_type": "code",
   "execution_count": 26,
   "id": "b730adf1",
   "metadata": {},
   "outputs": [
    {
     "data": {
      "text/plain": [
       "array(['EGF', 'full', 'iEGFR', 'iMEK', 'iPI3K', 'iPKC', 'imTOR'],\n",
       "      dtype=object)"
      ]
     },
     "execution_count": 26,
     "metadata": {},
     "output_type": "execute_result"
    }
   ],
   "source": [
    "all_data['treatment'].unique()"
   ]
  },
  {
   "cell_type": "code",
   "execution_count": 27,
   "id": "48c6e54a",
   "metadata": {},
   "outputs": [],
   "source": [
    "missing_HER2 = set(all_data.loc[all_data[\"p.HER2\"].isna(), \"cell_line\"].drop_duplicates().values)\n",
    "\n",
    "missing_PLCg2 = set(all_data.loc[all_data[\"p.PLCg2\"].isna(), \"cell_line\"].drop_duplicates().values)\n",
    "\n",
    "missing_timecourse = set(all_data.loc[all_data[\"time_course\"].isna(), \"cell_line\"].drop_duplicates().values)"
   ]
  },
  {
   "cell_type": "code",
   "execution_count": 28,
   "id": "890bd6e4",
   "metadata": {},
   "outputs": [
    {
     "data": {
      "text/plain": [
       "treatment        0\n",
       "cell_line        0\n",
       "time             0\n",
       "cellID           0\n",
       "fileID           0\n",
       "b.CATENIN        0\n",
       "cleavedCas       0\n",
       "CyclinB          0\n",
       "GAPDH            0\n",
       "IdU              0\n",
       "Ki.67            0\n",
       "p.4EBP1          0\n",
       "p.Akt.Ser473.    0\n",
       "p.AKT.Thr308.    0\n",
       "p.AMPK           0\n",
       "p.BTK            0\n",
       "p.CREB           0\n",
       "p.ERK            0\n",
       "p.FAK            0\n",
       "p.GSK3b          0\n",
       "p.H3             0\n",
       "p.JNK            0\n",
       "p.MAP2K3         0\n",
       "p.MAPKAPK2       0\n",
       "p.MEK            0\n",
       "p.MKK3.MKK6      0\n",
       "p.MKK4           0\n",
       "p.NFkB           0\n",
       "p.p38            0\n",
       "p.p53            0\n",
       "p.p90RSK         0\n",
       "p.PDPK1          0\n",
       "p.RB             0\n",
       "p.S6             0\n",
       "p.S6K            0\n",
       "p.SMAD23         0\n",
       "p.SRC            0\n",
       "p.STAT1          0\n",
       "p.STAT3          0\n",
       "p.STAT5          0\n",
       "dtype: int64"
      ]
     },
     "execution_count": 28,
     "metadata": {},
     "output_type": "execute_result"
    }
   ],
   "source": [
    "sc3_test_set.isna().sum()"
   ]
  },
  {
   "cell_type": "markdown",
   "id": "099fedc3",
   "metadata": {},
   "source": [
    "### PLCg2 and HER2 are not present in the gold standard of sc3, meaning that for ALL imTOR treatments we don't have values for HER2 nd PLCg2... :("
   ]
  },
  {
   "cell_type": "code",
   "execution_count": null,
   "id": "cc8d0d90",
   "metadata": {},
   "outputs": [],
   "source": []
  },
  {
   "cell_type": "code",
   "execution_count": null,
   "id": "511cb166",
   "metadata": {},
   "outputs": [],
   "source": []
  },
  {
   "cell_type": "markdown",
   "id": "0460346b",
   "metadata": {},
   "source": [
    "# subchallenge 4"
   ]
  },
  {
   "cell_type": "code",
   "execution_count": 29,
   "id": "a353189a",
   "metadata": {},
   "outputs": [
    {
     "data": {
      "text/plain": [
       "(23131344, 43)"
      ]
     },
     "execution_count": 29,
     "metadata": {},
     "output_type": "execute_result"
    }
   ],
   "source": [
    "excluding_test_data.shape"
   ]
  },
  {
   "cell_type": "code",
   "execution_count": 30,
   "id": "b95c0e7d",
   "metadata": {},
   "outputs": [
    {
     "data": {
      "text/plain": [
       "array(['full'], dtype=object)"
      ]
     },
     "execution_count": 30,
     "metadata": {},
     "output_type": "execute_result"
    }
   ],
   "source": [
    "# Subchallenge 4\n",
    "# Of given cell lines only full is given, already correct\n",
    "sc4_cl = [\"CAL120\", \"CAMA1\", \"KPL1\", \"ZR75B\"]\n",
    "\n",
    "excluding_test_data.loc[excluding_test_data[\"cell_line\"].isin(sc4_cl), \"treatment\"].unique()"
   ]
  },
  {
   "cell_type": "code",
   "execution_count": 31,
   "id": "32ef9d59",
   "metadata": {},
   "outputs": [
    {
     "data": {
      "text/html": [
       "<div>\n",
       "<style scoped>\n",
       "    .dataframe tbody tr th:only-of-type {\n",
       "        vertical-align: middle;\n",
       "    }\n",
       "\n",
       "    .dataframe tbody tr th {\n",
       "        vertical-align: top;\n",
       "    }\n",
       "\n",
       "    .dataframe thead th {\n",
       "        text-align: right;\n",
       "    }\n",
       "</style>\n",
       "<table border=\"1\" class=\"dataframe\">\n",
       "  <thead>\n",
       "    <tr style=\"text-align: right;\">\n",
       "      <th></th>\n",
       "      <th>cell_line</th>\n",
       "      <th>treatment</th>\n",
       "      <th>time</th>\n",
       "      <th>b.CATENIN</th>\n",
       "      <th>cleavedCas</th>\n",
       "      <th>CyclinB</th>\n",
       "      <th>GAPDH</th>\n",
       "      <th>IdU</th>\n",
       "      <th>Ki.67</th>\n",
       "      <th>p.4EBP1</th>\n",
       "      <th>...</th>\n",
       "      <th>p.p90RSK</th>\n",
       "      <th>p.PDPK1</th>\n",
       "      <th>p.RB</th>\n",
       "      <th>p.S6</th>\n",
       "      <th>p.S6K</th>\n",
       "      <th>p.SMAD23</th>\n",
       "      <th>p.SRC</th>\n",
       "      <th>p.STAT1</th>\n",
       "      <th>p.STAT3</th>\n",
       "      <th>p.STAT5</th>\n",
       "    </tr>\n",
       "  </thead>\n",
       "  <tbody>\n",
       "    <tr>\n",
       "      <th>0</th>\n",
       "      <td>CAL120</td>\n",
       "      <td>EGF</td>\n",
       "      <td>0.0</td>\n",
       "      <td>0.642021</td>\n",
       "      <td>2.558938</td>\n",
       "      <td>2.722315</td>\n",
       "      <td>2.116092</td>\n",
       "      <td>6.346249</td>\n",
       "      <td>2.814086</td>\n",
       "      <td>3.053125</td>\n",
       "      <td>...</td>\n",
       "      <td>2.774018</td>\n",
       "      <td>1.843610</td>\n",
       "      <td>3.901693</td>\n",
       "      <td>3.948831</td>\n",
       "      <td>1.876049</td>\n",
       "      <td>1.750105</td>\n",
       "      <td>2.479909</td>\n",
       "      <td>2.833757</td>\n",
       "      <td>2.523510</td>\n",
       "      <td>2.573701</td>\n",
       "    </tr>\n",
       "    <tr>\n",
       "      <th>1</th>\n",
       "      <td>CAL120</td>\n",
       "      <td>EGF</td>\n",
       "      <td>5.5</td>\n",
       "      <td>0.969175</td>\n",
       "      <td>3.012168</td>\n",
       "      <td>3.117024</td>\n",
       "      <td>2.855420</td>\n",
       "      <td>6.332900</td>\n",
       "      <td>3.227027</td>\n",
       "      <td>3.657092</td>\n",
       "      <td>...</td>\n",
       "      <td>4.227944</td>\n",
       "      <td>2.362546</td>\n",
       "      <td>3.927360</td>\n",
       "      <td>4.779151</td>\n",
       "      <td>2.264465</td>\n",
       "      <td>2.252117</td>\n",
       "      <td>2.607964</td>\n",
       "      <td>3.151203</td>\n",
       "      <td>3.245815</td>\n",
       "      <td>2.657864</td>\n",
       "    </tr>\n",
       "    <tr>\n",
       "      <th>2</th>\n",
       "      <td>CAL120</td>\n",
       "      <td>EGF</td>\n",
       "      <td>7.0</td>\n",
       "      <td>0.943493</td>\n",
       "      <td>2.997356</td>\n",
       "      <td>3.110030</td>\n",
       "      <td>2.820019</td>\n",
       "      <td>6.332231</td>\n",
       "      <td>3.207450</td>\n",
       "      <td>3.633149</td>\n",
       "      <td>...</td>\n",
       "      <td>4.306342</td>\n",
       "      <td>2.353130</td>\n",
       "      <td>3.943294</td>\n",
       "      <td>4.976871</td>\n",
       "      <td>2.262942</td>\n",
       "      <td>2.230480</td>\n",
       "      <td>2.559745</td>\n",
       "      <td>3.141780</td>\n",
       "      <td>3.215268</td>\n",
       "      <td>2.642357</td>\n",
       "    </tr>\n",
       "    <tr>\n",
       "      <th>3</th>\n",
       "      <td>CAL120</td>\n",
       "      <td>EGF</td>\n",
       "      <td>9.0</td>\n",
       "      <td>0.734750</td>\n",
       "      <td>2.644117</td>\n",
       "      <td>2.850124</td>\n",
       "      <td>2.589844</td>\n",
       "      <td>6.379343</td>\n",
       "      <td>2.899169</td>\n",
       "      <td>3.285212</td>\n",
       "      <td>...</td>\n",
       "      <td>4.053468</td>\n",
       "      <td>2.075605</td>\n",
       "      <td>3.697823</td>\n",
       "      <td>5.256607</td>\n",
       "      <td>2.200480</td>\n",
       "      <td>1.950262</td>\n",
       "      <td>2.462547</td>\n",
       "      <td>3.021459</td>\n",
       "      <td>2.913630</td>\n",
       "      <td>2.679853</td>\n",
       "    </tr>\n",
       "    <tr>\n",
       "      <th>4</th>\n",
       "      <td>CAL120</td>\n",
       "      <td>EGF</td>\n",
       "      <td>13.0</td>\n",
       "      <td>0.677552</td>\n",
       "      <td>2.507360</td>\n",
       "      <td>2.710117</td>\n",
       "      <td>2.485199</td>\n",
       "      <td>6.392949</td>\n",
       "      <td>2.788088</td>\n",
       "      <td>3.071499</td>\n",
       "      <td>...</td>\n",
       "      <td>3.943640</td>\n",
       "      <td>1.954970</td>\n",
       "      <td>3.563982</td>\n",
       "      <td>5.757942</td>\n",
       "      <td>2.177485</td>\n",
       "      <td>1.821432</td>\n",
       "      <td>2.402964</td>\n",
       "      <td>3.013709</td>\n",
       "      <td>2.793514</td>\n",
       "      <td>2.665965</td>\n",
       "    </tr>\n",
       "    <tr>\n",
       "      <th>...</th>\n",
       "      <td>...</td>\n",
       "      <td>...</td>\n",
       "      <td>...</td>\n",
       "      <td>...</td>\n",
       "      <td>...</td>\n",
       "      <td>...</td>\n",
       "      <td>...</td>\n",
       "      <td>...</td>\n",
       "      <td>...</td>\n",
       "      <td>...</td>\n",
       "      <td>...</td>\n",
       "      <td>...</td>\n",
       "      <td>...</td>\n",
       "      <td>...</td>\n",
       "      <td>...</td>\n",
       "      <td>...</td>\n",
       "      <td>...</td>\n",
       "      <td>...</td>\n",
       "      <td>...</td>\n",
       "      <td>...</td>\n",
       "      <td>...</td>\n",
       "    </tr>\n",
       "    <tr>\n",
       "      <th>185</th>\n",
       "      <td>ZR75B</td>\n",
       "      <td>iPKC</td>\n",
       "      <td>9.0</td>\n",
       "      <td>0.882095</td>\n",
       "      <td>2.139223</td>\n",
       "      <td>1.998373</td>\n",
       "      <td>2.743272</td>\n",
       "      <td>5.579956</td>\n",
       "      <td>2.583163</td>\n",
       "      <td>2.893560</td>\n",
       "      <td>...</td>\n",
       "      <td>4.252262</td>\n",
       "      <td>1.926116</td>\n",
       "      <td>4.637481</td>\n",
       "      <td>6.581880</td>\n",
       "      <td>2.296586</td>\n",
       "      <td>1.701937</td>\n",
       "      <td>2.635093</td>\n",
       "      <td>2.934636</td>\n",
       "      <td>2.039825</td>\n",
       "      <td>2.585977</td>\n",
       "    </tr>\n",
       "    <tr>\n",
       "      <th>186</th>\n",
       "      <td>ZR75B</td>\n",
       "      <td>iPKC</td>\n",
       "      <td>13.0</td>\n",
       "      <td>0.773585</td>\n",
       "      <td>2.012372</td>\n",
       "      <td>1.833804</td>\n",
       "      <td>2.621332</td>\n",
       "      <td>5.559205</td>\n",
       "      <td>2.441031</td>\n",
       "      <td>2.593788</td>\n",
       "      <td>...</td>\n",
       "      <td>3.762611</td>\n",
       "      <td>1.743599</td>\n",
       "      <td>4.530436</td>\n",
       "      <td>6.637086</td>\n",
       "      <td>2.209878</td>\n",
       "      <td>1.555405</td>\n",
       "      <td>2.506967</td>\n",
       "      <td>2.916227</td>\n",
       "      <td>1.845785</td>\n",
       "      <td>2.534098</td>\n",
       "    </tr>\n",
       "    <tr>\n",
       "      <th>187</th>\n",
       "      <td>ZR75B</td>\n",
       "      <td>iPKC</td>\n",
       "      <td>17.0</td>\n",
       "      <td>0.716518</td>\n",
       "      <td>1.916874</td>\n",
       "      <td>1.766884</td>\n",
       "      <td>2.584515</td>\n",
       "      <td>5.526560</td>\n",
       "      <td>2.398917</td>\n",
       "      <td>2.470942</td>\n",
       "      <td>...</td>\n",
       "      <td>3.472779</td>\n",
       "      <td>1.650303</td>\n",
       "      <td>4.404408</td>\n",
       "      <td>6.765272</td>\n",
       "      <td>2.174768</td>\n",
       "      <td>1.476460</td>\n",
       "      <td>2.472450</td>\n",
       "      <td>2.916854</td>\n",
       "      <td>1.783240</td>\n",
       "      <td>2.542054</td>\n",
       "    </tr>\n",
       "    <tr>\n",
       "      <th>188</th>\n",
       "      <td>ZR75B</td>\n",
       "      <td>iPKC</td>\n",
       "      <td>40.0</td>\n",
       "      <td>0.737845</td>\n",
       "      <td>2.023696</td>\n",
       "      <td>1.851008</td>\n",
       "      <td>2.668855</td>\n",
       "      <td>5.392364</td>\n",
       "      <td>2.549362</td>\n",
       "      <td>2.701711</td>\n",
       "      <td>...</td>\n",
       "      <td>2.777462</td>\n",
       "      <td>1.699293</td>\n",
       "      <td>4.094528</td>\n",
       "      <td>6.812586</td>\n",
       "      <td>2.120333</td>\n",
       "      <td>1.583112</td>\n",
       "      <td>2.484451</td>\n",
       "      <td>2.983884</td>\n",
       "      <td>1.842795</td>\n",
       "      <td>2.550517</td>\n",
       "    </tr>\n",
       "    <tr>\n",
       "      <th>189</th>\n",
       "      <td>ZR75B</td>\n",
       "      <td>iPKC</td>\n",
       "      <td>60.0</td>\n",
       "      <td>0.740611</td>\n",
       "      <td>2.057181</td>\n",
       "      <td>1.855772</td>\n",
       "      <td>2.672362</td>\n",
       "      <td>5.332397</td>\n",
       "      <td>2.592072</td>\n",
       "      <td>2.729106</td>\n",
       "      <td>...</td>\n",
       "      <td>2.545559</td>\n",
       "      <td>1.699517</td>\n",
       "      <td>3.932345</td>\n",
       "      <td>6.788372</td>\n",
       "      <td>2.079770</td>\n",
       "      <td>1.605622</td>\n",
       "      <td>2.456821</td>\n",
       "      <td>2.982884</td>\n",
       "      <td>1.820319</td>\n",
       "      <td>2.521073</td>\n",
       "    </tr>\n",
       "  </tbody>\n",
       "</table>\n",
       "<p>190 rows × 38 columns</p>\n",
       "</div>"
      ],
      "text/plain": [
       "    cell_line treatment  time  b.CATENIN  cleavedCas   CyclinB     GAPDH  \\\n",
       "0      CAL120       EGF   0.0   0.642021    2.558938  2.722315  2.116092   \n",
       "1      CAL120       EGF   5.5   0.969175    3.012168  3.117024  2.855420   \n",
       "2      CAL120       EGF   7.0   0.943493    2.997356  3.110030  2.820019   \n",
       "3      CAL120       EGF   9.0   0.734750    2.644117  2.850124  2.589844   \n",
       "4      CAL120       EGF  13.0   0.677552    2.507360  2.710117  2.485199   \n",
       "..        ...       ...   ...        ...         ...       ...       ...   \n",
       "185     ZR75B      iPKC   9.0   0.882095    2.139223  1.998373  2.743272   \n",
       "186     ZR75B      iPKC  13.0   0.773585    2.012372  1.833804  2.621332   \n",
       "187     ZR75B      iPKC  17.0   0.716518    1.916874  1.766884  2.584515   \n",
       "188     ZR75B      iPKC  40.0   0.737845    2.023696  1.851008  2.668855   \n",
       "189     ZR75B      iPKC  60.0   0.740611    2.057181  1.855772  2.672362   \n",
       "\n",
       "          IdU     Ki.67   p.4EBP1  ...  p.p90RSK   p.PDPK1      p.RB  \\\n",
       "0    6.346249  2.814086  3.053125  ...  2.774018  1.843610  3.901693   \n",
       "1    6.332900  3.227027  3.657092  ...  4.227944  2.362546  3.927360   \n",
       "2    6.332231  3.207450  3.633149  ...  4.306342  2.353130  3.943294   \n",
       "3    6.379343  2.899169  3.285212  ...  4.053468  2.075605  3.697823   \n",
       "4    6.392949  2.788088  3.071499  ...  3.943640  1.954970  3.563982   \n",
       "..        ...       ...       ...  ...       ...       ...       ...   \n",
       "185  5.579956  2.583163  2.893560  ...  4.252262  1.926116  4.637481   \n",
       "186  5.559205  2.441031  2.593788  ...  3.762611  1.743599  4.530436   \n",
       "187  5.526560  2.398917  2.470942  ...  3.472779  1.650303  4.404408   \n",
       "188  5.392364  2.549362  2.701711  ...  2.777462  1.699293  4.094528   \n",
       "189  5.332397  2.592072  2.729106  ...  2.545559  1.699517  3.932345   \n",
       "\n",
       "         p.S6     p.S6K  p.SMAD23     p.SRC   p.STAT1   p.STAT3   p.STAT5  \n",
       "0    3.948831  1.876049  1.750105  2.479909  2.833757  2.523510  2.573701  \n",
       "1    4.779151  2.264465  2.252117  2.607964  3.151203  3.245815  2.657864  \n",
       "2    4.976871  2.262942  2.230480  2.559745  3.141780  3.215268  2.642357  \n",
       "3    5.256607  2.200480  1.950262  2.462547  3.021459  2.913630  2.679853  \n",
       "4    5.757942  2.177485  1.821432  2.402964  3.013709  2.793514  2.665965  \n",
       "..        ...       ...       ...       ...       ...       ...       ...  \n",
       "185  6.581880  2.296586  1.701937  2.635093  2.934636  2.039825  2.585977  \n",
       "186  6.637086  2.209878  1.555405  2.506967  2.916227  1.845785  2.534098  \n",
       "187  6.765272  2.174768  1.476460  2.472450  2.916854  1.783240  2.542054  \n",
       "188  6.812586  2.120333  1.583112  2.484451  2.983884  1.842795  2.550517  \n",
       "189  6.788372  2.079770  1.605622  2.456821  2.982884  1.820319  2.521073  \n",
       "\n",
       "[190 rows x 38 columns]"
      ]
     },
     "execution_count": 31,
     "metadata": {},
     "output_type": "execute_result"
    }
   ],
   "source": [
    "sc4_test_set = pd.read_csv(\"/dccstor/ipc1/CAR/DREAM/DREAMdata/Challenge_data/sc4gold.csv\")\n",
    "sc4_test_set"
   ]
  },
  {
   "cell_type": "code",
   "execution_count": 32,
   "id": "a36642e7",
   "metadata": {
    "scrolled": true
   },
   "outputs": [
    {
     "name": "stdout",
     "output_type": "stream",
     "text": [
      "[ 0.   5.5  7.   9.  13.  17.  23.  30.  40.  60. ]\n",
      "[True, True, True, True, True, True, True, True, True, True]\n"
     ]
    }
   ],
   "source": [
    "print(sc4_test_set[\"time\"].unique())\n",
    "print([True if time in all_data[\"time\"].unique() else False for time in sc4_test_set[\"time\"].unique() ])  "
   ]
  },
  {
   "cell_type": "code",
   "execution_count": 33,
   "id": "c52fb198",
   "metadata": {},
   "outputs": [],
   "source": [
    "# Since sc4 gold is median/mean expression, don't concatenate it\n",
    "# all_data = pd.concat([all_data, sc4_test_set])"
   ]
  },
  {
   "cell_type": "code",
   "execution_count": 34,
   "id": "b66043b5",
   "metadata": {},
   "outputs": [
    {
     "data": {
      "text/plain": [
       "treatment              0\n",
       "cell_line              0\n",
       "time                   0\n",
       "cellID                 0\n",
       "fileID                 0\n",
       "b.CATENIN              0\n",
       "cleavedCas             0\n",
       "CyclinB                0\n",
       "GAPDH                  0\n",
       "IdU                    0\n",
       "Ki.67                  0\n",
       "p.4EBP1                0\n",
       "p.Akt.Ser473.          0\n",
       "p.AKT.Thr308.          0\n",
       "p.AMPK                 0\n",
       "p.BTK                  0\n",
       "p.CREB                 0\n",
       "p.ERK                  0\n",
       "p.FAK                  0\n",
       "p.GSK3b                0\n",
       "p.H3                   0\n",
       "p.HER2           9417245\n",
       "p.JNK                  0\n",
       "p.MAP2K3               0\n",
       "p.MAPKAPK2             0\n",
       "p.MEK                  0\n",
       "p.MKK3.MKK6            0\n",
       "p.MKK4                 0\n",
       "p.NFkB                 0\n",
       "p.p38                  0\n",
       "p.p53                  0\n",
       "p.p90RSK               0\n",
       "p.PDPK1                0\n",
       "p.PLCg2          5594893\n",
       "p.RB                   0\n",
       "p.S6                   0\n",
       "p.S6K                  0\n",
       "p.SMAD23               0\n",
       "p.SRC                  0\n",
       "p.STAT1                0\n",
       "p.STAT3                0\n",
       "p.STAT5                0\n",
       "time_course      3346607\n",
       "dtype: int64"
      ]
     },
     "execution_count": 34,
     "metadata": {},
     "output_type": "execute_result"
    }
   ],
   "source": [
    "all_data.isna().sum()"
   ]
  },
  {
   "cell_type": "code",
   "execution_count": 35,
   "id": "71f2f685",
   "metadata": {},
   "outputs": [],
   "source": [
    "missing_HER2 = set(all_data.loc[all_data[\"p.HER2\"].isna(), \"cell_line\"].drop_duplicates().values)\n",
    "\n",
    "missing_PLCg2 = set(all_data.loc[all_data[\"p.PLCg2\"].isna(), \"cell_line\"].drop_duplicates().values)\n",
    "\n",
    "missing_timecourse = set(all_data.loc[all_data[\"time_course\"].isna(), \"cell_line\"].drop_duplicates().values)"
   ]
  },
  {
   "cell_type": "markdown",
   "id": "e9811448",
   "metadata": {},
   "source": [
    "# Remove timecourse, as it contains many NaNs"
   ]
  },
  {
   "cell_type": "code",
   "execution_count": 36,
   "id": "9088deb0",
   "metadata": {},
   "outputs": [],
   "source": [
    "all_data = all_data.drop([\"time_course\", \"cellID\", \"fileID\"], axis=1)"
   ]
  },
  {
   "cell_type": "code",
   "execution_count": null,
   "id": "be36b518",
   "metadata": {},
   "outputs": [],
   "source": []
  },
  {
   "cell_type": "markdown",
   "id": "dd3ba062",
   "metadata": {},
   "source": [
    "# Analysis of missing data"
   ]
  },
  {
   "cell_type": "code",
   "execution_count": 37,
   "id": "b22ca648",
   "metadata": {},
   "outputs": [
    {
     "data": {
      "text/plain": [
       "False"
      ]
     },
     "execution_count": 37,
     "metadata": {},
     "output_type": "execute_result"
    }
   ],
   "source": [
    "n_cell_lines = len(all_data[\"cell_line\"].unique())\n",
    "n_treatment = len(all_data[\"treatment\"].unique())\n",
    "n_times = len(all_data[\"time\"].unique())\n",
    "\n",
    "n_cell_lines*n_treatment*n_times == len(all_data.groupby([\"cell_line\", \"treatment\", \"time\"]).size())"
   ]
  },
  {
   "cell_type": "code",
   "execution_count": 38,
   "id": "e0fd77da",
   "metadata": {},
   "outputs": [
    {
     "data": {
      "text/plain": [
       "4690"
      ]
     },
     "execution_count": 38,
     "metadata": {},
     "output_type": "execute_result"
    }
   ],
   "source": [
    "n_cell_lines*n_treatment*n_times"
   ]
  },
  {
   "cell_type": "code",
   "execution_count": 39,
   "id": "ecc40882",
   "metadata": {},
   "outputs": [
    {
     "data": {
      "text/plain": [
       "2679"
      ]
     },
     "execution_count": 39,
     "metadata": {},
     "output_type": "execute_result"
    }
   ],
   "source": [
    "len(all_data.groupby([\"cell_line\", \"treatment\", \"time\"]).size())"
   ]
  },
  {
   "cell_type": "code",
   "execution_count": 40,
   "id": "8587ba9d",
   "metadata": {},
   "outputs": [],
   "source": [
    "temp = all_data[[\"treatment\", \"time\", \"cell_line\"]]\n",
    "temp = temp[temp[\"time\"]==9]\n",
    "temp.drop_duplicates(inplace=True)"
   ]
  },
  {
   "cell_type": "code",
   "execution_count": 41,
   "id": "98048697",
   "metadata": {},
   "outputs": [
    {
     "data": {
      "text/html": [
       "<div>\n",
       "<style scoped>\n",
       "    .dataframe tbody tr th:only-of-type {\n",
       "        vertical-align: middle;\n",
       "    }\n",
       "\n",
       "    .dataframe tbody tr th {\n",
       "        vertical-align: top;\n",
       "    }\n",
       "\n",
       "    .dataframe thead th {\n",
       "        text-align: right;\n",
       "    }\n",
       "</style>\n",
       "<table border=\"1\" class=\"dataframe\">\n",
       "  <thead>\n",
       "    <tr style=\"text-align: right;\">\n",
       "      <th></th>\n",
       "      <th>treatment</th>\n",
       "      <th>time</th>\n",
       "      <th>cell_line</th>\n",
       "    </tr>\n",
       "  </thead>\n",
       "  <tbody>\n",
       "    <tr>\n",
       "      <th>36615</th>\n",
       "      <td>EGF</td>\n",
       "      <td>9.0</td>\n",
       "      <td>HCC1428</td>\n",
       "    </tr>\n",
       "    <tr>\n",
       "      <th>145429</th>\n",
       "      <td>iEGFR</td>\n",
       "      <td>9.0</td>\n",
       "      <td>HCC1428</td>\n",
       "    </tr>\n",
       "    <tr>\n",
       "      <th>202471</th>\n",
       "      <td>iMEK</td>\n",
       "      <td>9.0</td>\n",
       "      <td>HCC1428</td>\n",
       "    </tr>\n",
       "    <tr>\n",
       "      <th>260272</th>\n",
       "      <td>iPI3K</td>\n",
       "      <td>9.0</td>\n",
       "      <td>HCC1428</td>\n",
       "    </tr>\n",
       "    <tr>\n",
       "      <th>360652</th>\n",
       "      <td>EGF</td>\n",
       "      <td>9.0</td>\n",
       "      <td>HCC70</td>\n",
       "    </tr>\n",
       "    <tr>\n",
       "      <th>...</th>\n",
       "      <td>...</td>\n",
       "      <td>...</td>\n",
       "      <td>...</td>\n",
       "    </tr>\n",
       "    <tr>\n",
       "      <th>2324888</th>\n",
       "      <td>imTOR</td>\n",
       "      <td>9.0</td>\n",
       "      <td>OCUBM</td>\n",
       "    </tr>\n",
       "    <tr>\n",
       "      <th>2389174</th>\n",
       "      <td>imTOR</td>\n",
       "      <td>9.0</td>\n",
       "      <td>T47D</td>\n",
       "    </tr>\n",
       "    <tr>\n",
       "      <th>2450269</th>\n",
       "      <td>imTOR</td>\n",
       "      <td>9.0</td>\n",
       "      <td>UACC812</td>\n",
       "    </tr>\n",
       "    <tr>\n",
       "      <th>2517007</th>\n",
       "      <td>imTOR</td>\n",
       "      <td>9.0</td>\n",
       "      <td>UACC893</td>\n",
       "    </tr>\n",
       "    <tr>\n",
       "      <th>2594386</th>\n",
       "      <td>imTOR</td>\n",
       "      <td>9.0</td>\n",
       "      <td>ZR7530</td>\n",
       "    </tr>\n",
       "  </tbody>\n",
       "</table>\n",
       "<p>348 rows × 3 columns</p>\n",
       "</div>"
      ],
      "text/plain": [
       "        treatment  time cell_line\n",
       "36615         EGF   9.0   HCC1428\n",
       "145429      iEGFR   9.0   HCC1428\n",
       "202471       iMEK   9.0   HCC1428\n",
       "260272      iPI3K   9.0   HCC1428\n",
       "360652        EGF   9.0     HCC70\n",
       "...           ...   ...       ...\n",
       "2324888     imTOR   9.0     OCUBM\n",
       "2389174     imTOR   9.0      T47D\n",
       "2450269     imTOR   9.0   UACC812\n",
       "2517007     imTOR   9.0   UACC893\n",
       "2594386     imTOR   9.0    ZR7530\n",
       "\n",
       "[348 rows x 3 columns]"
      ]
     },
     "execution_count": 41,
     "metadata": {},
     "output_type": "execute_result"
    }
   ],
   "source": [
    "temp"
   ]
  },
  {
   "cell_type": "code",
   "execution_count": 42,
   "id": "ae88c1bc",
   "metadata": {},
   "outputs": [
    {
     "data": {
      "text/plain": [
       "treatment  time\n",
       "EGF        9.0     62\n",
       "iEGFR      9.0     62\n",
       "iMEK       9.0     62\n",
       "iPI3K      9.0     61\n",
       "iPKC       9.0     62\n",
       "imTOR      9.0     39\n",
       "dtype: int64"
      ]
     },
     "execution_count": 42,
     "metadata": {},
     "output_type": "execute_result"
    }
   ],
   "source": [
    "temp.groupby([\"treatment\", \"time\"]).size().loc[(temp.groupby([\"treatment\", \"time\"]).size() != 67).values, :]"
   ]
  },
  {
   "cell_type": "code",
   "execution_count": 43,
   "id": "1bb0f10b",
   "metadata": {},
   "outputs": [
    {
     "data": {
      "text/plain": [
       "array(['BT20', 'BT474', 'BT549', 'CAL148', 'CAL51', 'CAL851', 'DU4475',\n",
       "       'EFM192A', 'EVSAT', 'HBL100', 'HCC1187', 'HCC1395', 'HCC1419',\n",
       "       'HCC1500', 'HCC1569', 'HCC1599', 'HCC1937', 'HCC1954', 'HCC2185',\n",
       "       'HCC3153', 'HCC38', 'HCC70', 'HDQP1', 'JIMT1', 'MCF7',\n",
       "       'MDAMB134VI', 'MDAMB157', 'MDAMB175VII', 'MDAMB361', 'MDAMB415',\n",
       "       'MDAMB453', 'MFM223', 'MPE600', 'MX1', 'OCUBM', 'T47D', 'UACC812',\n",
       "       'UACC893', 'ZR7530'], dtype=object)"
      ]
     },
     "execution_count": 43,
     "metadata": {},
     "output_type": "execute_result"
    }
   ],
   "source": [
    "temp.loc[temp[\"treatment\"]==\"imTOR\", \"cell_line\"].unique()"
   ]
  },
  {
   "cell_type": "code",
   "execution_count": 44,
   "id": "984af385",
   "metadata": {},
   "outputs": [
    {
     "data": {
      "text/plain": [
       "<AxesSubplot:xlabel='None-time', ylabel='cell_line'>"
      ]
     },
     "execution_count": 44,
     "metadata": {},
     "output_type": "execute_result"
    },
    {
     "data": {
      "image/png": "[encoded data removed]",
      "text/plain": [
       "<Figure size 500x1000 with 2 Axes>"
      ]
     },
     "metadata": {},
     "output_type": "display_data"
    }
   ],
   "source": [
    "plt_data = pd.pivot_table(all_data.groupby([\"cell_line\", \"time\"]).size().reset_index(), index=\"cell_line\", columns=\"time\")\n",
    "plt.figure(figsize=(5,10))\n",
    "sns.heatmap(plt_data, yticklabels=True)"
   ]
  },
  {
   "cell_type": "code",
   "execution_count": 45,
   "id": "3b92fa7d",
   "metadata": {},
   "outputs": [
    {
     "data": {
      "text/plain": [
       "<AxesSubplot:xlabel='None-time', ylabel='cell_line'>"
      ]
     },
     "execution_count": 45,
     "metadata": {},
     "output_type": "execute_result"
    },
    {
     "data": {
      "image/png": "[encoded data removed]",
      "text/plain": [
       "<Figure size 500x1000 with 2 Axes>"
      ]
     },
     "metadata": {},
     "output_type": "display_data"
    }
   ],
   "source": [
    "plt_data = pd.pivot_table(temp.groupby([\"cell_line\", \"time\"]).size().reset_index(), index=\"cell_line\", columns=\"time\")\n",
    "plt.figure(figsize=(5,10))\n",
    "sns.heatmap(plt_data, yticklabels=True)"
   ]
  },
  {
   "cell_type": "code",
   "execution_count": 46,
   "id": "091874ec",
   "metadata": {},
   "outputs": [],
   "source": [
    "all_cond_cl = list((temp.groupby([\"cell_line\", \"time\"]).size()[ temp.groupby([\"cell_line\", \"time\"]).size()==6]).reset_index()[\"cell_line\"].values)"
   ]
  },
  {
   "cell_type": "code",
   "execution_count": 47,
   "id": "2ffbbf9b",
   "metadata": {},
   "outputs": [],
   "source": [
    "temp2 = all_data[all_data[\"time\"]==9]\n",
    "temp2 = temp2[temp2[\"cell_line\"].isin(all_cond_cl)]\n",
    "temp2 = temp2.melt(id_vars=[\"treatment\", \"time\", \"cell_line\"], value_name=\"expr\", var_name=\"marker\")\n",
    "temp2 = temp2[~temp2[\"expr\"].isna()]\n",
    "temp2 = temp2.drop(\"expr\", axis=1).drop_duplicates()\n",
    "plt_data = pd.pivot_table(temp2.groupby([\"cell_line\", \"treatment\"]).size().reset_index(), index=\"cell_line\", columns=\"treatment\")\n"
   ]
  },
  {
   "cell_type": "code",
   "execution_count": 48,
   "id": "993bea65",
   "metadata": {},
   "outputs": [
    {
     "data": {
      "text/plain": [
       "<AxesSubplot:xlabel='None-treatment', ylabel='cell_line'>"
      ]
     },
     "execution_count": 48,
     "metadata": {},
     "output_type": "execute_result"
    },
    {
     "data": {
      "image/png": "[encoded data removed]",
      "text/plain": [
       "<Figure size 500x1000 with 2 Axes>"
      ]
     },
     "metadata": {},
     "output_type": "display_data"
    }
   ],
   "source": [
    "plt.figure(figsize=(5,10))\n",
    "sns.heatmap(plt_data, yticklabels=True)"
   ]
  },
  {
   "cell_type": "code",
   "execution_count": 49,
   "id": "4fe05324",
   "metadata": {},
   "outputs": [
    {
     "data": {
      "text/plain": [
       "<AxesSubplot:xlabel='None-marker', ylabel='cell_line'>"
      ]
     },
     "execution_count": 49,
     "metadata": {},
     "output_type": "execute_result"
    },
    {
     "data": {
      "image/png": "[encoded data removed]",
      "text/plain": [
       "<Figure size 1000x1000 with 2 Axes>"
      ]
     },
     "metadata": {},
     "output_type": "display_data"
    }
   ],
   "source": [
    "plt_data = pd.pivot_table(temp2.groupby([\"cell_line\", \"marker\"]).size().reset_index(), index=\"cell_line\", columns=\"marker\")\n",
    "plt.figure(figsize=(10,10))\n",
    "sns.heatmap(plt_data, yticklabels=True, xticklabels=True)"
   ]
  },
  {
   "cell_type": "code",
   "execution_count": 50,
   "id": "e2e1670d",
   "metadata": {},
   "outputs": [
    {
     "data": {
      "text/plain": [
       "cell_line\n",
       "BT20           5\n",
       "BT474          5\n",
       "CAL148         5\n",
       "CAL51          5\n",
       "CAL851         5\n",
       "DU4475         5\n",
       "EFM192A        5\n",
       "EVSAT          5\n",
       "HBL100         5\n",
       "HCC1599        5\n",
       "HCC2185        5\n",
       "HCC3153        5\n",
       "HDQP1          5\n",
       "JIMT1          5\n",
       "MCF7           5\n",
       "MDAMB157       5\n",
       "MDAMB175VII    5\n",
       "MDAMB415       5\n",
       "MFM223         5\n",
       "MPE600         5\n",
       "MX1            5\n",
       "OCUBM          5\n",
       "UACC812        5\n",
       "ZR7530         5\n",
       "dtype: int64"
      ]
     },
     "execution_count": 50,
     "metadata": {},
     "output_type": "execute_result"
    }
   ],
   "source": [
    "(temp2.groupby([\"cell_line\", \"treatment\"]).size()[temp2.groupby([\"cell_line\", \"treatment\"]).size()==37]).reset_index().groupby(\"cell_line\").size()"
   ]
  },
  {
   "cell_type": "code",
   "execution_count": 51,
   "id": "7cb1f01f",
   "metadata": {},
   "outputs": [
    {
     "data": {
      "text/plain": [
       "['HCC3153',\n",
       " 'MDAMB175VII',\n",
       " 'BT20',\n",
       " 'HBL100',\n",
       " 'CAL148',\n",
       " 'HDQP1',\n",
       " 'OCUBM',\n",
       " 'MDAMB157',\n",
       " 'UACC812',\n",
       " 'ZR7530',\n",
       " 'CAL51',\n",
       " 'MFM223',\n",
       " 'HCC2185',\n",
       " 'BT474',\n",
       " 'DU4475',\n",
       " 'JIMT1',\n",
       " 'MX1',\n",
       " 'CAL851',\n",
       " 'EFM192A',\n",
       " 'MCF7',\n",
       " 'EVSAT',\n",
       " 'HCC1599',\n",
       " 'MDAMB415',\n",
       " 'MPE600']"
      ]
     },
     "execution_count": 51,
     "metadata": {},
     "output_type": "execute_result"
    }
   ],
   "source": [
    "all_cond_all_marker_t9 = list(set((temp2.groupby([\"cell_line\", \"treatment\"]).size()[temp2.groupby([\"cell_line\", \"treatment\"]).size()==37]).reset_index()[\"cell_line\"].values))\n",
    "all_cond_all_marker_t9                          "
   ]
  },
  {
   "cell_type": "markdown",
   "id": "77cf728d",
   "metadata": {},
   "source": [
    "# Save everything"
   ]
  },
  {
   "cell_type": "code",
   "execution_count": 52,
   "id": "f196be36",
   "metadata": {},
   "outputs": [],
   "source": [
    "excluding_test_data.to_csv(\"/dccstor/ipc1/CAR/DREAM/DREAMdata/all_cl_time_aligned_excl_changelle_test.csv\")\n",
    "sc1_test_set.to_csv(\"/dccstor/ipc1/CAR/DREAM/DREAMdata/Challenge_data/sc1_test_time_aligned.csv\")\n",
    "sc2_test_set.to_csv(\"/dccstor/ipc1/CAR/DREAM/DREAMdata/Challenge_data/sc2_test_time_aligned.csv\")\n",
    "sc3_test_set.to_csv(\"/dccstor/ipc1/CAR/DREAM/DREAMdata/Challenge_data/sc3_test_time_aligned.csv\")\n",
    "sc4_test_set.to_csv(\"/dccstor/ipc1/CAR/DREAM/DREAMdata/Challenge_data/sc4_test_time_aligned.csv\")"
   ]
  },
  {
   "cell_type": "code",
   "execution_count": 53,
   "id": "6316087f",
   "metadata": {},
   "outputs": [],
   "source": [
    "save_path = \"/dccstor/ipc1/CAR/DREAM/DREAMdata/Time_aligned_per_cell_line/CL_incl_test/\"\n",
    "for cl in all_data[\"cell_line\"].unique():\n",
    "    temp = all_data[all_data[\"cell_line\"]==cl]\n",
    "    temp.to_csv(f\"{save_path}{cl}.csv\", index=False)"
   ]
  },
  {
   "cell_type": "code",
   "execution_count": 54,
   "id": "d0d9d186",
   "metadata": {},
   "outputs": [],
   "source": [
    "save_path = \"/dccstor/ipc1/CAR/DREAM/DREAMdata/Time_aligned_per_cell_line/\"\n",
    "for cl in excluding_test_data[\"cell_line\"].unique():\n",
    "    temp = excluding_test_data[excluding_test_data[\"cell_line\"]==cl]\n",
    "    temp.to_csv(f\"{save_path}{cl}.csv\", index=False)"
   ]
  },
  {
   "cell_type": "code",
   "execution_count": 55,
   "id": "db1cf487",
   "metadata": {},
   "outputs": [
    {
     "name": "stdout",
     "output_type": "stream",
     "text": [
      "AU565\n",
      "EFM19\n",
      "HCC2218\n",
      "LY2\n",
      "MACLS2\n",
      "MDAMB436\n",
      "184B5\n",
      "BT483\n",
      "HCC1428\n",
      "HCC1806\n",
      "HCC202\n",
      "Hs578T\n",
      "MCF12A\n",
      "MDAMB231\n",
      "MDAMB468\n",
      "SKBR3\n",
      "UACC3199\n",
      "ZR751\n",
      "BT20\n",
      "BT474\n",
      "BT549\n",
      "CAL148\n",
      "CAL51\n",
      "CAL851\n",
      "DU4475\n",
      "EFM192A\n",
      "EVSAT\n",
      "HBL100\n",
      "HCC1187\n",
      "HCC1395\n",
      "HCC1419\n",
      "HCC1500\n",
      "HCC1569\n",
      "HCC1599\n",
      "HCC1937\n",
      "HCC1954\n",
      "HCC2185\n",
      "HCC3153\n",
      "HCC38\n",
      "HCC70\n",
      "HDQP1\n",
      "JIMT1\n",
      "MCF7\n",
      "MDAMB134VI\n",
      "MDAMB157\n",
      "MDAMB175VII\n",
      "MDAMB361\n",
      "MDAMB415\n",
      "MDAMB453\n",
      "MFM223\n",
      "MPE600\n",
      "MX1\n",
      "OCUBM\n",
      "T47D\n",
      "UACC812\n",
      "UACC893\n",
      "ZR7530\n",
      "CAL120\n",
      "CAMA1\n",
      "HCC1143\n",
      "KPL1\n",
      "ZR75B\n"
     ]
    }
   ],
   "source": [
    "save_path = \"/dccstor/ipc1/CAR/DREAM/DREAMdata/Time_aligned_per_cell_line/Test/\"\n",
    "for cl in sc1_test_set[\"cell_line\"].unique():\n",
    "    print(cl)\n",
    "    temp = sc1_test_set[sc1_test_set[\"cell_line\"]==cl]\n",
    "    temp.to_csv(f\"{save_path}{cl}.csv\", index=False)\n",
    "for cl in sc2_test_set[\"cell_line\"].unique():\n",
    "    print(cl)\n",
    "    temp = sc2_test_set[sc2_test_set[\"cell_line\"]==cl]\n",
    "    temp.to_csv(f\"{save_path}{cl}.csv\", index=False)\n",
    "for cl in sc3_test_set[\"cell_line\"].unique():\n",
    "    print(cl)\n",
    "    temp = sc3_test_set[sc3_test_set[\"cell_line\"]==cl]\n",
    "    temp.to_csv(f\"{save_path}{cl}.csv\", index=False)\n",
    "for cl in sc4_test_set[\"cell_line\"].unique():\n",
    "    print(cl)\n",
    "    temp = sc4_test_set[sc4_test_set[\"cell_line\"]==cl]\n",
    "    temp.to_csv(f\"{save_path}{cl}.csv\", index=False)"
   ]
  },
  {
   "cell_type": "code",
   "execution_count": 56,
   "id": "a115bba4",
   "metadata": {},
   "outputs": [
    {
     "data": {
      "text/plain": [
       "array(['AU565', 'EFM19', 'HCC2218', 'LY2', 'MACLS2', 'MDAMB436'],\n",
       "      dtype=object)"
      ]
     },
     "execution_count": 56,
     "metadata": {},
     "output_type": "execute_result"
    }
   ],
   "source": [
    "sc1_test_set[\"cell_line\"].unique()"
   ]
  },
  {
   "cell_type": "code",
   "execution_count": 57,
   "id": "e2afb801",
   "metadata": {},
   "outputs": [
    {
     "data": {
      "text/html": [
       "<div>\n",
       "<style scoped>\n",
       "    .dataframe tbody tr th:only-of-type {\n",
       "        vertical-align: middle;\n",
       "    }\n",
       "\n",
       "    .dataframe tbody tr th {\n",
       "        vertical-align: top;\n",
       "    }\n",
       "\n",
       "    .dataframe thead th {\n",
       "        text-align: right;\n",
       "    }\n",
       "</style>\n",
       "<table border=\"1\" class=\"dataframe\">\n",
       "  <thead>\n",
       "    <tr style=\"text-align: right;\">\n",
       "      <th></th>\n",
       "      <th>glob_cellID</th>\n",
       "      <th>cell_line</th>\n",
       "      <th>treatment</th>\n",
       "      <th>time</th>\n",
       "      <th>cellID</th>\n",
       "      <th>fileID</th>\n",
       "      <th>p.ERK</th>\n",
       "      <th>p.Akt.Ser473.</th>\n",
       "      <th>p.S6</th>\n",
       "      <th>p.HER2</th>\n",
       "      <th>p.PLCg2</th>\n",
       "    </tr>\n",
       "  </thead>\n",
       "  <tbody>\n",
       "  </tbody>\n",
       "</table>\n",
       "</div>"
      ],
      "text/plain": [
       "Empty DataFrame\n",
       "Columns: [glob_cellID, cell_line, treatment, time, cellID, fileID, p.ERK, p.Akt.Ser473., p.S6, p.HER2, p.PLCg2]\n",
       "Index: []"
      ]
     },
     "execution_count": 57,
     "metadata": {},
     "output_type": "execute_result"
    }
   ],
   "source": [
    "sc1_test_set[sc1_test_set[\"cell_line\"]==13]"
   ]
  },
  {
   "cell_type": "code",
   "execution_count": null,
   "id": "1abe5834",
   "metadata": {},
   "outputs": [],
   "source": []
  }
 ],
 "metadata": {
  "kernelspec": {
   "display_name": "Python 3 (ipykernel)",
   "language": "python",
   "name": "python3"
  },
  "language_info": {
   "codemirror_mode": {
    "name": "ipython",
    "version": 3
   },
   "file_extension": ".py",
   "mimetype": "text/x-python",
   "name": "python",
   "nbconvert_exporter": "python",
   "pygments_lexer": "ipython3",
   "version": "3.9.16"
  }
 },
 "nbformat": 4,
 "nbformat_minor": 5
}
