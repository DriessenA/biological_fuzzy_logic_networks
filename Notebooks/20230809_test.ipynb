{
 "cells": [
  {
   "cell_type": "code",
   "execution_count": 1,
   "id": "6fd030e3",
   "metadata": {},
   "outputs": [
    {
     "name": "stderr",
     "output_type": "stream",
     "text": [
      "/dccstor/ipc1/.conda/envs/biofuzznet2/lib/python3.9/site-packages/tqdm/auto.py:22: TqdmWarning: IProgress not found. Please update jupyter and ipywidgets. See https://ipywidgets.readthedocs.io/en/stable/user_install.html\n",
      "  from .autonotebook import tqdm as notebook_tqdm\n"
     ]
    }
   ],
   "source": [
    "from biological_fuzzy_logic_networks.DREAM_analysis.utils import (cl_data_to_input, \n",
    "                                                                  prepare_cell_line_data, \n",
    "                                                                  create_bfz)\n",
    "\n",
    "import json\n",
    "import pandas as pd"
   ]
  },
  {
   "cell_type": "code",
   "execution_count": 4,
   "id": "579310f5",
   "metadata": {},
   "outputs": [],
   "source": [
    "with open(\"/dccstor/ipc1/CAR/DREAM/Model/Test/Subnetwork/Configs/0_1_config.json\", \"rb\") as f:\n",
    "    config = json.load(f)"
   ]
  },
  {
   "cell_type": "code",
   "execution_count": 6,
   "id": "92edf70c",
   "metadata": {},
   "outputs": [
    {
     "data": {
      "text/plain": [
       "dict_keys(['pkn_sif', 'network_class', 'data_file', 'output_dir', 'time_point', 'non_marker_cols', 'treatment_col_name', 'minmaxscale', 'add_root_values', 'root_nodes', 'input_value', 'train_treatments', 'valid_treatments', 'train_cell_lines', 'valid_cell_lines', 'convergence_check', 'replace_zero_inputs', 'inhibition_value', 'learning_rate', 'n_epochs', 'batch_size', 'tensors_to_cuda', 'checkpoint_path', 'experiment_name', 'optimizer', 'cell_lines', 'test_cell_lines', 'param_setting'])"
      ]
     },
     "execution_count": 6,
     "metadata": {},
     "output_type": "execute_result"
    }
   ],
   "source": [
    "config.keys()"
   ]
  },
  {
   "cell_type": "code",
   "execution_count": 8,
   "id": "73a13fbb",
   "metadata": {},
   "outputs": [
    {
     "data": {
      "text/plain": [
       "['/dccstor/ipc1/CAR/DREAM/DREAMdata/Time_aligned_per_cell_line/BT20.csv',\n",
       " '/dccstor/ipc1/CAR/DREAM/DREAMdata/Time_aligned_per_cell_line/BT474.csv',\n",
       " '/dccstor/ipc1/CAR/DREAM/DREAMdata/Time_aligned_per_cell_line/BT549.csv',\n",
       " '/dccstor/ipc1/CAR/DREAM/DREAMdata/Time_aligned_per_cell_line/CAL148.csv',\n",
       " '/dccstor/ipc1/CAR/DREAM/DREAMdata/Time_aligned_per_cell_line/CAL51.csv',\n",
       " '/dccstor/ipc1/CAR/DREAM/DREAMdata/Time_aligned_per_cell_line/CAL851.csv',\n",
       " '/dccstor/ipc1/CAR/DREAM/DREAMdata/Time_aligned_per_cell_line/DU4475.csv',\n",
       " '/dccstor/ipc1/CAR/DREAM/DREAMdata/Time_aligned_per_cell_line/EFM192A.csv',\n",
       " '/dccstor/ipc1/CAR/DREAM/DREAMdata/Time_aligned_per_cell_line/EVSAT.csv',\n",
       " '/dccstor/ipc1/CAR/DREAM/DREAMdata/Time_aligned_per_cell_line/HBL100.csv',\n",
       " '/dccstor/ipc1/CAR/DREAM/DREAMdata/Time_aligned_per_cell_line/HCC1187.csv',\n",
       " '/dccstor/ipc1/CAR/DREAM/DREAMdata/Time_aligned_per_cell_line/HCC1395.csv',\n",
       " '/dccstor/ipc1/CAR/DREAM/DREAMdata/Time_aligned_per_cell_line/HCC1419.csv',\n",
       " '/dccstor/ipc1/CAR/DREAM/DREAMdata/Time_aligned_per_cell_line/HCC1500.csv',\n",
       " '/dccstor/ipc1/CAR/DREAM/DREAMdata/Time_aligned_per_cell_line/HCC1569.csv',\n",
       " '/dccstor/ipc1/CAR/DREAM/DREAMdata/Time_aligned_per_cell_line/HCC1599.csv',\n",
       " '/dccstor/ipc1/CAR/DREAM/DREAMdata/Time_aligned_per_cell_line/HCC1937.csv',\n",
       " '/dccstor/ipc1/CAR/DREAM/DREAMdata/Time_aligned_per_cell_line/HCC1954.csv',\n",
       " '/dccstor/ipc1/CAR/DREAM/DREAMdata/Time_aligned_per_cell_line/HCC2185.csv',\n",
       " '/dccstor/ipc1/CAR/DREAM/DREAMdata/Time_aligned_per_cell_line/HCC3153.csv',\n",
       " '/dccstor/ipc1/CAR/DREAM/DREAMdata/Time_aligned_per_cell_line/HCC38.csv',\n",
       " '/dccstor/ipc1/CAR/DREAM/DREAMdata/Time_aligned_per_cell_line/HCC70.csv',\n",
       " '/dccstor/ipc1/CAR/DREAM/DREAMdata/Time_aligned_per_cell_line/HDQP1.csv',\n",
       " '/dccstor/ipc1/CAR/DREAM/DREAMdata/Time_aligned_per_cell_line/JIMT1.csv',\n",
       " '/dccstor/ipc1/CAR/DREAM/DREAMdata/Time_aligned_per_cell_line/MCF7.csv',\n",
       " '/dccstor/ipc1/CAR/DREAM/DREAMdata/Time_aligned_per_cell_line/MDAMB134VI.csv',\n",
       " '/dccstor/ipc1/CAR/DREAM/DREAMdata/Time_aligned_per_cell_line/MDAMB157.csv',\n",
       " '/dccstor/ipc1/CAR/DREAM/DREAMdata/Time_aligned_per_cell_line/MDAMB175VII.csv',\n",
       " '/dccstor/ipc1/CAR/DREAM/DREAMdata/Time_aligned_per_cell_line/MDAMB361.csv',\n",
       " '/dccstor/ipc1/CAR/DREAM/DREAMdata/Time_aligned_per_cell_line/MDAMB415.csv',\n",
       " '/dccstor/ipc1/CAR/DREAM/DREAMdata/Time_aligned_per_cell_line/MDAMB453.csv',\n",
       " '/dccstor/ipc1/CAR/DREAM/DREAMdata/Time_aligned_per_cell_line/MFM223.csv',\n",
       " '/dccstor/ipc1/CAR/DREAM/DREAMdata/Time_aligned_per_cell_line/MPE600.csv',\n",
       " '/dccstor/ipc1/CAR/DREAM/DREAMdata/Time_aligned_per_cell_line/MX1.csv',\n",
       " '/dccstor/ipc1/CAR/DREAM/DREAMdata/Time_aligned_per_cell_line/OCUBM.csv',\n",
       " '/dccstor/ipc1/CAR/DREAM/DREAMdata/Time_aligned_per_cell_line/T47D.csv',\n",
       " '/dccstor/ipc1/CAR/DREAM/DREAMdata/Time_aligned_per_cell_line/UACC812.csv',\n",
       " '/dccstor/ipc1/CAR/DREAM/DREAMdata/Time_aligned_per_cell_line/UACC893.csv',\n",
       " '/dccstor/ipc1/CAR/DREAM/DREAMdata/Time_aligned_per_cell_line/ZR7530.csv']"
      ]
     },
     "execution_count": 8,
     "metadata": {},
     "output_type": "execute_result"
    }
   ],
   "source": [
    "config[\"data_file\"]"
   ]
  },
  {
   "cell_type": "code",
   "execution_count": 10,
   "id": "d0ce0d0e",
   "metadata": {},
   "outputs": [
    {
     "name": "stdout",
     "output_type": "stream",
     "text": [
      "['BT20' 'BT474' 'BT549' 'CAL148' 'CAL51' 'CAL851' 'DU4475' 'EFM192A'\n",
      " 'EVSAT' 'HBL100' 'HCC1187' 'HCC1395' 'HCC1419' 'HCC1500' 'HCC1569'\n",
      " 'HCC1599' 'HCC1937' 'HCC1954' 'HCC2185' 'HCC3153' 'HCC38' 'HCC70' 'HDQP1'\n",
      " 'JIMT1' 'MCF7' 'MDAMB134VI' 'MDAMB157' 'MDAMB175VII' 'MDAMB361'\n",
      " 'MDAMB415' 'MDAMB453' 'MFM223' 'MPE600' 'MX1' 'OCUBM' 'T47D' 'UACC812'\n",
      " 'UACC893' 'ZR7530']\n"
     ]
    }
   ],
   "source": [
    "cl_data = prepare_cell_line_data(\n",
    "        data_file          = config[\"data_file\"],\n",
    "        time_point         = config[\"time_point\"],\n",
    "        non_marker_cols    = config[\"non_marker_cols\"],\n",
    "        treatment_col_name = config[\"treatment_col_name\"])\n"
   ]
  },
  {
   "cell_type": "code",
   "execution_count": 12,
   "id": "9d9960de",
   "metadata": {},
   "outputs": [],
   "source": [
    "model = create_bfz(config[\"pkn_sif\"], config[\"network_class\"])"
   ]
  },
  {
   "cell_type": "code",
   "execution_count": 13,
   "id": "b050539d",
   "metadata": {},
   "outputs": [
    {
     "name": "stdout",
     "output_type": "stream",
     "text": [
      "Splitting based on validation cell line(s)\n"
     ]
    },
    {
     "name": "stderr",
     "output_type": "stream",
     "text": [
      "/u/adr/Code/biological_fuzzy_logic_networks/biological_fuzzy_logic_networks/DREAM_analysis/utils.py:247: SettingWithCopyWarning: \n",
      "A value is trying to be set on a copy of a slice from a DataFrame.\n",
      "Try using .loc[row_indexer,col_indexer] = value instead\n",
      "\n",
      "See the caveats in the documentation: https://pandas.pydata.org/pandas-docs/stable/user_guide/indexing.html#returning-a-view-versus-a-copy\n",
      "  train[markers] = scaler.transform(train[markers])\n",
      "/u/adr/Code/biological_fuzzy_logic_networks/biological_fuzzy_logic_networks/DREAM_analysis/utils.py:249: SettingWithCopyWarning: \n",
      "A value is trying to be set on a copy of a slice from a DataFrame.\n",
      "Try using .loc[row_indexer,col_indexer] = value instead\n",
      "\n",
      "See the caveats in the documentation: https://pandas.pydata.org/pandas-docs/stable/user_guide/indexing.html#returning-a-view-versus-a-copy\n",
      "  valid[markers] = scaler.transform(valid[markers])\n",
      "/u/adr/Code/biological_fuzzy_logic_networks/biological_fuzzy_logic_networks/DREAM_analysis/utils.py:251: SettingWithCopyWarning: \n",
      "A value is trying to be set on a copy of a slice from a DataFrame.\n",
      "Try using .loc[row_indexer,col_indexer] = value instead\n",
      "\n",
      "See the caveats in the documentation: https://pandas.pydata.org/pandas-docs/stable/user_guide/indexing.html#returning-a-view-versus-a-copy\n",
      "  t[t < 0] = 0\n",
      "/u/adr/Code/biological_fuzzy_logic_networks/biological_fuzzy_logic_networks/DREAM_analysis/utils.py:251: SettingWithCopyWarning: \n",
      "A value is trying to be set on a copy of a slice from a DataFrame\n",
      "\n",
      "See the caveats in the documentation: https://pandas.pydata.org/pandas-docs/stable/user_guide/indexing.html#returning-a-view-versus-a-copy\n",
      "  t[t < 0] = 0\n",
      "/u/adr/Code/biological_fuzzy_logic_networks/biological_fuzzy_logic_networks/DREAM_analysis/utils.py:252: SettingWithCopyWarning: \n",
      "A value is trying to be set on a copy of a slice from a DataFrame.\n",
      "Try using .loc[row_indexer,col_indexer] = value instead\n",
      "\n",
      "See the caveats in the documentation: https://pandas.pydata.org/pandas-docs/stable/user_guide/indexing.html#returning-a-view-versus-a-copy\n",
      "  valid[markers] = t\n",
      "/u/adr/Code/biological_fuzzy_logic_networks/biological_fuzzy_logic_networks/DREAM_analysis/utils.py:269: SettingWithCopyWarning: \n",
      "A value is trying to be set on a copy of a slice from a DataFrame.\n",
      "Try using .loc[row_indexer,col_indexer] = value instead\n",
      "\n",
      "See the caveats in the documentation: https://pandas.pydata.org/pandas-docs/stable/user_guide/indexing.html#returning-a-view-versus-a-copy\n",
      "  train.loc[:, root_nodes] = input_value\n",
      "/u/adr/Code/biological_fuzzy_logic_networks/biological_fuzzy_logic_networks/DREAM_analysis/utils.py:271: SettingWithCopyWarning: \n",
      "A value is trying to be set on a copy of a slice from a DataFrame.\n",
      "Try using .loc[row_indexer,col_indexer] = value instead\n",
      "\n",
      "See the caveats in the documentation: https://pandas.pydata.org/pandas-docs/stable/user_guide/indexing.html#returning-a-view-versus-a-copy\n",
      "  valid.loc[:, root_nodes] = input_value\n",
      "/u/adr/Code/biological_fuzzy_logic_networks/biological_fuzzy_logic_networks/DREAM_analysis/utils.py:275: SettingWithCopyWarning: \n",
      "A value is trying to be set on a copy of a slice from a DataFrame.\n",
      "Try using .loc[row_indexer,col_indexer] = value instead\n",
      "\n",
      "See the caveats in the documentation: https://pandas.pydata.org/pandas-docs/stable/user_guide/indexing.html#returning-a-view-versus-a-copy\n",
      "  train.loc[train[node] == 0, node] = replace_value\n",
      "/u/adr/Code/biological_fuzzy_logic_networks/biological_fuzzy_logic_networks/DREAM_analysis/utils.py:292: SettingWithCopyWarning: \n",
      "A value is trying to be set on a copy of a slice from a DataFrame.\n",
      "Try using .loc[row_indexer,col_indexer] = value instead\n",
      "\n",
      "See the caveats in the documentation: https://pandas.pydata.org/pandas-docs/stable/user_guide/indexing.html#returning-a-view-versus-a-copy\n",
      "  valid.loc[valid[node] == 0, node] = replace_value\n"
     ]
    }
   ],
   "source": [
    "(\n",
    "        train_data,\n",
    "        valid_data,\n",
    "        train_inhibitors,\n",
    "        valid_inhibitors,\n",
    "        train_input,\n",
    "        valid_input,\n",
    "        train,\n",
    "        valid,\n",
    "        scaler,\n",
    "    ) = cl_data_to_input(\n",
    "        data               = cl_data,\n",
    "        model              = model,\n",
    "        train_treatments   = config[\"train_treatments\"],\n",
    "        valid_treatments   = config[\"valid_treatments\"],\n",
    "        train_cell_lines   = config[\"train_cell_lines\"],\n",
    "        valid_cell_lines   = config[\"valid_cell_lines\"],\n",
    "        inhibition_value   = config[\"inhibition_value\"],\n",
    "        minmaxscale        = config[\"minmaxscale\"],\n",
    "        add_root_values    = config[\"add_root_values\"],\n",
    "        input_value        = config[\"input_value\"],\n",
    "        root_nodes         = config[\"root_nodes\"],\n",
    "        replace_zero_inputs= config[\"replace_zero_inputs\"],\n",
    "        balance_data       = True,\n",
    "    )"
   ]
  },
  {
   "cell_type": "code",
   "execution_count": 22,
   "id": "4c0ac0b2",
   "metadata": {},
   "outputs": [
    {
     "data": {
      "text/plain": [
       "0"
      ]
     },
     "execution_count": 22,
     "metadata": {},
     "output_type": "execute_result"
    }
   ],
   "source": [
    "sum(train.groupby([\"treatment\", \"cell_line\", \"time\"]).size() != 500)"
   ]
  },
  {
   "cell_type": "code",
   "execution_count": 24,
   "id": "a67b7a8d",
   "metadata": {},
   "outputs": [
    {
     "name": "stdout",
     "output_type": "stream",
     "text": [
      "['AU565' 'EFM19' 'HCC2218' 'LY2' 'MACLS2' 'MDAMB436']\n"
     ]
    },
    {
     "name": "stderr",
     "output_type": "stream",
     "text": [
      "/u/adr/Code/biological_fuzzy_logic_networks/biological_fuzzy_logic_networks/DREAM_analysis/utils.py:259: SettingWithCopyWarning: \n",
      "A value is trying to be set on a copy of a slice from a DataFrame.\n",
      "Try using .loc[row_indexer,col_indexer] = value instead\n",
      "\n",
      "See the caveats in the documentation: https://pandas.pydata.org/pandas-docs/stable/user_guide/indexing.html#returning-a-view-versus-a-copy\n",
      "  t[t < 0] = 0\n",
      "/u/adr/Code/biological_fuzzy_logic_networks/biological_fuzzy_logic_networks/DREAM_analysis/utils.py:259: SettingWithCopyWarning: \n",
      "A value is trying to be set on a copy of a slice from a DataFrame\n",
      "\n",
      "See the caveats in the documentation: https://pandas.pydata.org/pandas-docs/stable/user_guide/indexing.html#returning-a-view-versus-a-copy\n",
      "  t[t < 0] = 0\n"
     ]
    }
   ],
   "source": [
    "cl_data = prepare_cell_line_data(\n",
    "        data_file          = config[\"test_cell_lines\"],\n",
    "        time_poin          = config[\"time_point\"],\n",
    "        non_marker_cols    = config[\"non_marker_cols\"],\n",
    "        treatment_col_name = config[\"treatment_col_name\"],\n",
    "    )\n",
    "\n",
    "(test_data, test_inhibitors, test_input, test, scaler) = cl_data_to_input(\n",
    "    data               =cl_data,\n",
    "    model              =model,\n",
    "    train_treatments   =config[\"train_treatments\"],\n",
    "    valid_treatments   =config[\"valid_treatments\"],\n",
    "    train_cell_lines   =config[\"train_cell_lines\"],\n",
    "    valid_cell_lines   =config[\"valid_cell_lines\"],\n",
    "    inhibition_value   =config[\"inhibition_value\"],\n",
    "    minmaxscale        =scaler,\n",
    "    add_root_values    =config[\"add_root_values\"],\n",
    "    input_value        =config[\"input_value\"],\n",
    "    root_nodes         =config[\"root_nodes\"],\n",
    "    do_split           =False,\n",
    "    replace_zero_inputs=config[\"replace_zero_inputs\"],\n",
    "    balance_data       =False,\n",
    ")"
   ]
  },
  {
   "cell_type": "code",
   "execution_count": 26,
   "id": "8b0af3ac",
   "metadata": {},
   "outputs": [
    {
     "data": {
      "text/plain": [
       "treatment  cell_line  time\n",
       "EGF        AU565      9.0     25647\n",
       "           EFM19      9.0     18818\n",
       "           HCC2218    9.0      5315\n",
       "           LY2        9.0      8963\n",
       "           MACLS2     9.0     17118\n",
       "           MDAMB436   9.0     38567\n",
       "iEGFR      AU565      9.0     10113\n",
       "           EFM19      9.0     10928\n",
       "           HCC2218    9.0      2104\n",
       "           LY2        9.0      5275\n",
       "           MACLS2     9.0     12531\n",
       "           MDAMB436   9.0     23418\n",
       "iMEK       AU565      9.0      9720\n",
       "           EFM19      9.0      7305\n",
       "           HCC2218    9.0      2646\n",
       "           LY2        9.0      3018\n",
       "           MACLS2     9.0      6105\n",
       "           MDAMB436   9.0     10374\n",
       "iPI3K      AU565      9.0     10331\n",
       "           EFM19      9.0      8536\n",
       "           HCC2218    9.0      2858\n",
       "           LY2        9.0      3045\n",
       "           MACLS2     9.0     12663\n",
       "           MDAMB436   9.0     16088\n",
       "iPKC       AU565      9.0      8176\n",
       "           EFM19      9.0     12693\n",
       "           HCC2218    9.0      2568\n",
       "           LY2        9.0      3227\n",
       "           MACLS2     9.0      9253\n",
       "           MDAMB436   9.0     12904\n",
       "dtype: int64"
      ]
     },
     "execution_count": 26,
     "metadata": {},
     "output_type": "execute_result"
    }
   ],
   "source": [
    "test.groupby([\"treatment\", \"cell_line\", \"time\"]).size()"
   ]
  },
  {
   "cell_type": "code",
   "execution_count": 4,
   "id": "f5e24e60",
   "metadata": {},
   "outputs": [],
   "source": [
    "import os"
   ]
  },
  {
   "cell_type": "code",
   "execution_count": null,
   "id": "d96052f8",
   "metadata": {},
   "outputs": [],
   "source": [
    "dir_ = \"/dccstor/ipc1/CAR/DREAM/DREAMdata/Time_aligned_per_cell_line/CL_incl_test/\"\n",
    "file_list = os.listdir(dir_)\n",
    "for cl in file_list:\n",
    "    cl_data = pd.read_csv(os.path.join(dir_, cl))\n",
    "    cl_data = cl_data[cl_data[\"time\"]==9]\n",
    "    print(cl, sum(cl_data.groupby([\"cell_line\", \"treatment\", \"time\"]).size()<500))\n",
    "    "
   ]
  },
  {
   "cell_type": "code",
   "execution_count": null,
   "id": "aaa68787",
   "metadata": {},
   "outputs": [],
   "source": [
    "[\"HCC1143\", \"CAMA1\", \"CAL120\", \"ZR75B\", \"KLP1\"]"
   ]
  },
  {
   "cell_type": "code",
   "execution_count": 6,
   "id": "553a0b50",
   "metadata": {},
   "outputs": [
    {
     "name": "stdout",
     "output_type": "stream",
     "text": [
      "CAMA1 5\n"
     ]
    }
   ],
   "source": [
    "cl_data = pd.read_csv(os.path.join(dir_, \"CAMA1.csv\"))\n",
    "cl_data = cl_data[cl_data[\"time\"]==9]\n",
    "print(\"CAMA1\", sum(cl_data.groupby([\"cell_line\", \"treatment\", \"time\"]).size()<500))"
   ]
  },
  {
   "cell_type": "code",
   "execution_count": 7,
   "id": "4d3c9200",
   "metadata": {},
   "outputs": [
    {
     "data": {
      "text/plain": [
       "array(['EGF', 'iEGFR', 'iMEK', 'iPI3K', 'iPKC'], dtype=object)"
      ]
     },
     "execution_count": 7,
     "metadata": {},
     "output_type": "execute_result"
    }
   ],
   "source": [
    "cl_data[\"treatment\"].unique()"
   ]
  },
  {
   "cell_type": "code",
   "execution_count": 8,
   "id": "616cac5d",
   "metadata": {},
   "outputs": [
    {
     "data": {
      "text/html": [
       "<div>\n",
       "<style scoped>\n",
       "    .dataframe tbody tr th:only-of-type {\n",
       "        vertical-align: middle;\n",
       "    }\n",
       "\n",
       "    .dataframe tbody tr th {\n",
       "        vertical-align: top;\n",
       "    }\n",
       "\n",
       "    .dataframe thead th {\n",
       "        text-align: right;\n",
       "    }\n",
       "</style>\n",
       "<table border=\"1\" class=\"dataframe\">\n",
       "  <thead>\n",
       "    <tr style=\"text-align: right;\">\n",
       "      <th></th>\n",
       "      <th>treatment</th>\n",
       "      <th>cell_line</th>\n",
       "      <th>time</th>\n",
       "      <th>cellID</th>\n",
       "      <th>fileID</th>\n",
       "      <th>b.CATENIN</th>\n",
       "      <th>cleavedCas</th>\n",
       "      <th>CyclinB</th>\n",
       "      <th>GAPDH</th>\n",
       "      <th>IdU</th>\n",
       "      <th>...</th>\n",
       "      <th>p.PLCg2</th>\n",
       "      <th>p.RB</th>\n",
       "      <th>p.S6</th>\n",
       "      <th>p.S6K</th>\n",
       "      <th>p.SMAD23</th>\n",
       "      <th>p.SRC</th>\n",
       "      <th>p.STAT1</th>\n",
       "      <th>p.STAT3</th>\n",
       "      <th>p.STAT5</th>\n",
       "      <th>time_course</th>\n",
       "    </tr>\n",
       "  </thead>\n",
       "  <tbody>\n",
       "    <tr>\n",
       "      <th>19364</th>\n",
       "      <td>EGF</td>\n",
       "      <td>CAMA1</td>\n",
       "      <td>9.0</td>\n",
       "      <td>NaN</td>\n",
       "      <td>NaN</td>\n",
       "      <td>0.694251</td>\n",
       "      <td>2.004234</td>\n",
       "      <td>1.660828</td>\n",
       "      <td>2.572215</td>\n",
       "      <td>5.394875</td>\n",
       "      <td>...</td>\n",
       "      <td>NaN</td>\n",
       "      <td>3.321990</td>\n",
       "      <td>6.487628</td>\n",
       "      <td>1.668715</td>\n",
       "      <td>1.513456</td>\n",
       "      <td>1.662458</td>\n",
       "      <td>2.774303</td>\n",
       "      <td>1.145099</td>\n",
       "      <td>2.295443</td>\n",
       "      <td>NaN</td>\n",
       "    </tr>\n",
       "    <tr>\n",
       "      <th>19373</th>\n",
       "      <td>iEGFR</td>\n",
       "      <td>CAMA1</td>\n",
       "      <td>9.0</td>\n",
       "      <td>NaN</td>\n",
       "      <td>NaN</td>\n",
       "      <td>0.693153</td>\n",
       "      <td>2.181992</td>\n",
       "      <td>1.767259</td>\n",
       "      <td>2.412667</td>\n",
       "      <td>5.308749</td>\n",
       "      <td>...</td>\n",
       "      <td>NaN</td>\n",
       "      <td>3.393616</td>\n",
       "      <td>5.501957</td>\n",
       "      <td>1.705777</td>\n",
       "      <td>1.716499</td>\n",
       "      <td>1.832393</td>\n",
       "      <td>2.881469</td>\n",
       "      <td>1.146622</td>\n",
       "      <td>2.386872</td>\n",
       "      <td>NaN</td>\n",
       "    </tr>\n",
       "    <tr>\n",
       "      <th>19380</th>\n",
       "      <td>iMEK</td>\n",
       "      <td>CAMA1</td>\n",
       "      <td>9.0</td>\n",
       "      <td>NaN</td>\n",
       "      <td>NaN</td>\n",
       "      <td>0.731537</td>\n",
       "      <td>2.122155</td>\n",
       "      <td>1.782424</td>\n",
       "      <td>2.530171</td>\n",
       "      <td>5.475270</td>\n",
       "      <td>...</td>\n",
       "      <td>NaN</td>\n",
       "      <td>3.313120</td>\n",
       "      <td>5.525886</td>\n",
       "      <td>1.582884</td>\n",
       "      <td>1.684214</td>\n",
       "      <td>1.776345</td>\n",
       "      <td>2.863942</td>\n",
       "      <td>1.168501</td>\n",
       "      <td>2.390372</td>\n",
       "      <td>NaN</td>\n",
       "    </tr>\n",
       "    <tr>\n",
       "      <th>19387</th>\n",
       "      <td>iPI3K</td>\n",
       "      <td>CAMA1</td>\n",
       "      <td>9.0</td>\n",
       "      <td>NaN</td>\n",
       "      <td>NaN</td>\n",
       "      <td>0.649177</td>\n",
       "      <td>2.037379</td>\n",
       "      <td>1.693821</td>\n",
       "      <td>2.433710</td>\n",
       "      <td>5.322280</td>\n",
       "      <td>...</td>\n",
       "      <td>NaN</td>\n",
       "      <td>3.373682</td>\n",
       "      <td>5.521432</td>\n",
       "      <td>1.656749</td>\n",
       "      <td>1.558479</td>\n",
       "      <td>1.691948</td>\n",
       "      <td>2.801347</td>\n",
       "      <td>1.114451</td>\n",
       "      <td>2.303689</td>\n",
       "      <td>NaN</td>\n",
       "    </tr>\n",
       "    <tr>\n",
       "      <th>19394</th>\n",
       "      <td>iPKC</td>\n",
       "      <td>CAMA1</td>\n",
       "      <td>9.0</td>\n",
       "      <td>NaN</td>\n",
       "      <td>NaN</td>\n",
       "      <td>0.762445</td>\n",
       "      <td>2.115859</td>\n",
       "      <td>1.774404</td>\n",
       "      <td>2.677387</td>\n",
       "      <td>5.307487</td>\n",
       "      <td>...</td>\n",
       "      <td>NaN</td>\n",
       "      <td>3.271681</td>\n",
       "      <td>5.282989</td>\n",
       "      <td>1.831079</td>\n",
       "      <td>1.726905</td>\n",
       "      <td>1.820804</td>\n",
       "      <td>2.928320</td>\n",
       "      <td>1.228058</td>\n",
       "      <td>2.444894</td>\n",
       "      <td>NaN</td>\n",
       "    </tr>\n",
       "  </tbody>\n",
       "</table>\n",
       "<p>5 rows × 43 columns</p>\n",
       "</div>"
      ],
      "text/plain": [
       "      treatment cell_line  time  cellID  fileID  b.CATENIN  cleavedCas  \\\n",
       "19364       EGF     CAMA1   9.0     NaN     NaN   0.694251    2.004234   \n",
       "19373     iEGFR     CAMA1   9.0     NaN     NaN   0.693153    2.181992   \n",
       "19380      iMEK     CAMA1   9.0     NaN     NaN   0.731537    2.122155   \n",
       "19387     iPI3K     CAMA1   9.0     NaN     NaN   0.649177    2.037379   \n",
       "19394      iPKC     CAMA1   9.0     NaN     NaN   0.762445    2.115859   \n",
       "\n",
       "        CyclinB     GAPDH       IdU  ...  p.PLCg2      p.RB      p.S6  \\\n",
       "19364  1.660828  2.572215  5.394875  ...      NaN  3.321990  6.487628   \n",
       "19373  1.767259  2.412667  5.308749  ...      NaN  3.393616  5.501957   \n",
       "19380  1.782424  2.530171  5.475270  ...      NaN  3.313120  5.525886   \n",
       "19387  1.693821  2.433710  5.322280  ...      NaN  3.373682  5.521432   \n",
       "19394  1.774404  2.677387  5.307487  ...      NaN  3.271681  5.282989   \n",
       "\n",
       "          p.S6K  p.SMAD23     p.SRC   p.STAT1   p.STAT3   p.STAT5  time_course  \n",
       "19364  1.668715  1.513456  1.662458  2.774303  1.145099  2.295443          NaN  \n",
       "19373  1.705777  1.716499  1.832393  2.881469  1.146622  2.386872          NaN  \n",
       "19380  1.582884  1.684214  1.776345  2.863942  1.168501  2.390372          NaN  \n",
       "19387  1.656749  1.558479  1.691948  2.801347  1.114451  2.303689          NaN  \n",
       "19394  1.831079  1.726905  1.820804  2.928320  1.228058  2.444894          NaN  \n",
       "\n",
       "[5 rows x 43 columns]"
      ]
     },
     "execution_count": 8,
     "metadata": {},
     "output_type": "execute_result"
    }
   ],
   "source": [
    "cl_data"
   ]
  },
  {
   "cell_type": "code",
   "execution_count": null,
   "id": "46ca16a6",
   "metadata": {},
   "outputs": [],
   "source": []
  }
 ],
 "metadata": {
  "kernelspec": {
   "display_name": "Python 3 (ipykernel)",
   "language": "python",
   "name": "python3"
  },
  "language_info": {
   "codemirror_mode": {
    "name": "ipython",
    "version": 3
   },
   "file_extension": ".py",
   "mimetype": "text/x-python",
   "name": "python",
   "nbconvert_exporter": "python",
   "pygments_lexer": "ipython3",
   "version": "3.9.13"
  }
 },
 "nbformat": 4,
 "nbformat_minor": 5
}
