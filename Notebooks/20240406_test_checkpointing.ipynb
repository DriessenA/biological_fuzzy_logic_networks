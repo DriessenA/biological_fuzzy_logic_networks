{
 "cells": [
  {
   "cell_type": "code",
   "execution_count": 1,
   "id": "755fe858",
   "metadata": {},
   "outputs": [
    {
     "name": "stderr",
     "output_type": "stream",
     "text": [
      "/dccstor/ipc1/.conda/envs/biofuzznet2/lib/python3.9/site-packages/tqdm/auto.py:22: TqdmWarning: IProgress not found. Please update jupyter and ipywidgets. See https://ipywidgets.readthedocs.io/en/stable/user_install.html\n",
      "  from .autonotebook import tqdm as notebook_tqdm\n"
     ]
    }
   ],
   "source": [
    "from biological_fuzzy_logic_networks.DREAM.DREAMBioFuzzNet import (\n",
    "    DREAMBioFuzzNet,\n",
    "    DREAMBioMixNet,\n",
    ")\n",
    "import biological_fuzzy_logic_networks.utils as utils\n",
    "import torch"
   ]
  },
  {
   "cell_type": "code",
   "execution_count": 2,
   "id": "98d9dd4c",
   "metadata": {},
   "outputs": [],
   "source": [
    "pkn_path = \"/dccstor/ipc1/CAR/BFN/LiverDREAM_PKN.sif\""
   ]
  },
  {
   "cell_type": "code",
   "execution_count": 3,
   "id": "27398518",
   "metadata": {},
   "outputs": [],
   "source": [
    "bfn = DREAMBioFuzzNet.build_DREAMBioFuzzNet_from_file(pkn_path)\n",
    "bmn = DREAMBioMixNet.build_DREAMBioMixNet_from_file(pkn_path)\n"
   ]
  },
  {
   "cell_type": "code",
   "execution_count": 4,
   "id": "c15b0e41",
   "metadata": {},
   "outputs": [],
   "source": [
    "bmn.initialise_random_truth_and_output(\n",
    "        1000, to_cuda=False\n",
    "    )"
   ]
  },
  {
   "cell_type": "code",
   "execution_count": 6,
   "id": "c58ab90b",
   "metadata": {},
   "outputs": [],
   "source": [
    "ckpt, model_gate_dict = bmn.get_checkpoint()"
   ]
  },
  {
   "cell_type": "code",
   "execution_count": 10,
   "id": "e669cc1f",
   "metadata": {},
   "outputs": [],
   "source": [
    "bmn.load_from_checkpoint(ckpt, model_gate_dict)"
   ]
  },
  {
   "cell_type": "markdown",
   "id": "caedae51",
   "metadata": {},
   "source": [
    "# BioFuzzNet"
   ]
  },
  {
   "cell_type": "code",
   "execution_count": 12,
   "id": "28d4e465",
   "metadata": {},
   "outputs": [],
   "source": [
    "bfn.initialise_random_truth_and_output(\n",
    "        1000, to_cuda=False\n",
    "    )"
   ]
  },
  {
   "cell_type": "code",
   "execution_count": 14,
   "id": "f91bc645",
   "metadata": {},
   "outputs": [],
   "source": [
    "ckpt = bfn.get_checkpoint()"
   ]
  },
  {
   "cell_type": "code",
   "execution_count": 15,
   "id": "000934c5",
   "metadata": {},
   "outputs": [],
   "source": [
    "bfn.load_from_checkpoint(ckpt)"
   ]
  },
  {
   "cell_type": "code",
   "execution_count": null,
   "id": "6261f812",
   "metadata": {},
   "outputs": [],
   "source": []
  }
 ],
 "metadata": {
  "kernelspec": {
   "display_name": "Python 3 (ipykernel)",
   "language": "python",
   "name": "python3"
  },
  "language_info": {
   "codemirror_mode": {
    "name": "ipython",
    "version": 3
   },
   "file_extension": ".py",
   "mimetype": "text/x-python",
   "name": "python",
   "nbconvert_exporter": "python",
   "pygments_lexer": "ipython3",
   "version": "3.9.13"
  }
 },
 "nbformat": 4,
 "nbformat_minor": 5
}
