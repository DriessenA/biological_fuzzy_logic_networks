{
 "cells": [
  {
   "cell_type": "code",
   "execution_count": 1,
   "id": "db201131-b778-40f4-b994-91114a81c871",
   "metadata": {},
   "outputs": [
    {
     "name": "stderr",
     "output_type": "stream",
     "text": [
      "/dccstor/ipc1/.conda/envs/biofuzznet2/lib/python3.9/site-packages/tqdm/auto.py:22: TqdmWarning: IProgress not found. Please update jupyter and ipywidgets. See https://ipywidgets.readthedocs.io/en/stable/user_install.html\n",
      "  from .autonotebook import tqdm as notebook_tqdm\n"
     ]
    }
   ],
   "source": [
    "from biological_fuzzy_logic_networks.DREAM_analysis.utils import create_bfz"
   ]
  },
  {
   "cell_type": "code",
   "execution_count": 54,
   "id": "591ba460-c490-4987-ab69-3226d6940aae",
   "metadata": {},
   "outputs": [],
   "source": [
    "all_nodes = ['MKK4',\n",
    "              'AKT',\n",
    "              'p38',\n",
    "              'CREB',\n",
    "              'STAT3',\n",
    "              'INSR',\n",
    "              'p70S6K',\n",
    "              'EGFR',\n",
    "              'PTEN',\n",
    "              'PIP3',\n",
    "              'STAT5',\n",
    "              'GSK3B',\n",
    "              'PLCg2',\n",
    "              'FAK',\n",
    "              'PAK',\n",
    "              'SERUM',\n",
    "              'MAP3Ks',\n",
    "              'mTOR',\n",
    "              'ERK12',\n",
    "              'RAF',\n",
    "              'RB',\n",
    "              'H3',\n",
    "              'SMAD23',\n",
    "              'RAS',\n",
    "              'SRC',\n",
    "              'MKK36',\n",
    "              'RAF_S259',\n",
    "              'MET',\n",
    "              'p53',\n",
    "              'PDPK1',\n",
    "              'AKT_T308',\n",
    "              'MSK12',\n",
    "              'BTK',\n",
    "              'MARCKS',\n",
    "              'S6',\n",
    "              'cAMP',\n",
    "              'EGF',\n",
    "              'AMPK',\n",
    "              'MEK12',\n",
    "              'MAPKAPK2',\n",
    "              'b-catenin',\n",
    "              '4EBP1',\n",
    "              'PI3K',\n",
    "              'SYK',\n",
    "              'JNK',\n",
    "              'MEK12_S221',\n",
    "              'NFkB',\n",
    "              'STAT1',\n",
    "              'AKT_S473',\n",
    "              'p90RSK',\n",
    "              'cleavedCas',\n",
    "              'PKC',\n",
    "              'PKA']"
   ]
  },
  {
   "cell_type": "code",
   "execution_count": 55,
   "id": "8bda788c-30ac-4f1e-a0fb-11ccbba23208",
   "metadata": {},
   "outputs": [],
   "source": [
    "files=[\n",
    "    \"DREAM_PKN_for_BFZ_input.sif\",\n",
    "    \"DREAM_PKN_original.sif\",\n",
    "    \"MEK_FAK_ERK.sif\",\n",
    "    \"PKN_Alice.sif\",\n",
    "    \"PKN_from_paper.sif\",\n",
    "    \"PKN_subnetwork.sif\",\n",
    "    \"prior_knowledge.sif\"\n",
    "]\n",
    "base_dir = \"/dccstor/ipc1/CAR/DREAM/DREAMdata/\""
   ]
  },
  {
   "cell_type": "code",
   "execution_count": 59,
   "id": "bbc8bdf5-c3ff-4d55-b98a-e4d9c01567e1",
   "metadata": {},
   "outputs": [
    {
     "name": "stdout",
     "output_type": "stream",
     "text": [
      "DREAM_PKN_for_BFZ_input.sif\n",
      "[]\n",
      "DREAM_PKN_original.sif\n",
      "[]\n",
      "MEK_FAK_ERK.sif\n",
      "[]\n",
      "PKN_Alice.sif\n",
      "['S6K', 'EGFRFB', 'ERKdm2']\n",
      "PKN_from_paper.sif\n",
      "['S6K', 'and2', 'EGFRFB', 'and4', 'and1', 'and3', 'ERKdm2']\n",
      "PKN_subnetwork.sif\n",
      "['ERKdm2']\n",
      "prior_knowledge.sif\n",
      "[]\n"
     ]
    }
   ],
   "source": [
    "for sif in files:\n",
    "    print(sif)\n",
    "    with open(f\"{base_dir}{sif}\", \"r\") as f:\n",
    "        res = f.readlines()\n",
    "    res = [i.strip() for i in res]\n",
    "    if sif in [\"DREAM_PKN_for_BFZ_input.sif\", \"DREAM_PKN_original.sif\", \"MEK_FAK_ERK.sif\", \"prior_knowledge.sif\"]:\n",
    "        res = [i.split(\"\\t\") for i in res]\n",
    "    else:\n",
    "        res = [i.split(\" \") for i in res]\n",
    "    nodes = list(set([j for i in res for j in i]))\n",
    "    \n",
    "    and_nodes = [n for n in nodes if \"_and_\" in n]\n",
    "    or_nodes = [n for n in nodes if \"_or_\" in n]\n",
    "    interactions = [n for n in nodes if n in [\"1\", \"-1\"]]\n",
    "    bio_nodes = [n for n in nodes if n in all_nodes]\n",
    "\n",
    "    rest = [n for n in nodes if n not in bio_nodes+and_nodes+or_nodes+interactions]\n",
    "\n",
    "    print(rest)"
   ]
  },
  {
   "cell_type": "markdown",
   "id": "295df1c2-140e-4d2d-812f-f802e8a4076a",
   "metadata": {},
   "source": [
    "S6K is the phosphorylated form of S6 and S6K is measured, so it's good to include this.  \\\n",
    "ERKdm2, is the ERK dimer which can be included or omited for simplicity, but this should reflected in the topology \\\n",
    "EGFRFB, I'm not sure at the moment what it is :p \n",
    "\n",
    "\n",
    "PKN_from_paper.sif has incorrect `AND` gates\n",
    "\n"
   ]
  },
  {
   "cell_type": "code",
   "execution_count": null,
   "id": "5bca5441-2d0f-4379-b34b-939ccbc7a521",
   "metadata": {},
   "outputs": [],
   "source": []
  },
  {
   "cell_type": "code",
   "execution_count": null,
   "id": "885df48e-f6e2-41d6-a329-c827679065b5",
   "metadata": {},
   "outputs": [],
   "source": []
  },
  {
   "cell_type": "code",
   "execution_count": null,
   "id": "9f775b5c-a1f4-4390-b3da-081aa18556c9",
   "metadata": {},
   "outputs": [],
   "source": []
  }
 ],
 "metadata": {
  "kernelspec": {
   "display_name": "Python 3 (ipykernel)",
   "language": "python",
   "name": "python3"
  },
  "language_info": {
   "codemirror_mode": {
    "name": "ipython",
    "version": 3
   },
   "file_extension": ".py",
   "mimetype": "text/x-python",
   "name": "python",
   "nbconvert_exporter": "python",
   "pygments_lexer": "ipython3",
   "version": "3.9.13"
  }
 },
 "nbformat": 4,
 "nbformat_minor": 5
}
