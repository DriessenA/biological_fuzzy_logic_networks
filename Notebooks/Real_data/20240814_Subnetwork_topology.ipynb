{
 "cells": [
  {
   "cell_type": "code",
   "execution_count": 1,
   "id": "a603ae48-4aab-46b9-b823-8efb2b4c2d62",
   "metadata": {},
   "outputs": [
    {
     "name": "stderr",
     "output_type": "stream",
     "text": [
      "/dccstor/ipc1/.conda/envs/biofuzznet2/lib/python3.9/site-packages/tqdm/auto.py:22: TqdmWarning: IProgress not found. Please update jupyter and ipywidgets. See https://ipywidgets.readthedocs.io/en/stable/user_install.html\n",
      "  from .autonotebook import tqdm as notebook_tqdm\n"
     ]
    },
    {
     "name": "stdout",
     "output_type": "stream",
     "text": [
      "cpu\n"
     ]
    }
   ],
   "source": [
    "from biological_fuzzy_logic_networks.DREAM_analysis.utils import (\n",
    "    prepare_cell_line_data,\n",
    "    cl_data_to_input,\n",
    ")\n",
    "from biological_fuzzy_logic_networks.DREAM.DREAMBioFuzzNet import DREAMBioFuzzNet\n",
    "# import pandas as pd\n",
    "# from typing import List, Union, Sequence\n",
    "# from sklearn.metrics import r2_score\n",
    "# import mlflow\n",
    "# import click\n",
    "import json\n",
    "# import torch\n",
    "# import pickle as pickle\n",
    "# import os\n",
    "import networkx as nx"
   ]
  },
  {
   "cell_type": "code",
   "execution_count": 2,
   "id": "cf67e467-1fb5-4bf3-8f54-928ab9ef193b",
   "metadata": {},
   "outputs": [],
   "source": [
    "with open(\"/dccstor/ipc1/CAR/DREAM/Model/Test/After_synthetic/MFM223_1/MFM223_config.json\") as f:\n",
    "    config = json.load(f)\n",
    "f.close()\n",
    "config[\"pkn_sif\"] = \"/dccstor/ipc1/CAR/DREAM/DREAMdata/Alice_subnetwork.sif\"\n",
    "del config[\"root_nodes\"]\n",
    "del config[\"add_root_values\"]\n",
    "del config[\"input_value\"]"
   ]
  },
  {
   "cell_type": "code",
   "execution_count": 3,
   "id": "3d6aa667-9dc7-4834-ab42-8cd04ddbdc4b",
   "metadata": {},
   "outputs": [
    {
     "name": "stdout",
     "output_type": "stream",
     "text": [
      "<class 'str'>\n",
      "['MFM223']\n"
     ]
    }
   ],
   "source": [
    "model = DREAMBioFuzzNet.build_DREAMBioFuzzNet_from_file(config[\"pkn_sif\"], n=1.1, K=1)\n",
    "cl_data = prepare_cell_line_data(\n",
    "    data_file=config[\"data_file\"],\n",
    "    time_point=config[\"time_point\"],\n",
    "    non_marker_cols=config[\"non_marker_cols\"],\n",
    "    treatment_col_name=config[\"treatment_col_name\"],\n",
    "    filter_starved_stim=config[\"filter_starved_stim\"],\n",
    "    sample_n_cells=config[\"sample_n_cells\"],\n",
    "    sel_condition=config[\"sel_condition\"],\n",
    ")"
   ]
  },
  {
   "cell_type": "code",
   "execution_count": 4,
   "id": "03c3ffcc-9c3c-42c2-8cce-b144faccb1fe",
   "metadata": {},
   "outputs": [
    {
     "data": {
      "text/plain": [
       "[]"
      ]
     },
     "execution_count": 4,
     "metadata": {},
     "output_type": "execute_result"
    }
   ],
   "source": [
    "sorted(nx.simple_cycles(model))"
   ]
  },
  {
   "cell_type": "code",
   "execution_count": 5,
   "id": "c06ad5ea-fe19-4b72-b615-655ba35946de",
   "metadata": {},
   "outputs": [
    {
     "data": {
      "text/plain": [
       "[('AKT', 'GSK3B'),\n",
       " ('AKT', 'or10'),\n",
       " ('AKT_S473', 'or12'),\n",
       " ('AKT_T308', 'or12'),\n",
       " ('AMPK', 'or2'),\n",
       " ('ERK12', 'MKK36'),\n",
       " ('ERK12', 'or4'),\n",
       " ('ERK12', 'or9'),\n",
       " ('ERK12', 'p90RSK'),\n",
       " ('FAK', 'ERK12'),\n",
       " ('GSK3B', 'or1'),\n",
       " ('MAPKAPK2', 'or11'),\n",
       " ('MKK36', 'or4'),\n",
       " ('MKK36', 'or7'),\n",
       " ('MKK4', 'JNK'),\n",
       " ('MKK4', 'or8'),\n",
       " ('MSK12', 'or6'),\n",
       " ('SMAD23', 'or3'),\n",
       " ('SRC', 'FAK'),\n",
       " ('SRC', 'or7'),\n",
       " ('or1', 'or2'),\n",
       " ('or10', 'or11'),\n",
       " ('or11', 'CREB'),\n",
       " ('or12', 'AKT'),\n",
       " ('or2', 'RB'),\n",
       " ('or3', 'cleavedCas'),\n",
       " ('or4', 'or5'),\n",
       " ('or5', 'MSK12'),\n",
       " ('or6', 'H3'),\n",
       " ('or7', 'or8'),\n",
       " ('or8', 'p38'),\n",
       " ('or9', 'MAPKAPK2'),\n",
       " ('p38', 'or5'),\n",
       " ('p38', 'or9'),\n",
       " ('p38', 'p53'),\n",
       " ('p53', 'or1'),\n",
       " ('p53', 'or3'),\n",
       " ('p90RSK', 'or10'),\n",
       " ('p90RSK', 'or6')]"
      ]
     },
     "execution_count": 5,
     "metadata": {},
     "output_type": "execute_result"
    }
   ],
   "source": [
    "sorted(model.edges)"
   ]
  },
  {
   "cell_type": "code",
   "execution_count": 6,
   "id": "c6dae4e5-12bc-4659-a4fc-dd15aa08b149",
   "metadata": {},
   "outputs": [
    {
     "data": {
      "text/plain": [
       "True"
      ]
     },
     "execution_count": 6,
     "metadata": {},
     "output_type": "execute_result"
    }
   ],
   "source": [
    "nx.is_directed(model) == nx.is_directed_acyclic_graph(model)"
   ]
  },
  {
   "cell_type": "code",
   "execution_count": 7,
   "id": "194f1eba-8f72-4de6-99ec-a3336d5e7ae5",
   "metadata": {},
   "outputs": [
    {
     "data": {
      "text/plain": [
       "False"
      ]
     },
     "execution_count": 7,
     "metadata": {},
     "output_type": "execute_result"
    }
   ],
   "source": [
    "\"EGFR\" in model.nodes # Should be false"
   ]
  },
  {
   "cell_type": "code",
   "execution_count": 8,
   "id": "dbc9d5a4-ab19-4d40-9c91-995724020e82",
   "metadata": {},
   "outputs": [
    {
     "data": {
      "text/plain": [
       "['AMPK', 'SMAD23', 'AKT_S473', 'AKT_T308', 'SRC', 'MKK4']"
      ]
     },
     "execution_count": 8,
     "metadata": {},
     "output_type": "execute_result"
    }
   ],
   "source": [
    "model.root_nodes"
   ]
  },
  {
   "cell_type": "code",
   "execution_count": 9,
   "id": "d24b6466-570b-4ba4-bd15-155817d5d429",
   "metadata": {},
   "outputs": [
    {
     "data": {
      "text/plain": [
       "['p53',\n",
       " 'RB',\n",
       " 'GSK3B',\n",
       " 'AMPK',\n",
       " 'cleavedCas',\n",
       " 'SMAD23',\n",
       " 'ERK12',\n",
       " 'MSK12',\n",
       " 'MKK36',\n",
       " 'H3',\n",
       " 'p90RSK',\n",
       " 'p38',\n",
       " 'MAPKAPK2',\n",
       " 'CREB',\n",
       " 'AKT_S473',\n",
       " 'AKT',\n",
       " 'AKT_T308',\n",
       " 'SRC',\n",
       " 'FAK',\n",
       " 'MKK4',\n",
       " 'JNK']"
      ]
     },
     "execution_count": 9,
     "metadata": {},
     "output_type": "execute_result"
    }
   ],
   "source": [
    "model.biological_nodes"
   ]
  },
  {
   "cell_type": "code",
   "execution_count": 10,
   "id": "5ee2ba6c-1119-4062-b428-9fd3e25436ba",
   "metadata": {},
   "outputs": [
    {
     "name": "stderr",
     "output_type": "stream",
     "text": [
      "/u/adr/Code/biological_fuzzy_logic_networks/biological_fuzzy_logic_networks/DREAM_analysis/utils.py:305: SettingWithCopyWarning: \n",
      "A value is trying to be set on a copy of a slice from a DataFrame.\n",
      "Try using .loc[row_indexer,col_indexer] = value instead\n",
      "\n",
      "See the caveats in the documentation: https://pandas.pydata.org/pandas-docs/stable/user_guide/indexing.html#returning-a-view-versus-a-copy\n",
      "  t[t < 0] = 1e-9\n",
      "/u/adr/Code/biological_fuzzy_logic_networks/biological_fuzzy_logic_networks/DREAM_analysis/utils.py:305: SettingWithCopyWarning: \n",
      "A value is trying to be set on a copy of a slice from a DataFrame\n",
      "\n",
      "See the caveats in the documentation: https://pandas.pydata.org/pandas-docs/stable/user_guide/indexing.html#returning-a-view-versus-a-copy\n",
      "  t[t < 0] = 1e-9\n",
      "/u/adr/Code/biological_fuzzy_logic_networks/biological_fuzzy_logic_networks/DREAM_analysis/utils.py:306: SettingWithCopyWarning: \n",
      "A value is trying to be set on a copy of a slice from a DataFrame.\n",
      "Try using .loc[row_indexer,col_indexer] = value instead\n",
      "\n",
      "See the caveats in the documentation: https://pandas.pydata.org/pandas-docs/stable/user_guide/indexing.html#returning-a-view-versus-a-copy\n",
      "  t[t > 1] = 1\n",
      "/u/adr/Code/biological_fuzzy_logic_networks/biological_fuzzy_logic_networks/DREAM_analysis/utils.py:306: SettingWithCopyWarning: \n",
      "A value is trying to be set on a copy of a slice from a DataFrame\n",
      "\n",
      "See the caveats in the documentation: https://pandas.pydata.org/pandas-docs/stable/user_guide/indexing.html#returning-a-view-versus-a-copy\n",
      "  t[t > 1] = 1\n"
     ]
    }
   ],
   "source": [
    "# Load train and valid data\n",
    "(\n",
    "    train_data,\n",
    "    valid_data,\n",
    "    train_inhibitors,\n",
    "    valid_inhibitors,\n",
    "    train_input,\n",
    "    valid_input,\n",
    "    train,\n",
    "    valid,\n",
    "    scaler,\n",
    ") = cl_data_to_input(\n",
    "    data=cl_data,\n",
    "    model=model,\n",
    "    train_treatments=config[\"train_treatments\"],\n",
    "    valid_treatments=config[\"valid_treatments\"],\n",
    "    train_cell_lines=config[\"train_cell_lines\"],\n",
    "    valid_cell_lines=config[\"valid_cell_lines\"],\n",
    "    inhibition_value=config[\"inhibition_value\"],\n",
    "    replace_zero_inputs=config[\"replace_zero_inputs\"],\n",
    "    balance_data=True,\n",
    ")"
   ]
  },
  {
   "cell_type": "code",
   "execution_count": 12,
   "id": "5c6eb06c-0f25-4ee5-b867-23b49c9167bd",
   "metadata": {
    "scrolled": true
   },
   "outputs": [
    {
     "name": "stderr",
     "output_type": "stream",
     "text": [
      "Loss:1.25e-01: 100%|████████████████████████████████████████████████████████████████████████████████████████████████████████████████████████| 3/3 [00:16<00:00,  5.64s/it]\n"
     ]
    }
   ],
   "source": [
    "loss, best_val_loss, loop_states = model.conduct_optimisation(\n",
    "    input=train_input,\n",
    "    valid_input=valid_input,\n",
    "    ground_truth=train_data,\n",
    "    valid_ground_truth=valid_data,\n",
    "    train_inhibitors=train_inhibitors,\n",
    "    valid_inhibitors=valid_inhibitors,\n",
    "    epochs=3,\n",
    "    learning_rate=config[\"learning_rate\"],\n",
    "    batch_size=config[\"batch_size\"],\n",
    ")\n",
    "\n"
   ]
  },
  {
   "cell_type": "code",
   "execution_count": null,
   "id": "da9e0c3b-a37f-45fd-ae48-c0eaf050a848",
   "metadata": {},
   "outputs": [],
   "source": [
    "loss\n"
   ]
  },
  {
   "cell_type": "code",
   "execution_count": null,
   "id": "97e366e6-babb-4c2f-9225-dd2bb92dbeec",
   "metadata": {},
   "outputs": [],
   "source": [
    "best_val_loss"
   ]
  },
  {
   "cell_type": "code",
   "execution_count": null,
   "id": "8245262e-f601-4513-8dec-2256f08bca32",
   "metadata": {},
   "outputs": [],
   "source": []
  },
  {
   "cell_type": "code",
   "execution_count": null,
   "id": "20027b59-6f5c-4cfc-8b9e-0002cd6a3060",
   "metadata": {},
   "outputs": [],
   "source": []
  },
  {
   "cell_type": "code",
   "execution_count": null,
   "id": "191a512e-af31-4c9e-b374-101f73900cfa",
   "metadata": {},
   "outputs": [],
   "source": []
  },
  {
   "cell_type": "code",
   "execution_count": null,
   "id": "ae95fe4c-d633-4307-b390-96a285424abc",
   "metadata": {},
   "outputs": [],
   "source": []
  },
  {
   "cell_type": "code",
   "execution_count": null,
   "id": "b376f0d1-a839-4d52-b1e8-a310404fec73",
   "metadata": {},
   "outputs": [],
   "source": []
  },
  {
   "cell_type": "code",
   "execution_count": null,
   "id": "6e081f18-90c7-4785-b5a0-7615b10c4ba2",
   "metadata": {},
   "outputs": [],
   "source": []
  }
 ],
 "metadata": {
  "kernelspec": {
   "display_name": "Python 3 (ipykernel)",
   "language": "python",
   "name": "python3"
  },
  "language_info": {
   "codemirror_mode": {
    "name": "ipython",
    "version": 3
   },
   "file_extension": ".py",
   "mimetype": "text/x-python",
   "name": "python",
   "nbconvert_exporter": "python",
   "pygments_lexer": "ipython3",
   "version": "3.9.13"
  }
 },
 "nbformat": 4,
 "nbformat_minor": 5
}
