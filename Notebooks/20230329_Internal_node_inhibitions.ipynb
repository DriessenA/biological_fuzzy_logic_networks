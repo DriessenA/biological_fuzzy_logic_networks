{
 "cells": [
  {
   "cell_type": "code",
   "execution_count": 24,
   "metadata": {},
   "outputs": [],
   "source": [
    "# Imports\n",
    "# External imports\n",
    "import torch\n",
    "import networkx as nx\n",
    "import numpy as np\n",
    "import matplotlib.pyplot as plt\n",
    "import pandas as pd\n",
    "import seaborn as sns\n",
    "from sklearn.preprocessing import MinMaxScaler\n",
    "from sklearn.model_selection import train_test_split\n",
    "\n",
    "# Module imports\n",
    "import biological_fuzzy_logic_networks.biofuzznet as bfn\n",
    "import biological_fuzzy_logic_networks.utils as utils\n",
    "import biological_fuzzy_logic_networks.draw as draw\n",
    "from biological_fuzzy_logic_networks.DREAM.DREAMBioFuzzNet import DREAMBioFuzzNet\n",
    "from biological_fuzzy_logic_networks.DREAM.DREAMdataset import DREAMBioFuzzDataset\n",
    "\n"
   ]
  },
  {
   "cell_type": "code",
   "execution_count": 25,
   "metadata": {},
   "outputs": [
    {
     "data": {
      "text/html": [
       "<div>\n",
       "<style scoped>\n",
       "    .dataframe tbody tr th:only-of-type {\n",
       "        vertical-align: middle;\n",
       "    }\n",
       "\n",
       "    .dataframe tbody tr th {\n",
       "        vertical-align: top;\n",
       "    }\n",
       "\n",
       "    .dataframe thead th {\n",
       "        text-align: right;\n",
       "    }\n",
       "</style>\n",
       "<table border=\"1\" class=\"dataframe\">\n",
       "  <thead>\n",
       "    <tr style=\"text-align: right;\">\n",
       "      <th></th>\n",
       "      <th>treatment</th>\n",
       "      <th>cell_line</th>\n",
       "      <th>time</th>\n",
       "      <th>cellID</th>\n",
       "      <th>fileID</th>\n",
       "      <th>b.CATENIN</th>\n",
       "      <th>cleavedCas</th>\n",
       "      <th>CyclinB</th>\n",
       "      <th>GAPDH</th>\n",
       "      <th>IdU</th>\n",
       "      <th>...</th>\n",
       "      <th>p.PDPK1</th>\n",
       "      <th>p.PLCg2</th>\n",
       "      <th>p.RB</th>\n",
       "      <th>p.S6</th>\n",
       "      <th>p.S6K</th>\n",
       "      <th>p.SMAD23</th>\n",
       "      <th>p.SRC</th>\n",
       "      <th>p.STAT1</th>\n",
       "      <th>p.STAT3</th>\n",
       "      <th>p.STAT5</th>\n",
       "    </tr>\n",
       "  </thead>\n",
       "  <tbody>\n",
       "    <tr>\n",
       "      <th>25595</th>\n",
       "      <td>EGF</td>\n",
       "      <td>ZR7530</td>\n",
       "      <td>9.0</td>\n",
       "      <td>1</td>\n",
       "      <td>1011</td>\n",
       "      <td>0.395636</td>\n",
       "      <td>0.402194</td>\n",
       "      <td>0.000000</td>\n",
       "      <td>0.492295</td>\n",
       "      <td>0.104349</td>\n",
       "      <td>...</td>\n",
       "      <td>0.375356</td>\n",
       "      <td>0.352125</td>\n",
       "      <td>0.099567</td>\n",
       "      <td>0.273289</td>\n",
       "      <td>0.369775</td>\n",
       "      <td>0.186604</td>\n",
       "      <td>0.383592</td>\n",
       "      <td>0.328056</td>\n",
       "      <td>0.441879</td>\n",
       "      <td>0.340322</td>\n",
       "    </tr>\n",
       "    <tr>\n",
       "      <th>25596</th>\n",
       "      <td>EGF</td>\n",
       "      <td>ZR7530</td>\n",
       "      <td>9.0</td>\n",
       "      <td>2</td>\n",
       "      <td>1011</td>\n",
       "      <td>0.000000</td>\n",
       "      <td>0.140044</td>\n",
       "      <td>0.537944</td>\n",
       "      <td>0.409615</td>\n",
       "      <td>0.897755</td>\n",
       "      <td>...</td>\n",
       "      <td>0.000000</td>\n",
       "      <td>0.082241</td>\n",
       "      <td>0.598982</td>\n",
       "      <td>0.378096</td>\n",
       "      <td>0.109032</td>\n",
       "      <td>0.478256</td>\n",
       "      <td>0.245605</td>\n",
       "      <td>0.355943</td>\n",
       "      <td>0.169588</td>\n",
       "      <td>0.300694</td>\n",
       "    </tr>\n",
       "    <tr>\n",
       "      <th>25597</th>\n",
       "      <td>EGF</td>\n",
       "      <td>ZR7530</td>\n",
       "      <td>9.0</td>\n",
       "      <td>3</td>\n",
       "      <td>1011</td>\n",
       "      <td>0.279084</td>\n",
       "      <td>0.432673</td>\n",
       "      <td>0.000000</td>\n",
       "      <td>0.713174</td>\n",
       "      <td>0.253652</td>\n",
       "      <td>...</td>\n",
       "      <td>0.210846</td>\n",
       "      <td>0.104309</td>\n",
       "      <td>0.303606</td>\n",
       "      <td>0.395779</td>\n",
       "      <td>0.563735</td>\n",
       "      <td>0.486540</td>\n",
       "      <td>0.255902</td>\n",
       "      <td>0.368843</td>\n",
       "      <td>0.457316</td>\n",
       "      <td>0.304705</td>\n",
       "    </tr>\n",
       "    <tr>\n",
       "      <th>25598</th>\n",
       "      <td>EGF</td>\n",
       "      <td>ZR7530</td>\n",
       "      <td>9.0</td>\n",
       "      <td>4</td>\n",
       "      <td>1011</td>\n",
       "      <td>0.000000</td>\n",
       "      <td>0.267420</td>\n",
       "      <td>0.141758</td>\n",
       "      <td>0.430330</td>\n",
       "      <td>0.000000</td>\n",
       "      <td>...</td>\n",
       "      <td>0.020738</td>\n",
       "      <td>0.449832</td>\n",
       "      <td>0.000000</td>\n",
       "      <td>0.453254</td>\n",
       "      <td>0.726091</td>\n",
       "      <td>0.000000</td>\n",
       "      <td>0.398669</td>\n",
       "      <td>0.446374</td>\n",
       "      <td>0.232850</td>\n",
       "      <td>0.345303</td>\n",
       "    </tr>\n",
       "    <tr>\n",
       "      <th>25599</th>\n",
       "      <td>EGF</td>\n",
       "      <td>ZR7530</td>\n",
       "      <td>9.0</td>\n",
       "      <td>5</td>\n",
       "      <td>1011</td>\n",
       "      <td>0.530664</td>\n",
       "      <td>0.402922</td>\n",
       "      <td>0.262447</td>\n",
       "      <td>0.677272</td>\n",
       "      <td>0.679108</td>\n",
       "      <td>...</td>\n",
       "      <td>0.590596</td>\n",
       "      <td>0.658284</td>\n",
       "      <td>0.828589</td>\n",
       "      <td>0.609928</td>\n",
       "      <td>0.596778</td>\n",
       "      <td>0.634626</td>\n",
       "      <td>0.410794</td>\n",
       "      <td>0.434798</td>\n",
       "      <td>0.531388</td>\n",
       "      <td>0.382133</td>\n",
       "    </tr>\n",
       "    <tr>\n",
       "      <th>...</th>\n",
       "      <td>...</td>\n",
       "      <td>...</td>\n",
       "      <td>...</td>\n",
       "      <td>...</td>\n",
       "      <td>...</td>\n",
       "      <td>...</td>\n",
       "      <td>...</td>\n",
       "      <td>...</td>\n",
       "      <td>...</td>\n",
       "      <td>...</td>\n",
       "      <td>...</td>\n",
       "      <td>...</td>\n",
       "      <td>...</td>\n",
       "      <td>...</td>\n",
       "      <td>...</td>\n",
       "      <td>...</td>\n",
       "      <td>...</td>\n",
       "      <td>...</td>\n",
       "      <td>...</td>\n",
       "      <td>...</td>\n",
       "      <td>...</td>\n",
       "    </tr>\n",
       "    <tr>\n",
       "      <th>438604</th>\n",
       "      <td>iPKC</td>\n",
       "      <td>ZR7530</td>\n",
       "      <td>9.0</td>\n",
       "      <td>8364</td>\n",
       "      <td>981</td>\n",
       "      <td>0.605812</td>\n",
       "      <td>0.292460</td>\n",
       "      <td>0.141792</td>\n",
       "      <td>0.563163</td>\n",
       "      <td>0.029755</td>\n",
       "      <td>...</td>\n",
       "      <td>0.436423</td>\n",
       "      <td>0.599954</td>\n",
       "      <td>0.152836</td>\n",
       "      <td>0.384682</td>\n",
       "      <td>0.554484</td>\n",
       "      <td>0.375520</td>\n",
       "      <td>0.454312</td>\n",
       "      <td>0.329122</td>\n",
       "      <td>0.651206</td>\n",
       "      <td>0.379009</td>\n",
       "    </tr>\n",
       "    <tr>\n",
       "      <th>438605</th>\n",
       "      <td>iPKC</td>\n",
       "      <td>ZR7530</td>\n",
       "      <td>9.0</td>\n",
       "      <td>8365</td>\n",
       "      <td>981</td>\n",
       "      <td>0.000000</td>\n",
       "      <td>0.000000</td>\n",
       "      <td>0.131784</td>\n",
       "      <td>0.369437</td>\n",
       "      <td>0.158079</td>\n",
       "      <td>...</td>\n",
       "      <td>0.000000</td>\n",
       "      <td>0.287432</td>\n",
       "      <td>0.000000</td>\n",
       "      <td>0.353103</td>\n",
       "      <td>0.277070</td>\n",
       "      <td>0.445072</td>\n",
       "      <td>0.132246</td>\n",
       "      <td>0.303992</td>\n",
       "      <td>0.311794</td>\n",
       "      <td>0.383396</td>\n",
       "    </tr>\n",
       "    <tr>\n",
       "      <th>438606</th>\n",
       "      <td>iPKC</td>\n",
       "      <td>ZR7530</td>\n",
       "      <td>9.0</td>\n",
       "      <td>8366</td>\n",
       "      <td>981</td>\n",
       "      <td>0.584230</td>\n",
       "      <td>0.312458</td>\n",
       "      <td>0.727297</td>\n",
       "      <td>0.552922</td>\n",
       "      <td>0.429372</td>\n",
       "      <td>...</td>\n",
       "      <td>0.501491</td>\n",
       "      <td>0.559899</td>\n",
       "      <td>0.748482</td>\n",
       "      <td>0.391360</td>\n",
       "      <td>0.604408</td>\n",
       "      <td>0.340593</td>\n",
       "      <td>0.354785</td>\n",
       "      <td>0.456384</td>\n",
       "      <td>0.446863</td>\n",
       "      <td>0.387726</td>\n",
       "    </tr>\n",
       "    <tr>\n",
       "      <th>438607</th>\n",
       "      <td>iPKC</td>\n",
       "      <td>ZR7530</td>\n",
       "      <td>9.0</td>\n",
       "      <td>8367</td>\n",
       "      <td>981</td>\n",
       "      <td>0.125551</td>\n",
       "      <td>0.480262</td>\n",
       "      <td>0.115179</td>\n",
       "      <td>0.736958</td>\n",
       "      <td>0.172115</td>\n",
       "      <td>...</td>\n",
       "      <td>0.422837</td>\n",
       "      <td>0.738014</td>\n",
       "      <td>0.231625</td>\n",
       "      <td>0.356163</td>\n",
       "      <td>0.653604</td>\n",
       "      <td>0.737798</td>\n",
       "      <td>0.315952</td>\n",
       "      <td>0.361219</td>\n",
       "      <td>0.413430</td>\n",
       "      <td>0.336527</td>\n",
       "    </tr>\n",
       "    <tr>\n",
       "      <th>438608</th>\n",
       "      <td>iPKC</td>\n",
       "      <td>ZR7530</td>\n",
       "      <td>9.0</td>\n",
       "      <td>8368</td>\n",
       "      <td>981</td>\n",
       "      <td>0.216619</td>\n",
       "      <td>0.424140</td>\n",
       "      <td>0.074959</td>\n",
       "      <td>0.691842</td>\n",
       "      <td>0.152519</td>\n",
       "      <td>...</td>\n",
       "      <td>0.351747</td>\n",
       "      <td>0.663714</td>\n",
       "      <td>0.288832</td>\n",
       "      <td>0.217364</td>\n",
       "      <td>0.514302</td>\n",
       "      <td>0.609506</td>\n",
       "      <td>0.260296</td>\n",
       "      <td>0.281700</td>\n",
       "      <td>0.363903</td>\n",
       "      <td>0.343128</td>\n",
       "    </tr>\n",
       "  </tbody>\n",
       "</table>\n",
       "<p>57951 rows × 42 columns</p>\n",
       "</div>"
      ],
      "text/plain": [
       "       treatment cell_line  time  cellID  fileID  b.CATENIN  cleavedCas  \\\n",
       "25595        EGF    ZR7530   9.0       1    1011   0.395636    0.402194   \n",
       "25596        EGF    ZR7530   9.0       2    1011   0.000000    0.140044   \n",
       "25597        EGF    ZR7530   9.0       3    1011   0.279084    0.432673   \n",
       "25598        EGF    ZR7530   9.0       4    1011   0.000000    0.267420   \n",
       "25599        EGF    ZR7530   9.0       5    1011   0.530664    0.402922   \n",
       "...          ...       ...   ...     ...     ...        ...         ...   \n",
       "438604      iPKC    ZR7530   9.0    8364     981   0.605812    0.292460   \n",
       "438605      iPKC    ZR7530   9.0    8365     981   0.000000    0.000000   \n",
       "438606      iPKC    ZR7530   9.0    8366     981   0.584230    0.312458   \n",
       "438607      iPKC    ZR7530   9.0    8367     981   0.125551    0.480262   \n",
       "438608      iPKC    ZR7530   9.0    8368     981   0.216619    0.424140   \n",
       "\n",
       "         CyclinB     GAPDH       IdU  ...   p.PDPK1   p.PLCg2      p.RB  \\\n",
       "25595   0.000000  0.492295  0.104349  ...  0.375356  0.352125  0.099567   \n",
       "25596   0.537944  0.409615  0.897755  ...  0.000000  0.082241  0.598982   \n",
       "25597   0.000000  0.713174  0.253652  ...  0.210846  0.104309  0.303606   \n",
       "25598   0.141758  0.430330  0.000000  ...  0.020738  0.449832  0.000000   \n",
       "25599   0.262447  0.677272  0.679108  ...  0.590596  0.658284  0.828589   \n",
       "...          ...       ...       ...  ...       ...       ...       ...   \n",
       "438604  0.141792  0.563163  0.029755  ...  0.436423  0.599954  0.152836   \n",
       "438605  0.131784  0.369437  0.158079  ...  0.000000  0.287432  0.000000   \n",
       "438606  0.727297  0.552922  0.429372  ...  0.501491  0.559899  0.748482   \n",
       "438607  0.115179  0.736958  0.172115  ...  0.422837  0.738014  0.231625   \n",
       "438608  0.074959  0.691842  0.152519  ...  0.351747  0.663714  0.288832   \n",
       "\n",
       "            p.S6     p.S6K  p.SMAD23     p.SRC   p.STAT1   p.STAT3   p.STAT5  \n",
       "25595   0.273289  0.369775  0.186604  0.383592  0.328056  0.441879  0.340322  \n",
       "25596   0.378096  0.109032  0.478256  0.245605  0.355943  0.169588  0.300694  \n",
       "25597   0.395779  0.563735  0.486540  0.255902  0.368843  0.457316  0.304705  \n",
       "25598   0.453254  0.726091  0.000000  0.398669  0.446374  0.232850  0.345303  \n",
       "25599   0.609928  0.596778  0.634626  0.410794  0.434798  0.531388  0.382133  \n",
       "...          ...       ...       ...       ...       ...       ...       ...  \n",
       "438604  0.384682  0.554484  0.375520  0.454312  0.329122  0.651206  0.379009  \n",
       "438605  0.353103  0.277070  0.445072  0.132246  0.303992  0.311794  0.383396  \n",
       "438606  0.391360  0.604408  0.340593  0.354785  0.456384  0.446863  0.387726  \n",
       "438607  0.356163  0.653604  0.737798  0.315952  0.361219  0.413430  0.336527  \n",
       "438608  0.217364  0.514302  0.609506  0.260296  0.281700  0.363903  0.343128  \n",
       "\n",
       "[57951 rows x 42 columns]"
      ]
     },
     "execution_count": 25,
     "metadata": {},
     "output_type": "execute_result"
    }
   ],
   "source": [
    "cl_data = pd.read_csv(\"/Users/adr/Box/CAR_Tcells/Data/DREAMdata/ZR7530.csv\")\n",
    "non_marker_cols = [\"treatment\", \"cell_line\", \"time\", \"cellID\", \"fileID\"]\n",
    "markers = [c for c in cl_data.columns if not c in non_marker_cols]\n",
    "\n",
    "cl_data = cl_data[cl_data[\"time\"]==9]\n",
    "scaler = MinMaxScaler()\n",
    "cl_data[markers] = scaler.fit_transform(cl_data[markers])\n",
    "cl_data"
   ]
  },
  {
   "cell_type": "code",
   "execution_count": 26,
   "metadata": {},
   "outputs": [
    {
     "data": {
      "text/html": [
       "<div>\n",
       "<style scoped>\n",
       "    .dataframe tbody tr th:only-of-type {\n",
       "        vertical-align: middle;\n",
       "    }\n",
       "\n",
       "    .dataframe tbody tr th {\n",
       "        vertical-align: top;\n",
       "    }\n",
       "\n",
       "    .dataframe thead th {\n",
       "        text-align: right;\n",
       "    }\n",
       "</style>\n",
       "<table border=\"1\" class=\"dataframe\">\n",
       "  <thead>\n",
       "    <tr style=\"text-align: right;\">\n",
       "      <th></th>\n",
       "      <th>p.MEK</th>\n",
       "      <th>p.ERK</th>\n",
       "      <th>p.p90RSK</th>\n",
       "      <th>p.CREB</th>\n",
       "      <th>p.PDPK1</th>\n",
       "      <th>inhibitor</th>\n",
       "    </tr>\n",
       "  </thead>\n",
       "  <tbody>\n",
       "    <tr>\n",
       "      <th>0</th>\n",
       "      <td>0.367667</td>\n",
       "      <td>0.330656</td>\n",
       "      <td>0.572618</td>\n",
       "      <td>2.961296e-01</td>\n",
       "      <td>3.753564e-01</td>\n",
       "      <td>NaN</td>\n",
       "    </tr>\n",
       "    <tr>\n",
       "      <th>1</th>\n",
       "      <td>0.463700</td>\n",
       "      <td>0.241769</td>\n",
       "      <td>0.529345</td>\n",
       "      <td>1.611169e-07</td>\n",
       "      <td>1.000000e-09</td>\n",
       "      <td>NaN</td>\n",
       "    </tr>\n",
       "    <tr>\n",
       "      <th>2</th>\n",
       "      <td>0.394335</td>\n",
       "      <td>0.388390</td>\n",
       "      <td>0.513064</td>\n",
       "      <td>2.144081e-01</td>\n",
       "      <td>2.108456e-01</td>\n",
       "      <td>NaN</td>\n",
       "    </tr>\n",
       "    <tr>\n",
       "      <th>3</th>\n",
       "      <td>0.442553</td>\n",
       "      <td>0.407983</td>\n",
       "      <td>0.839117</td>\n",
       "      <td>2.696125e-01</td>\n",
       "      <td>2.073780e-02</td>\n",
       "      <td>NaN</td>\n",
       "    </tr>\n",
       "    <tr>\n",
       "      <th>4</th>\n",
       "      <td>0.491981</td>\n",
       "      <td>0.438286</td>\n",
       "      <td>0.831320</td>\n",
       "      <td>3.145570e-01</td>\n",
       "      <td>5.905963e-01</td>\n",
       "      <td>NaN</td>\n",
       "    </tr>\n",
       "    <tr>\n",
       "      <th>...</th>\n",
       "      <td>...</td>\n",
       "      <td>...</td>\n",
       "      <td>...</td>\n",
       "      <td>...</td>\n",
       "      <td>...</td>\n",
       "      <td>...</td>\n",
       "    </tr>\n",
       "    <tr>\n",
       "      <th>21602</th>\n",
       "      <td>0.511885</td>\n",
       "      <td>0.310768</td>\n",
       "      <td>0.511205</td>\n",
       "      <td>3.188268e-01</td>\n",
       "      <td>2.740522e-01</td>\n",
       "      <td>p.MEK</td>\n",
       "    </tr>\n",
       "    <tr>\n",
       "      <th>21603</th>\n",
       "      <td>0.363326</td>\n",
       "      <td>0.156438</td>\n",
       "      <td>0.485483</td>\n",
       "      <td>2.074573e-01</td>\n",
       "      <td>1.569565e-01</td>\n",
       "      <td>p.MEK</td>\n",
       "    </tr>\n",
       "    <tr>\n",
       "      <th>21604</th>\n",
       "      <td>0.426858</td>\n",
       "      <td>0.293860</td>\n",
       "      <td>0.432892</td>\n",
       "      <td>4.833507e-07</td>\n",
       "      <td>1.721914e-01</td>\n",
       "      <td>p.MEK</td>\n",
       "    </tr>\n",
       "    <tr>\n",
       "      <th>21605</th>\n",
       "      <td>0.500504</td>\n",
       "      <td>0.323495</td>\n",
       "      <td>0.657558</td>\n",
       "      <td>9.054608e-03</td>\n",
       "      <td>4.939004e-01</td>\n",
       "      <td>p.MEK</td>\n",
       "    </tr>\n",
       "    <tr>\n",
       "      <th>21606</th>\n",
       "      <td>0.401971</td>\n",
       "      <td>0.093659</td>\n",
       "      <td>0.456679</td>\n",
       "      <td>2.118832e-01</td>\n",
       "      <td>1.957875e-01</td>\n",
       "      <td>p.MEK</td>\n",
       "    </tr>\n",
       "  </tbody>\n",
       "</table>\n",
       "<p>21607 rows × 6 columns</p>\n",
       "</div>"
      ],
      "text/plain": [
       "          p.MEK     p.ERK  p.p90RSK        p.CREB       p.PDPK1 inhibitor\n",
       "0      0.367667  0.330656  0.572618  2.961296e-01  3.753564e-01       NaN\n",
       "1      0.463700  0.241769  0.529345  1.611169e-07  1.000000e-09       NaN\n",
       "2      0.394335  0.388390  0.513064  2.144081e-01  2.108456e-01       NaN\n",
       "3      0.442553  0.407983  0.839117  2.696125e-01  2.073780e-02       NaN\n",
       "4      0.491981  0.438286  0.831320  3.145570e-01  5.905963e-01       NaN\n",
       "...         ...       ...       ...           ...           ...       ...\n",
       "21602  0.511885  0.310768  0.511205  3.188268e-01  2.740522e-01     p.MEK\n",
       "21603  0.363326  0.156438  0.485483  2.074573e-01  1.569565e-01     p.MEK\n",
       "21604  0.426858  0.293860  0.432892  4.833507e-07  1.721914e-01     p.MEK\n",
       "21605  0.500504  0.323495  0.657558  9.054608e-03  4.939004e-01     p.MEK\n",
       "21606  0.401971  0.093659  0.456679  2.118832e-01  1.957875e-01     p.MEK\n",
       "\n",
       "[21607 rows x 6 columns]"
      ]
     },
     "execution_count": 26,
     "metadata": {},
     "output_type": "execute_result"
    }
   ],
   "source": [
    "markers = ['p.MEK', 'p.ERK', 'p.p90RSK', 'p.CREB', 'p.PDPK1']\n",
    "\n",
    "sel_data = cl_data.loc[(cl_data[\"treatment\"].isin([\"EGF\", \"iMEK\"])),:][[\"treatment\"]+markers]\n",
    "sel_data.reset_index(drop=True, inplace=True)\n",
    "sel_data.loc[sel_data[\"p.PDPK1\"]==0, \"p.PDPK1\"] = 1e-9\n",
    "sel_data.loc[sel_data[\"treatment\"]==\"iMEK\",\"inhibitor\"] = [\"p.MEK\"  for treatment in sel_data[\"treatment\"] if treatment == \"iMEK\"]\n",
    "sel_data.drop(\"treatment\", axis=1, inplace=True)\n",
    "sel_data"
   ]
  },
  {
   "cell_type": "code",
   "execution_count": 28,
   "metadata": {},
   "outputs": [
    {
     "data": {
      "text/plain": [
       "float"
      ]
     },
     "execution_count": 28,
     "metadata": {},
     "output_type": "execute_result"
    }
   ],
   "source": [
    "type(sel_data.loc[0,\"inhibitor\"])"
   ]
  },
  {
   "cell_type": "code",
   "execution_count": 4,
   "metadata": {},
   "outputs": [
    {
     "name": "stdout",
     "output_type": "stream",
     "text": [
      "(16205, 6)\n",
      "(5402, 6)\n"
     ]
    }
   ],
   "source": [
    "train, test = train_test_split(sel_data)\n",
    "print(train.shape)\n",
    "print(test.shape)\n",
    "train = train.to_dict(\"list\")\n",
    "test = test.to_dict(\"list\")\n",
    "\n",
    "train_data = {k: torch.DoubleTensor(v) for k, v in train.items() if k in markers}\n",
    "test_data = {k: torch.DoubleTensor(v) for k, v in test.items() if k in markers}\n",
    "\n",
    "train_inhibitors = {m1: torch.DoubleTensor([10. if m==m1 else 1. for m in train[\"inhibitor\"]]) for m1 in markers}\n",
    "test_inhibitors = {m1: torch.DoubleTensor([10. if m==m1 else 1. for m in test[\"inhibitor\"]]) for m1 in markers}\n",
    "\n",
    "input_train = {\"p.PDPK1\": train[\"p.PDPK1\"]}\n",
    "input_test = {\"p.PDPK1\": test[\"p.PDPK1\"]} \n",
    "\n",
    "\n"
   ]
  },
  {
   "cell_type": "code",
   "execution_count": 5,
   "metadata": {},
   "outputs": [],
   "source": [
    "ds = DREAMBioFuzzDataset(input_train, train_data, train_inhibitors)\n",
    "dl = torch.utils.data.DataLoader(ds, batch_size=200, shuffle=True)"
   ]
  },
  {
   "cell_type": "code",
   "execution_count": 6,
   "metadata": {},
   "outputs": [],
   "source": [
    "for X_batch, y_batch, inhibited_batch in dl:\n",
    "                # In this case we do not use X_batch explicitly, as we just need the ground truth state of each node.\n",
    "                # Reinitialise the network at the right size\n",
    "                batch_keys = list(X_batch.keys())\n",
    "                "
   ]
  },
  {
   "cell_type": "code",
   "execution_count": 7,
   "metadata": {},
   "outputs": [
    {
     "data": {
      "text/plain": [
       "{'p.PDPK1': tensor([2.7928e-01, 1.0000e-09, 3.0669e-01, 5.5893e-01, 5.6079e-01])}"
      ]
     },
     "execution_count": 7,
     "metadata": {},
     "output_type": "execute_result"
    }
   ],
   "source": [
    "X_batch"
   ]
  },
  {
   "cell_type": "code",
   "execution_count": 8,
   "metadata": {},
   "outputs": [
    {
     "data": {
      "text/plain": [
       "{'p.MEK': tensor([0.2728, 0.1378, 0.3724, 0.4207, 0.4779]),\n",
       " 'p.ERK': tensor([0.3170, 0.2144, 0.1701, 0.3753, 0.3376]),\n",
       " 'p.p90RSK': tensor([0.6499, 0.3372, 0.5194, 0.7992, 0.6241]),\n",
       " 'p.CREB': tensor([0.0867, 0.0335, 0.2005, 0.2148, 0.2071]),\n",
       " 'p.PDPK1': tensor([2.7928e-01, 1.0000e-09, 3.0669e-01, 5.5893e-01, 5.6079e-01])}"
      ]
     },
     "execution_count": 8,
     "metadata": {},
     "output_type": "execute_result"
    }
   ],
   "source": [
    "y_batch"
   ]
  },
  {
   "cell_type": "code",
   "execution_count": 9,
   "metadata": {},
   "outputs": [
    {
     "data": {
      "text/plain": [
       "{'p.MEK': tensor([ 1.,  1., 10.,  1., 10.]),\n",
       " 'p.ERK': tensor([1., 1., 1., 1., 1.]),\n",
       " 'p.p90RSK': tensor([1., 1., 1., 1., 1.]),\n",
       " 'p.CREB': tensor([1., 1., 1., 1., 1.]),\n",
       " 'p.PDPK1': tensor([1., 1., 1., 1., 1.])}"
      ]
     },
     "execution_count": 9,
     "metadata": {},
     "output_type": "execute_result"
    }
   ],
   "source": [
    "inhibited_batch"
   ]
  },
  {
   "cell_type": "code",
   "execution_count": null,
   "metadata": {},
   "outputs": [],
   "source": []
  },
  {
   "cell_type": "code",
   "execution_count": null,
   "metadata": {},
   "outputs": [],
   "source": []
  },
  {
   "cell_type": "code",
   "execution_count": 11,
   "metadata": {},
   "outputs": [],
   "source": [
    "# Create an empty BioFuzzNet\n",
    "my_model = DREAMBioFuzzNet(None, None)\n",
    "\n",
    "# Add nodes\n",
    "# my_model.add_fuzzy_node(\"input\", \"BIO\")\n",
    "my_model.add_fuzzy_node(\"p.MEK\", \"BIO\") # A biological node\n",
    "my_model.add_fuzzy_node(\"p.ERK\", 'BIO')\n",
    "my_model.add_fuzzy_node(\"p.p90RSK\", \"BIO\")\n",
    "my_model.add_fuzzy_node(\"p.CREB\", \"BIO\")\n",
    "my_model.add_fuzzy_node(\"p.PDPK1\", \"BIO\")\n",
    "# Add edges\n",
    "# my_model.add_transfer_edge(\"input\",\"p.MEK\")\n",
    "my_model.add_transfer_edge(\"p.PDPK1\", \"p.MEK\")\n",
    "my_model.add_transfer_edge(\"p.MEK\",\"p.ERK\") \n",
    "my_model.add_transfer_edge(\"p.ERK\", \"p.p90RSK\")\n",
    "my_model.add_transfer_edge(\"p.p90RSK\", \"p.CREB\")"
   ]
  },
  {
   "cell_type": "code",
   "execution_count": 12,
   "metadata": {},
   "outputs": [
    {
     "data": {
      "text/plain": [
       "{'p.PDPK1': array([ 0., -2.]),\n",
       " 'p.MEK': array([ 0., -1.]),\n",
       " 'p.ERK': array([0., 0.]),\n",
       " 'p.p90RSK': array([0., 1.]),\n",
       " 'p.CREB': array([0., 2.])}"
      ]
     },
     "execution_count": 12,
     "metadata": {},
     "output_type": "execute_result"
    },
    {
     "data": {
      "image/png": "[encoded data removed]",
      "text/plain": [
       "<Figure size 1500x1500 with 1 Axes>"
      ]
     },
     "metadata": {},
     "output_type": "display_data"
    }
   ],
   "source": [
    "# Draw the networks to compare them\n",
    "# Color schemes for the drawing\n",
    "general_edge_color_scheme  = {\"simple\": \"b\", \"transfer_function\": \"r\"}\n",
    "general_node_shape_scheme = {\"biological\": 's', \"logic_gate_AND\": 'o', \n",
    "                             \"logic_gate_OR\": 'd', \"logic_gate_NOT\": '^'}\n",
    "\n",
    "draw.draw_BioFuzzNet(my_model, general_edge_color_scheme, general_node_shape_scheme)  "
   ]
  },
  {
   "cell_type": "code",
   "execution_count": 13,
   "metadata": {},
   "outputs": [],
   "source": [
    "# Now we just need to specify some optimisation parameters\n",
    "\n",
    "learning_rate = 5e-3\n",
    "epochs = 1 # That seems like a lot, but 1 epoch is basically one simulation of the network on all datapoints, so we need a lot of them\n",
    "batch_size = 10"
   ]
  },
  {
   "cell_type": "code",
   "execution_count": 14,
   "metadata": {
    "scrolled": true
   },
   "outputs": [
    {
     "name": "stderr",
     "output_type": "stream",
     "text": [
      "100%|█████████████████████████████████████████████| 1/1 [00:25<00:00, 25.10s/it]\n"
     ]
    }
   ],
   "source": [
    "loss = my_model.conduct_optimisation(input = input_train,\n",
    "                                     test_input = input_test,\n",
    "                                     ground_truth=train_data,\n",
    "                                     test_ground_truth=test_data,\n",
    "                                     train_inhibitors = train_inhibitors,\n",
    "                                     test_inhibitors = test_inhibitors,\n",
    "                                     epochs = epochs,\n",
    "                                     learning_rate= learning_rate,\n",
    "                                     batch_size= batch_size\n",
    "                                         )"
   ]
  },
  {
   "cell_type": "code",
   "execution_count": 15,
   "metadata": {},
   "outputs": [
    {
     "data": {
      "text/plain": [
       "<AxesSubplot: xlabel='time', ylabel='loss'>"
      ]
     },
     "execution_count": 15,
     "metadata": {},
     "output_type": "execute_result"
    },
    {
     "data": {
      "image/png": "[encoded data removed]",
      "text/plain": [
       "<Figure size 640x480 with 1 Axes>"
      ]
     },
     "metadata": {},
     "output_type": "display_data"
    }
   ],
   "source": [
    "sns.lineplot(data=loss, x='time', y='loss', hue='phase')\n"
   ]
  },
  {
   "cell_type": "markdown",
   "metadata": {},
   "source": [
    "# Leave treatment with inhibition out"
   ]
  },
  {
   "cell_type": "code",
   "execution_count": 16,
   "metadata": {},
   "outputs": [
    {
     "name": "stdout",
     "output_type": "stream",
     "text": [
      "(39543, 6)\n",
      "(13181, 6)\n"
     ]
    }
   ],
   "source": [
    "all_treatments = ['EGF', 'full', 'iEGFR', 'iMEK', 'iPI3K', 'iPKC']\n",
    "test_treatments = ['iMEK']\n",
    "train_treatments = [treatment for treatment in all_treatments if not treatment in test_treatments]\n",
    "\n",
    "markers = ['p.MEK', 'p.ERK', 'p.p90RSK', 'p.CREB', 'p.PDPK1']\n",
    "cl_data.loc[cl_data[\"p.PDPK1\"]==0, \"p.PDPK1\"] = 1e-9\n",
    "train_data = cl_data.loc[(cl_data[\"treatment\"].isin(train_treatments)), ['treatment']+markers]\n",
    "test_data = cl_data.loc[(cl_data[\"treatment\"].isin(test_treatments)), ['treatment']+markers]\n",
    "\n",
    "train_data.loc[train_data[\"treatment\"]==\"iMEK\",\"inhibitor\"] = [\"p.MEK\"  for treatment in train_data[\"treatment\"] if treatment == \"iMEK\"]\n",
    "train_data.drop(\"treatment\", axis=1, inplace=True)\n",
    "\n",
    "test_data.loc[test_data[\"treatment\"]==\"iMEK\",\"inhibitor\"] = [\"p.MEK\"  for treatment in test_data[\"treatment\"] if treatment == \"iMEK\"]\n",
    "test_data.drop(\"treatment\", axis=1, inplace=True)\n",
    "\n",
    "n_test = len(test)\n",
    "\n",
    "train, val = train_test_split(train_data)\n",
    "print(train.shape)\n",
    "print(val.shape)\n",
    "\n",
    "train = train.to_dict(\"list\")\n",
    "val = val.to_dict(\"list\")\n",
    "test = test_data.to_dict(\"list\")\n",
    "\n",
    "train_data = {k: torch.DoubleTensor(v) for k, v in train.items() if k in markers}\n",
    "test_data = {k: torch.DoubleTensor(v) for k, v in test.items() if k in markers}\n",
    "val_data = {k: torch.DoubleTensor(v) for k, v in val.items() if k in markers}\n",
    "\n",
    "train_inhibitors = {m1: torch.DoubleTensor([10. if m==m1 else 1. for m in train[\"inhibitor\"]]) for m1 in markers}\n",
    "test_inhibitors = {m1: torch.DoubleTensor([10. if m==m1 else 1. for m in test[\"inhibitor\"]]) for m1 in markers}\n",
    "val_inhibitors = {m1: torch.DoubleTensor([10. if m==m1 else 1. for m in val[\"inhibitor\"]]) for m1 in markers}\n",
    "\n",
    "input_train = {\"p.PDPK1\": train[\"p.PDPK1\"]}\n",
    "input_test = {\"p.PDPK1\": test[\"p.PDPK1\"]} \n",
    "input_val = {\"p.PDPK1\": val[\"p.PDPK1\"]} \n"
   ]
  },
  {
   "cell_type": "code",
   "execution_count": 17,
   "metadata": {},
   "outputs": [],
   "source": [
    "# Create an empty BioFuzzNet\n",
    "my_model = DREAMBioFuzzNet(None, None)\n",
    "\n",
    "# Add nodes\n",
    "# my_model.add_fuzzy_node(\"input\", \"BIO\")\n",
    "my_model.add_fuzzy_node(\"p.MEK\", \"BIO\") # A biological node\n",
    "my_model.add_fuzzy_node(\"p.ERK\", 'BIO')\n",
    "my_model.add_fuzzy_node(\"p.p90RSK\", \"BIO\")\n",
    "my_model.add_fuzzy_node(\"p.CREB\", \"BIO\")\n",
    "my_model.add_fuzzy_node(\"p.PDPK1\", \"BIO\")\n",
    "# Add edges\n",
    "# my_model.add_transfer_edge(\"input\",\"p.MEK\")\n",
    "my_model.add_transfer_edge(\"p.PDPK1\", \"p.MEK\")\n",
    "my_model.add_transfer_edge(\"p.MEK\",\"p.ERK\") \n",
    "my_model.add_transfer_edge(\"p.ERK\", \"p.p90RSK\")\n",
    "my_model.add_transfer_edge(\"p.p90RSK\", \"p.CREB\")"
   ]
  },
  {
   "cell_type": "code",
   "execution_count": 18,
   "metadata": {},
   "outputs": [
    {
     "data": {
      "text/plain": [
       "{'p.PDPK1': array([ 0., -2.]),\n",
       " 'p.MEK': array([ 0., -1.]),\n",
       " 'p.ERK': array([0., 0.]),\n",
       " 'p.p90RSK': array([0., 1.]),\n",
       " 'p.CREB': array([0., 2.])}"
      ]
     },
     "execution_count": 18,
     "metadata": {},
     "output_type": "execute_result"
    },
    {
     "data": {
      "image/png": "[encoded data removed]",
      "text/plain": [
       "<Figure size 1500x1500 with 1 Axes>"
      ]
     },
     "metadata": {},
     "output_type": "display_data"
    }
   ],
   "source": [
    "draw.draw_BioFuzzNet(my_model, general_edge_color_scheme, general_node_shape_scheme)  "
   ]
  },
  {
   "cell_type": "code",
   "execution_count": 19,
   "metadata": {},
   "outputs": [],
   "source": [
    "# Now we just need to specify some optimisation parameters\n",
    "\n",
    "learning_rate = 5e-3\n",
    "epochs = 1\n",
    "batch_size = 10 "
   ]
  },
  {
   "cell_type": "code",
   "execution_count": 20,
   "metadata": {},
   "outputs": [
    {
     "name": "stderr",
     "output_type": "stream",
     "text": [
      "100%|█████████████████████████████████████████████| 1/1 [01:01<00:00, 61.23s/it]\n"
     ]
    }
   ],
   "source": [
    "loss = my_model.conduct_optimisation(input = input_train,\n",
    "                                     test_input = input_val,\n",
    "                                     ground_truth=train_data,\n",
    "                                     test_ground_truth=val_data,\n",
    "                                     train_inhibitors = train_inhibitors,\n",
    "                                     test_inhibitors = val_inhibitors,\n",
    "                                     epochs = epochs,\n",
    "                                     learning_rate= learning_rate,\n",
    "                                     batch_size= batch_size\n",
    "                                         )"
   ]
  },
  {
   "cell_type": "code",
   "execution_count": 21,
   "metadata": {},
   "outputs": [
    {
     "data": {
      "text/plain": [
       "<AxesSubplot: xlabel='time', ylabel='loss'>"
      ]
     },
     "execution_count": 21,
     "metadata": {},
     "output_type": "execute_result"
    },
    {
     "data": {
      "image/png": "[encoded data removed]",
      "text/plain": [
       "<Figure size 640x480 with 1 Axes>"
      ]
     },
     "metadata": {},
     "output_type": "display_data"
    }
   ],
   "source": [
    "loss.loc[loss[\"phase\"]==\"test\", \"phase\"] = \"val\"\n",
    "sns.lineplot(data=loss, x='time', y='loss', hue='phase')\n"
   ]
  },
  {
   "cell_type": "code",
   "execution_count": 22,
   "metadata": {},
   "outputs": [],
   "source": [
    "from biological_fuzzy_logic_networks.utils import MSE_loss\n",
    "input_nodes = [k for k in input_test.keys()]\n",
    "test_ground_truth = test_data.copy()\n",
    "losses = []\n",
    "with torch.no_grad():\n",
    "    # Instantiate the model\n",
    "    my_model.initialise_random_truth_and_output(\n",
    "        len(test_ground_truth[input_nodes[0]])\n",
    "    )\n",
    "    my_model.set_network_ground_truth(ground_truth=test_ground_truth)\n",
    "    # Simulation\n",
    "    my_model.sequential_update(input_nodes, test_inhibitors)\n",
    "    # Get the predictions\n",
    "    predictions = my_model.output_states\n",
    "    test_loss = MSE_loss(\n",
    "        predictions=predictions, ground_truth=test_ground_truth\n",
    "    )\n",
    "\n",
    "    "
   ]
  },
  {
   "cell_type": "code",
   "execution_count": 23,
   "metadata": {},
   "outputs": [
    {
     "data": {
      "text/plain": [
       "<matplotlib.legend.Legend at 0x7ff0314cdf00>"
      ]
     },
     "execution_count": 23,
     "metadata": {},
     "output_type": "execute_result"
    },
    {
     "data": {
      "image/png": "[encoded data removed]",
      "text/plain": [
       "<Figure size 640x480 with 1 Axes>"
      ]
     },
     "metadata": {},
     "output_type": "display_data"
    }
   ],
   "source": [
    "sns.lineplot(data=loss, x='time', y='loss', hue='phase')\n",
    "plt.axhline(y=test_loss, c=\"red\", label=\"iMEK with inhibition\")\n",
    "plt.legend()"
   ]
  },
  {
   "cell_type": "code",
   "execution_count": null,
   "metadata": {},
   "outputs": [],
   "source": []
  },
  {
   "cell_type": "code",
   "execution_count": null,
   "metadata": {},
   "outputs": [],
   "source": []
  },
  {
   "cell_type": "code",
   "execution_count": null,
   "metadata": {},
   "outputs": [],
   "source": []
  },
  {
   "cell_type": "code",
   "execution_count": null,
   "metadata": {},
   "outputs": [],
   "source": []
  },
  {
   "cell_type": "code",
   "execution_count": null,
   "metadata": {},
   "outputs": [],
   "source": []
  },
  {
   "cell_type": "code",
   "execution_count": null,
   "metadata": {},
   "outputs": [],
   "source": []
  }
 ],
 "metadata": {
  "kernelspec": {
   "display_name": "Python 3 (ipykernel)",
   "language": "python",
   "name": "python3"
  },
  "language_info": {
   "codemirror_mode": {
    "name": "ipython",
    "version": 3
   },
   "file_extension": ".py",
   "mimetype": "text/x-python",
   "name": "python",
   "nbconvert_exporter": "python",
   "pygments_lexer": "ipython3",
   "version": "3.10.9"
  },
  "vscode": {
   "interpreter": {
    "hash": "5c1ed0b64c11d7548a24fe6144d7607debffb78254c121df2e37987ffb6e1ed6"
   }
  }
 },
 "nbformat": 4,
 "nbformat_minor": 2
}
