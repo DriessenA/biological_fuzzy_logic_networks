{
 "cells": [
  {
   "cell_type": "code",
   "execution_count": 1,
   "id": "0b286a3a",
   "metadata": {},
   "outputs": [],
   "source": [
    "import pandas as pd"
   ]
  },
  {
   "cell_type": "code",
   "execution_count": 2,
   "id": "ca37fe9b",
   "metadata": {},
   "outputs": [
    {
     "ename": "SyntaxError",
     "evalue": "unterminated string literal (detected at line 2) (270660671.py, line 2)",
     "output_type": "error",
     "traceback": [
      "\u001b[0;36m  Cell \u001b[0;32mIn[2], line 2\u001b[0;36m\u001b[0m\n\u001b[0;31m    path = f\"/Users/adr/Box/CARs/DREAMdata/Time_aligned_per_cell_line/CL_incl_test/\u001b[0m\n\u001b[0m           ^\u001b[0m\n\u001b[0;31mSyntaxError\u001b[0m\u001b[0;31m:\u001b[0m unterminated string literal (detected at line 2)\n"
     ]
    }
   ],
   "source": [
    "cell_line = \"BT20\"\n",
    "path = f\"/Users/adr/Box/CARs/DREAMdata/Time_aligned_per_cell_line/CL_incl_test/\n",
    "\n",
    "data = pd.read_csv(f\"{path}{cell_line}.csv\")"
   ]
  },
  {
   "cell_type": "code",
   "execution_count": null,
   "id": "8004ba20",
   "metadata": {},
   "outputs": [],
   "source": [
    "data"
   ]
  },
  {
   "cell_type": "code",
   "execution_count": null,
   "id": "b512b33d",
   "metadata": {},
   "outputs": [],
   "source": [
    "for treatment in data[\"treatment\"].unique():\n",
    "    sel_data = data[(data[\"treatment\"]==treatment)&(data[\"time\"]==9)]\n",
    "    sel_data.to_csv(f\"{path}{cell_line}_{treatment}_time9.csv\")"
   ]
  },
  {
   "cell_type": "code",
   "execution_count": null,
   "id": "f60e723c",
   "metadata": {},
   "outputs": [],
   "source": []
  }
 ],
 "metadata": {
  "kernelspec": {
   "display_name": "Python 3 (ipykernel)",
   "language": "python",
   "name": "python3"
  },
  "language_info": {
   "codemirror_mode": {
    "name": "ipython",
    "version": 3
   },
   "file_extension": ".py",
   "mimetype": "text/x-python",
   "name": "python",
   "nbconvert_exporter": "python",
   "pygments_lexer": "ipython3",
   "version": "3.10.9"
  }
 },
 "nbformat": 4,
 "nbformat_minor": 5
}
