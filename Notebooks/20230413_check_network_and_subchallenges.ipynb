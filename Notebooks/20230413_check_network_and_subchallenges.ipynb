{
 "cells": [
  {
   "cell_type": "code",
   "execution_count": 1,
   "id": "0285dfab",
   "metadata": {},
   "outputs": [
    {
     "name": "stderr",
     "output_type": "stream",
     "text": [
      "/dccstor/ipc1/.conda/envs/biofuzznet2/lib/python3.9/site-packages/tqdm/auto.py:22: TqdmWarning: IProgress not found. Please update jupyter and ipywidgets. See https://ipywidgets.readthedocs.io/en/stable/user_install.html\n",
      "  from .autonotebook import tqdm as notebook_tqdm\n"
     ]
    }
   ],
   "source": [
    "import networkx as nx\n",
    "from biological_fuzzy_logic_networks.utils import read_sif\n",
    "from biological_fuzzy_logic_networks.draw import draw_BioFuzzNet\n",
    "import pandas as pd"
   ]
  },
  {
   "cell_type": "code",
   "execution_count": 3,
   "id": "878f2f77",
   "metadata": {},
   "outputs": [
    {
     "name": "stdout",
     "output_type": "stream",
     "text": [
      "Index(['treatment', 'cell_line', 'time', 'cellID', 'fileID', 'b.CATENIN',\n",
      "       'cleavedCas', 'CyclinB', 'GAPDH', 'IdU', 'Ki.67', 'p.4EBP1',\n",
      "       'p.Akt.Ser473.', 'p.AKT.Thr308.', 'p.AMPK', 'p.BTK', 'p.CREB', 'p.ERK',\n",
      "       'p.FAK', 'p.GSK3b', 'p.H3', 'p.HER2', 'p.JNK', 'p.MAP2K3', 'p.MAPKAPK2',\n",
      "       'p.MEK', 'p.MKK3.MKK6', 'p.MKK4', 'p.NFkB', 'p.p38', 'p.p53',\n",
      "       'p.p90RSK', 'p.PDPK1', 'p.PLCg2', 'p.RB', 'p.S6', 'p.S6K', 'p.SMAD23',\n",
      "       'p.SRC', 'p.STAT1', 'p.STAT3', 'p.STAT5'],\n",
      "      dtype='object')\n"
     ]
    }
   ],
   "source": [
    "cl_data = pd.read_csv(\"/dccstor/ipc1/CAR/DREAM/DREAMdata/ZR7530.csv\")\n",
    "print(cl_data.columns)"
   ]
  },
  {
   "cell_type": "code",
   "execution_count": 4,
   "id": "8c25d9b0",
   "metadata": {},
   "outputs": [],
   "source": [
    "nodes, edges = read_sif(\"/dccstor/ipc1/CAR/DREAM/DREAMdata/PKN_Alice.sif\")\n",
    "# edges[(\"JNK\", \"p53\")] = 1"
   ]
  },
  {
   "cell_type": "code",
   "execution_count": 5,
   "id": "e4dede91",
   "metadata": {},
   "outputs": [],
   "source": [
    "G = nx.DiGraph()\n",
    "G.add_edges_from(edges)"
   ]
  },
  {
   "cell_type": "code",
   "execution_count": 6,
   "id": "011ac608",
   "metadata": {},
   "outputs": [],
   "source": [
    "measured_nodes = [\"PLCg2\", \"SRC\", \"FAK\", \"BTK\", \"STAT1\", \"STAT3\", \"STAT5\", \"PDPK1\", \n",
    "                  \"AKT\", \"AKT_S473\", \"AKT_T308\", \"GSK3B\", \"b-catenin\", \"NFkB\", \"AMPK\", \n",
    "                  \"4EBP1\", \"p70S6K\", \"S6\", \"MEK12\", \"MEK12_S221\", \"ERK12\", \"p90RSK\", \n",
    "                  \"CREB\", \"MKK4\", \"JNK\", \"p53\", \"RB\", \"MKK36\", \"p38\", \"MAPKAPK2\", \"cleavedCas\", \n",
    "                  \"H3\", \"SMAD23\", \"MAP3Ks\"]\n",
    "atrr_dict = {node: {\"measured\": True} if node in measured_nodes else {\"measured\": False} for node in G.nodes()}\n",
    "nx.set_node_attributes(G, atrr_dict)"
   ]
  },
  {
   "cell_type": "code",
   "execution_count": 7,
   "id": "4e69b92f",
   "metadata": {},
   "outputs": [],
   "source": [
    "SC1_nodes = [\"ERK12\", \"PLCg2\", \"S6\", \"AKT_S473\"] # HER2 not in the network...?"
   ]
  },
  {
   "cell_type": "code",
   "execution_count": 8,
   "id": "c1177720",
   "metadata": {},
   "outputs": [
    {
     "ename": "ImportError",
     "evalue": "requires pygraphviz http://pygraphviz.github.io/",
     "output_type": "error",
     "traceback": [
      "\u001b[0;31m---------------------------------------------------------------------------\u001b[0m",
      "\u001b[0;31mModuleNotFoundError\u001b[0m                       Traceback (most recent call last)",
      "File \u001b[0;32m/dccstor/ipc1/.conda/envs/biofuzznet2/lib/python3.9/site-packages/networkx/drawing/nx_agraph.py:281\u001b[0m, in \u001b[0;36mpygraphviz_layout\u001b[0;34m(G, prog, root, args)\u001b[0m\n\u001b[1;32m    280\u001b[0m \u001b[38;5;28;01mtry\u001b[39;00m:\n\u001b[0;32m--> 281\u001b[0m     \u001b[38;5;28;01mimport\u001b[39;00m \u001b[38;5;21;01mpygraphviz\u001b[39;00m\n\u001b[1;32m    282\u001b[0m \u001b[38;5;28;01mexcept\u001b[39;00m \u001b[38;5;167;01mImportError\u001b[39;00m \u001b[38;5;28;01mas\u001b[39;00m e:\n",
      "\u001b[0;31mModuleNotFoundError\u001b[0m: No module named 'pygraphviz'",
      "\nThe above exception was the direct cause of the following exception:\n",
      "\u001b[0;31mImportError\u001b[0m                               Traceback (most recent call last)",
      "Cell \u001b[0;32mIn[8], line 1\u001b[0m\n\u001b[0;32m----> 1\u001b[0m nx\u001b[38;5;241m.\u001b[39mdraw(G, pos\u001b[38;5;241m=\u001b[39m\u001b[43mnx\u001b[49m\u001b[38;5;241;43m.\u001b[39;49m\u001b[43mdrawing\u001b[49m\u001b[38;5;241;43m.\u001b[39;49m\u001b[43mnx_agraph\u001b[49m\u001b[38;5;241;43m.\u001b[39;49m\u001b[43mgraphviz_layout\u001b[49m\u001b[43m(\u001b[49m\u001b[43mG\u001b[49m\u001b[43m,\u001b[49m\u001b[43m \u001b[49m\u001b[43mprog\u001b[49m\u001b[38;5;241;43m=\u001b[39;49m\u001b[38;5;124;43m\"\u001b[39;49m\u001b[38;5;124;43mtwopi\u001b[39;49m\u001b[38;5;124;43m\"\u001b[39;49m\u001b[43m)\u001b[49m , with_labels\u001b[38;5;241m=\u001b[39m\u001b[38;5;28;01mTrue\u001b[39;00m)\n",
      "File \u001b[0;32m/dccstor/ipc1/.conda/envs/biofuzznet2/lib/python3.9/site-packages/networkx/drawing/nx_agraph.py:239\u001b[0m, in \u001b[0;36mgraphviz_layout\u001b[0;34m(G, prog, root, args)\u001b[0m\n\u001b[1;32m    211\u001b[0m \u001b[38;5;28;01mdef\u001b[39;00m \u001b[38;5;21mgraphviz_layout\u001b[39m(G, prog\u001b[38;5;241m=\u001b[39m\u001b[38;5;124m\"\u001b[39m\u001b[38;5;124mneato\u001b[39m\u001b[38;5;124m\"\u001b[39m, root\u001b[38;5;241m=\u001b[39m\u001b[38;5;28;01mNone\u001b[39;00m, args\u001b[38;5;241m=\u001b[39m\u001b[38;5;124m\"\u001b[39m\u001b[38;5;124m\"\u001b[39m):\n\u001b[1;32m    212\u001b[0m \u001b[38;5;250m    \u001b[39m\u001b[38;5;124;03m\"\"\"Create node positions for G using Graphviz.\u001b[39;00m\n\u001b[1;32m    213\u001b[0m \n\u001b[1;32m    214\u001b[0m \u001b[38;5;124;03m    Parameters\u001b[39;00m\n\u001b[0;32m   (...)\u001b[0m\n\u001b[1;32m    237\u001b[0m \u001b[38;5;124;03m    This is a wrapper for pygraphviz_layout.\u001b[39;00m\n\u001b[1;32m    238\u001b[0m \u001b[38;5;124;03m    \"\"\"\u001b[39;00m\n\u001b[0;32m--> 239\u001b[0m     \u001b[38;5;28;01mreturn\u001b[39;00m \u001b[43mpygraphviz_layout\u001b[49m\u001b[43m(\u001b[49m\u001b[43mG\u001b[49m\u001b[43m,\u001b[49m\u001b[43m \u001b[49m\u001b[43mprog\u001b[49m\u001b[38;5;241;43m=\u001b[39;49m\u001b[43mprog\u001b[49m\u001b[43m,\u001b[49m\u001b[43m \u001b[49m\u001b[43mroot\u001b[49m\u001b[38;5;241;43m=\u001b[39;49m\u001b[43mroot\u001b[49m\u001b[43m,\u001b[49m\u001b[43m \u001b[49m\u001b[43margs\u001b[49m\u001b[38;5;241;43m=\u001b[39;49m\u001b[43margs\u001b[49m\u001b[43m)\u001b[49m\n",
      "File \u001b[0;32m/dccstor/ipc1/.conda/envs/biofuzznet2/lib/python3.9/site-packages/networkx/drawing/nx_agraph.py:283\u001b[0m, in \u001b[0;36mpygraphviz_layout\u001b[0;34m(G, prog, root, args)\u001b[0m\n\u001b[1;32m    281\u001b[0m     \u001b[38;5;28;01mimport\u001b[39;00m \u001b[38;5;21;01mpygraphviz\u001b[39;00m\n\u001b[1;32m    282\u001b[0m \u001b[38;5;28;01mexcept\u001b[39;00m \u001b[38;5;167;01mImportError\u001b[39;00m \u001b[38;5;28;01mas\u001b[39;00m e:\n\u001b[0;32m--> 283\u001b[0m     \u001b[38;5;28;01mraise\u001b[39;00m \u001b[38;5;167;01mImportError\u001b[39;00m(\u001b[38;5;124m\"\u001b[39m\u001b[38;5;124mrequires pygraphviz \u001b[39m\u001b[38;5;124m\"\u001b[39m \u001b[38;5;124m\"\u001b[39m\u001b[38;5;124mhttp://pygraphviz.github.io/\u001b[39m\u001b[38;5;124m\"\u001b[39m) \u001b[38;5;28;01mfrom\u001b[39;00m \u001b[38;5;21;01me\u001b[39;00m\n\u001b[1;32m    284\u001b[0m \u001b[38;5;28;01mif\u001b[39;00m root \u001b[38;5;129;01mis\u001b[39;00m \u001b[38;5;129;01mnot\u001b[39;00m \u001b[38;5;28;01mNone\u001b[39;00m:\n\u001b[1;32m    285\u001b[0m     args \u001b[38;5;241m+\u001b[39m\u001b[38;5;241m=\u001b[39m \u001b[38;5;124mf\u001b[39m\u001b[38;5;124m\"\u001b[39m\u001b[38;5;124m-Groot=\u001b[39m\u001b[38;5;132;01m{\u001b[39;00mroot\u001b[38;5;132;01m}\u001b[39;00m\u001b[38;5;124m\"\u001b[39m\n",
      "\u001b[0;31mImportError\u001b[0m: requires pygraphviz http://pygraphviz.github.io/"
     ]
    }
   ],
   "source": [
    "nx.draw(G, pos=nx.drawing.nx_agraph.graphviz_layout(G, prog=\"twopi\") , with_labels=True)"
   ]
  },
  {
   "cell_type": "code",
   "execution_count": 14,
   "id": "402a166d",
   "metadata": {},
   "outputs": [
    {
     "data": {
      "text/plain": [
       "[]"
      ]
     },
     "execution_count": 14,
     "metadata": {},
     "output_type": "execute_result"
    }
   ],
   "source": [
    "[n for n in measured_nodes if not n in G.nodes()]"
   ]
  },
  {
   "cell_type": "code",
   "execution_count": null,
   "id": "3e68a388",
   "metadata": {},
   "outputs": [],
   "source": [
    "## Construct minimal network given challenge node\n",
    "## Stop building network when all root nodes are measured\n",
    "\n",
    "# Def check for measured parents:\n",
    "    # For each parent node of current node\n",
    "        # If node is measured -> include\n",
    "\n",
    "        # If parent node is not measured:\n",
    "            # Check for measured parents\n"
   ]
  },
  {
   "cell_type": "code",
   "execution_count": 100,
   "id": "18e7655d",
   "metadata": {},
   "outputs": [],
   "source": [
    "def check_measured_parents(node, sel_nodes=[]):\n",
    "    print(node)\n",
    "    parents = list(G.predecessors(node))\n",
    "    if len(parents) == 0:\n",
    "        raise Exception('Not possible to have measured input nodes')\n",
    "    else:\n",
    "        for p in parents:\n",
    "            if p==node:\n",
    "                continue\n",
    "            if G.nodes[p]['measured']:\n",
    "                sel_nodes.append(p)\n",
    "            else:\n",
    "                check_measured_parents(p, sel_nodes)\n",
    "        return sel_nodes\n",
    "            "
   ]
  },
  {
   "cell_type": "code",
   "execution_count": 102,
   "id": "dd04b7ae",
   "metadata": {},
   "outputs": [
    {
     "name": "stdout",
     "output_type": "stream",
     "text": [
      "S6\n",
      "PAK\n",
      "PI3K\n",
      "RAS\n",
      "EGFR\n",
      "EGF\n"
     ]
    },
    {
     "ename": "Exception",
     "evalue": "Not possible to have measured input nodes",
     "output_type": "error",
     "traceback": [
      "\u001b[0;31m---------------------------------------------------------------------------\u001b[0m",
      "\u001b[0;31mException\u001b[0m                                 Traceback (most recent call last)",
      "Cell \u001b[0;32mIn[102], line 1\u001b[0m\n\u001b[0;32m----> 1\u001b[0m \u001b[43mcheck_measured_parents\u001b[49m\u001b[43m(\u001b[49m\u001b[38;5;124;43m\"\u001b[39;49m\u001b[38;5;124;43mS6\u001b[39;49m\u001b[38;5;124;43m\"\u001b[39;49m\u001b[43m)\u001b[49m\n",
      "Cell \u001b[0;32mIn[100], line 13\u001b[0m, in \u001b[0;36mcheck_measured_parents\u001b[0;34m(node, sel_nodes)\u001b[0m\n\u001b[1;32m     11\u001b[0m         sel_nodes\u001b[38;5;241m.\u001b[39mappend(p)\n\u001b[1;32m     12\u001b[0m     \u001b[38;5;28;01melse\u001b[39;00m:\n\u001b[0;32m---> 13\u001b[0m         \u001b[43mcheck_measured_parents\u001b[49m\u001b[43m(\u001b[49m\u001b[43mp\u001b[49m\u001b[43m,\u001b[49m\u001b[43m \u001b[49m\u001b[43msel_nodes\u001b[49m\u001b[43m)\u001b[49m\n\u001b[1;32m     14\u001b[0m \u001b[38;5;28;01mreturn\u001b[39;00m sel_nodes\n",
      "Cell \u001b[0;32mIn[100], line 13\u001b[0m, in \u001b[0;36mcheck_measured_parents\u001b[0;34m(node, sel_nodes)\u001b[0m\n\u001b[1;32m     11\u001b[0m         sel_nodes\u001b[38;5;241m.\u001b[39mappend(p)\n\u001b[1;32m     12\u001b[0m     \u001b[38;5;28;01melse\u001b[39;00m:\n\u001b[0;32m---> 13\u001b[0m         \u001b[43mcheck_measured_parents\u001b[49m\u001b[43m(\u001b[49m\u001b[43mp\u001b[49m\u001b[43m,\u001b[49m\u001b[43m \u001b[49m\u001b[43msel_nodes\u001b[49m\u001b[43m)\u001b[49m\n\u001b[1;32m     14\u001b[0m \u001b[38;5;28;01mreturn\u001b[39;00m sel_nodes\n",
      "    \u001b[0;31m[... skipping similar frames: check_measured_parents at line 13 (2 times)]\u001b[0m\n",
      "Cell \u001b[0;32mIn[100], line 13\u001b[0m, in \u001b[0;36mcheck_measured_parents\u001b[0;34m(node, sel_nodes)\u001b[0m\n\u001b[1;32m     11\u001b[0m         sel_nodes\u001b[38;5;241m.\u001b[39mappend(p)\n\u001b[1;32m     12\u001b[0m     \u001b[38;5;28;01melse\u001b[39;00m:\n\u001b[0;32m---> 13\u001b[0m         \u001b[43mcheck_measured_parents\u001b[49m\u001b[43m(\u001b[49m\u001b[43mp\u001b[49m\u001b[43m,\u001b[49m\u001b[43m \u001b[49m\u001b[43msel_nodes\u001b[49m\u001b[43m)\u001b[49m\n\u001b[1;32m     14\u001b[0m \u001b[38;5;28;01mreturn\u001b[39;00m sel_nodes\n",
      "Cell \u001b[0;32mIn[100], line 5\u001b[0m, in \u001b[0;36mcheck_measured_parents\u001b[0;34m(node, sel_nodes)\u001b[0m\n\u001b[1;32m      3\u001b[0m parents \u001b[38;5;241m=\u001b[39m \u001b[38;5;28mlist\u001b[39m(G\u001b[38;5;241m.\u001b[39mpredecessors(node))\n\u001b[1;32m      4\u001b[0m \u001b[38;5;28;01mif\u001b[39;00m \u001b[38;5;28mlen\u001b[39m(parents) \u001b[38;5;241m==\u001b[39m \u001b[38;5;241m0\u001b[39m:\n\u001b[0;32m----> 5\u001b[0m     \u001b[38;5;28;01mraise\u001b[39;00m \u001b[38;5;167;01mException\u001b[39;00m(\u001b[38;5;124m'\u001b[39m\u001b[38;5;124mNot possible to have measured input nodes\u001b[39m\u001b[38;5;124m'\u001b[39m)\n\u001b[1;32m      6\u001b[0m \u001b[38;5;28;01melse\u001b[39;00m:\n\u001b[1;32m      7\u001b[0m     \u001b[38;5;28;01mfor\u001b[39;00m p \u001b[38;5;129;01min\u001b[39;00m parents:\n",
      "\u001b[0;31mException\u001b[0m: Not possible to have measured input nodes"
     ]
    }
   ],
   "source": [
    "check_measured_parents(\"S6\")"
   ]
  },
  {
   "cell_type": "code",
   "execution_count": 97,
   "id": "9dfb524a",
   "metadata": {},
   "outputs": [
    {
     "data": {
      "text/plain": [
       "[]"
      ]
     },
     "execution_count": 97,
     "metadata": {},
     "output_type": "execute_result"
    }
   ],
   "source": [
    "list(a)"
   ]
  },
  {
   "cell_type": "code",
   "execution_count": 98,
   "id": "8d62fba7",
   "metadata": {},
   "outputs": [
    {
     "name": "stdout",
     "output_type": "stream",
     "text": [
      "ERK12\n",
      "['MEK12', 'FAK']\n",
      "PLCg2\n",
      "S6\n",
      "AKT_S473\n"
     ]
    }
   ],
   "source": [
    "for node in SC1_nodes:\n",
    "    print(node)\n",
    "    try:\n",
    "        print(check_measured_parents(node))\n",
    "    except:\n",
    "        continue"
   ]
  },
  {
   "cell_type": "code",
   "execution_count": null,
   "id": "546627a4",
   "metadata": {},
   "outputs": [],
   "source": []
  },
  {
   "cell_type": "code",
   "execution_count": 26,
   "id": "7129ad47",
   "metadata": {},
   "outputs": [
    {
     "data": {
      "text/plain": [
       "{'PIP3': False,\n",
       " 'AKT_S473': True,\n",
       " 'p53': True,\n",
       " 'RB': True,\n",
       " 'GSK3B': True,\n",
       " 'AMPK': True,\n",
       " 'cleavedCas': True,\n",
       " 'SMAD23': True,\n",
       " 'ERK12': True,\n",
       " 'MSK12': False,\n",
       " 'MKK36': True,\n",
       " 'H3': True,\n",
       " 'p90RSK': True,\n",
       " 'SERUM': False,\n",
       " 'mTOR': False,\n",
       " 'AKT': True,\n",
       " 'NFkB': True,\n",
       " 'cAMP': False,\n",
       " 'PKA': False,\n",
       " 'PKC': False,\n",
       " 'p38': True,\n",
       " 'PLCg2': True,\n",
       " 'MET': False,\n",
       " 'RAF': False,\n",
       " 'p70S6K': True,\n",
       " 'PDPK1': True,\n",
       " 'AKT_T308': True,\n",
       " 'MAPKAPK2': True,\n",
       " 'PTEN': False,\n",
       " 'b-catenin': True,\n",
       " 'S6': True,\n",
       " 'CREB': True,\n",
       " 'RAS': False,\n",
       " 'PI3K': False,\n",
       " 'BTK': True,\n",
       " 'RAF_S259': False,\n",
       " 'MARCKS': False,\n",
       " 'SRC': True,\n",
       " 'FAK': True,\n",
       " 'EGFR': False,\n",
       " 'MEK12_S221': True,\n",
       " '4EBP1': True,\n",
       " 'SYK': False,\n",
       " 'MKK4': True,\n",
       " 'JNK': True,\n",
       " 'MAP3Ks': True,\n",
       " 'INSR': False,\n",
       " 'PAK': False,\n",
       " 'STAT5': True,\n",
       " 'EGF': False,\n",
       " 'MEK12': True,\n",
       " 'STAT1': True,\n",
       " 'STAT3': True}"
      ]
     },
     "execution_count": 26,
     "metadata": {},
     "output_type": "execute_result"
    }
   ],
   "source": [
    "nx.get_node_attributes(G, \"measured\")"
   ]
  },
  {
   "cell_type": "code",
   "execution_count": 22,
   "id": "0d9390ea",
   "metadata": {},
   "outputs": [
    {
     "data": {
      "text/plain": [
       "AtlasView({})"
      ]
     },
     "execution_count": 22,
     "metadata": {},
     "output_type": "execute_result"
    }
   ],
   "source": [
    "G[\"STAT3\"]"
   ]
  },
  {
   "cell_type": "code",
   "execution_count": 110,
   "id": "7d900fc3",
   "metadata": {},
   "outputs": [
    {
     "name": "stdout",
     "output_type": "stream",
     "text": [
      "SRC\n",
      "PDPK1\n",
      "AKT_S473\n",
      "AMPK\n",
      "SMAD23\n",
      "MAP3Ks\n"
     ]
    }
   ],
   "source": [
    "for node in measured_nodes:\n",
    "\n",
    "    parents= list(G.predecessors(node))\n",
    "    \n",
    "    # Check if all parents are not measured\n",
    "    if (len(parents)-sum([G.nodes[p]['measured'] for p in parents]) == len(parents)):\n",
    "        print(node)"
   ]
  },
  {
   "cell_type": "markdown",
   "id": "12d0237b",
   "metadata": {},
   "source": [
    "Would it be possible, to have the input (SERUM=1 and EGF=1) but then when all upstream nodes are not measured we use the single cell values. So we remove the upstream interactions there and include the SRC, PDPK1, AKT_S473, AMPK, SMAD23 and MAP3Ks as root nodes. To include single cell variability in the network"
   ]
  },
  {
   "cell_type": "code",
   "execution_count": null,
   "id": "573fa5d6",
   "metadata": {},
   "outputs": [],
   "source": []
  }
 ],
 "metadata": {
  "kernelspec": {
   "display_name": "Python 3 (ipykernel)",
   "language": "python",
   "name": "python3"
  },
  "language_info": {
   "codemirror_mode": {
    "name": "ipython",
    "version": 3
   },
   "file_extension": ".py",
   "mimetype": "text/x-python",
   "name": "python",
   "nbconvert_exporter": "python",
   "pygments_lexer": "ipython3",
   "version": "3.9.13"
  }
 },
 "nbformat": 4,
 "nbformat_minor": 5
}
