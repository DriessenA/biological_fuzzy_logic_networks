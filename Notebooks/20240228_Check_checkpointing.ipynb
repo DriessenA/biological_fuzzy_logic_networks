{
 "cells": [
  {
   "cell_type": "code",
   "execution_count": 1,
   "id": "dd137e76",
   "metadata": {},
   "outputs": [
    {
     "name": "stderr",
     "output_type": "stream",
     "text": [
      "/dccstor/ipc1/.conda/envs/biofuzznet2/lib/python3.9/site-packages/tqdm/auto.py:22: TqdmWarning: IProgress not found. Please update jupyter and ipywidgets. See https://ipywidgets.readthedocs.io/en/stable/user_install.html\n",
      "  from .autonotebook import tqdm as notebook_tqdm\n"
     ]
    }
   ],
   "source": [
    "import torch\n",
    "import json\n",
    "import pandas as pd\n",
    "import seaborn as sns\n",
    "import matplotlib.pyplot as plt\n",
    "\n",
    "from biological_fuzzy_logic_networks.DREAM_analysis.utils import create_bfz"
   ]
  },
  {
   "cell_type": "code",
   "execution_count": 10,
   "id": "36b42982",
   "metadata": {},
   "outputs": [],
   "source": [
    "with open(\"/dccstor/ipc1/CAR/BFN/Model/Test/BT20_EGF.json\", \"rb\") as f:\n",
    "    config = json.load(f)\n",
    "\n",
    "ckpt = torch.load(f\"/dccstor/ipc1/CAR/BFN/Model/Test/model.pt\")\n",
    "model = create_bfz(config[\"pkn_sif\"], config[\"network_class\"])\n",
    "model.load_from_checkpoint(ckpt[\"model_state_dict\"])\n",
    "\n",
    "pred = pd.read_csv(\"/dccstor/ipc1/CAR/BFN/Model/Test/predictions_with_model_early_stopping.csv\", index_col=0)\n",
    "val_data = pd.read_csv(\"/dccstor/ipc1/CAR/BFN/Model/Test/valid_data.csv\", index_col=0)\n",
    "val_output_states = pd.read_csv(\"/dccstor/ipc1/CAR/BFN/Model/Test/valid_output_states.csv\", index_col=0)\n",
    "val_inhibitors = pd.read_csv(\"/dccstor/ipc1/CAR/BFN/Model/Test/valid_inhibitors.csv\", index_col=0)\n",
    "losses = pd.read_csv(\"/dccstor/ipc1/CAR/BFN/Model/Test/loss.csv\", index_col=0)"
   ]
  },
  {
   "cell_type": "code",
   "execution_count": 11,
   "id": "f9a137c4",
   "metadata": {},
   "outputs": [
    {
     "data": {
      "text/plain": [
       "{'epoch': 188,\n",
       " 'model_state_dict': OrderedDict([('MEK12@@@MEK_and_FAK.n', tensor([0.1978])),\n",
       "              ('MEK12@@@MEK_and_FAK.K', tensor([-0.7846])),\n",
       "              ('FAK@@@MEK_and_FAK.n', tensor([-0.2166])),\n",
       "              ('FAK@@@MEK_and_FAK.K', tensor([-8.6160]))]),\n",
       " 'optimizer_state_dict': {'state': {0: {'step': 36477,\n",
       "    'exp_avg': tensor([-0.0001]),\n",
       "    'exp_avg_sq': tensor([1.6218e-06])},\n",
       "   1: {'step': 36477,\n",
       "    'exp_avg': tensor([0.0019]),\n",
       "    'exp_avg_sq': tensor([6.7699e-05])},\n",
       "   2: {'step': 36477,\n",
       "    'exp_avg': tensor([-3.6491e-07]),\n",
       "    'exp_avg_sq': tensor([4.9332e-11])},\n",
       "   3: {'step': 36477,\n",
       "    'exp_avg': tensor([1.0949e-06]),\n",
       "    'exp_avg_sq': tensor([1.0124e-10])}},\n",
       "  'param_groups': [{'lr': 0.001,\n",
       "    'betas': (0.9, 0.999),\n",
       "    'eps': 1e-08,\n",
       "    'weight_decay': 0,\n",
       "    'amsgrad': False,\n",
       "    'maximize': False,\n",
       "    'params': [0, 1, 2, 3]}]},\n",
       " 'loss': tensor(0.0244),\n",
       " 'best_val_loss': tensor(0.0244)}"
      ]
     },
     "execution_count": 11,
     "metadata": {},
     "output_type": "execute_result"
    }
   ],
   "source": [
    "ckpt # Val loss should be 0.0244"
   ]
  },
  {
   "cell_type": "code",
   "execution_count": 12,
   "id": "72f1ba2f",
   "metadata": {},
   "outputs": [
    {
     "data": {
      "text/plain": [
       "True"
      ]
     },
     "execution_count": 12,
     "metadata": {},
     "output_type": "execute_result"
    }
   ],
   "source": [
    "sum(pred[\"ERK12\"] == val_output_states[\"ERK12\"]) == len(val_data)"
   ]
  },
  {
   "cell_type": "code",
   "execution_count": 8,
   "id": "ff77bbb4",
   "metadata": {},
   "outputs": [
    {
     "data": {
      "text/html": [
       "<div>\n",
       "<style scoped>\n",
       "    .dataframe tbody tr th:only-of-type {\n",
       "        vertical-align: middle;\n",
       "    }\n",
       "\n",
       "    .dataframe tbody tr th {\n",
       "        vertical-align: top;\n",
       "    }\n",
       "\n",
       "    .dataframe thead th {\n",
       "        text-align: right;\n",
       "    }\n",
       "</style>\n",
       "<table border=\"1\" class=\"dataframe\">\n",
       "  <thead>\n",
       "    <tr style=\"text-align: right;\">\n",
       "      <th></th>\n",
       "      <th>ERK12</th>\n",
       "    </tr>\n",
       "  </thead>\n",
       "  <tbody>\n",
       "    <tr>\n",
       "      <th>0</th>\n",
       "      <td>0.524184</td>\n",
       "    </tr>\n",
       "    <tr>\n",
       "      <th>1</th>\n",
       "      <td>0.558378</td>\n",
       "    </tr>\n",
       "    <tr>\n",
       "      <th>2</th>\n",
       "      <td>0.714762</td>\n",
       "    </tr>\n",
       "    <tr>\n",
       "      <th>3</th>\n",
       "      <td>0.635518</td>\n",
       "    </tr>\n",
       "    <tr>\n",
       "      <th>4</th>\n",
       "      <td>0.610775</td>\n",
       "    </tr>\n",
       "    <tr>\n",
       "      <th>...</th>\n",
       "      <td>...</td>\n",
       "    </tr>\n",
       "    <tr>\n",
       "      <th>19244</th>\n",
       "      <td>0.730878</td>\n",
       "    </tr>\n",
       "    <tr>\n",
       "      <th>19245</th>\n",
       "      <td>0.641733</td>\n",
       "    </tr>\n",
       "    <tr>\n",
       "      <th>19246</th>\n",
       "      <td>0.721147</td>\n",
       "    </tr>\n",
       "    <tr>\n",
       "      <th>19247</th>\n",
       "      <td>0.683234</td>\n",
       "    </tr>\n",
       "    <tr>\n",
       "      <th>19248</th>\n",
       "      <td>0.716591</td>\n",
       "    </tr>\n",
       "  </tbody>\n",
       "</table>\n",
       "<p>19249 rows × 1 columns</p>\n",
       "</div>"
      ],
      "text/plain": [
       "          ERK12\n",
       "0      0.524184\n",
       "1      0.558378\n",
       "2      0.714762\n",
       "3      0.635518\n",
       "4      0.610775\n",
       "...         ...\n",
       "19244  0.730878\n",
       "19245  0.641733\n",
       "19246  0.721147\n",
       "19247  0.683234\n",
       "19248  0.716591\n",
       "\n",
       "[19249 rows x 1 columns]"
      ]
     },
     "execution_count": 8,
     "metadata": {},
     "output_type": "execute_result"
    }
   ],
   "source": [
    "pred"
   ]
  },
  {
   "cell_type": "code",
   "execution_count": 9,
   "id": "f0b29395",
   "metadata": {},
   "outputs": [
    {
     "data": {
      "text/html": [
       "<div>\n",
       "<style scoped>\n",
       "    .dataframe tbody tr th:only-of-type {\n",
       "        vertical-align: middle;\n",
       "    }\n",
       "\n",
       "    .dataframe tbody tr th {\n",
       "        vertical-align: top;\n",
       "    }\n",
       "\n",
       "    .dataframe thead th {\n",
       "        text-align: right;\n",
       "    }\n",
       "</style>\n",
       "<table border=\"1\" class=\"dataframe\">\n",
       "  <thead>\n",
       "    <tr style=\"text-align: right;\">\n",
       "      <th></th>\n",
       "      <th>MEK12</th>\n",
       "      <th>FAK</th>\n",
       "      <th>ERK12</th>\n",
       "    </tr>\n",
       "  </thead>\n",
       "  <tbody>\n",
       "    <tr>\n",
       "      <th>0</th>\n",
       "      <td>0.477804</td>\n",
       "      <td>0.481561</td>\n",
       "      <td>0.525537</td>\n",
       "    </tr>\n",
       "    <tr>\n",
       "      <th>1</th>\n",
       "      <td>0.508439</td>\n",
       "      <td>0.388597</td>\n",
       "      <td>0.559742</td>\n",
       "    </tr>\n",
       "    <tr>\n",
       "      <th>2</th>\n",
       "      <td>0.692215</td>\n",
       "      <td>0.625581</td>\n",
       "      <td>0.715996</td>\n",
       "    </tr>\n",
       "    <tr>\n",
       "      <th>3</th>\n",
       "      <td>0.587755</td>\n",
       "      <td>0.444329</td>\n",
       "      <td>0.636856</td>\n",
       "    </tr>\n",
       "    <tr>\n",
       "      <th>4</th>\n",
       "      <td>0.560467</td>\n",
       "      <td>0.562323</td>\n",
       "      <td>0.612129</td>\n",
       "    </tr>\n",
       "    <tr>\n",
       "      <th>...</th>\n",
       "      <td>...</td>\n",
       "      <td>...</td>\n",
       "      <td>...</td>\n",
       "    </tr>\n",
       "    <tr>\n",
       "      <th>19244</th>\n",
       "      <td>0.717807</td>\n",
       "      <td>0.117776</td>\n",
       "      <td>0.732081</td>\n",
       "    </tr>\n",
       "    <tr>\n",
       "      <th>19245</th>\n",
       "      <td>0.594938</td>\n",
       "      <td>0.457128</td>\n",
       "      <td>0.643066</td>\n",
       "    </tr>\n",
       "    <tr>\n",
       "      <th>19246</th>\n",
       "      <td>0.702132</td>\n",
       "      <td>0.410823</td>\n",
       "      <td>0.722370</td>\n",
       "    </tr>\n",
       "    <tr>\n",
       "      <th>19247</th>\n",
       "      <td>0.646942</td>\n",
       "      <td>0.554948</td>\n",
       "      <td>0.684519</td>\n",
       "    </tr>\n",
       "    <tr>\n",
       "      <th>19248</th>\n",
       "      <td>0.695027</td>\n",
       "      <td>0.647465</td>\n",
       "      <td>0.717822</td>\n",
       "    </tr>\n",
       "  </tbody>\n",
       "</table>\n",
       "<p>19249 rows × 3 columns</p>\n",
       "</div>"
      ],
      "text/plain": [
       "          MEK12       FAK     ERK12\n",
       "0      0.477804  0.481561  0.525537\n",
       "1      0.508439  0.388597  0.559742\n",
       "2      0.692215  0.625581  0.715996\n",
       "3      0.587755  0.444329  0.636856\n",
       "4      0.560467  0.562323  0.612129\n",
       "...         ...       ...       ...\n",
       "19244  0.717807  0.117776  0.732081\n",
       "19245  0.594938  0.457128  0.643066\n",
       "19246  0.702132  0.410823  0.722370\n",
       "19247  0.646942  0.554948  0.684519\n",
       "19248  0.695027  0.647465  0.717822\n",
       "\n",
       "[19249 rows x 3 columns]"
      ]
     },
     "execution_count": 9,
     "metadata": {},
     "output_type": "execute_result"
    }
   ],
   "source": [
    "val_output_states"
   ]
  },
  {
   "cell_type": "code",
   "execution_count": 7,
   "id": "6b5c5cd4",
   "metadata": {},
   "outputs": [
    {
     "name": "stderr",
     "output_type": "stream",
     "text": [
      "/tmp/ipykernel_704847/3986053319.py:2: MatplotlibDeprecationWarning: Support for passing numbers through unit converters is deprecated since 3.5 and support will be removed two minor releases later; use Axis.convert_units instead.\n",
      "  t=plt.xticks(labels=[], ticks=[])\n"
     ]
    },
    {
     "data": {
      "text/plain": [
       "<matplotlib.lines.Line2D at 0x145763a17490>"
      ]
     },
     "execution_count": 7,
     "metadata": {},
     "output_type": "execute_result"
    },
    {
     "data": {
      "image/png": "[encoded data removed]",
      "text/plain": [
       "<Figure size 640x480 with 1 Axes>"
      ]
     },
     "metadata": {},
     "output_type": "display_data"
    }
   ],
   "source": [
    "sns.lineplot(data=losses[losses[\"phase\"]==\"valid\"], x=\"time\", y=\"loss\")\n",
    "t=plt.xticks(labels=[], ticks=[])\n",
    "plt.axhline(y=0.0244, c=\"grey\", linestyle=\"--\")"
   ]
  },
  {
   "cell_type": "code",
   "execution_count": null,
   "id": "280f8fd1",
   "metadata": {},
   "outputs": [],
   "source": []
  },
  {
   "cell_type": "code",
   "execution_count": 6,
   "id": "828697b1",
   "metadata": {},
   "outputs": [
    {
     "data": {
      "text/html": [
       "<div>\n",
       "<style scoped>\n",
       "    .dataframe tbody tr th:only-of-type {\n",
       "        vertical-align: middle;\n",
       "    }\n",
       "\n",
       "    .dataframe tbody tr th {\n",
       "        vertical-align: top;\n",
       "    }\n",
       "\n",
       "    .dataframe thead th {\n",
       "        text-align: right;\n",
       "    }\n",
       "</style>\n",
       "<table border=\"1\" class=\"dataframe\">\n",
       "  <thead>\n",
       "    <tr style=\"text-align: right;\">\n",
       "      <th></th>\n",
       "      <th>time</th>\n",
       "      <th>loss</th>\n",
       "      <th>phase</th>\n",
       "    </tr>\n",
       "  </thead>\n",
       "  <tbody>\n",
       "    <tr>\n",
       "      <th>0</th>\n",
       "      <td>2024-02-28 10:08:39.723522</td>\n",
       "      <td>0.241738</td>\n",
       "      <td>train</td>\n",
       "    </tr>\n",
       "    <tr>\n",
       "      <th>1</th>\n",
       "      <td>2024-02-28 10:08:39.747071</td>\n",
       "      <td>0.251287</td>\n",
       "      <td>train</td>\n",
       "    </tr>\n",
       "    <tr>\n",
       "      <th>2</th>\n",
       "      <td>2024-02-28 10:08:39.764299</td>\n",
       "      <td>0.244218</td>\n",
       "      <td>train</td>\n",
       "    </tr>\n",
       "    <tr>\n",
       "      <th>3</th>\n",
       "      <td>2024-02-28 10:08:39.781083</td>\n",
       "      <td>0.249965</td>\n",
       "      <td>train</td>\n",
       "    </tr>\n",
       "    <tr>\n",
       "      <th>4</th>\n",
       "      <td>2024-02-28 10:08:39.796953</td>\n",
       "      <td>0.244858</td>\n",
       "      <td>train</td>\n",
       "    </tr>\n",
       "    <tr>\n",
       "      <th>...</th>\n",
       "      <td>...</td>\n",
       "      <td>...</td>\n",
       "      <td>...</td>\n",
       "    </tr>\n",
       "    <tr>\n",
       "      <th>36661</th>\n",
       "      <td>2024-02-28 10:22:37.118045</td>\n",
       "      <td>0.026252</td>\n",
       "      <td>train</td>\n",
       "    </tr>\n",
       "    <tr>\n",
       "      <th>36662</th>\n",
       "      <td>2024-02-28 10:22:37.138457</td>\n",
       "      <td>0.021754</td>\n",
       "      <td>train</td>\n",
       "    </tr>\n",
       "    <tr>\n",
       "      <th>36663</th>\n",
       "      <td>2024-02-28 10:22:37.158953</td>\n",
       "      <td>0.025281</td>\n",
       "      <td>train</td>\n",
       "    </tr>\n",
       "    <tr>\n",
       "      <th>36664</th>\n",
       "      <td>2024-02-28 10:22:37.178941</td>\n",
       "      <td>0.026145</td>\n",
       "      <td>train</td>\n",
       "    </tr>\n",
       "    <tr>\n",
       "      <th>36665</th>\n",
       "      <td>2024-02-28 10:22:37.195853</td>\n",
       "      <td>0.024447</td>\n",
       "      <td>valid</td>\n",
       "    </tr>\n",
       "  </tbody>\n",
       "</table>\n",
       "<p>36666 rows × 3 columns</p>\n",
       "</div>"
      ],
      "text/plain": [
       "                             time      loss  phase\n",
       "0      2024-02-28 10:08:39.723522  0.241738  train\n",
       "1      2024-02-28 10:08:39.747071  0.251287  train\n",
       "2      2024-02-28 10:08:39.764299  0.244218  train\n",
       "3      2024-02-28 10:08:39.781083  0.249965  train\n",
       "4      2024-02-28 10:08:39.796953  0.244858  train\n",
       "...                           ...       ...    ...\n",
       "36661  2024-02-28 10:22:37.118045  0.026252  train\n",
       "36662  2024-02-28 10:22:37.138457  0.021754  train\n",
       "36663  2024-02-28 10:22:37.158953  0.025281  train\n",
       "36664  2024-02-28 10:22:37.178941  0.026145  train\n",
       "36665  2024-02-28 10:22:37.195853  0.024447  valid\n",
       "\n",
       "[36666 rows x 3 columns]"
      ]
     },
     "execution_count": 6,
     "metadata": {},
     "output_type": "execute_result"
    }
   ],
   "source": [
    "losses"
   ]
  }
 ],
 "metadata": {
  "kernelspec": {
   "display_name": "Python 3 (ipykernel)",
   "language": "python",
   "name": "python3"
  },
  "language_info": {
   "codemirror_mode": {
    "name": "ipython",
    "version": 3
   },
   "file_extension": ".py",
   "mimetype": "text/x-python",
   "name": "python",
   "nbconvert_exporter": "python",
   "pygments_lexer": "ipython3",
   "version": "3.9.13"
  }
 },
 "nbformat": 4,
 "nbformat_minor": 5
}
