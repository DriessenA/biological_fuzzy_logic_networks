{
 "cells": [
  {
   "cell_type": "code",
   "execution_count": 1,
   "id": "0ee93b29",
   "metadata": {},
   "outputs": [],
   "source": [
    "import mlflow\n",
    "import pandas as pd\n",
    "import seaborn as sns\n",
    "import matplotlib.pyplot as plt\n",
    "\n",
    "from biological_fuzzy_logic_networks.DREAM_analysis.model_analysis_utils import get_test_data_formatted"
   ]
  },
  {
   "cell_type": "code",
   "execution_count": 2,
   "id": "16eeadaf",
   "metadata": {},
   "outputs": [],
   "source": [
    "client = mlflow.tracking.MlflowClient(tracking_uri=\"http://localhost:5000\")"
   ]
  },
  {
   "cell_type": "code",
   "execution_count": 3,
   "id": "d1f7e9f2",
   "metadata": {},
   "outputs": [],
   "source": [
    "exp_id = client.get_experiment_by_name(\"Subnetwork\").experiment_id\n",
    "runs = client.search_runs(experiment_ids=exp_id, max_results=3500)\n",
    "runs_df = pd.DataFrame([{**dict(run.info), **run.data.params, **run.data.metrics} for run in runs])\n",
    "runs_df = runs_df.drop(columns = ['artifact_uri', 'end_time', 'experiment_id', 'lifecycle_stage', \n",
    "                                  'run_uuid', 'start_time', 'status', 'user_id'])"
   ]
  },
  {
   "cell_type": "code",
   "execution_count": null,
   "id": "7443713f",
   "metadata": {},
   "outputs": [],
   "source": [
    "runs = runs_df[~runs_df[\"test_mse_RB\"].isna()]"
   ]
  },
  {
   "cell_type": "code",
   "execution_count": null,
   "id": "ebc59149",
   "metadata": {},
   "outputs": [],
   "source": [
    "runs.dtypes[runs.dtypes!=\"float64\"]"
   ]
  },
  {
   "cell_type": "code",
   "execution_count": null,
   "id": "48e3aa66",
   "metadata": {},
   "outputs": [],
   "source": [
    "runs['n_epochs'] = runs[\"n_epochs\"].astype(int)\n",
    "runs['batch_size'] = runs[\"batch_size\"].astype(int)\n",
    "runs['learning_rate'] = runs[\"n_epochs\"].astype(float)"
   ]
  },
  {
   "cell_type": "code",
   "execution_count": null,
   "id": "e0c2c787",
   "metadata": {},
   "outputs": [],
   "source": [
    "runs[\"param_number\"] = [setting.split(\"_\")[0] for setting in runs[\"param_setting\"]]\n",
    "all_cv_params = list((runs.groupby(\"param_number\").size()[runs.groupby(\"param_number\").size()==5]).index)\n",
    "sel_runs = runs[runs[\"param_number\"].isin(all_cv_params)]\n",
    "avg_runs = sel_runs.groupby(\"param_number\").mean().reset_index(drop=False)"
   ]
  },
  {
   "cell_type": "code",
   "execution_count": null,
   "id": "d0fe2d05",
   "metadata": {},
   "outputs": [],
   "source": [
    "avg_runs"
   ]
  },
  {
   "cell_type": "code",
   "execution_count": null,
   "id": "df730d18",
   "metadata": {},
   "outputs": [],
   "source": [
    "ax = sns.scatterplot(data=avg_runs, x=\"best_val_loss\", y=\"train_loss\", hue=\"param_number\", legend=False)\n",
    "ax.plot([0,1], [0,1], transform=ax.transAxes, linestyle=\"--\", color=\"grey\")"
   ]
  },
  {
   "cell_type": "code",
   "execution_count": null,
   "id": "9f858c1b",
   "metadata": {},
   "outputs": [],
   "source": [
    "sns.barplot(data=avg_runs, x=\"n_epochs\", y=\"valid_loss\")"
   ]
  },
  {
   "cell_type": "code",
   "execution_count": null,
   "id": "9cc0f281",
   "metadata": {},
   "outputs": [],
   "source": [
    "sns.barplot(data=avg_runs, x=\"batch_size\", y=\"valid_loss\")"
   ]
  },
  {
   "cell_type": "code",
   "execution_count": null,
   "id": "abaf932f",
   "metadata": {},
   "outputs": [],
   "source": [
    "sns.barplot(data=avg_runs, x=\"learning_rate\", y=\"valid_loss\")"
   ]
  },
  {
   "cell_type": "code",
   "execution_count": null,
   "id": "af8f6cfb",
   "metadata": {},
   "outputs": [],
   "source": [
    "val_r2 = pd.melt(frame=avg_runs, id_vars = \"param_number\", value_vars=['val_r2_cleavedCas', 'val_r2_AKT_S473',\n",
    "       'val_r2_AKT_T308', 'val_r2_AMPK', 'val_r2_CREB', 'val_r2_ERK12',\n",
    "       'val_r2_FAK', 'val_r2_GSK3B', 'val_r2_H3', 'val_r2_JNK',\n",
    "       'val_r2_MAPKAPK2', 'val_r2_MEK12', 'val_r2_MKK36', 'val_r2_MKK4',\n",
    "       'val_r2_p38', 'val_r2_p53', 'val_r2_p90RSK', 'val_r2_RB',\n",
    "       'val_r2_SMAD23', 'val_r2_SRC', 'val_r2_EGFR'], var_name=\"node\", value_name=\"val_r2\")\n",
    "test_r2 = pd.melt(frame=avg_runs, id_vars = \"param_number\", value_vars=['test_r2_cleavedCas',\n",
    "       'test_r2_AKT_S473', 'test_r2_AKT_T308', 'test_r2_AMPK', 'test_r2_CREB',\n",
    "       'test_r2_ERK12', 'test_r2_FAK', 'test_r2_GSK3B', 'test_r2_H3',\n",
    "       'test_r2_JNK', 'test_r2_MAPKAPK2', 'test_r2_MEK12', 'test_r2_MKK36',\n",
    "       'test_r2_MKK4', 'test_r2_p38', 'test_r2_p53', 'test_r2_p90RSK',\n",
    "       'test_r2_RB', 'test_r2_SMAD23', 'test_r2_SRC', 'test_r2_EGFR'], \n",
    "        var_name=\"node\", value_name=\"test_r2\")"
   ]
  },
  {
   "cell_type": "code",
   "execution_count": null,
   "id": "6a289861",
   "metadata": {},
   "outputs": [],
   "source": [
    "temp = pd.merge(val_r2, test_r2, on=\"param_number\")\n",
    "ax=sns.scatterplot(data=temp, x=\"test_r2\", y=\"val_r2\", hue=\"node_x\", legend=False)\n",
    "ax.plot([0,1], [0,1], transform=ax.transAxes, linestyle=\"--\", color=\"grey\")"
   ]
  },
  {
   "cell_type": "code",
   "execution_count": null,
   "id": "ddeaa99a",
   "metadata": {},
   "outputs": [],
   "source": [
    "temp = pd.merge(val_r2, test_r2, on=\"param_number\")\n",
    "ax=sns.scatterplot(data=temp, x=\"test_r2\", y=\"val_r2\", hue=\"param_number\", legend=False)\n",
    "ax.plot([0,1], [0,1], transform=ax.transAxes, linestyle=\"--\", color=\"grey\")"
   ]
  },
  {
   "cell_type": "code",
   "execution_count": null,
   "id": "6478737f",
   "metadata": {},
   "outputs": [],
   "source": [
    "sns.barplot(data=val_r2, x=\"node\", y=\"val_r2\")\n",
    "t=plt.xticks(rotation=90)"
   ]
  },
  {
   "cell_type": "code",
   "execution_count": null,
   "id": "13de9003",
   "metadata": {},
   "outputs": [],
   "source": [
    "sns.barplot(data=test_r2, x=\"node\", y=\"test_r2\")\n",
    "t=plt.xticks(rotation=90)"
   ]
  },
  {
   "cell_type": "code",
   "execution_count": null,
   "id": "d50d1eef",
   "metadata": {},
   "outputs": [],
   "source": [
    "avg_runs.sort_values(\"valid_loss\")"
   ]
  },
  {
   "cell_type": "code",
   "execution_count": null,
   "id": "7fdb0e8b",
   "metadata": {},
   "outputs": [],
   "source": [
    "runs['test_cell_lines']"
   ]
  },
  {
   "cell_type": "code",
   "execution_count": null,
   "id": "2bd83393",
   "metadata": {},
   "outputs": [],
   "source": [
    "best_param = 1"
   ]
  },
  {
   "cell_type": "code",
   "execution_count": null,
   "id": "eb70dd3a",
   "metadata": {},
   "outputs": [],
   "source": [
    "# Average over folds\n",
    "data_folder = \"/dccstor/ipc1/CAR/DREAM/\"\n",
    "run_base = f\"{data_folder}Model/Test/Subnetwork/1_\"\n",
    "\n",
    "test_outputs = []\n",
    "test_unscaleds = []\n",
    "for i in range(5):\n",
    "    print(i)\n",
    "    run_folder = f\"{run_base}{i}/\"\n",
    "    test_output, test_unscaled = get_test_data_formatted(run_folder, data_folder)\n",
    "    \n",
    "    test_outputs.append(test_output)\n",
    "    test_unscaleds.append(test_unscaled)"
   ]
  },
  {
   "cell_type": "code",
   "execution_count": null,
   "id": "e6b9ef95",
   "metadata": {},
   "outputs": [],
   "source": [
    "/dccstor/ipc1/CAR/DREAM/Model/Test/Subnetwork/"
   ]
  }
 ],
 "metadata": {
  "kernelspec": {
   "display_name": "Python 3 (ipykernel)",
   "language": "python",
   "name": "python3"
  },
  "language_info": {
   "codemirror_mode": {
    "name": "ipython",
    "version": 3
   },
   "file_extension": ".py",
   "mimetype": "text/x-python",
   "name": "python",
   "nbconvert_exporter": "python",
   "pygments_lexer": "ipython3",
   "version": "3.9.13"
  }
 },
 "nbformat": 4,
 "nbformat_minor": 5
}
