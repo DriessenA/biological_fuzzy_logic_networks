{
 "cells": [
  {
   "cell_type": "code",
   "execution_count": 1,
   "metadata": {},
   "outputs": [],
   "source": [
    "# Imports\n",
    "# External imports\n",
    "import torch\n",
    "import networkx as nx\n",
    "import numpy as np\n",
    "import matplotlib.pyplot as plt\n",
    "import pandas as pd\n",
    "import seaborn as sns\n",
    "\n",
    "# Module imports\n",
    "import biofuzznet.biofuzznet as biofuzznet\n",
    "import biofuzznet.biofuzzdataset as biofuzzdataset\n",
    "import biofuzznet.Hill_function as Hill_function\n",
    "import biofuzznet.utils as utils\n",
    "import biofuzznet.biomixnet as biomixnet"
   ]
  },
  {
   "cell_type": "code",
   "execution_count": 15,
   "metadata": {},
   "outputs": [],
   "source": [
    "# Create an empty BioFuzzNet\n",
    "G_optim = biofuzznet.BioFuzzNet(None, None)\n",
    "\n",
    "# Add nodes\n",
    "G_not.add_fuzzy_node(\"A\", \"BIO\") # A biological node\n",
    "G_not.add_fuzzy_node(\"B\", 'BIO') # B biological node\n",
    "G_not.add_fuzzy_node(\"C\", 'BIO') # C biological node\n",
    "G_not.add_fuzzy_node(\"D\", 'BIO') # D biological node\n",
    "G_not.add_fuzzy_node(\"A AND B\", \"AND\") # A logical not gate\n",
    "\n",
    "# Add edges\n",
    "G_not.add_transfer_edge(\"A\", \"A AND B\") # A transfer edge downstream of a biological node\n",
    "G_not.add_transfer_edge(\"B\", \"A AND B\") # A transfer edge downstream of a biological node\n",
    "G_not.add_simple_edge(\"A AND B\", \"C\") # A simple edge downstream of a logical node\n",
    "G_not.add_transfer_edge(\"C\", \"D\") # A transfer edge downstream of a biological node"
   ]
  },
  {
   "cell_type": "code",
   "execution_count": 16,
   "metadata": {},
   "outputs": [
    {
     "data": {
      "text/plain": [
       "{'A': array([1.00000000e+00, 2.38418583e-08]),\n",
       " 'B': array([0.30901696, 0.95105658]),\n",
       " 'C': array([-0.80901709,  0.58778522]),\n",
       " 'D': array([-0.80901698, -0.58778535]),\n",
       " 'A AND B': array([ 0.30901711, -0.95105647])}"
      ]
     },
     "execution_count": 16,
     "metadata": {},
     "output_type": "execute_result"
    },
    {
     "data": {
      "image/png": "[encoded data removed]",
      "text/plain": [
       "<Figure size 640x480 with 1 Axes>"
      ]
     },
     "metadata": {},
     "output_type": "display_data"
    }
   ],
   "source": [
    "# Draw the networks to compare them\n",
    "# Color schemes for the drawing\n",
    "general_edge_color_scheme  = {\"simple\": \"b\", \"transfer_function\": \"r\"}\n",
    "general_node_shape_scheme = {\"biological\": 's', \"logic_gate_AND\": 'o', \"logic_gate_OR\": 'd', \"logic_gate_NOT\": '^'}\n",
    "\n",
    "utils.draw_BioFuzzNet(G_optim, general_edge_color_scheme, general_node_shape_scheme)  "
   ]
  },
  {
   "cell_type": "code",
   "execution_count": 17,
   "metadata": {},
   "outputs": [
    {
     "data": {
      "text/plain": [
       "[('A', 'A AND B'), ('B', 'A AND B'), ('C', 'D')]"
      ]
     },
     "execution_count": 17,
     "metadata": {},
     "output_type": "execute_result"
    }
   ],
   "source": [
    "G_not.transfer_edges"
   ]
  },
  {
   "cell_type": "code",
   "execution_count": 18,
   "metadata": {},
   "outputs": [
    {
     "name": "stdout",
     "output_type": "stream",
     "text": [
      "The edge ('A', 'A AND B') has parameter n = tensor([2.1321], grad_fn=<ExpBackward0>) and K = tensor([0.2752], grad_fn=<SigmoidBackward0>)\n",
      "The edge ('B', 'A AND B') has parameter n = tensor([2.4691], grad_fn=<ExpBackward0>) and K = tensor([0.1980], grad_fn=<SigmoidBackward0>)\n",
      "The edge ('C', 'D') has parameter n = tensor([1.8150], grad_fn=<ExpBackward0>) and K = tensor([0.1607], grad_fn=<SigmoidBackward0>)\n"
     ]
    }
   ],
   "source": [
    "for edge in G_not.transfer_edges:\n",
    "    # Each transfer edge has a layer\n",
    "    layer = G_not.edges()[edge][\"layer\"]\n",
    "    # Each layer has a n and an K parameter\n",
    "    print(f\"The edge {edge} has parameter n = {torch.exp(layer.n)} and K = {torch.sigmoid(layer.K)}\")\n",
    "    # Those parameters are torch.nn.Parameters and thus have a grad_fn which corresponds to their gradient"
   ]
  },
  {
   "cell_type": "code",
   "execution_count": 19,
   "metadata": {},
   "outputs": [
    {
     "data": {
      "text/plain": [
       "['A', 'B']"
      ]
     },
     "execution_count": 19,
     "metadata": {},
     "output_type": "execute_result"
    }
   ],
   "source": [
    "G_not.root_nodes"
   ]
  },
  {
   "cell_type": "code",
   "execution_count": 20,
   "metadata": {},
   "outputs": [
    {
     "name": "stdout",
     "output_type": "stream",
     "text": [
      "None\n",
      "None\n"
     ]
    }
   ],
   "source": [
    "# print(f\"The current output state at node 41BB is {my_model.nodes()['41BB']['output_state']} and the current ground truth is {my_model.nodes()['41BB']['ground_truth']}\")\n",
    "print(G_not.nodes()[\"A\"][\"output_state\"])\n",
    "print(G_not.nodes()[\"A\"][\"ground_truth\"])"
   ]
  },
  {
   "cell_type": "code",
   "execution_count": 21,
   "metadata": {},
   "outputs": [],
   "source": [
    "G_not.set_network_ground_truth({\"A\": torch.tensor(1), \"B\": torch.tensor(1), \"D\": torch.tensor(1)})\n"
   ]
  },
  {
   "cell_type": "code",
   "execution_count": 26,
   "metadata": {},
   "outputs": [],
   "source": [
    "\n",
    "G_not.sequential_update([\"A\", \"B\", \"D\"])"
   ]
  },
  {
   "cell_type": "code",
   "execution_count": 27,
   "metadata": {},
   "outputs": [
    {
     "data": {
      "text/plain": [
       "{'A': tensor(1),\n",
       " 'B': tensor(1),\n",
       " 'C': tensor([0.8602], grad_fn=<MulBackward0>),\n",
       " 'D': tensor(1)}"
      ]
     },
     "execution_count": 27,
     "metadata": {},
     "output_type": "execute_result"
    }
   ],
   "source": [
    "G_not.output_states"
   ]
  },
  {
   "cell_type": "code",
   "execution_count": null,
   "metadata": {},
   "outputs": [
    {
     "data": {
      "text/plain": [
       "tensor(1)"
      ]
     },
     "execution_count": 11,
     "metadata": {},
     "output_type": "execute_result"
    }
   ],
   "source": [
    "G_not.nodes()[\"A\"][\"ground_truth\"]"
   ]
  },
  {
   "cell_type": "markdown",
   "metadata": {},
   "source": [
    "# Simulation and Optimization"
   ]
  },
  {
   "cell_type": "code",
   "execution_count": 28,
   "metadata": {},
   "outputs": [
    {
     "name": "stderr",
     "output_type": "stream",
     "text": [
      "/u/adr/Code/biofuzznet/biofuzznet/biofuzznet.py:362: UserWarning: Node D is not present in ground truth. Its ground_truth value is not set.\n",
      "  warnings.warn(\n"
     ]
    }
   ],
   "source": [
    "ground_truth_dict = {\"A\": torch.ones(3000), \"B\": torch.ones(3000), \"C\":torch.ones(3000)}\n",
    "G_not.set_network_ground_truth(ground_truth=ground_truth_dict)"
   ]
  },
  {
   "cell_type": "code",
   "execution_count": 31,
   "metadata": {},
   "outputs": [],
   "source": [
    "G_not.sequential_update([\"A\", \"B\", \"C\"])"
   ]
  },
  {
   "cell_type": "code",
   "execution_count": 38,
   "metadata": {},
   "outputs": [],
   "source": [
    "ground_truth_to_find = G_not.output_states\n",
    "\n",
    "# Let's define the inputs and ground_truth for the training and validation set\n",
    "ground_truth_train = {node: ground_truth_to_find[node][0:2000] for node in ground_truth_to_find.keys()}\n",
    "ground_truth_test = {node: ground_truth_to_find[node][2000:3000] for node in ground_truth_to_find.keys()}\n",
    "\n",
    "# The input is just the ground truth values at the root nodes\n",
    "input_train = {node: ground_truth_train[node] for node in [\"A\", \"B\", \"C\"]}\n",
    "input_test = {node: ground_truth_test[node] for node in [\"A\", \"B\", \"C\"]}"
   ]
  },
  {
   "cell_type": "code",
   "execution_count": 39,
   "metadata": {},
   "outputs": [],
   "source": [
    "# Then we create a model to optimise: same topology, but different parameters at the transfer function\n",
    "# Create an empty BioFuzzNet\n",
    "G_optim = biofuzznet.BioFuzzNet(None, None)\n",
    "\n",
    "# Add nodes\n",
    "G_optim.add_fuzzy_node(\"A\", \"BIO\") # A biological node\n",
    "G_optim.add_fuzzy_node(\"B\", 'BIO') # B biological node\n",
    "G_optim.add_fuzzy_node(\"C\", 'BIO') # C biological node\n",
    "G_optim.add_fuzzy_node(\"D\", 'BIO') # D biological node\n",
    "G_optim.add_fuzzy_node(\"A AND B\", \"AND\") # A logical not gate\n",
    "\n",
    "# Add edges\n",
    "G_optim.add_transfer_edge(\"A\", \"A AND B\") # A transfer edge downstream of a biological node\n",
    "G_optim.add_transfer_edge(\"B\", \"A AND B\") # A transfer edge downstream of a biological node\n",
    "G_optim.add_simple_edge(\"A AND B\", \"C\") # A simple edge downstream of a logical node\n",
    "G_optim.add_transfer_edge(\"C\", \"D\") # A transfer edge downstream of a biological node"
   ]
  },
  {
   "cell_type": "code",
   "execution_count": 40,
   "metadata": {},
   "outputs": [],
   "source": [
    "# Now we just need to specify some optimisation parameters\n",
    "\n",
    "learning_rate = 5e-3\n",
    "epochs = 10 # That seems like a lot, but 1 epoch is basically one simulation of the network on all datapoints, so we need a lot of them\n",
    "batch_size = 300 \n",
    "\n"
   ]
  },
  {
   "cell_type": "code",
   "execution_count": 41,
   "metadata": {},
   "outputs": [
    {
     "name": "stderr",
     "output_type": "stream",
     "text": [
      "100%|██████████| 10/10 [00:08<00:00,  1.15it/s]\n"
     ]
    }
   ],
   "source": [
    "# Now let's optimise\n",
    "\n",
    "loss = G_optim.conduct_optimisation(input = input_train,\n",
    "                                         ground_truth=ground_truth_train,\n",
    "                                         test_input = input_test,\n",
    "                                         test_ground_truth= ground_truth_test,\n",
    "                                         epochs = epochs, \n",
    "                                         learning_rate= learning_rate,\n",
    "                                         batch_size= batch_size\n",
    "                                         )"
   ]
  },
  {
   "cell_type": "code",
   "execution_count": 42,
   "metadata": {},
   "outputs": [
    {
     "data": {
      "text/plain": [
       "{'A': tensor([1., 1., 1., 1., 1., 1., 1., 1., 1., 1., 1., 1., 1., 1., 1., 1., 1., 1.,\n",
       "         1., 1., 1., 1., 1., 1., 1., 1., 1., 1., 1., 1., 1., 1., 1., 1., 1., 1.,\n",
       "         1., 1., 1., 1., 1., 1., 1., 1., 1., 1., 1., 1., 1., 1., 1., 1., 1., 1.,\n",
       "         1., 1., 1., 1., 1., 1., 1., 1., 1., 1., 1., 1., 1., 1., 1., 1., 1., 1.,\n",
       "         1., 1., 1., 1., 1., 1., 1., 1., 1., 1., 1., 1., 1., 1., 1., 1., 1., 1.,\n",
       "         1., 1., 1., 1., 1., 1., 1., 1., 1., 1., 1., 1., 1., 1., 1., 1., 1., 1.,\n",
       "         1., 1., 1., 1., 1., 1., 1., 1., 1., 1., 1., 1., 1., 1., 1., 1., 1., 1.,\n",
       "         1., 1., 1., 1., 1., 1., 1., 1., 1., 1., 1., 1., 1., 1., 1., 1., 1., 1.,\n",
       "         1., 1., 1., 1., 1., 1., 1., 1., 1., 1., 1., 1., 1., 1., 1., 1., 1., 1.,\n",
       "         1., 1., 1., 1., 1., 1., 1., 1., 1., 1., 1., 1., 1., 1., 1., 1., 1., 1.,\n",
       "         1., 1., 1., 1., 1., 1., 1., 1., 1., 1., 1., 1., 1., 1., 1., 1., 1., 1.,\n",
       "         1., 1., 1., 1., 1., 1., 1., 1., 1., 1., 1., 1., 1., 1., 1., 1., 1., 1.,\n",
       "         1., 1., 1., 1., 1., 1., 1., 1., 1., 1., 1., 1., 1., 1., 1., 1., 1., 1.,\n",
       "         1., 1., 1., 1., 1., 1., 1., 1., 1., 1., 1., 1., 1., 1., 1., 1., 1., 1.,\n",
       "         1., 1., 1., 1., 1., 1., 1., 1., 1., 1., 1., 1., 1., 1., 1., 1., 1., 1.,\n",
       "         1., 1., 1., 1., 1., 1., 1., 1., 1., 1., 1., 1., 1., 1., 1., 1., 1., 1.,\n",
       "         1., 1., 1., 1., 1., 1., 1., 1., 1., 1., 1., 1., 1., 1., 1., 1., 1., 1.,\n",
       "         1., 1., 1., 1., 1., 1., 1., 1., 1., 1., 1., 1., 1., 1., 1., 1., 1., 1.,\n",
       "         1., 1., 1., 1., 1., 1., 1., 1., 1., 1., 1., 1., 1., 1., 1., 1., 1., 1.,\n",
       "         1., 1., 1., 1., 1., 1., 1., 1., 1., 1., 1., 1., 1., 1., 1., 1., 1., 1.,\n",
       "         1., 1., 1., 1., 1., 1., 1., 1., 1., 1., 1., 1., 1., 1., 1., 1., 1., 1.,\n",
       "         1., 1., 1., 1., 1., 1., 1., 1., 1., 1., 1., 1., 1., 1., 1., 1., 1., 1.,\n",
       "         1., 1., 1., 1., 1., 1., 1., 1., 1., 1., 1., 1., 1., 1., 1., 1., 1., 1.,\n",
       "         1., 1., 1., 1., 1., 1., 1., 1., 1., 1., 1., 1., 1., 1., 1., 1., 1., 1.,\n",
       "         1., 1., 1., 1., 1., 1., 1., 1., 1., 1., 1., 1., 1., 1., 1., 1., 1., 1.,\n",
       "         1., 1., 1., 1., 1., 1., 1., 1., 1., 1., 1., 1., 1., 1., 1., 1., 1., 1.,\n",
       "         1., 1., 1., 1., 1., 1., 1., 1., 1., 1., 1., 1., 1., 1., 1., 1., 1., 1.,\n",
       "         1., 1., 1., 1., 1., 1., 1., 1., 1., 1., 1., 1., 1., 1., 1., 1., 1., 1.,\n",
       "         1., 1., 1., 1., 1., 1., 1., 1., 1., 1., 1., 1., 1., 1., 1., 1., 1., 1.,\n",
       "         1., 1., 1., 1., 1., 1., 1., 1., 1., 1., 1., 1., 1., 1., 1., 1., 1., 1.,\n",
       "         1., 1., 1., 1., 1., 1., 1., 1., 1., 1., 1., 1., 1., 1., 1., 1., 1., 1.,\n",
       "         1., 1., 1., 1., 1., 1., 1., 1., 1., 1., 1., 1., 1., 1., 1., 1., 1., 1.,\n",
       "         1., 1., 1., 1., 1., 1., 1., 1., 1., 1., 1., 1., 1., 1., 1., 1., 1., 1.,\n",
       "         1., 1., 1., 1., 1., 1., 1., 1., 1., 1., 1., 1., 1., 1., 1., 1., 1., 1.,\n",
       "         1., 1., 1., 1., 1., 1., 1., 1., 1., 1., 1., 1., 1., 1., 1., 1., 1., 1.,\n",
       "         1., 1., 1., 1., 1., 1., 1., 1., 1., 1., 1., 1., 1., 1., 1., 1., 1., 1.,\n",
       "         1., 1., 1., 1., 1., 1., 1., 1., 1., 1., 1., 1., 1., 1., 1., 1., 1., 1.,\n",
       "         1., 1., 1., 1., 1., 1., 1., 1., 1., 1., 1., 1., 1., 1., 1., 1., 1., 1.,\n",
       "         1., 1., 1., 1., 1., 1., 1., 1., 1., 1., 1., 1., 1., 1., 1., 1., 1., 1.,\n",
       "         1., 1., 1., 1., 1., 1., 1., 1., 1., 1., 1., 1., 1., 1., 1., 1., 1., 1.,\n",
       "         1., 1., 1., 1., 1., 1., 1., 1., 1., 1., 1., 1., 1., 1., 1., 1., 1., 1.,\n",
       "         1., 1., 1., 1., 1., 1., 1., 1., 1., 1., 1., 1., 1., 1., 1., 1., 1., 1.,\n",
       "         1., 1., 1., 1., 1., 1., 1., 1., 1., 1., 1., 1., 1., 1., 1., 1., 1., 1.,\n",
       "         1., 1., 1., 1., 1., 1., 1., 1., 1., 1., 1., 1., 1., 1., 1., 1., 1., 1.,\n",
       "         1., 1., 1., 1., 1., 1., 1., 1., 1., 1., 1., 1., 1., 1., 1., 1., 1., 1.,\n",
       "         1., 1., 1., 1., 1., 1., 1., 1., 1., 1., 1., 1., 1., 1., 1., 1., 1., 1.,\n",
       "         1., 1., 1., 1., 1., 1., 1., 1., 1., 1., 1., 1., 1., 1., 1., 1., 1., 1.,\n",
       "         1., 1., 1., 1., 1., 1., 1., 1., 1., 1., 1., 1., 1., 1., 1., 1., 1., 1.,\n",
       "         1., 1., 1., 1., 1., 1., 1., 1., 1., 1., 1., 1., 1., 1., 1., 1., 1., 1.,\n",
       "         1., 1., 1., 1., 1., 1., 1., 1., 1., 1., 1., 1., 1., 1., 1., 1., 1., 1.,\n",
       "         1., 1., 1., 1., 1., 1., 1., 1., 1., 1., 1., 1., 1., 1., 1., 1., 1., 1.,\n",
       "         1., 1., 1., 1., 1., 1., 1., 1., 1., 1., 1., 1., 1., 1., 1., 1., 1., 1.,\n",
       "         1., 1., 1., 1., 1., 1., 1., 1., 1., 1., 1., 1., 1., 1., 1., 1., 1., 1.,\n",
       "         1., 1., 1., 1., 1., 1., 1., 1., 1., 1., 1., 1., 1., 1., 1., 1., 1., 1.,\n",
       "         1., 1., 1., 1., 1., 1., 1., 1., 1., 1., 1., 1., 1., 1., 1., 1., 1., 1.,\n",
       "         1., 1., 1., 1., 1., 1., 1., 1., 1., 1.]),\n",
       " 'B': tensor([1., 1., 1., 1., 1., 1., 1., 1., 1., 1., 1., 1., 1., 1., 1., 1., 1., 1.,\n",
       "         1., 1., 1., 1., 1., 1., 1., 1., 1., 1., 1., 1., 1., 1., 1., 1., 1., 1.,\n",
       "         1., 1., 1., 1., 1., 1., 1., 1., 1., 1., 1., 1., 1., 1., 1., 1., 1., 1.,\n",
       "         1., 1., 1., 1., 1., 1., 1., 1., 1., 1., 1., 1., 1., 1., 1., 1., 1., 1.,\n",
       "         1., 1., 1., 1., 1., 1., 1., 1., 1., 1., 1., 1., 1., 1., 1., 1., 1., 1.,\n",
       "         1., 1., 1., 1., 1., 1., 1., 1., 1., 1., 1., 1., 1., 1., 1., 1., 1., 1.,\n",
       "         1., 1., 1., 1., 1., 1., 1., 1., 1., 1., 1., 1., 1., 1., 1., 1., 1., 1.,\n",
       "         1., 1., 1., 1., 1., 1., 1., 1., 1., 1., 1., 1., 1., 1., 1., 1., 1., 1.,\n",
       "         1., 1., 1., 1., 1., 1., 1., 1., 1., 1., 1., 1., 1., 1., 1., 1., 1., 1.,\n",
       "         1., 1., 1., 1., 1., 1., 1., 1., 1., 1., 1., 1., 1., 1., 1., 1., 1., 1.,\n",
       "         1., 1., 1., 1., 1., 1., 1., 1., 1., 1., 1., 1., 1., 1., 1., 1., 1., 1.,\n",
       "         1., 1., 1., 1., 1., 1., 1., 1., 1., 1., 1., 1., 1., 1., 1., 1., 1., 1.,\n",
       "         1., 1., 1., 1., 1., 1., 1., 1., 1., 1., 1., 1., 1., 1., 1., 1., 1., 1.,\n",
       "         1., 1., 1., 1., 1., 1., 1., 1., 1., 1., 1., 1., 1., 1., 1., 1., 1., 1.,\n",
       "         1., 1., 1., 1., 1., 1., 1., 1., 1., 1., 1., 1., 1., 1., 1., 1., 1., 1.,\n",
       "         1., 1., 1., 1., 1., 1., 1., 1., 1., 1., 1., 1., 1., 1., 1., 1., 1., 1.,\n",
       "         1., 1., 1., 1., 1., 1., 1., 1., 1., 1., 1., 1., 1., 1., 1., 1., 1., 1.,\n",
       "         1., 1., 1., 1., 1., 1., 1., 1., 1., 1., 1., 1., 1., 1., 1., 1., 1., 1.,\n",
       "         1., 1., 1., 1., 1., 1., 1., 1., 1., 1., 1., 1., 1., 1., 1., 1., 1., 1.,\n",
       "         1., 1., 1., 1., 1., 1., 1., 1., 1., 1., 1., 1., 1., 1., 1., 1., 1., 1.,\n",
       "         1., 1., 1., 1., 1., 1., 1., 1., 1., 1., 1., 1., 1., 1., 1., 1., 1., 1.,\n",
       "         1., 1., 1., 1., 1., 1., 1., 1., 1., 1., 1., 1., 1., 1., 1., 1., 1., 1.,\n",
       "         1., 1., 1., 1., 1., 1., 1., 1., 1., 1., 1., 1., 1., 1., 1., 1., 1., 1.,\n",
       "         1., 1., 1., 1., 1., 1., 1., 1., 1., 1., 1., 1., 1., 1., 1., 1., 1., 1.,\n",
       "         1., 1., 1., 1., 1., 1., 1., 1., 1., 1., 1., 1., 1., 1., 1., 1., 1., 1.,\n",
       "         1., 1., 1., 1., 1., 1., 1., 1., 1., 1., 1., 1., 1., 1., 1., 1., 1., 1.,\n",
       "         1., 1., 1., 1., 1., 1., 1., 1., 1., 1., 1., 1., 1., 1., 1., 1., 1., 1.,\n",
       "         1., 1., 1., 1., 1., 1., 1., 1., 1., 1., 1., 1., 1., 1., 1., 1., 1., 1.,\n",
       "         1., 1., 1., 1., 1., 1., 1., 1., 1., 1., 1., 1., 1., 1., 1., 1., 1., 1.,\n",
       "         1., 1., 1., 1., 1., 1., 1., 1., 1., 1., 1., 1., 1., 1., 1., 1., 1., 1.,\n",
       "         1., 1., 1., 1., 1., 1., 1., 1., 1., 1., 1., 1., 1., 1., 1., 1., 1., 1.,\n",
       "         1., 1., 1., 1., 1., 1., 1., 1., 1., 1., 1., 1., 1., 1., 1., 1., 1., 1.,\n",
       "         1., 1., 1., 1., 1., 1., 1., 1., 1., 1., 1., 1., 1., 1., 1., 1., 1., 1.,\n",
       "         1., 1., 1., 1., 1., 1., 1., 1., 1., 1., 1., 1., 1., 1., 1., 1., 1., 1.,\n",
       "         1., 1., 1., 1., 1., 1., 1., 1., 1., 1., 1., 1., 1., 1., 1., 1., 1., 1.,\n",
       "         1., 1., 1., 1., 1., 1., 1., 1., 1., 1., 1., 1., 1., 1., 1., 1., 1., 1.,\n",
       "         1., 1., 1., 1., 1., 1., 1., 1., 1., 1., 1., 1., 1., 1., 1., 1., 1., 1.,\n",
       "         1., 1., 1., 1., 1., 1., 1., 1., 1., 1., 1., 1., 1., 1., 1., 1., 1., 1.,\n",
       "         1., 1., 1., 1., 1., 1., 1., 1., 1., 1., 1., 1., 1., 1., 1., 1., 1., 1.,\n",
       "         1., 1., 1., 1., 1., 1., 1., 1., 1., 1., 1., 1., 1., 1., 1., 1., 1., 1.,\n",
       "         1., 1., 1., 1., 1., 1., 1., 1., 1., 1., 1., 1., 1., 1., 1., 1., 1., 1.,\n",
       "         1., 1., 1., 1., 1., 1., 1., 1., 1., 1., 1., 1., 1., 1., 1., 1., 1., 1.,\n",
       "         1., 1., 1., 1., 1., 1., 1., 1., 1., 1., 1., 1., 1., 1., 1., 1., 1., 1.,\n",
       "         1., 1., 1., 1., 1., 1., 1., 1., 1., 1., 1., 1., 1., 1., 1., 1., 1., 1.,\n",
       "         1., 1., 1., 1., 1., 1., 1., 1., 1., 1., 1., 1., 1., 1., 1., 1., 1., 1.,\n",
       "         1., 1., 1., 1., 1., 1., 1., 1., 1., 1., 1., 1., 1., 1., 1., 1., 1., 1.,\n",
       "         1., 1., 1., 1., 1., 1., 1., 1., 1., 1., 1., 1., 1., 1., 1., 1., 1., 1.,\n",
       "         1., 1., 1., 1., 1., 1., 1., 1., 1., 1., 1., 1., 1., 1., 1., 1., 1., 1.,\n",
       "         1., 1., 1., 1., 1., 1., 1., 1., 1., 1., 1., 1., 1., 1., 1., 1., 1., 1.,\n",
       "         1., 1., 1., 1., 1., 1., 1., 1., 1., 1., 1., 1., 1., 1., 1., 1., 1., 1.,\n",
       "         1., 1., 1., 1., 1., 1., 1., 1., 1., 1., 1., 1., 1., 1., 1., 1., 1., 1.,\n",
       "         1., 1., 1., 1., 1., 1., 1., 1., 1., 1., 1., 1., 1., 1., 1., 1., 1., 1.,\n",
       "         1., 1., 1., 1., 1., 1., 1., 1., 1., 1., 1., 1., 1., 1., 1., 1., 1., 1.,\n",
       "         1., 1., 1., 1., 1., 1., 1., 1., 1., 1., 1., 1., 1., 1., 1., 1., 1., 1.,\n",
       "         1., 1., 1., 1., 1., 1., 1., 1., 1., 1., 1., 1., 1., 1., 1., 1., 1., 1.,\n",
       "         1., 1., 1., 1., 1., 1., 1., 1., 1., 1.]),\n",
       " 'C': tensor([0.6158, 0.6158, 0.6158, 0.6158, 0.6158, 0.6158, 0.6158, 0.6158, 0.6158,\n",
       "         0.6158, 0.6158, 0.6158, 0.6158, 0.6158, 0.6158, 0.6158, 0.6158, 0.6158,\n",
       "         0.6158, 0.6158, 0.6158, 0.6158, 0.6158, 0.6158, 0.6158, 0.6158, 0.6158,\n",
       "         0.6158, 0.6158, 0.6158, 0.6158, 0.6158, 0.6158, 0.6158, 0.6158, 0.6158,\n",
       "         0.6158, 0.6158, 0.6158, 0.6158, 0.6158, 0.6158, 0.6158, 0.6158, 0.6158,\n",
       "         0.6158, 0.6158, 0.6158, 0.6158, 0.6158, 0.6158, 0.6158, 0.6158, 0.6158,\n",
       "         0.6158, 0.6158, 0.6158, 0.6158, 0.6158, 0.6158, 0.6158, 0.6158, 0.6158,\n",
       "         0.6158, 0.6158, 0.6158, 0.6158, 0.6158, 0.6158, 0.6158, 0.6158, 0.6158,\n",
       "         0.6158, 0.6158, 0.6158, 0.6158, 0.6158, 0.6158, 0.6158, 0.6158, 0.6158,\n",
       "         0.6158, 0.6158, 0.6158, 0.6158, 0.6158, 0.6158, 0.6158, 0.6158, 0.6158,\n",
       "         0.6158, 0.6158, 0.6158, 0.6158, 0.6158, 0.6158, 0.6158, 0.6158, 0.6158,\n",
       "         0.6158, 0.6158, 0.6158, 0.6158, 0.6158, 0.6158, 0.6158, 0.6158, 0.6158,\n",
       "         0.6158, 0.6158, 0.6158, 0.6158, 0.6158, 0.6158, 0.6158, 0.6158, 0.6158,\n",
       "         0.6158, 0.6158, 0.6158, 0.6158, 0.6158, 0.6158, 0.6158, 0.6158, 0.6158,\n",
       "         0.6158, 0.6158, 0.6158, 0.6158, 0.6158, 0.6158, 0.6158, 0.6158, 0.6158,\n",
       "         0.6158, 0.6158, 0.6158, 0.6158, 0.6158, 0.6158, 0.6158, 0.6158, 0.6158,\n",
       "         0.6158, 0.6158, 0.6158, 0.6158, 0.6158, 0.6158, 0.6158, 0.6158, 0.6158,\n",
       "         0.6158, 0.6158, 0.6158, 0.6158, 0.6158, 0.6158, 0.6158, 0.6158, 0.6158,\n",
       "         0.6158, 0.6158, 0.6158, 0.6158, 0.6158, 0.6158, 0.6158, 0.6158, 0.6158,\n",
       "         0.6158, 0.6158, 0.6158, 0.6158, 0.6158, 0.6158, 0.6158, 0.6158, 0.6158,\n",
       "         0.6158, 0.6158, 0.6158, 0.6158, 0.6158, 0.6158, 0.6158, 0.6158, 0.6158,\n",
       "         0.6158, 0.6158, 0.6158, 0.6158, 0.6158, 0.6158, 0.6158, 0.6158, 0.6158,\n",
       "         0.6158, 0.6158, 0.6158, 0.6158, 0.6158, 0.6158, 0.6158, 0.6158, 0.6158,\n",
       "         0.6158, 0.6158, 0.6158, 0.6158, 0.6158, 0.6158, 0.6158, 0.6158, 0.6158,\n",
       "         0.6158, 0.6158, 0.6158, 0.6158, 0.6158, 0.6158, 0.6158, 0.6158, 0.6158,\n",
       "         0.6158, 0.6158, 0.6158, 0.6158, 0.6158, 0.6158, 0.6158, 0.6158, 0.6158,\n",
       "         0.6158, 0.6158, 0.6158, 0.6158, 0.6158, 0.6158, 0.6158, 0.6158, 0.6158,\n",
       "         0.6158, 0.6158, 0.6158, 0.6158, 0.6158, 0.6158, 0.6158, 0.6158, 0.6158,\n",
       "         0.6158, 0.6158, 0.6158, 0.6158, 0.6158, 0.6158, 0.6158, 0.6158, 0.6158,\n",
       "         0.6158, 0.6158, 0.6158, 0.6158, 0.6158, 0.6158, 0.6158, 0.6158, 0.6158,\n",
       "         0.6158, 0.6158, 0.6158, 0.6158, 0.6158, 0.6158, 0.6158, 0.6158, 0.6158,\n",
       "         0.6158, 0.6158, 0.6158, 0.6158, 0.6158, 0.6158, 0.6158, 0.6158, 0.6158,\n",
       "         0.6158, 0.6158, 0.6158, 0.6158, 0.6158, 0.6158, 0.6158, 0.6158, 0.6158,\n",
       "         0.6158, 0.6158, 0.6158, 0.6158, 0.6158, 0.6158, 0.6158, 0.6158, 0.6158,\n",
       "         0.6158, 0.6158, 0.6158, 0.6158, 0.6158, 0.6158, 0.6158, 0.6158, 0.6158,\n",
       "         0.6158, 0.6158, 0.6158, 0.6158, 0.6158, 0.6158, 0.6158, 0.6158, 0.6158,\n",
       "         0.6158, 0.6158, 0.6158, 0.6158, 0.6158, 0.6158, 0.6158, 0.6158, 0.6158,\n",
       "         0.6158, 0.6158, 0.6158, 0.6158, 0.6158, 0.6158, 0.6158, 0.6158, 0.6158,\n",
       "         0.6158, 0.6158, 0.6158, 0.6158, 0.6158, 0.6158, 0.6158, 0.6158, 0.6158,\n",
       "         0.6158, 0.6158, 0.6158, 0.6158, 0.6158, 0.6158, 0.6158, 0.6158, 0.6158,\n",
       "         0.6158, 0.6158, 0.6158, 0.6158, 0.6158, 0.6158, 0.6158, 0.6158, 0.6158,\n",
       "         0.6158, 0.6158, 0.6158, 0.6158, 0.6158, 0.6158, 0.6158, 0.6158, 0.6158,\n",
       "         0.6158, 0.6158, 0.6158, 0.6158, 0.6158, 0.6158, 0.6158, 0.6158, 0.6158,\n",
       "         0.6158, 0.6158, 0.6158, 0.6158, 0.6158, 0.6158, 0.6158, 0.6158, 0.6158,\n",
       "         0.6158, 0.6158, 0.6158, 0.6158, 0.6158, 0.6158, 0.6158, 0.6158, 0.6158,\n",
       "         0.6158, 0.6158, 0.6158, 0.6158, 0.6158, 0.6158, 0.6158, 0.6158, 0.6158,\n",
       "         0.6158, 0.6158, 0.6158, 0.6158, 0.6158, 0.6158, 0.6158, 0.6158, 0.6158,\n",
       "         0.6158, 0.6158, 0.6158, 0.6158, 0.6158, 0.6158, 0.6158, 0.6158, 0.6158,\n",
       "         0.6158, 0.6158, 0.6158, 0.6158, 0.6158, 0.6158, 0.6158, 0.6158, 0.6158,\n",
       "         0.6158, 0.6158, 0.6158, 0.6158, 0.6158, 0.6158, 0.6158, 0.6158, 0.6158,\n",
       "         0.6158, 0.6158, 0.6158, 0.6158, 0.6158, 0.6158, 0.6158, 0.6158, 0.6158,\n",
       "         0.6158, 0.6158, 0.6158, 0.6158, 0.6158, 0.6158, 0.6158, 0.6158, 0.6158,\n",
       "         0.6158, 0.6158, 0.6158, 0.6158, 0.6158, 0.6158, 0.6158, 0.6158, 0.6158,\n",
       "         0.6158, 0.6158, 0.6158, 0.6158, 0.6158, 0.6158, 0.6158, 0.6158, 0.6158,\n",
       "         0.6158, 0.6158, 0.6158, 0.6158, 0.6158, 0.6158, 0.6158, 0.6158, 0.6158,\n",
       "         0.6158, 0.6158, 0.6158, 0.6158, 0.6158, 0.6158, 0.6158, 0.6158, 0.6158,\n",
       "         0.6158, 0.6158, 0.6158, 0.6158, 0.6158, 0.6158, 0.6158, 0.6158, 0.6158,\n",
       "         0.6158, 0.6158, 0.6158, 0.6158, 0.6158, 0.6158, 0.6158, 0.6158, 0.6158,\n",
       "         0.6158, 0.6158, 0.6158, 0.6158, 0.6158, 0.6158, 0.6158, 0.6158, 0.6158,\n",
       "         0.6158, 0.6158, 0.6158, 0.6158, 0.6158, 0.6158, 0.6158, 0.6158, 0.6158,\n",
       "         0.6158, 0.6158, 0.6158, 0.6158, 0.6158, 0.6158, 0.6158, 0.6158, 0.6158,\n",
       "         0.6158, 0.6158, 0.6158, 0.6158, 0.6158, 0.6158, 0.6158, 0.6158, 0.6158,\n",
       "         0.6158, 0.6158, 0.6158, 0.6158, 0.6158, 0.6158, 0.6158, 0.6158, 0.6158,\n",
       "         0.6158, 0.6158, 0.6158, 0.6158, 0.6158, 0.6158, 0.6158, 0.6158, 0.6158,\n",
       "         0.6158, 0.6158, 0.6158, 0.6158, 0.6158, 0.6158, 0.6158, 0.6158, 0.6158,\n",
       "         0.6158, 0.6158, 0.6158, 0.6158, 0.6158, 0.6158, 0.6158, 0.6158, 0.6158,\n",
       "         0.6158, 0.6158, 0.6158, 0.6158, 0.6158, 0.6158, 0.6158, 0.6158, 0.6158,\n",
       "         0.6158, 0.6158, 0.6158, 0.6158, 0.6158, 0.6158, 0.6158, 0.6158, 0.6158,\n",
       "         0.6158, 0.6158, 0.6158, 0.6158, 0.6158, 0.6158, 0.6158, 0.6158, 0.6158,\n",
       "         0.6158, 0.6158, 0.6158, 0.6158, 0.6158, 0.6158, 0.6158, 0.6158, 0.6158,\n",
       "         0.6158, 0.6158, 0.6158, 0.6158, 0.6158, 0.6158, 0.6158, 0.6158, 0.6158,\n",
       "         0.6158, 0.6158, 0.6158, 0.6158, 0.6158, 0.6158, 0.6158, 0.6158, 0.6158,\n",
       "         0.6158, 0.6158, 0.6158, 0.6158, 0.6158, 0.6158, 0.6158, 0.6158, 0.6158,\n",
       "         0.6158, 0.6158, 0.6158, 0.6158, 0.6158, 0.6158, 0.6158, 0.6158, 0.6158,\n",
       "         0.6158, 0.6158, 0.6158, 0.6158, 0.6158, 0.6158, 0.6158, 0.6158, 0.6158,\n",
       "         0.6158, 0.6158, 0.6158, 0.6158, 0.6158, 0.6158, 0.6158, 0.6158, 0.6158,\n",
       "         0.6158, 0.6158, 0.6158, 0.6158, 0.6158, 0.6158, 0.6158, 0.6158, 0.6158,\n",
       "         0.6158, 0.6158, 0.6158, 0.6158, 0.6158, 0.6158, 0.6158, 0.6158, 0.6158,\n",
       "         0.6158, 0.6158, 0.6158, 0.6158, 0.6158, 0.6158, 0.6158, 0.6158, 0.6158,\n",
       "         0.6158, 0.6158, 0.6158, 0.6158, 0.6158, 0.6158, 0.6158, 0.6158, 0.6158,\n",
       "         0.6158, 0.6158, 0.6158, 0.6158, 0.6158, 0.6158, 0.6158, 0.6158, 0.6158,\n",
       "         0.6158, 0.6158, 0.6158, 0.6158, 0.6158, 0.6158, 0.6158, 0.6158, 0.6158,\n",
       "         0.6158, 0.6158, 0.6158, 0.6158, 0.6158, 0.6158, 0.6158, 0.6158, 0.6158,\n",
       "         0.6158, 0.6158, 0.6158, 0.6158, 0.6158, 0.6158, 0.6158, 0.6158, 0.6158,\n",
       "         0.6158, 0.6158, 0.6158, 0.6158, 0.6158, 0.6158, 0.6158, 0.6158, 0.6158,\n",
       "         0.6158, 0.6158, 0.6158, 0.6158, 0.6158, 0.6158, 0.6158, 0.6158, 0.6158,\n",
       "         0.6158, 0.6158, 0.6158, 0.6158, 0.6158, 0.6158, 0.6158, 0.6158, 0.6158,\n",
       "         0.6158, 0.6158, 0.6158, 0.6158, 0.6158, 0.6158, 0.6158, 0.6158, 0.6158,\n",
       "         0.6158, 0.6158, 0.6158, 0.6158, 0.6158, 0.6158, 0.6158, 0.6158, 0.6158,\n",
       "         0.6158, 0.6158, 0.6158, 0.6158, 0.6158, 0.6158, 0.6158, 0.6158, 0.6158,\n",
       "         0.6158, 0.6158, 0.6158, 0.6158, 0.6158, 0.6158, 0.6158, 0.6158, 0.6158,\n",
       "         0.6158, 0.6158, 0.6158, 0.6158, 0.6158, 0.6158, 0.6158, 0.6158, 0.6158,\n",
       "         0.6158, 0.6158, 0.6158, 0.6158, 0.6158, 0.6158, 0.6158, 0.6158, 0.6158,\n",
       "         0.6158, 0.6158, 0.6158, 0.6158, 0.6158, 0.6158, 0.6158, 0.6158, 0.6158,\n",
       "         0.6158, 0.6158, 0.6158, 0.6158, 0.6158, 0.6158, 0.6158, 0.6158, 0.6158,\n",
       "         0.6158, 0.6158, 0.6158, 0.6158, 0.6158, 0.6158, 0.6158, 0.6158, 0.6158,\n",
       "         0.6158, 0.6158, 0.6158, 0.6158, 0.6158, 0.6158, 0.6158, 0.6158, 0.6158,\n",
       "         0.6158, 0.6158, 0.6158, 0.6158, 0.6158, 0.6158, 0.6158, 0.6158, 0.6158,\n",
       "         0.6158, 0.6158, 0.6158, 0.6158, 0.6158, 0.6158, 0.6158, 0.6158, 0.6158,\n",
       "         0.6158, 0.6158, 0.6158, 0.6158, 0.6158, 0.6158, 0.6158, 0.6158, 0.6158,\n",
       "         0.6158, 0.6158, 0.6158, 0.6158, 0.6158, 0.6158, 0.6158, 0.6158, 0.6158,\n",
       "         0.6158, 0.6158, 0.6158, 0.6158, 0.6158, 0.6158, 0.6158, 0.6158, 0.6158,\n",
       "         0.6158, 0.6158, 0.6158, 0.6158, 0.6158, 0.6158, 0.6158, 0.6158, 0.6158,\n",
       "         0.6158, 0.6158, 0.6158, 0.6158, 0.6158, 0.6158, 0.6158, 0.6158, 0.6158,\n",
       "         0.6158, 0.6158, 0.6158, 0.6158, 0.6158, 0.6158, 0.6158, 0.6158, 0.6158,\n",
       "         0.6158, 0.6158, 0.6158, 0.6158, 0.6158, 0.6158, 0.6158, 0.6158, 0.6158,\n",
       "         0.6158, 0.6158, 0.6158, 0.6158, 0.6158, 0.6158, 0.6158, 0.6158, 0.6158,\n",
       "         0.6158, 0.6158, 0.6158, 0.6158, 0.6158, 0.6158, 0.6158, 0.6158, 0.6158,\n",
       "         0.6158, 0.6158, 0.6158, 0.6158, 0.6158, 0.6158, 0.6158, 0.6158, 0.6158,\n",
       "         0.6158, 0.6158, 0.6158, 0.6158, 0.6158, 0.6158, 0.6158, 0.6158, 0.6158,\n",
       "         0.6158, 0.6158, 0.6158, 0.6158, 0.6158, 0.6158, 0.6158, 0.6158, 0.6158,\n",
       "         0.6158]),\n",
       " 'D': tensor([0.8782, 0.8782, 0.8782, 0.8782, 0.8782, 0.8782, 0.8782, 0.8782, 0.8782,\n",
       "         0.8782, 0.8782, 0.8782, 0.8782, 0.8782, 0.8782, 0.8782, 0.8782, 0.8782,\n",
       "         0.8782, 0.8782, 0.8782, 0.8782, 0.8782, 0.8782, 0.8782, 0.8782, 0.8782,\n",
       "         0.8782, 0.8782, 0.8782, 0.8782, 0.8782, 0.8782, 0.8782, 0.8782, 0.8782,\n",
       "         0.8782, 0.8782, 0.8782, 0.8782, 0.8782, 0.8782, 0.8782, 0.8782, 0.8782,\n",
       "         0.8782, 0.8782, 0.8782, 0.8782, 0.8782, 0.8782, 0.8782, 0.8782, 0.8782,\n",
       "         0.8782, 0.8782, 0.8782, 0.8782, 0.8782, 0.8782, 0.8782, 0.8782, 0.8782,\n",
       "         0.8782, 0.8782, 0.8782, 0.8782, 0.8782, 0.8782, 0.8782, 0.8782, 0.8782,\n",
       "         0.8782, 0.8782, 0.8782, 0.8782, 0.8782, 0.8782, 0.8782, 0.8782, 0.8782,\n",
       "         0.8782, 0.8782, 0.8782, 0.8782, 0.8782, 0.8782, 0.8782, 0.8782, 0.8782,\n",
       "         0.8782, 0.8782, 0.8782, 0.8782, 0.8782, 0.8782, 0.8782, 0.8782, 0.8782,\n",
       "         0.8782, 0.8782, 0.8782, 0.8782, 0.8782, 0.8782, 0.8782, 0.8782, 0.8782,\n",
       "         0.8782, 0.8782, 0.8782, 0.8782, 0.8782, 0.8782, 0.8782, 0.8782, 0.8782,\n",
       "         0.8782, 0.8782, 0.8782, 0.8782, 0.8782, 0.8782, 0.8782, 0.8782, 0.8782,\n",
       "         0.8782, 0.8782, 0.8782, 0.8782, 0.8782, 0.8782, 0.8782, 0.8782, 0.8782,\n",
       "         0.8782, 0.8782, 0.8782, 0.8782, 0.8782, 0.8782, 0.8782, 0.8782, 0.8782,\n",
       "         0.8782, 0.8782, 0.8782, 0.8782, 0.8782, 0.8782, 0.8782, 0.8782, 0.8782,\n",
       "         0.8782, 0.8782, 0.8782, 0.8782, 0.8782, 0.8782, 0.8782, 0.8782, 0.8782,\n",
       "         0.8782, 0.8782, 0.8782, 0.8782, 0.8782, 0.8782, 0.8782, 0.8782, 0.8782,\n",
       "         0.8782, 0.8782, 0.8782, 0.8782, 0.8782, 0.8782, 0.8782, 0.8782, 0.8782,\n",
       "         0.8782, 0.8782, 0.8782, 0.8782, 0.8782, 0.8782, 0.8782, 0.8782, 0.8782,\n",
       "         0.8782, 0.8782, 0.8782, 0.8782, 0.8782, 0.8782, 0.8782, 0.8782, 0.8782,\n",
       "         0.8782, 0.8782, 0.8782, 0.8782, 0.8782, 0.8782, 0.8782, 0.8782, 0.8782,\n",
       "         0.8782, 0.8782, 0.8782, 0.8782, 0.8782, 0.8782, 0.8782, 0.8782, 0.8782,\n",
       "         0.8782, 0.8782, 0.8782, 0.8782, 0.8782, 0.8782, 0.8782, 0.8782, 0.8782,\n",
       "         0.8782, 0.8782, 0.8782, 0.8782, 0.8782, 0.8782, 0.8782, 0.8782, 0.8782,\n",
       "         0.8782, 0.8782, 0.8782, 0.8782, 0.8782, 0.8782, 0.8782, 0.8782, 0.8782,\n",
       "         0.8782, 0.8782, 0.8782, 0.8782, 0.8782, 0.8782, 0.8782, 0.8782, 0.8782,\n",
       "         0.8782, 0.8782, 0.8782, 0.8782, 0.8782, 0.8782, 0.8782, 0.8782, 0.8782,\n",
       "         0.8782, 0.8782, 0.8782, 0.8782, 0.8782, 0.8782, 0.8782, 0.8782, 0.8782,\n",
       "         0.8782, 0.8782, 0.8782, 0.8782, 0.8782, 0.8782, 0.8782, 0.8782, 0.8782,\n",
       "         0.8782, 0.8782, 0.8782, 0.8782, 0.8782, 0.8782, 0.8782, 0.8782, 0.8782,\n",
       "         0.8782, 0.8782, 0.8782, 0.8782, 0.8782, 0.8782, 0.8782, 0.8782, 0.8782,\n",
       "         0.8782, 0.8782, 0.8782, 0.8782, 0.8782, 0.8782, 0.8782, 0.8782, 0.8782,\n",
       "         0.8782, 0.8782, 0.8782, 0.8782, 0.8782, 0.8782, 0.8782, 0.8782, 0.8782,\n",
       "         0.8782, 0.8782, 0.8782, 0.8782, 0.8782, 0.8782, 0.8782, 0.8782, 0.8782,\n",
       "         0.8782, 0.8782, 0.8782, 0.8782, 0.8782, 0.8782, 0.8782, 0.8782, 0.8782,\n",
       "         0.8782, 0.8782, 0.8782, 0.8782, 0.8782, 0.8782, 0.8782, 0.8782, 0.8782,\n",
       "         0.8782, 0.8782, 0.8782, 0.8782, 0.8782, 0.8782, 0.8782, 0.8782, 0.8782,\n",
       "         0.8782, 0.8782, 0.8782, 0.8782, 0.8782, 0.8782, 0.8782, 0.8782, 0.8782,\n",
       "         0.8782, 0.8782, 0.8782, 0.8782, 0.8782, 0.8782, 0.8782, 0.8782, 0.8782,\n",
       "         0.8782, 0.8782, 0.8782, 0.8782, 0.8782, 0.8782, 0.8782, 0.8782, 0.8782,\n",
       "         0.8782, 0.8782, 0.8782, 0.8782, 0.8782, 0.8782, 0.8782, 0.8782, 0.8782,\n",
       "         0.8782, 0.8782, 0.8782, 0.8782, 0.8782, 0.8782, 0.8782, 0.8782, 0.8782,\n",
       "         0.8782, 0.8782, 0.8782, 0.8782, 0.8782, 0.8782, 0.8782, 0.8782, 0.8782,\n",
       "         0.8782, 0.8782, 0.8782, 0.8782, 0.8782, 0.8782, 0.8782, 0.8782, 0.8782,\n",
       "         0.8782, 0.8782, 0.8782, 0.8782, 0.8782, 0.8782, 0.8782, 0.8782, 0.8782,\n",
       "         0.8782, 0.8782, 0.8782, 0.8782, 0.8782, 0.8782, 0.8782, 0.8782, 0.8782,\n",
       "         0.8782, 0.8782, 0.8782, 0.8782, 0.8782, 0.8782, 0.8782, 0.8782, 0.8782,\n",
       "         0.8782, 0.8782, 0.8782, 0.8782, 0.8782, 0.8782, 0.8782, 0.8782, 0.8782,\n",
       "         0.8782, 0.8782, 0.8782, 0.8782, 0.8782, 0.8782, 0.8782, 0.8782, 0.8782,\n",
       "         0.8782, 0.8782, 0.8782, 0.8782, 0.8782, 0.8782, 0.8782, 0.8782, 0.8782,\n",
       "         0.8782, 0.8782, 0.8782, 0.8782, 0.8782, 0.8782, 0.8782, 0.8782, 0.8782,\n",
       "         0.8782, 0.8782, 0.8782, 0.8782, 0.8782, 0.8782, 0.8782, 0.8782, 0.8782,\n",
       "         0.8782, 0.8782, 0.8782, 0.8782, 0.8782, 0.8782, 0.8782, 0.8782, 0.8782,\n",
       "         0.8782, 0.8782, 0.8782, 0.8782, 0.8782, 0.8782, 0.8782, 0.8782, 0.8782,\n",
       "         0.8782, 0.8782, 0.8782, 0.8782, 0.8782, 0.8782, 0.8782, 0.8782, 0.8782,\n",
       "         0.8782, 0.8782, 0.8782, 0.8782, 0.8782, 0.8782, 0.8782, 0.8782, 0.8782,\n",
       "         0.8782, 0.8782, 0.8782, 0.8782, 0.8782, 0.8782, 0.8782, 0.8782, 0.8782,\n",
       "         0.8782, 0.8782, 0.8782, 0.8782, 0.8782, 0.8782, 0.8782, 0.8782, 0.8782,\n",
       "         0.8782, 0.8782, 0.8782, 0.8782, 0.8782, 0.8782, 0.8782, 0.8782, 0.8782,\n",
       "         0.8782, 0.8782, 0.8782, 0.8782, 0.8782, 0.8782, 0.8782, 0.8782, 0.8782,\n",
       "         0.8782, 0.8782, 0.8782, 0.8782, 0.8782, 0.8782, 0.8782, 0.8782, 0.8782,\n",
       "         0.8782, 0.8782, 0.8782, 0.8782, 0.8782, 0.8782, 0.8782, 0.8782, 0.8782,\n",
       "         0.8782, 0.8782, 0.8782, 0.8782, 0.8782, 0.8782, 0.8782, 0.8782, 0.8782,\n",
       "         0.8782, 0.8782, 0.8782, 0.8782, 0.8782, 0.8782, 0.8782, 0.8782, 0.8782,\n",
       "         0.8782, 0.8782, 0.8782, 0.8782, 0.8782, 0.8782, 0.8782, 0.8782, 0.8782,\n",
       "         0.8782, 0.8782, 0.8782, 0.8782, 0.8782, 0.8782, 0.8782, 0.8782, 0.8782,\n",
       "         0.8782, 0.8782, 0.8782, 0.8782, 0.8782, 0.8782, 0.8782, 0.8782, 0.8782,\n",
       "         0.8782, 0.8782, 0.8782, 0.8782, 0.8782, 0.8782, 0.8782, 0.8782, 0.8782,\n",
       "         0.8782, 0.8782, 0.8782, 0.8782, 0.8782, 0.8782, 0.8782, 0.8782, 0.8782,\n",
       "         0.8782, 0.8782, 0.8782, 0.8782, 0.8782, 0.8782, 0.8782, 0.8782, 0.8782,\n",
       "         0.8782, 0.8782, 0.8782, 0.8782, 0.8782, 0.8782, 0.8782, 0.8782, 0.8782,\n",
       "         0.8782, 0.8782, 0.8782, 0.8782, 0.8782, 0.8782, 0.8782, 0.8782, 0.8782,\n",
       "         0.8782, 0.8782, 0.8782, 0.8782, 0.8782, 0.8782, 0.8782, 0.8782, 0.8782,\n",
       "         0.8782, 0.8782, 0.8782, 0.8782, 0.8782, 0.8782, 0.8782, 0.8782, 0.8782,\n",
       "         0.8782, 0.8782, 0.8782, 0.8782, 0.8782, 0.8782, 0.8782, 0.8782, 0.8782,\n",
       "         0.8782, 0.8782, 0.8782, 0.8782, 0.8782, 0.8782, 0.8782, 0.8782, 0.8782,\n",
       "         0.8782, 0.8782, 0.8782, 0.8782, 0.8782, 0.8782, 0.8782, 0.8782, 0.8782,\n",
       "         0.8782, 0.8782, 0.8782, 0.8782, 0.8782, 0.8782, 0.8782, 0.8782, 0.8782,\n",
       "         0.8782, 0.8782, 0.8782, 0.8782, 0.8782, 0.8782, 0.8782, 0.8782, 0.8782,\n",
       "         0.8782, 0.8782, 0.8782, 0.8782, 0.8782, 0.8782, 0.8782, 0.8782, 0.8782,\n",
       "         0.8782, 0.8782, 0.8782, 0.8782, 0.8782, 0.8782, 0.8782, 0.8782, 0.8782,\n",
       "         0.8782, 0.8782, 0.8782, 0.8782, 0.8782, 0.8782, 0.8782, 0.8782, 0.8782,\n",
       "         0.8782, 0.8782, 0.8782, 0.8782, 0.8782, 0.8782, 0.8782, 0.8782, 0.8782,\n",
       "         0.8782, 0.8782, 0.8782, 0.8782, 0.8782, 0.8782, 0.8782, 0.8782, 0.8782,\n",
       "         0.8782, 0.8782, 0.8782, 0.8782, 0.8782, 0.8782, 0.8782, 0.8782, 0.8782,\n",
       "         0.8782, 0.8782, 0.8782, 0.8782, 0.8782, 0.8782, 0.8782, 0.8782, 0.8782,\n",
       "         0.8782, 0.8782, 0.8782, 0.8782, 0.8782, 0.8782, 0.8782, 0.8782, 0.8782,\n",
       "         0.8782, 0.8782, 0.8782, 0.8782, 0.8782, 0.8782, 0.8782, 0.8782, 0.8782,\n",
       "         0.8782, 0.8782, 0.8782, 0.8782, 0.8782, 0.8782, 0.8782, 0.8782, 0.8782,\n",
       "         0.8782, 0.8782, 0.8782, 0.8782, 0.8782, 0.8782, 0.8782, 0.8782, 0.8782,\n",
       "         0.8782, 0.8782, 0.8782, 0.8782, 0.8782, 0.8782, 0.8782, 0.8782, 0.8782,\n",
       "         0.8782, 0.8782, 0.8782, 0.8782, 0.8782, 0.8782, 0.8782, 0.8782, 0.8782,\n",
       "         0.8782, 0.8782, 0.8782, 0.8782, 0.8782, 0.8782, 0.8782, 0.8782, 0.8782,\n",
       "         0.8782, 0.8782, 0.8782, 0.8782, 0.8782, 0.8782, 0.8782, 0.8782, 0.8782,\n",
       "         0.8782, 0.8782, 0.8782, 0.8782, 0.8782, 0.8782, 0.8782, 0.8782, 0.8782,\n",
       "         0.8782, 0.8782, 0.8782, 0.8782, 0.8782, 0.8782, 0.8782, 0.8782, 0.8782,\n",
       "         0.8782, 0.8782, 0.8782, 0.8782, 0.8782, 0.8782, 0.8782, 0.8782, 0.8782,\n",
       "         0.8782, 0.8782, 0.8782, 0.8782, 0.8782, 0.8782, 0.8782, 0.8782, 0.8782,\n",
       "         0.8782, 0.8782, 0.8782, 0.8782, 0.8782, 0.8782, 0.8782, 0.8782, 0.8782,\n",
       "         0.8782, 0.8782, 0.8782, 0.8782, 0.8782, 0.8782, 0.8782, 0.8782, 0.8782,\n",
       "         0.8782, 0.8782, 0.8782, 0.8782, 0.8782, 0.8782, 0.8782, 0.8782, 0.8782,\n",
       "         0.8782, 0.8782, 0.8782, 0.8782, 0.8782, 0.8782, 0.8782, 0.8782, 0.8782,\n",
       "         0.8782, 0.8782, 0.8782, 0.8782, 0.8782, 0.8782, 0.8782, 0.8782, 0.8782,\n",
       "         0.8782, 0.8782, 0.8782, 0.8782, 0.8782, 0.8782, 0.8782, 0.8782, 0.8782,\n",
       "         0.8782, 0.8782, 0.8782, 0.8782, 0.8782, 0.8782, 0.8782, 0.8782, 0.8782,\n",
       "         0.8782, 0.8782, 0.8782, 0.8782, 0.8782, 0.8782, 0.8782, 0.8782, 0.8782,\n",
       "         0.8782, 0.8782, 0.8782, 0.8782, 0.8782, 0.8782, 0.8782, 0.8782, 0.8782,\n",
       "         0.8782, 0.8782, 0.8782, 0.8782, 0.8782, 0.8782, 0.8782, 0.8782, 0.8782,\n",
       "         0.8782, 0.8782, 0.8782, 0.8782, 0.8782, 0.8782, 0.8782, 0.8782, 0.8782,\n",
       "         0.8782])}"
      ]
     },
     "execution_count": 42,
     "metadata": {},
     "output_type": "execute_result"
    }
   ],
   "source": [
    "G_optim.output_states"
   ]
  },
  {
   "cell_type": "code",
   "execution_count": 43,
   "metadata": {},
   "outputs": [
    {
     "name": "stdout",
     "output_type": "stream",
     "text": [
      "The edge ('A', 'A AND B') has parameter n = tensor([2.2956], grad_fn=<ExpBackward0>) and K = tensor([0.3781], grad_fn=<SigmoidBackward0>)\n",
      "The edge ('B', 'A AND B') has parameter n = tensor([2.3875], grad_fn=<ExpBackward0>) and K = tensor([0.3513], grad_fn=<SigmoidBackward0>)\n",
      "The edge ('C', 'D') has parameter n = tensor([4.3757], grad_fn=<ExpBackward0>) and K = tensor([0.2816], grad_fn=<SigmoidBackward0>)\n"
     ]
    }
   ],
   "source": [
    "for edge in G_optim.transfer_edges:\n",
    "    # Each transfer edge has a layer\n",
    "    layer = G_optim.edges()[edge][\"layer\"]\n",
    "    # Each layer has a n and an K parameter\n",
    "    print(f\"The edge {edge} has parameter n = {torch.exp(layer.n)} and K = {torch.sigmoid(layer.K)}\")\n",
    "    # Those parameters are torch.nn.Parameters and thus have a grad_fn which corresponds to their gradient"
   ]
  },
  {
   "cell_type": "code",
   "execution_count": 44,
   "metadata": {},
   "outputs": [
    {
     "name": "stdout",
     "output_type": "stream",
     "text": [
      "The edge ('A', 'A AND B') has parameter n = tensor([2.2956], grad_fn=<ExpBackward0>) and K = tensor([0.3781], grad_fn=<SigmoidBackward0>)\n",
      "The edge ('B', 'A AND B') has parameter n = tensor([2.3875], grad_fn=<ExpBackward0>) and K = tensor([0.3513], grad_fn=<SigmoidBackward0>)\n",
      "The edge ('C', 'D') has parameter n = tensor([4.3757], grad_fn=<ExpBackward0>) and K = tensor([0.2816], grad_fn=<SigmoidBackward0>)\n"
     ]
    }
   ],
   "source": [
    "for edge in G_optim.transfer_edges:\n",
    "    # Each transfer edge has a layer\n",
    "    layer = G_optim.edges()[edge][\"layer\"]\n",
    "    # Each layer has a n and an K parameter\n",
    "    print(f\"The edge {edge} has parameter n = {torch.exp(layer.n)} and K = {torch.sigmoid(layer.K)}\")\n",
    "    # Those parameters are torch.nn.Parameters and thus have a grad_fn which corresponds to their gradient"
   ]
  },
  {
   "cell_type": "code",
   "execution_count": null,
   "metadata": {},
   "outputs": [],
   "source": []
  }
 ],
 "metadata": {
  "kernelspec": {
   "display_name": "Python 3.10.5 ('biofuzznet')",
   "language": "python",
   "name": "python3"
  },
  "language_info": {
   "codemirror_mode": {
    "name": "ipython",
    "version": 3
   },
   "file_extension": ".py",
   "mimetype": "text/x-python",
   "name": "python",
   "nbconvert_exporter": "python",
   "pygments_lexer": "ipython3",
   "version": "3.10.5"
  },
  "orig_nbformat": 4,
  "vscode": {
   "interpreter": {
    "hash": "5c1ed0b64c11d7548a24fe6144d7607debffb78254c121df2e37987ffb6e1ed6"
   }
  }
 },
 "nbformat": 4,
 "nbformat_minor": 2
}
