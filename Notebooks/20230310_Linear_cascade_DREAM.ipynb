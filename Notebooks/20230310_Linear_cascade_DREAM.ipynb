{
 "cells": [
  {
   "cell_type": "code",
   "execution_count": 1,
   "id": "fe6b1b3b",
   "metadata": {},
   "outputs": [
    {
     "name": "stderr",
     "output_type": "stream",
     "text": [
      "/Users/adr/miniconda3/envs/biofuzznet/lib/python3.10/site-packages/tqdm/auto.py:22: TqdmWarning: IProgress not found. Please update jupyter and ipywidgets. See https://ipywidgets.readthedocs.io/en/stable/user_install.html\n",
      "  from .autonotebook import tqdm as notebook_tqdm\n"
     ]
    }
   ],
   "source": [
    "from biological_fuzzy_logic_networks.utils import read_sif\n",
    "from biological_fuzzy_logic_networks.biofuzznet import BioFuzzNet\n",
    "from biological_fuzzy_logic_networks.biomixnet import BioMixNet\n",
    "import networkx as nx\n",
    "import pandas as pd\n",
    "import torch\n",
    "from sklearn.model_selection import train_test_split\n",
    "import seaborn as sns\n",
    "import matplotlib.pyplot as plt\n",
    "import numpy as np\n",
    "from sklearn.preprocessing import MinMaxScaler, StandardScaler"
   ]
  },
  {
   "cell_type": "code",
   "execution_count": 2,
   "id": "e3bc979b",
   "metadata": {},
   "outputs": [
    {
     "data": {
      "text/html": [
       "<div>\n",
       "<style scoped>\n",
       "    .dataframe tbody tr th:only-of-type {\n",
       "        vertical-align: middle;\n",
       "    }\n",
       "\n",
       "    .dataframe tbody tr th {\n",
       "        vertical-align: top;\n",
       "    }\n",
       "\n",
       "    .dataframe thead th {\n",
       "        text-align: right;\n",
       "    }\n",
       "</style>\n",
       "<table border=\"1\" class=\"dataframe\">\n",
       "  <thead>\n",
       "    <tr style=\"text-align: right;\">\n",
       "      <th></th>\n",
       "      <th>treatment</th>\n",
       "      <th>cell_line</th>\n",
       "      <th>time</th>\n",
       "      <th>cellID</th>\n",
       "      <th>fileID</th>\n",
       "      <th>b.CATENIN</th>\n",
       "      <th>cleavedCas</th>\n",
       "      <th>CyclinB</th>\n",
       "      <th>GAPDH</th>\n",
       "      <th>IdU</th>\n",
       "      <th>...</th>\n",
       "      <th>p.PDPK1</th>\n",
       "      <th>p.PLCg2</th>\n",
       "      <th>p.RB</th>\n",
       "      <th>p.S6</th>\n",
       "      <th>p.S6K</th>\n",
       "      <th>p.SMAD23</th>\n",
       "      <th>p.SRC</th>\n",
       "      <th>p.STAT1</th>\n",
       "      <th>p.STAT3</th>\n",
       "      <th>p.STAT5</th>\n",
       "    </tr>\n",
       "  </thead>\n",
       "  <tbody>\n",
       "    <tr>\n",
       "      <th>25595</th>\n",
       "      <td>EGF</td>\n",
       "      <td>ZR7530</td>\n",
       "      <td>9.0</td>\n",
       "      <td>1</td>\n",
       "      <td>1011</td>\n",
       "      <td>0.395636</td>\n",
       "      <td>0.402194</td>\n",
       "      <td>0.000000</td>\n",
       "      <td>0.492295</td>\n",
       "      <td>0.104349</td>\n",
       "      <td>...</td>\n",
       "      <td>0.375356</td>\n",
       "      <td>0.352125</td>\n",
       "      <td>0.099567</td>\n",
       "      <td>0.273289</td>\n",
       "      <td>0.369775</td>\n",
       "      <td>0.186604</td>\n",
       "      <td>0.383592</td>\n",
       "      <td>0.328056</td>\n",
       "      <td>0.441879</td>\n",
       "      <td>0.340322</td>\n",
       "    </tr>\n",
       "    <tr>\n",
       "      <th>25596</th>\n",
       "      <td>EGF</td>\n",
       "      <td>ZR7530</td>\n",
       "      <td>9.0</td>\n",
       "      <td>2</td>\n",
       "      <td>1011</td>\n",
       "      <td>0.000000</td>\n",
       "      <td>0.140044</td>\n",
       "      <td>0.537944</td>\n",
       "      <td>0.409615</td>\n",
       "      <td>0.897755</td>\n",
       "      <td>...</td>\n",
       "      <td>0.000000</td>\n",
       "      <td>0.082241</td>\n",
       "      <td>0.598982</td>\n",
       "      <td>0.378096</td>\n",
       "      <td>0.109032</td>\n",
       "      <td>0.478256</td>\n",
       "      <td>0.245605</td>\n",
       "      <td>0.355943</td>\n",
       "      <td>0.169588</td>\n",
       "      <td>0.300694</td>\n",
       "    </tr>\n",
       "    <tr>\n",
       "      <th>25597</th>\n",
       "      <td>EGF</td>\n",
       "      <td>ZR7530</td>\n",
       "      <td>9.0</td>\n",
       "      <td>3</td>\n",
       "      <td>1011</td>\n",
       "      <td>0.279084</td>\n",
       "      <td>0.432673</td>\n",
       "      <td>0.000000</td>\n",
       "      <td>0.713174</td>\n",
       "      <td>0.253652</td>\n",
       "      <td>...</td>\n",
       "      <td>0.210846</td>\n",
       "      <td>0.104309</td>\n",
       "      <td>0.303606</td>\n",
       "      <td>0.395779</td>\n",
       "      <td>0.563735</td>\n",
       "      <td>0.486540</td>\n",
       "      <td>0.255902</td>\n",
       "      <td>0.368843</td>\n",
       "      <td>0.457316</td>\n",
       "      <td>0.304705</td>\n",
       "    </tr>\n",
       "    <tr>\n",
       "      <th>25598</th>\n",
       "      <td>EGF</td>\n",
       "      <td>ZR7530</td>\n",
       "      <td>9.0</td>\n",
       "      <td>4</td>\n",
       "      <td>1011</td>\n",
       "      <td>0.000000</td>\n",
       "      <td>0.267420</td>\n",
       "      <td>0.141758</td>\n",
       "      <td>0.430330</td>\n",
       "      <td>0.000000</td>\n",
       "      <td>...</td>\n",
       "      <td>0.020738</td>\n",
       "      <td>0.449832</td>\n",
       "      <td>0.000000</td>\n",
       "      <td>0.453254</td>\n",
       "      <td>0.726091</td>\n",
       "      <td>0.000000</td>\n",
       "      <td>0.398669</td>\n",
       "      <td>0.446374</td>\n",
       "      <td>0.232850</td>\n",
       "      <td>0.345303</td>\n",
       "    </tr>\n",
       "    <tr>\n",
       "      <th>25599</th>\n",
       "      <td>EGF</td>\n",
       "      <td>ZR7530</td>\n",
       "      <td>9.0</td>\n",
       "      <td>5</td>\n",
       "      <td>1011</td>\n",
       "      <td>0.530664</td>\n",
       "      <td>0.402922</td>\n",
       "      <td>0.262447</td>\n",
       "      <td>0.677272</td>\n",
       "      <td>0.679108</td>\n",
       "      <td>...</td>\n",
       "      <td>0.590596</td>\n",
       "      <td>0.658284</td>\n",
       "      <td>0.828589</td>\n",
       "      <td>0.609928</td>\n",
       "      <td>0.596778</td>\n",
       "      <td>0.634626</td>\n",
       "      <td>0.410794</td>\n",
       "      <td>0.434798</td>\n",
       "      <td>0.531388</td>\n",
       "      <td>0.382133</td>\n",
       "    </tr>\n",
       "    <tr>\n",
       "      <th>...</th>\n",
       "      <td>...</td>\n",
       "      <td>...</td>\n",
       "      <td>...</td>\n",
       "      <td>...</td>\n",
       "      <td>...</td>\n",
       "      <td>...</td>\n",
       "      <td>...</td>\n",
       "      <td>...</td>\n",
       "      <td>...</td>\n",
       "      <td>...</td>\n",
       "      <td>...</td>\n",
       "      <td>...</td>\n",
       "      <td>...</td>\n",
       "      <td>...</td>\n",
       "      <td>...</td>\n",
       "      <td>...</td>\n",
       "      <td>...</td>\n",
       "      <td>...</td>\n",
       "      <td>...</td>\n",
       "      <td>...</td>\n",
       "      <td>...</td>\n",
       "    </tr>\n",
       "    <tr>\n",
       "      <th>438604</th>\n",
       "      <td>iPKC</td>\n",
       "      <td>ZR7530</td>\n",
       "      <td>9.0</td>\n",
       "      <td>8364</td>\n",
       "      <td>981</td>\n",
       "      <td>0.605812</td>\n",
       "      <td>0.292460</td>\n",
       "      <td>0.141792</td>\n",
       "      <td>0.563163</td>\n",
       "      <td>0.029755</td>\n",
       "      <td>...</td>\n",
       "      <td>0.436423</td>\n",
       "      <td>0.599954</td>\n",
       "      <td>0.152836</td>\n",
       "      <td>0.384682</td>\n",
       "      <td>0.554484</td>\n",
       "      <td>0.375520</td>\n",
       "      <td>0.454312</td>\n",
       "      <td>0.329122</td>\n",
       "      <td>0.651206</td>\n",
       "      <td>0.379009</td>\n",
       "    </tr>\n",
       "    <tr>\n",
       "      <th>438605</th>\n",
       "      <td>iPKC</td>\n",
       "      <td>ZR7530</td>\n",
       "      <td>9.0</td>\n",
       "      <td>8365</td>\n",
       "      <td>981</td>\n",
       "      <td>0.000000</td>\n",
       "      <td>0.000000</td>\n",
       "      <td>0.131784</td>\n",
       "      <td>0.369437</td>\n",
       "      <td>0.158079</td>\n",
       "      <td>...</td>\n",
       "      <td>0.000000</td>\n",
       "      <td>0.287432</td>\n",
       "      <td>0.000000</td>\n",
       "      <td>0.353103</td>\n",
       "      <td>0.277070</td>\n",
       "      <td>0.445072</td>\n",
       "      <td>0.132246</td>\n",
       "      <td>0.303992</td>\n",
       "      <td>0.311794</td>\n",
       "      <td>0.383396</td>\n",
       "    </tr>\n",
       "    <tr>\n",
       "      <th>438606</th>\n",
       "      <td>iPKC</td>\n",
       "      <td>ZR7530</td>\n",
       "      <td>9.0</td>\n",
       "      <td>8366</td>\n",
       "      <td>981</td>\n",
       "      <td>0.584230</td>\n",
       "      <td>0.312458</td>\n",
       "      <td>0.727297</td>\n",
       "      <td>0.552922</td>\n",
       "      <td>0.429372</td>\n",
       "      <td>...</td>\n",
       "      <td>0.501491</td>\n",
       "      <td>0.559899</td>\n",
       "      <td>0.748482</td>\n",
       "      <td>0.391360</td>\n",
       "      <td>0.604408</td>\n",
       "      <td>0.340593</td>\n",
       "      <td>0.354785</td>\n",
       "      <td>0.456384</td>\n",
       "      <td>0.446863</td>\n",
       "      <td>0.387726</td>\n",
       "    </tr>\n",
       "    <tr>\n",
       "      <th>438607</th>\n",
       "      <td>iPKC</td>\n",
       "      <td>ZR7530</td>\n",
       "      <td>9.0</td>\n",
       "      <td>8367</td>\n",
       "      <td>981</td>\n",
       "      <td>0.125551</td>\n",
       "      <td>0.480262</td>\n",
       "      <td>0.115179</td>\n",
       "      <td>0.736958</td>\n",
       "      <td>0.172115</td>\n",
       "      <td>...</td>\n",
       "      <td>0.422837</td>\n",
       "      <td>0.738014</td>\n",
       "      <td>0.231625</td>\n",
       "      <td>0.356163</td>\n",
       "      <td>0.653604</td>\n",
       "      <td>0.737798</td>\n",
       "      <td>0.315952</td>\n",
       "      <td>0.361219</td>\n",
       "      <td>0.413430</td>\n",
       "      <td>0.336527</td>\n",
       "    </tr>\n",
       "    <tr>\n",
       "      <th>438608</th>\n",
       "      <td>iPKC</td>\n",
       "      <td>ZR7530</td>\n",
       "      <td>9.0</td>\n",
       "      <td>8368</td>\n",
       "      <td>981</td>\n",
       "      <td>0.216619</td>\n",
       "      <td>0.424140</td>\n",
       "      <td>0.074959</td>\n",
       "      <td>0.691842</td>\n",
       "      <td>0.152519</td>\n",
       "      <td>...</td>\n",
       "      <td>0.351747</td>\n",
       "      <td>0.663714</td>\n",
       "      <td>0.288832</td>\n",
       "      <td>0.217364</td>\n",
       "      <td>0.514302</td>\n",
       "      <td>0.609506</td>\n",
       "      <td>0.260296</td>\n",
       "      <td>0.281700</td>\n",
       "      <td>0.363903</td>\n",
       "      <td>0.343128</td>\n",
       "    </tr>\n",
       "  </tbody>\n",
       "</table>\n",
       "<p>57951 rows × 42 columns</p>\n",
       "</div>"
      ],
      "text/plain": [
       "       treatment cell_line  time  cellID  fileID  b.CATENIN  cleavedCas  \\\n",
       "25595        EGF    ZR7530   9.0       1    1011   0.395636    0.402194   \n",
       "25596        EGF    ZR7530   9.0       2    1011   0.000000    0.140044   \n",
       "25597        EGF    ZR7530   9.0       3    1011   0.279084    0.432673   \n",
       "25598        EGF    ZR7530   9.0       4    1011   0.000000    0.267420   \n",
       "25599        EGF    ZR7530   9.0       5    1011   0.530664    0.402922   \n",
       "...          ...       ...   ...     ...     ...        ...         ...   \n",
       "438604      iPKC    ZR7530   9.0    8364     981   0.605812    0.292460   \n",
       "438605      iPKC    ZR7530   9.0    8365     981   0.000000    0.000000   \n",
       "438606      iPKC    ZR7530   9.0    8366     981   0.584230    0.312458   \n",
       "438607      iPKC    ZR7530   9.0    8367     981   0.125551    0.480262   \n",
       "438608      iPKC    ZR7530   9.0    8368     981   0.216619    0.424140   \n",
       "\n",
       "         CyclinB     GAPDH       IdU  ...   p.PDPK1   p.PLCg2      p.RB  \\\n",
       "25595   0.000000  0.492295  0.104349  ...  0.375356  0.352125  0.099567   \n",
       "25596   0.537944  0.409615  0.897755  ...  0.000000  0.082241  0.598982   \n",
       "25597   0.000000  0.713174  0.253652  ...  0.210846  0.104309  0.303606   \n",
       "25598   0.141758  0.430330  0.000000  ...  0.020738  0.449832  0.000000   \n",
       "25599   0.262447  0.677272  0.679108  ...  0.590596  0.658284  0.828589   \n",
       "...          ...       ...       ...  ...       ...       ...       ...   \n",
       "438604  0.141792  0.563163  0.029755  ...  0.436423  0.599954  0.152836   \n",
       "438605  0.131784  0.369437  0.158079  ...  0.000000  0.287432  0.000000   \n",
       "438606  0.727297  0.552922  0.429372  ...  0.501491  0.559899  0.748482   \n",
       "438607  0.115179  0.736958  0.172115  ...  0.422837  0.738014  0.231625   \n",
       "438608  0.074959  0.691842  0.152519  ...  0.351747  0.663714  0.288832   \n",
       "\n",
       "            p.S6     p.S6K  p.SMAD23     p.SRC   p.STAT1   p.STAT3   p.STAT5  \n",
       "25595   0.273289  0.369775  0.186604  0.383592  0.328056  0.441879  0.340322  \n",
       "25596   0.378096  0.109032  0.478256  0.245605  0.355943  0.169588  0.300694  \n",
       "25597   0.395779  0.563735  0.486540  0.255902  0.368843  0.457316  0.304705  \n",
       "25598   0.453254  0.726091  0.000000  0.398669  0.446374  0.232850  0.345303  \n",
       "25599   0.609928  0.596778  0.634626  0.410794  0.434798  0.531388  0.382133  \n",
       "...          ...       ...       ...       ...       ...       ...       ...  \n",
       "438604  0.384682  0.554484  0.375520  0.454312  0.329122  0.651206  0.379009  \n",
       "438605  0.353103  0.277070  0.445072  0.132246  0.303992  0.311794  0.383396  \n",
       "438606  0.391360  0.604408  0.340593  0.354785  0.456384  0.446863  0.387726  \n",
       "438607  0.356163  0.653604  0.737798  0.315952  0.361219  0.413430  0.336527  \n",
       "438608  0.217364  0.514302  0.609506  0.260296  0.281700  0.363903  0.343128  \n",
       "\n",
       "[57951 rows x 42 columns]"
      ]
     },
     "execution_count": 2,
     "metadata": {},
     "output_type": "execute_result"
    }
   ],
   "source": [
    "cl_data = pd.read_csv(\"/Users/adr/Box/CAR_Tcells/Data/DREAMdata/ZR7530.csv\")\n",
    "non_marker_cols = [\"treatment\", \"cell_line\", \"time\", \"cellID\", \"fileID\"]\n",
    "markers = [c for c in cl_data.columns if not c in non_marker_cols]\n",
    "\n",
    "cl_data = cl_data[cl_data[\"time\"]==9]\n",
    "scaler = MinMaxScaler()\n",
    "cl_data[markers] = scaler.fit_transform(cl_data[markers])\n",
    "cl_data"
   ]
  },
  {
   "cell_type": "code",
   "execution_count": 3,
   "id": "1bfbf96a",
   "metadata": {},
   "outputs": [
    {
     "data": {
      "text/html": [
       "<div>\n",
       "<style scoped>\n",
       "    .dataframe tbody tr th:only-of-type {\n",
       "        vertical-align: middle;\n",
       "    }\n",
       "\n",
       "    .dataframe tbody tr th {\n",
       "        vertical-align: top;\n",
       "    }\n",
       "\n",
       "    .dataframe thead th {\n",
       "        text-align: right;\n",
       "    }\n",
       "</style>\n",
       "<table border=\"1\" class=\"dataframe\">\n",
       "  <thead>\n",
       "    <tr style=\"text-align: right;\">\n",
       "      <th></th>\n",
       "      <th>treatment</th>\n",
       "      <th>cell_line</th>\n",
       "      <th>time</th>\n",
       "      <th>cellID</th>\n",
       "      <th>fileID</th>\n",
       "      <th>b.CATENIN</th>\n",
       "      <th>cleavedCas</th>\n",
       "      <th>CyclinB</th>\n",
       "      <th>GAPDH</th>\n",
       "      <th>IdU</th>\n",
       "      <th>...</th>\n",
       "      <th>p.PDPK1</th>\n",
       "      <th>p.PLCg2</th>\n",
       "      <th>p.RB</th>\n",
       "      <th>p.S6</th>\n",
       "      <th>p.S6K</th>\n",
       "      <th>p.SMAD23</th>\n",
       "      <th>p.SRC</th>\n",
       "      <th>p.STAT1</th>\n",
       "      <th>p.STAT3</th>\n",
       "      <th>p.STAT5</th>\n",
       "    </tr>\n",
       "  </thead>\n",
       "  <tbody>\n",
       "    <tr>\n",
       "      <th>25595</th>\n",
       "      <td>EGF</td>\n",
       "      <td>ZR7530</td>\n",
       "      <td>9.0</td>\n",
       "      <td>1</td>\n",
       "      <td>1011</td>\n",
       "      <td>0.395636</td>\n",
       "      <td>0.402194</td>\n",
       "      <td>0.000000</td>\n",
       "      <td>0.492295</td>\n",
       "      <td>0.104349</td>\n",
       "      <td>...</td>\n",
       "      <td>0.375356</td>\n",
       "      <td>0.352125</td>\n",
       "      <td>0.099567</td>\n",
       "      <td>0.273289</td>\n",
       "      <td>0.369775</td>\n",
       "      <td>0.186604</td>\n",
       "      <td>0.383592</td>\n",
       "      <td>0.328056</td>\n",
       "      <td>0.441879</td>\n",
       "      <td>0.340322</td>\n",
       "    </tr>\n",
       "    <tr>\n",
       "      <th>25596</th>\n",
       "      <td>EGF</td>\n",
       "      <td>ZR7530</td>\n",
       "      <td>9.0</td>\n",
       "      <td>2</td>\n",
       "      <td>1011</td>\n",
       "      <td>0.000000</td>\n",
       "      <td>0.140044</td>\n",
       "      <td>0.537944</td>\n",
       "      <td>0.409615</td>\n",
       "      <td>0.897755</td>\n",
       "      <td>...</td>\n",
       "      <td>0.000000</td>\n",
       "      <td>0.082241</td>\n",
       "      <td>0.598982</td>\n",
       "      <td>0.378096</td>\n",
       "      <td>0.109032</td>\n",
       "      <td>0.478256</td>\n",
       "      <td>0.245605</td>\n",
       "      <td>0.355943</td>\n",
       "      <td>0.169588</td>\n",
       "      <td>0.300694</td>\n",
       "    </tr>\n",
       "    <tr>\n",
       "      <th>25597</th>\n",
       "      <td>EGF</td>\n",
       "      <td>ZR7530</td>\n",
       "      <td>9.0</td>\n",
       "      <td>3</td>\n",
       "      <td>1011</td>\n",
       "      <td>0.279084</td>\n",
       "      <td>0.432673</td>\n",
       "      <td>0.000000</td>\n",
       "      <td>0.713174</td>\n",
       "      <td>0.253652</td>\n",
       "      <td>...</td>\n",
       "      <td>0.210846</td>\n",
       "      <td>0.104309</td>\n",
       "      <td>0.303606</td>\n",
       "      <td>0.395779</td>\n",
       "      <td>0.563735</td>\n",
       "      <td>0.486540</td>\n",
       "      <td>0.255902</td>\n",
       "      <td>0.368843</td>\n",
       "      <td>0.457316</td>\n",
       "      <td>0.304705</td>\n",
       "    </tr>\n",
       "    <tr>\n",
       "      <th>25598</th>\n",
       "      <td>EGF</td>\n",
       "      <td>ZR7530</td>\n",
       "      <td>9.0</td>\n",
       "      <td>4</td>\n",
       "      <td>1011</td>\n",
       "      <td>0.000000</td>\n",
       "      <td>0.267420</td>\n",
       "      <td>0.141758</td>\n",
       "      <td>0.430330</td>\n",
       "      <td>0.000000</td>\n",
       "      <td>...</td>\n",
       "      <td>0.020738</td>\n",
       "      <td>0.449832</td>\n",
       "      <td>0.000000</td>\n",
       "      <td>0.453254</td>\n",
       "      <td>0.726091</td>\n",
       "      <td>0.000000</td>\n",
       "      <td>0.398669</td>\n",
       "      <td>0.446374</td>\n",
       "      <td>0.232850</td>\n",
       "      <td>0.345303</td>\n",
       "    </tr>\n",
       "    <tr>\n",
       "      <th>25599</th>\n",
       "      <td>EGF</td>\n",
       "      <td>ZR7530</td>\n",
       "      <td>9.0</td>\n",
       "      <td>5</td>\n",
       "      <td>1011</td>\n",
       "      <td>0.530664</td>\n",
       "      <td>0.402922</td>\n",
       "      <td>0.262447</td>\n",
       "      <td>0.677272</td>\n",
       "      <td>0.679108</td>\n",
       "      <td>...</td>\n",
       "      <td>0.590596</td>\n",
       "      <td>0.658284</td>\n",
       "      <td>0.828589</td>\n",
       "      <td>0.609928</td>\n",
       "      <td>0.596778</td>\n",
       "      <td>0.634626</td>\n",
       "      <td>0.410794</td>\n",
       "      <td>0.434798</td>\n",
       "      <td>0.531388</td>\n",
       "      <td>0.382133</td>\n",
       "    </tr>\n",
       "    <tr>\n",
       "      <th>...</th>\n",
       "      <td>...</td>\n",
       "      <td>...</td>\n",
       "      <td>...</td>\n",
       "      <td>...</td>\n",
       "      <td>...</td>\n",
       "      <td>...</td>\n",
       "      <td>...</td>\n",
       "      <td>...</td>\n",
       "      <td>...</td>\n",
       "      <td>...</td>\n",
       "      <td>...</td>\n",
       "      <td>...</td>\n",
       "      <td>...</td>\n",
       "      <td>...</td>\n",
       "      <td>...</td>\n",
       "      <td>...</td>\n",
       "      <td>...</td>\n",
       "      <td>...</td>\n",
       "      <td>...</td>\n",
       "      <td>...</td>\n",
       "      <td>...</td>\n",
       "    </tr>\n",
       "    <tr>\n",
       "      <th>438604</th>\n",
       "      <td>iPKC</td>\n",
       "      <td>ZR7530</td>\n",
       "      <td>9.0</td>\n",
       "      <td>8364</td>\n",
       "      <td>981</td>\n",
       "      <td>0.605812</td>\n",
       "      <td>0.292460</td>\n",
       "      <td>0.141792</td>\n",
       "      <td>0.563163</td>\n",
       "      <td>0.029755</td>\n",
       "      <td>...</td>\n",
       "      <td>0.436423</td>\n",
       "      <td>0.599954</td>\n",
       "      <td>0.152836</td>\n",
       "      <td>0.384682</td>\n",
       "      <td>0.554484</td>\n",
       "      <td>0.375520</td>\n",
       "      <td>0.454312</td>\n",
       "      <td>0.329122</td>\n",
       "      <td>0.651206</td>\n",
       "      <td>0.379009</td>\n",
       "    </tr>\n",
       "    <tr>\n",
       "      <th>438605</th>\n",
       "      <td>iPKC</td>\n",
       "      <td>ZR7530</td>\n",
       "      <td>9.0</td>\n",
       "      <td>8365</td>\n",
       "      <td>981</td>\n",
       "      <td>0.000000</td>\n",
       "      <td>0.000000</td>\n",
       "      <td>0.131784</td>\n",
       "      <td>0.369437</td>\n",
       "      <td>0.158079</td>\n",
       "      <td>...</td>\n",
       "      <td>0.000000</td>\n",
       "      <td>0.287432</td>\n",
       "      <td>0.000000</td>\n",
       "      <td>0.353103</td>\n",
       "      <td>0.277070</td>\n",
       "      <td>0.445072</td>\n",
       "      <td>0.132246</td>\n",
       "      <td>0.303992</td>\n",
       "      <td>0.311794</td>\n",
       "      <td>0.383396</td>\n",
       "    </tr>\n",
       "    <tr>\n",
       "      <th>438606</th>\n",
       "      <td>iPKC</td>\n",
       "      <td>ZR7530</td>\n",
       "      <td>9.0</td>\n",
       "      <td>8366</td>\n",
       "      <td>981</td>\n",
       "      <td>0.584230</td>\n",
       "      <td>0.312458</td>\n",
       "      <td>0.727297</td>\n",
       "      <td>0.552922</td>\n",
       "      <td>0.429372</td>\n",
       "      <td>...</td>\n",
       "      <td>0.501491</td>\n",
       "      <td>0.559899</td>\n",
       "      <td>0.748482</td>\n",
       "      <td>0.391360</td>\n",
       "      <td>0.604408</td>\n",
       "      <td>0.340593</td>\n",
       "      <td>0.354785</td>\n",
       "      <td>0.456384</td>\n",
       "      <td>0.446863</td>\n",
       "      <td>0.387726</td>\n",
       "    </tr>\n",
       "    <tr>\n",
       "      <th>438607</th>\n",
       "      <td>iPKC</td>\n",
       "      <td>ZR7530</td>\n",
       "      <td>9.0</td>\n",
       "      <td>8367</td>\n",
       "      <td>981</td>\n",
       "      <td>0.125551</td>\n",
       "      <td>0.480262</td>\n",
       "      <td>0.115179</td>\n",
       "      <td>0.736958</td>\n",
       "      <td>0.172115</td>\n",
       "      <td>...</td>\n",
       "      <td>0.422837</td>\n",
       "      <td>0.738014</td>\n",
       "      <td>0.231625</td>\n",
       "      <td>0.356163</td>\n",
       "      <td>0.653604</td>\n",
       "      <td>0.737798</td>\n",
       "      <td>0.315952</td>\n",
       "      <td>0.361219</td>\n",
       "      <td>0.413430</td>\n",
       "      <td>0.336527</td>\n",
       "    </tr>\n",
       "    <tr>\n",
       "      <th>438608</th>\n",
       "      <td>iPKC</td>\n",
       "      <td>ZR7530</td>\n",
       "      <td>9.0</td>\n",
       "      <td>8368</td>\n",
       "      <td>981</td>\n",
       "      <td>0.216619</td>\n",
       "      <td>0.424140</td>\n",
       "      <td>0.074959</td>\n",
       "      <td>0.691842</td>\n",
       "      <td>0.152519</td>\n",
       "      <td>...</td>\n",
       "      <td>0.351747</td>\n",
       "      <td>0.663714</td>\n",
       "      <td>0.288832</td>\n",
       "      <td>0.217364</td>\n",
       "      <td>0.514302</td>\n",
       "      <td>0.609506</td>\n",
       "      <td>0.260296</td>\n",
       "      <td>0.281700</td>\n",
       "      <td>0.363903</td>\n",
       "      <td>0.343128</td>\n",
       "    </tr>\n",
       "  </tbody>\n",
       "</table>\n",
       "<p>57951 rows × 42 columns</p>\n",
       "</div>"
      ],
      "text/plain": [
       "       treatment cell_line  time  cellID  fileID  b.CATENIN  cleavedCas  \\\n",
       "25595        EGF    ZR7530   9.0       1    1011   0.395636    0.402194   \n",
       "25596        EGF    ZR7530   9.0       2    1011   0.000000    0.140044   \n",
       "25597        EGF    ZR7530   9.0       3    1011   0.279084    0.432673   \n",
       "25598        EGF    ZR7530   9.0       4    1011   0.000000    0.267420   \n",
       "25599        EGF    ZR7530   9.0       5    1011   0.530664    0.402922   \n",
       "...          ...       ...   ...     ...     ...        ...         ...   \n",
       "438604      iPKC    ZR7530   9.0    8364     981   0.605812    0.292460   \n",
       "438605      iPKC    ZR7530   9.0    8365     981   0.000000    0.000000   \n",
       "438606      iPKC    ZR7530   9.0    8366     981   0.584230    0.312458   \n",
       "438607      iPKC    ZR7530   9.0    8367     981   0.125551    0.480262   \n",
       "438608      iPKC    ZR7530   9.0    8368     981   0.216619    0.424140   \n",
       "\n",
       "         CyclinB     GAPDH       IdU  ...   p.PDPK1   p.PLCg2      p.RB  \\\n",
       "25595   0.000000  0.492295  0.104349  ...  0.375356  0.352125  0.099567   \n",
       "25596   0.537944  0.409615  0.897755  ...  0.000000  0.082241  0.598982   \n",
       "25597   0.000000  0.713174  0.253652  ...  0.210846  0.104309  0.303606   \n",
       "25598   0.141758  0.430330  0.000000  ...  0.020738  0.449832  0.000000   \n",
       "25599   0.262447  0.677272  0.679108  ...  0.590596  0.658284  0.828589   \n",
       "...          ...       ...       ...  ...       ...       ...       ...   \n",
       "438604  0.141792  0.563163  0.029755  ...  0.436423  0.599954  0.152836   \n",
       "438605  0.131784  0.369437  0.158079  ...  0.000000  0.287432  0.000000   \n",
       "438606  0.727297  0.552922  0.429372  ...  0.501491  0.559899  0.748482   \n",
       "438607  0.115179  0.736958  0.172115  ...  0.422837  0.738014  0.231625   \n",
       "438608  0.074959  0.691842  0.152519  ...  0.351747  0.663714  0.288832   \n",
       "\n",
       "            p.S6     p.S6K  p.SMAD23     p.SRC   p.STAT1   p.STAT3   p.STAT5  \n",
       "25595   0.273289  0.369775  0.186604  0.383592  0.328056  0.441879  0.340322  \n",
       "25596   0.378096  0.109032  0.478256  0.245605  0.355943  0.169588  0.300694  \n",
       "25597   0.395779  0.563735  0.486540  0.255902  0.368843  0.457316  0.304705  \n",
       "25598   0.453254  0.726091  0.000000  0.398669  0.446374  0.232850  0.345303  \n",
       "25599   0.609928  0.596778  0.634626  0.410794  0.434798  0.531388  0.382133  \n",
       "...          ...       ...       ...       ...       ...       ...       ...  \n",
       "438604  0.384682  0.554484  0.375520  0.454312  0.329122  0.651206  0.379009  \n",
       "438605  0.353103  0.277070  0.445072  0.132246  0.303992  0.311794  0.383396  \n",
       "438606  0.391360  0.604408  0.340593  0.354785  0.456384  0.446863  0.387726  \n",
       "438607  0.356163  0.653604  0.737798  0.315952  0.361219  0.413430  0.336527  \n",
       "438608  0.217364  0.514302  0.609506  0.260296  0.281700  0.363903  0.343128  \n",
       "\n",
       "[57951 rows x 42 columns]"
      ]
     },
     "execution_count": 3,
     "metadata": {},
     "output_type": "execute_result"
    }
   ],
   "source": [
    "cl_data"
   ]
  },
  {
   "cell_type": "code",
   "execution_count": 4,
   "id": "c19ebd5f",
   "metadata": {},
   "outputs": [],
   "source": [
    "nodes1, edges1 = read_sif(\"/Users/adr/Box/CAR_Tcells/Data/DREAMdata/prior_knowledge.sif\")"
   ]
  },
  {
   "cell_type": "code",
   "execution_count": 5,
   "id": "721a4516",
   "metadata": {},
   "outputs": [
    {
     "data": {
      "text/plain": [
       "{('p53', 'RB'): '1', ('MKK4', 'JNK'): '1', ('JNK', 'p53'): 1}"
      ]
     },
     "execution_count": 5,
     "metadata": {},
     "output_type": "execute_result"
    }
   ],
   "source": [
    "nodes, edges = read_sif(\"/Users/adr/Box/CAR_Tcells/Data/DREAMdata/DREAM_PKN_for_BFZ_input.sif\")\n",
    "edges[(\"JNK\", \"p53\")] = 1\n",
    "sel_nodes = [\"MKK4\", \"JNK\", \"p53\", \"RB\"]\n",
    "\n",
    "sel_edges = {k: v for k,v in edges.items() if (k[1] in sel_nodes) and (k[0] in sel_nodes)}\n",
    "sel_edges"
   ]
  },
  {
   "cell_type": "code",
   "execution_count": 6,
   "id": "ec67ca92",
   "metadata": {},
   "outputs": [],
   "source": [
    "G=nx.from_edgelist(sel_edges)"
   ]
  },
  {
   "cell_type": "code",
   "execution_count": 7,
   "id": "97bd286a",
   "metadata": {},
   "outputs": [
    {
     "data": {
      "image/png": "[encoded data removed]",
      "text/plain": [
       "<Figure size 640x480 with 1 Axes>"
      ]
     },
     "metadata": {},
     "output_type": "display_data"
    }
   ],
   "source": [
    "nx.draw(G, with_labels=True)"
   ]
  },
  {
   "cell_type": "code",
   "execution_count": 8,
   "id": "59f97603",
   "metadata": {},
   "outputs": [],
   "source": [
    "# Create an empty BioFuzzNet\n",
    "my_model = BioFuzzNet(None, None)\n",
    "\n",
    "# Add nodes\n",
    "# my_model.add_fuzzy_node(\"input\", \"BIO\")\n",
    "my_model.add_fuzzy_node(\"p.MKK4\", \"BIO\") # A biological node\n",
    "my_model.add_fuzzy_node(\"p.JNK\", 'BIO')\n",
    "my_model.add_fuzzy_node(\"p.p53\", \"BIO\")\n",
    "my_model.add_fuzzy_node(\"p.RB\", \"BIO\")\n",
    "# Add edges\n",
    "# my_model.add_transfer_edge(\"input\",\"p.MKK4\")\n",
    "my_model.add_transfer_edge(\"p.MKK4\",\"p.JNK\") \n",
    "my_model.add_transfer_edge(\"p.JNK\", \"p.p53\")\n",
    "my_model.add_transfer_edge(\"p.p53\", \"p.RB\")"
   ]
  },
  {
   "cell_type": "code",
   "execution_count": 9,
   "id": "66f81b9e",
   "metadata": {},
   "outputs": [
    {
     "data": {
      "text/plain": [
       "['p.MKK4']"
      ]
     },
     "execution_count": 9,
     "metadata": {},
     "output_type": "execute_result"
    }
   ],
   "source": [
    "my_model.root_nodes"
   ]
  },
  {
   "cell_type": "code",
   "execution_count": 10,
   "id": "2c4c2f4a",
   "metadata": {},
   "outputs": [
    {
     "name": "stdout",
     "output_type": "stream",
     "text": [
      "The edge ('p.MKK4', 'p.JNK') has parameter n = Parameter containing:\n",
      "tensor([-0.5736], requires_grad=True) and K = Parameter containing:\n",
      "tensor([-1.5456], requires_grad=True)\n",
      "The edge ('p.JNK', 'p.p53') has parameter n = Parameter containing:\n",
      "tensor([0.8753], requires_grad=True) and K = Parameter containing:\n",
      "tensor([0.2780], requires_grad=True)\n",
      "The edge ('p.p53', 'p.RB') has parameter n = Parameter containing:\n",
      "tensor([-0.8449], requires_grad=True) and K = Parameter containing:\n",
      "tensor([-0.1737], requires_grad=True)\n"
     ]
    }
   ],
   "source": [
    "for edge in my_model.transfer_edges:\n",
    "    # Each transfer edge has a layer\n",
    "    layer = my_model.edges()[edge][\"layer\"]\n",
    "    # Each layer has a n and an K parameter\n",
    "    print(f\"The edge {edge} has parameter n = {layer.n} and K = {layer.K}\")\n",
    "    # Those parameters are torch.nn.Parameters and thus have a grad_fn which corresponds to their gradient\n"
   ]
  },
  {
   "cell_type": "code",
   "execution_count": 11,
   "id": "51722455",
   "metadata": {},
   "outputs": [
    {
     "data": {
      "image/png": "[encoded data removed]",
      "text/plain": [
       "<Figure size 640x480 with 1 Axes>"
      ]
     },
     "metadata": {},
     "output_type": "display_data"
    }
   ],
   "source": [
    "nx.draw(my_model, with_labels=True)"
   ]
  },
  {
   "cell_type": "code",
   "execution_count": 18,
   "id": "9d180583",
   "metadata": {},
   "outputs": [
    {
     "data": {
      "text/html": [
       "<div>\n",
       "<style scoped>\n",
       "    .dataframe tbody tr th:only-of-type {\n",
       "        vertical-align: middle;\n",
       "    }\n",
       "\n",
       "    .dataframe tbody tr th {\n",
       "        vertical-align: top;\n",
       "    }\n",
       "\n",
       "    .dataframe thead th {\n",
       "        text-align: right;\n",
       "    }\n",
       "</style>\n",
       "<table border=\"1\" class=\"dataframe\">\n",
       "  <thead>\n",
       "    <tr style=\"text-align: right;\">\n",
       "      <th></th>\n",
       "      <th>p.p53</th>\n",
       "      <th>p.MKK4</th>\n",
       "      <th>p.JNK</th>\n",
       "      <th>p.RB</th>\n",
       "    </tr>\n",
       "  </thead>\n",
       "  <tbody>\n",
       "    <tr>\n",
       "      <th>0</th>\n",
       "      <td>0.194365</td>\n",
       "      <td>0.457823</td>\n",
       "      <td>0.426876</td>\n",
       "      <td>0.099567</td>\n",
       "    </tr>\n",
       "    <tr>\n",
       "      <th>1</th>\n",
       "      <td>0.000000</td>\n",
       "      <td>0.400166</td>\n",
       "      <td>0.288711</td>\n",
       "      <td>0.598982</td>\n",
       "    </tr>\n",
       "    <tr>\n",
       "      <th>2</th>\n",
       "      <td>0.224935</td>\n",
       "      <td>0.577745</td>\n",
       "      <td>0.492829</td>\n",
       "      <td>0.303606</td>\n",
       "    </tr>\n",
       "    <tr>\n",
       "      <th>3</th>\n",
       "      <td>0.211484</td>\n",
       "      <td>0.545781</td>\n",
       "      <td>0.355599</td>\n",
       "      <td>0.000000</td>\n",
       "    </tr>\n",
       "    <tr>\n",
       "      <th>4</th>\n",
       "      <td>0.238072</td>\n",
       "      <td>0.779333</td>\n",
       "      <td>0.650283</td>\n",
       "      <td>0.828589</td>\n",
       "    </tr>\n",
       "    <tr>\n",
       "      <th>...</th>\n",
       "      <td>...</td>\n",
       "      <td>...</td>\n",
       "      <td>...</td>\n",
       "      <td>...</td>\n",
       "    </tr>\n",
       "    <tr>\n",
       "      <th>16375</th>\n",
       "      <td>0.203940</td>\n",
       "      <td>0.366302</td>\n",
       "      <td>0.225716</td>\n",
       "      <td>0.080011</td>\n",
       "    </tr>\n",
       "    <tr>\n",
       "      <th>16376</th>\n",
       "      <td>0.181002</td>\n",
       "      <td>0.557901</td>\n",
       "      <td>0.333460</td>\n",
       "      <td>0.161690</td>\n",
       "    </tr>\n",
       "    <tr>\n",
       "      <th>16377</th>\n",
       "      <td>0.021770</td>\n",
       "      <td>0.480255</td>\n",
       "      <td>0.000000</td>\n",
       "      <td>0.308577</td>\n",
       "    </tr>\n",
       "    <tr>\n",
       "      <th>16378</th>\n",
       "      <td>0.166905</td>\n",
       "      <td>0.465469</td>\n",
       "      <td>0.395624</td>\n",
       "      <td>0.155100</td>\n",
       "    </tr>\n",
       "    <tr>\n",
       "      <th>16379</th>\n",
       "      <td>0.205017</td>\n",
       "      <td>0.515404</td>\n",
       "      <td>0.456065</td>\n",
       "      <td>0.000000</td>\n",
       "    </tr>\n",
       "  </tbody>\n",
       "</table>\n",
       "<p>16380 rows × 4 columns</p>\n",
       "</div>"
      ],
      "text/plain": [
       "          p.p53    p.MKK4     p.JNK      p.RB\n",
       "0      0.194365  0.457823  0.426876  0.099567\n",
       "1      0.000000  0.400166  0.288711  0.598982\n",
       "2      0.224935  0.577745  0.492829  0.303606\n",
       "3      0.211484  0.545781  0.355599  0.000000\n",
       "4      0.238072  0.779333  0.650283  0.828589\n",
       "...         ...       ...       ...       ...\n",
       "16375  0.203940  0.366302  0.225716  0.080011\n",
       "16376  0.181002  0.557901  0.333460  0.161690\n",
       "16377  0.021770  0.480255  0.000000  0.308577\n",
       "16378  0.166905  0.465469  0.395624  0.155100\n",
       "16379  0.205017  0.515404  0.456065  0.000000\n",
       "\n",
       "[16380 rows x 4 columns]"
      ]
     },
     "execution_count": 18,
     "metadata": {},
     "output_type": "execute_result"
    }
   ],
   "source": [
    "sel_data = cl_data.loc[(cl_data[\"treatment\"]==\"EGF\"),:][[\"p.p53\", \"p.MKK4\", \"p.JNK\", \"p.RB\"]]\n",
    "sel_data.loc[sel_data[\"p.MKK4\"] == 0, \"p.MKK4\"] = 1e-9\n",
    "sel_data.reset_index(drop=True, inplace=True)\n",
    "sel_data"
   ]
  },
  {
   "cell_type": "code",
   "execution_count": 19,
   "id": "7f287b9e",
   "metadata": {},
   "outputs": [
    {
     "name": "stdout",
     "output_type": "stream",
     "text": [
      "(12285, 4)\n",
      "(4095, 4)\n"
     ]
    }
   ],
   "source": [
    "train, test = train_test_split(sel_data)\n",
    "print(train.shape)\n",
    "print(test.shape)\n",
    "train = train.to_dict(\"list\")\n",
    "test = test.to_dict(\"list\")\n",
    "\n",
    "train = {k: torch.DoubleTensor(v) for k, v in train.items()}\n",
    "test = {k: torch.DoubleTensor(v) for k, v in test.items()}\n",
    "\n",
    "input_train = {\"p.MKK4\" : train[\"p.MKK4\"]}\n",
    "input_test = {\"p.MKK4\": test[\"p.MKK4\"]}\n"
   ]
  },
  {
   "cell_type": "code",
   "execution_count": 20,
   "id": "e1a46c90",
   "metadata": {},
   "outputs": [
    {
     "name": "stdout",
     "output_type": "stream",
     "text": [
      "torch.Size([12285])\n"
     ]
    },
    {
     "data": {
      "text/plain": [
       "{'p.MKK4': tensor([0.2401, 0.4620, 0.4198,  ..., 0.6220, 0.4451, 0.5454])}"
      ]
     },
     "execution_count": 20,
     "metadata": {},
     "output_type": "execute_result"
    }
   ],
   "source": [
    "print(input_train[\"p.MKK4\"].shape)\n",
    "input_train"
   ]
  },
  {
   "cell_type": "code",
   "execution_count": 21,
   "id": "848ccabb",
   "metadata": {},
   "outputs": [
    {
     "name": "stdout",
     "output_type": "stream",
     "text": [
      "torch.Size([12285])\n"
     ]
    },
    {
     "data": {
      "text/plain": [
       "{'p.p53': tensor([0.0601, 0.1245, 0.2058,  ..., 0.2629, 0.1661, 0.0105]),\n",
       " 'p.MKK4': tensor([0.2401, 0.4620, 0.4198,  ..., 0.6220, 0.4451, 0.5454]),\n",
       " 'p.JNK': tensor([0.3912, 0.5031, 0.2254,  ..., 0.0711, 0.2645, 0.1577]),\n",
       " 'p.RB': tensor([0.5361, 0.0206, 0.0630,  ..., 0.1519, 0.1133, 0.5838])}"
      ]
     },
     "execution_count": 21,
     "metadata": {},
     "output_type": "execute_result"
    }
   ],
   "source": [
    "print(train[\"p.MKK4\"].shape)\n",
    "train"
   ]
  },
  {
   "cell_type": "code",
   "execution_count": 22,
   "id": "112c18d4",
   "metadata": {},
   "outputs": [],
   "source": [
    "# Now we just need to specify some optimisation parameters\n",
    "\n",
    "learning_rate = 5e-3\n",
    "epochs = 20 # That seems like a lot, but 1 epoch is basically one simulation of the network on all datapoints, so we need a lot of them\n",
    "batch_size = 10"
   ]
  },
  {
   "cell_type": "code",
   "execution_count": 23,
   "id": "3f302326",
   "metadata": {},
   "outputs": [
    {
     "name": "stderr",
     "output_type": "stream",
     "text": [
      "100%|██████████| 20/20 [05:01<00:00, 15.09s/it]\n"
     ]
    }
   ],
   "source": [
    "loss = my_model.conduct_optimisation(input = input_train,\n",
    "                                     test_input = input_test,\n",
    "                                     ground_truth=train,\n",
    "                                     epochs = epochs, \n",
    "                                     test_ground_truth=test,\n",
    "                                     learning_rate= learning_rate,\n",
    "                                     batch_size= batch_size\n",
    "                                         )"
   ]
  },
  {
   "cell_type": "code",
   "execution_count": 24,
   "id": "2a3db361",
   "metadata": {},
   "outputs": [
    {
     "name": "stdout",
     "output_type": "stream",
     "text": [
      "The edge ('p.MKK4', 'p.JNK') has parameter n = tensor([1.3783], grad_fn=<ExpBackward0>) and K = tensor([0.4376], grad_fn=<SigmoidBackward0>)\n",
      "The edge ('p.JNK', 'p.p53') has parameter n = tensor([0.9772], grad_fn=<ExpBackward0>) and K = tensor([0.5866], grad_fn=<SigmoidBackward0>)\n",
      "The edge ('p.p53', 'p.RB') has parameter n = tensor([0.6786], grad_fn=<ExpBackward0>) and K = tensor([0.3738], grad_fn=<SigmoidBackward0>)\n"
     ]
    }
   ],
   "source": [
    "for edge in my_model.transfer_edges:\n",
    "    # Each transfer edge has a layer\n",
    "    layer = my_model.edges()[edge][\"layer\"]\n",
    "    # Each layer has a n and an K parameter\n",
    "    print(f\"The edge {edge} has parameter n = {torch.exp(layer.n)} and K = {torch.sigmoid(layer.K)}\")\n",
    "    # Those parameters are torch.nn.Parameters and thus have a grad_fn which corresponds to their gradient\n"
   ]
  },
  {
   "cell_type": "code",
   "execution_count": 25,
   "id": "856bf393",
   "metadata": {},
   "outputs": [
    {
     "data": {
      "text/html": [
       "<div>\n",
       "<style scoped>\n",
       "    .dataframe tbody tr th:only-of-type {\n",
       "        vertical-align: middle;\n",
       "    }\n",
       "\n",
       "    .dataframe tbody tr th {\n",
       "        vertical-align: top;\n",
       "    }\n",
       "\n",
       "    .dataframe thead th {\n",
       "        text-align: right;\n",
       "    }\n",
       "</style>\n",
       "<table border=\"1\" class=\"dataframe\">\n",
       "  <thead>\n",
       "    <tr style=\"text-align: right;\">\n",
       "      <th></th>\n",
       "      <th>time</th>\n",
       "      <th>loss</th>\n",
       "      <th>phase</th>\n",
       "    </tr>\n",
       "  </thead>\n",
       "  <tbody>\n",
       "    <tr>\n",
       "      <th>0</th>\n",
       "      <td>2023-03-28 21:51:28.424945</td>\n",
       "      <td>0.025682</td>\n",
       "      <td>train</td>\n",
       "    </tr>\n",
       "    <tr>\n",
       "      <th>1</th>\n",
       "      <td>2023-03-28 21:51:28.442143</td>\n",
       "      <td>0.049000</td>\n",
       "      <td>train</td>\n",
       "    </tr>\n",
       "    <tr>\n",
       "      <th>2</th>\n",
       "      <td>2023-03-28 21:51:28.460221</td>\n",
       "      <td>0.044391</td>\n",
       "      <td>train</td>\n",
       "    </tr>\n",
       "    <tr>\n",
       "      <th>3</th>\n",
       "      <td>2023-03-28 21:51:28.476206</td>\n",
       "      <td>0.035026</td>\n",
       "      <td>train</td>\n",
       "    </tr>\n",
       "    <tr>\n",
       "      <th>4</th>\n",
       "      <td>2023-03-28 21:51:28.492039</td>\n",
       "      <td>0.029631</td>\n",
       "      <td>train</td>\n",
       "    </tr>\n",
       "    <tr>\n",
       "      <th>...</th>\n",
       "      <td>...</td>\n",
       "      <td>...</td>\n",
       "      <td>...</td>\n",
       "    </tr>\n",
       "    <tr>\n",
       "      <th>24595</th>\n",
       "      <td>2023-03-28 21:56:30.187052</td>\n",
       "      <td>0.025470</td>\n",
       "      <td>train</td>\n",
       "    </tr>\n",
       "    <tr>\n",
       "      <th>24596</th>\n",
       "      <td>2023-03-28 21:56:30.199122</td>\n",
       "      <td>0.024867</td>\n",
       "      <td>train</td>\n",
       "    </tr>\n",
       "    <tr>\n",
       "      <th>24597</th>\n",
       "      <td>2023-03-28 21:56:30.210803</td>\n",
       "      <td>0.022080</td>\n",
       "      <td>train</td>\n",
       "    </tr>\n",
       "    <tr>\n",
       "      <th>24598</th>\n",
       "      <td>2023-03-28 21:56:30.222447</td>\n",
       "      <td>0.010164</td>\n",
       "      <td>train</td>\n",
       "    </tr>\n",
       "    <tr>\n",
       "      <th>24599</th>\n",
       "      <td>2023-03-28 21:56:30.224543</td>\n",
       "      <td>0.023356</td>\n",
       "      <td>test</td>\n",
       "    </tr>\n",
       "  </tbody>\n",
       "</table>\n",
       "<p>24600 rows × 3 columns</p>\n",
       "</div>"
      ],
      "text/plain": [
       "                            time      loss  phase\n",
       "0     2023-03-28 21:51:28.424945  0.025682  train\n",
       "1     2023-03-28 21:51:28.442143  0.049000  train\n",
       "2     2023-03-28 21:51:28.460221  0.044391  train\n",
       "3     2023-03-28 21:51:28.476206  0.035026  train\n",
       "4     2023-03-28 21:51:28.492039  0.029631  train\n",
       "...                          ...       ...    ...\n",
       "24595 2023-03-28 21:56:30.187052  0.025470  train\n",
       "24596 2023-03-28 21:56:30.199122  0.024867  train\n",
       "24597 2023-03-28 21:56:30.210803  0.022080  train\n",
       "24598 2023-03-28 21:56:30.222447  0.010164  train\n",
       "24599 2023-03-28 21:56:30.224543  0.023356   test\n",
       "\n",
       "[24600 rows x 3 columns]"
      ]
     },
     "execution_count": 25,
     "metadata": {},
     "output_type": "execute_result"
    }
   ],
   "source": [
    "loss"
   ]
  },
  {
   "cell_type": "code",
   "execution_count": 26,
   "id": "d4baaef5",
   "metadata": {},
   "outputs": [
    {
     "data": {
      "text/plain": [
       "<AxesSubplot: xlabel='time', ylabel='loss'>"
      ]
     },
     "execution_count": 26,
     "metadata": {},
     "output_type": "execute_result"
    },
    {
     "data": {
      "image/png": "[encoded data removed]",
      "text/plain": [
       "<Figure size 640x480 with 1 Axes>"
      ]
     },
     "metadata": {},
     "output_type": "display_data"
    }
   ],
   "source": [
    "sns.lineplot(data=loss, x='time', y='loss', hue='phase')"
   ]
  },
  {
   "cell_type": "markdown",
   "id": "4ccbf640",
   "metadata": {},
   "source": [
    "# Leave a treatment out"
   ]
  },
  {
   "cell_type": "code",
   "execution_count": 27,
   "id": "50de3d8d",
   "metadata": {},
   "outputs": [
    {
     "name": "stdout",
     "output_type": "stream",
     "text": [
      "(44516, 4)\n",
      "(13435, 4)\n"
     ]
    }
   ],
   "source": [
    "all_treatments = ['EGF', 'full', 'iEGFR', 'iMEK', 'iPI3K', 'iPKC']\n",
    "test_treatments = ['iEGFR']\n",
    "train_treatments = [treatment for treatment in all_treatments if not treatment in test_treatments]\n",
    "\n",
    "cl_data.loc[cl_data[\"p.MKK4\"]==0, \"p.MKK4\"] = 1e-9\n",
    "train = cl_data.loc[(cl_data[\"treatment\"].isin(train_treatments)), [\"p.p53\", \"p.MKK4\", \"p.JNK\", \"p.RB\"]]\n",
    "test = cl_data.loc[(cl_data[\"treatment\"].isin(test_treatments)), [\"p.p53\", \"p.MKK4\", \"p.JNK\", \"p.RB\"]]\n",
    "n_test = len(test)\n",
    "\n",
    "print(train.shape)\n",
    "print(test.shape)\n",
    "train = train.to_dict(\"list\")\n",
    "test = test.to_dict(\"list\")\n",
    "\n",
    "train = {k: torch.DoubleTensor(v) for k, v in train.items()}\n",
    "test = {k: torch.DoubleTensor(v) for k, v in test.items()}\n",
    "\n",
    "input_train = {\"p.MKK4\" : train[\"p.MKK4\"]}\n",
    "input_test = {\"p.MKK4\": test[\"p.MKK4\"]}"
   ]
  },
  {
   "cell_type": "code",
   "execution_count": 28,
   "id": "32471b6e",
   "metadata": {},
   "outputs": [],
   "source": [
    "# Create an empty BioFuzzNet\n",
    "my_model = BioFuzzNet(None, None)\n",
    "\n",
    "# Add nodes\n",
    "# my_model.add_fuzzy_node(\"input\", \"BIO\")\n",
    "my_model.add_fuzzy_node(\"p.MKK4\", \"BIO\") # A biological node\n",
    "my_model.add_fuzzy_node(\"p.JNK\", 'BIO')\n",
    "my_model.add_fuzzy_node(\"p.p53\", \"BIO\")\n",
    "my_model.add_fuzzy_node(\"p.RB\", \"BIO\")\n",
    "# Add edges\n",
    "# my_model.add_transfer_edge(\"input\",\"p.MKK4\")\n",
    "my_model.add_transfer_edge(\"p.MKK4\",\"p.JNK\") \n",
    "my_model.add_transfer_edge(\"p.JNK\", \"p.p53\")\n",
    "my_model.add_transfer_edge(\"p.p53\", \"p.RB\")"
   ]
  },
  {
   "cell_type": "code",
   "execution_count": 29,
   "id": "81653212",
   "metadata": {},
   "outputs": [],
   "source": [
    "# Now we just need to specify some optimisation parameters\n",
    "\n",
    "learning_rate = 5e-3\n",
    "epochs = 10 # That seems like a lot, but 1 epoch is basically one simulation of the network on all datapoints, so we need a lot of them\n",
    "batch_size = 300 "
   ]
  },
  {
   "cell_type": "code",
   "execution_count": 30,
   "id": "308941c9",
   "metadata": {},
   "outputs": [
    {
     "name": "stderr",
     "output_type": "stream",
     "text": [
      "100%|██████████| 10/10 [00:23<00:00,  2.32s/it]\n"
     ]
    }
   ],
   "source": [
    "loss = my_model.conduct_optimisation(input = input_train,\n",
    "                                     test_input = input_test,\n",
    "                                     ground_truth=train,\n",
    "                                     epochs = epochs, \n",
    "                                     test_ground_truth=test,\n",
    "                                     learning_rate= learning_rate,\n",
    "                                     batch_size= batch_size\n",
    "                                         )"
   ]
  },
  {
   "cell_type": "code",
   "execution_count": 31,
   "id": "a775ae54",
   "metadata": {},
   "outputs": [
    {
     "name": "stdout",
     "output_type": "stream",
     "text": [
      "0.13430104782909852\n"
     ]
    }
   ],
   "source": [
    "# Create an empty BioFuzzNet\n",
    "random_model = BioFuzzNet(None, None)\n",
    "\n",
    "# Add nodes\n",
    "# my_model.add_fuzzy_node(\"input\", \"BIO\")\n",
    "random_model.add_fuzzy_node(\"p.MKK4\", \"BIO\") # A biological node\n",
    "random_model.add_fuzzy_node(\"p.JNK\", 'BIO')\n",
    "random_model.add_fuzzy_node(\"p.p53\", \"BIO\")\n",
    "random_model.add_fuzzy_node(\"p.RB\", \"BIO\")\n",
    "# Add edges\n",
    "# my_model.add_transfer_edge(\"input\",\"p.MKK4\")\n",
    "random_model.add_transfer_edge(\"p.MKK4\",\"p.JNK\") \n",
    "random_model.add_transfer_edge(\"p.JNK\", \"p.p53\")\n",
    "random_model.add_transfer_edge(\"p.p53\", \"p.RB\")\n",
    "\n",
    "random_model.initialise_random_truth_and_output(n_test)\n",
    "\n",
    "random_pred = random_model.output_states\n",
    "random_pred[\"p.MKK4\"] = test[\"p.MKK4\"]\n",
    "\n",
    "loss_func = torch.nn.MSELoss()\n",
    "MSE = sum([loss_func(test[node], random_pred[node]).item() for node in my_model.nodes]) / len(my_model.nodes)\n",
    "print(MSE)"
   ]
  },
  {
   "cell_type": "code",
   "execution_count": 32,
   "id": "c945316a",
   "metadata": {},
   "outputs": [
    {
     "data": {
      "text/plain": [
       "<matplotlib.lines.Line2D at 0x7fb0da097940>"
      ]
     },
     "execution_count": 32,
     "metadata": {},
     "output_type": "execute_result"
    },
    {
     "data": {
      "image/png": "[encoded data removed]",
      "text/plain": [
       "<Figure size 640x480 with 1 Axes>"
      ]
     },
     "metadata": {},
     "output_type": "display_data"
    }
   ],
   "source": [
    "sns.lineplot(data=loss, x='time', y='loss', hue='phase')\n",
    "plt.axhline(y=MSE, color=\"red\", linestyle = \"--\")"
   ]
  },
  {
   "cell_type": "code",
   "execution_count": null,
   "id": "8032e0c7",
   "metadata": {},
   "outputs": [],
   "source": []
  },
  {
   "cell_type": "code",
   "execution_count": 33,
   "id": "2c4a1d70",
   "metadata": {},
   "outputs": [
    {
     "data": {
      "text/plain": [
       "torch.Size([13435])"
      ]
     },
     "execution_count": 33,
     "metadata": {},
     "output_type": "execute_result"
    }
   ],
   "source": [
    "random_model.output_states[\"p.MKK4\"].size()"
   ]
  },
  {
   "cell_type": "code",
   "execution_count": 34,
   "id": "59dfe3a7",
   "metadata": {},
   "outputs": [
    {
     "data": {
      "text/plain": [
       "NodeView(('p.MKK4', 'p.JNK', 'p.p53', 'p.RB'))"
      ]
     },
     "execution_count": 34,
     "metadata": {},
     "output_type": "execute_result"
    }
   ],
   "source": [
    "my_model.nodes"
   ]
  },
  {
   "cell_type": "markdown",
   "id": "924769b4",
   "metadata": {},
   "source": [
    "# Different linear cascade"
   ]
  },
  {
   "cell_type": "code",
   "execution_count": 35,
   "id": "64f5d3a9",
   "metadata": {},
   "outputs": [
    {
     "data": {
      "text/html": [
       "<div>\n",
       "<style scoped>\n",
       "    .dataframe tbody tr th:only-of-type {\n",
       "        vertical-align: middle;\n",
       "    }\n",
       "\n",
       "    .dataframe tbody tr th {\n",
       "        vertical-align: top;\n",
       "    }\n",
       "\n",
       "    .dataframe thead th {\n",
       "        text-align: right;\n",
       "    }\n",
       "</style>\n",
       "<table border=\"1\" class=\"dataframe\">\n",
       "  <thead>\n",
       "    <tr style=\"text-align: right;\">\n",
       "      <th></th>\n",
       "      <th>p.MEK</th>\n",
       "      <th>p.ERK</th>\n",
       "      <th>p.p90RSK</th>\n",
       "      <th>p.CREB</th>\n",
       "    </tr>\n",
       "  </thead>\n",
       "  <tbody>\n",
       "    <tr>\n",
       "      <th>0</th>\n",
       "      <td>0.367667</td>\n",
       "      <td>0.330656</td>\n",
       "      <td>0.572618</td>\n",
       "      <td>2.961296e-01</td>\n",
       "    </tr>\n",
       "    <tr>\n",
       "      <th>1</th>\n",
       "      <td>0.463700</td>\n",
       "      <td>0.241769</td>\n",
       "      <td>0.529345</td>\n",
       "      <td>1.611169e-07</td>\n",
       "    </tr>\n",
       "    <tr>\n",
       "      <th>2</th>\n",
       "      <td>0.394335</td>\n",
       "      <td>0.388390</td>\n",
       "      <td>0.513064</td>\n",
       "      <td>2.144081e-01</td>\n",
       "    </tr>\n",
       "    <tr>\n",
       "      <th>3</th>\n",
       "      <td>0.442553</td>\n",
       "      <td>0.407983</td>\n",
       "      <td>0.839117</td>\n",
       "      <td>2.696125e-01</td>\n",
       "    </tr>\n",
       "    <tr>\n",
       "      <th>4</th>\n",
       "      <td>0.491981</td>\n",
       "      <td>0.438286</td>\n",
       "      <td>0.831320</td>\n",
       "      <td>3.145570e-01</td>\n",
       "    </tr>\n",
       "    <tr>\n",
       "      <th>...</th>\n",
       "      <td>...</td>\n",
       "      <td>...</td>\n",
       "      <td>...</td>\n",
       "      <td>...</td>\n",
       "    </tr>\n",
       "    <tr>\n",
       "      <th>16375</th>\n",
       "      <td>0.383218</td>\n",
       "      <td>0.312925</td>\n",
       "      <td>0.404499</td>\n",
       "      <td>1.611169e-07</td>\n",
       "    </tr>\n",
       "    <tr>\n",
       "      <th>16376</th>\n",
       "      <td>0.380585</td>\n",
       "      <td>0.374604</td>\n",
       "      <td>0.634937</td>\n",
       "      <td>3.070390e-01</td>\n",
       "    </tr>\n",
       "    <tr>\n",
       "      <th>16377</th>\n",
       "      <td>0.229955</td>\n",
       "      <td>0.264660</td>\n",
       "      <td>0.385332</td>\n",
       "      <td>2.470109e-01</td>\n",
       "    </tr>\n",
       "    <tr>\n",
       "      <th>16378</th>\n",
       "      <td>0.390229</td>\n",
       "      <td>0.315155</td>\n",
       "      <td>0.505230</td>\n",
       "      <td>3.154158e-01</td>\n",
       "    </tr>\n",
       "    <tr>\n",
       "      <th>16379</th>\n",
       "      <td>0.412242</td>\n",
       "      <td>0.364442</td>\n",
       "      <td>0.658684</td>\n",
       "      <td>3.925755e-01</td>\n",
       "    </tr>\n",
       "  </tbody>\n",
       "</table>\n",
       "<p>16380 rows × 4 columns</p>\n",
       "</div>"
      ],
      "text/plain": [
       "          p.MEK     p.ERK  p.p90RSK        p.CREB\n",
       "0      0.367667  0.330656  0.572618  2.961296e-01\n",
       "1      0.463700  0.241769  0.529345  1.611169e-07\n",
       "2      0.394335  0.388390  0.513064  2.144081e-01\n",
       "3      0.442553  0.407983  0.839117  2.696125e-01\n",
       "4      0.491981  0.438286  0.831320  3.145570e-01\n",
       "...         ...       ...       ...           ...\n",
       "16375  0.383218  0.312925  0.404499  1.611169e-07\n",
       "16376  0.380585  0.374604  0.634937  3.070390e-01\n",
       "16377  0.229955  0.264660  0.385332  2.470109e-01\n",
       "16378  0.390229  0.315155  0.505230  3.154158e-01\n",
       "16379  0.412242  0.364442  0.658684  3.925755e-01\n",
       "\n",
       "[16380 rows x 4 columns]"
      ]
     },
     "execution_count": 35,
     "metadata": {},
     "output_type": "execute_result"
    }
   ],
   "source": [
    "sel_data = cl_data.loc[(cl_data[\"treatment\"]==\"EGF\"),:][['p.MEK', 'p.ERK', 'p.p90RSK', 'p.CREB']]\n",
    "sel_data.reset_index(drop=True, inplace=True)\n",
    "# sel_data[\"input\"] = 1.\n",
    "sel_data.loc[sel_data[\"p.MEK\"]==0, \"p.MEK\"] = 1e-9\n",
    "sel_data"
   ]
  },
  {
   "cell_type": "code",
   "execution_count": 36,
   "id": "dc06a14e",
   "metadata": {},
   "outputs": [
    {
     "data": {
      "text/plain": [
       "0"
      ]
     },
     "execution_count": 36,
     "metadata": {},
     "output_type": "execute_result"
    }
   ],
   "source": [
    "# Check for NaNs in the input data\n",
    "sel_data.isna().sum().sum()"
   ]
  },
  {
   "cell_type": "code",
   "execution_count": 37,
   "id": "1027a26a",
   "metadata": {},
   "outputs": [
    {
     "name": "stdout",
     "output_type": "stream",
     "text": [
      "(12285, 4)\n",
      "(4095, 4)\n"
     ]
    }
   ],
   "source": [
    "train, test = train_test_split(sel_data)\n",
    "print(train.shape)\n",
    "print(test.shape)\n",
    "train = train.to_dict(\"list\")\n",
    "test = test.to_dict(\"list\")\n",
    "\n",
    "train = {k: torch.DoubleTensor(v) for k, v in train.items()}\n",
    "test = {k: torch.DoubleTensor(v) for k, v in test.items()}\n",
    "\n",
    "input_train = {\"p.MEK\": train[\"p.MEK\"]} # \n",
    "input_test = {\"p.MEK\": test[\"p.MEK\"]} # \n"
   ]
  },
  {
   "cell_type": "code",
   "execution_count": 38,
   "id": "ab130443",
   "metadata": {},
   "outputs": [],
   "source": [
    "# Create an empty BioFuzzNet\n",
    "my_model = BioFuzzNet(None, None)\n",
    "\n",
    "# Add nodes\n",
    "# my_model.add_fuzzy_node(\"input\", \"BIO\")\n",
    "my_model.add_fuzzy_node(\"p.MEK\", \"BIO\") # A biological node\n",
    "my_model.add_fuzzy_node(\"p.ERK\", 'BIO')\n",
    "my_model.add_fuzzy_node(\"p.p90RSK\", \"BIO\")\n",
    "my_model.add_fuzzy_node(\"p.CREB\", \"BIO\")\n",
    "# Add edges\n",
    "# my_model.add_transfer_edge(\"input\",\"p.MEK\")\n",
    "my_model.add_transfer_edge(\"p.MEK\",\"p.ERK\") \n",
    "my_model.add_transfer_edge(\"p.ERK\", \"p.p90RSK\")\n",
    "my_model.add_transfer_edge(\"p.p90RSK\", \"p.CREB\")"
   ]
  },
  {
   "cell_type": "code",
   "execution_count": 39,
   "id": "4b25f812",
   "metadata": {},
   "outputs": [
    {
     "data": {
      "image/png": "[encoded data removed]",
      "text/plain": [
       "<Figure size 640x480 with 1 Axes>"
      ]
     },
     "metadata": {},
     "output_type": "display_data"
    }
   ],
   "source": [
    "nx.draw(my_model, with_labels=True)"
   ]
  },
  {
   "cell_type": "code",
   "execution_count": 40,
   "id": "6ad950d4",
   "metadata": {},
   "outputs": [],
   "source": [
    "# Now we just need to specify some optimisation parameters\n",
    "\n",
    "learning_rate = 5e-3\n",
    "epochs = 10 # That seems like a lot, but 1 epoch is basically one simulation of the network on all datapoints, so we need a lot of them\n",
    "batch_size = 300 "
   ]
  },
  {
   "cell_type": "code",
   "execution_count": 41,
   "id": "e6cae2cf",
   "metadata": {
    "scrolled": true
   },
   "outputs": [
    {
     "name": "stderr",
     "output_type": "stream",
     "text": [
      "100%|██████████| 10/10 [00:06<00:00,  1.63it/s]\n"
     ]
    }
   ],
   "source": [
    "loss = my_model.conduct_optimisation(input = input_train,\n",
    "                                     test_input = input_test,\n",
    "                                     ground_truth=train,\n",
    "                                     epochs = epochs, \n",
    "                                     test_ground_truth=test,\n",
    "                                     learning_rate= learning_rate,\n",
    "                                     batch_size= batch_size\n",
    "                                         )"
   ]
  },
  {
   "cell_type": "code",
   "execution_count": 42,
   "id": "83264c13",
   "metadata": {},
   "outputs": [
    {
     "data": {
      "text/plain": [
       "<AxesSubplot: xlabel='time', ylabel='loss'>"
      ]
     },
     "execution_count": 42,
     "metadata": {},
     "output_type": "execute_result"
    },
    {
     "data": {
      "image/png": "[encoded data removed]",
      "text/plain": [
       "<Figure size 640x480 with 1 Axes>"
      ]
     },
     "metadata": {},
     "output_type": "display_data"
    }
   ],
   "source": [
    "sns.lineplot(data=loss, x='time', y='loss', hue='phase')\n"
   ]
  },
  {
   "cell_type": "markdown",
   "id": "be849622",
   "metadata": {},
   "source": [
    "# Leave one treatment out"
   ]
  },
  {
   "cell_type": "code",
   "execution_count": 43,
   "id": "48830c41",
   "metadata": {},
   "outputs": [
    {
     "name": "stdout",
     "output_type": "stream",
     "text": [
      "(44516, 4)\n",
      "(13435, 4)\n"
     ]
    }
   ],
   "source": [
    "all_treatments = ['EGF', 'full', 'iEGFR', 'iMEK', 'iPI3K', 'iPKC']\n",
    "test_treatments = ['iEGFR']\n",
    "train_treatments = [treatment for treatment in all_treatments if not treatment in test_treatments]\n",
    "\n",
    "cl_data.loc[cl_data[\"p.MEK\"]==0, \"p.MEK\"] = 1e-9\n",
    "train = cl_data.loc[(cl_data[\"treatment\"].isin(train_treatments)), ['p.MEK', 'p.ERK', 'p.p90RSK', 'p.CREB']]\n",
    "test = cl_data.loc[(cl_data[\"treatment\"].isin(test_treatments)), ['p.MEK', 'p.ERK', 'p.p90RSK', 'p.CREB']]\n",
    "n_test = len(test)\n",
    "\n",
    "print(train.shape)\n",
    "print(test.shape)\n",
    "train = train.to_dict(\"list\")\n",
    "test = test.to_dict(\"list\")\n",
    "\n",
    "train = {k: torch.DoubleTensor(v) for k, v in train.items()}\n",
    "test = {k: torch.DoubleTensor(v) for k, v in test.items()}\n",
    "\n",
    "input_train = {\"p.MEK\" : train[\"p.MEK\"]}\n",
    "input_test = {\"p.MEK\": test[\"p.MEK\"]}"
   ]
  },
  {
   "cell_type": "code",
   "execution_count": 44,
   "id": "e548d628",
   "metadata": {},
   "outputs": [],
   "source": [
    "# Create an empty BioFuzzNet\n",
    "my_model = BioFuzzNet(None, None)\n",
    "\n",
    "# Add nodes\n",
    "# my_model.add_fuzzy_node(\"input\", \"BIO\")\n",
    "my_model.add_fuzzy_node(\"p.MEK\", \"BIO\") # A biological node\n",
    "my_model.add_fuzzy_node(\"p.ERK\", 'BIO')\n",
    "my_model.add_fuzzy_node(\"p.p90RSK\", \"BIO\")\n",
    "my_model.add_fuzzy_node(\"p.CREB\", \"BIO\")\n",
    "# Add edges\n",
    "# my_model.add_transfer_edge(\"input\",\"p.MEK\")\n",
    "my_model.add_transfer_edge(\"p.MEK\",\"p.ERK\") \n",
    "my_model.add_transfer_edge(\"p.ERK\", \"p.p90RSK\")\n",
    "my_model.add_transfer_edge(\"p.p90RSK\", \"p.CREB\")"
   ]
  },
  {
   "cell_type": "code",
   "execution_count": 45,
   "id": "e268fc79",
   "metadata": {},
   "outputs": [],
   "source": [
    "# Now we just need to specify some optimisation parameters\n",
    "\n",
    "learning_rate = 5e-3\n",
    "epochs = 10 # That seems like a lot, but 1 epoch is basically one simulation of the network on all datapoints, so we need a lot of them\n",
    "batch_size = 300 "
   ]
  },
  {
   "cell_type": "code",
   "execution_count": 46,
   "id": "7bcd3b39",
   "metadata": {},
   "outputs": [
    {
     "name": "stderr",
     "output_type": "stream",
     "text": [
      "100%|██████████| 10/10 [00:23<00:00,  2.30s/it]\n"
     ]
    }
   ],
   "source": [
    "loss = my_model.conduct_optimisation(input = input_train,\n",
    "                                     test_input = input_test,\n",
    "                                     ground_truth=train,\n",
    "                                     epochs = epochs, \n",
    "                                     test_ground_truth=test,\n",
    "                                     learning_rate= learning_rate,\n",
    "                                     batch_size= batch_size\n",
    "                                         )"
   ]
  },
  {
   "cell_type": "code",
   "execution_count": 47,
   "id": "e273c41e",
   "metadata": {},
   "outputs": [
    {
     "data": {
      "text/plain": [
       "<AxesSubplot: xlabel='time', ylabel='loss'>"
      ]
     },
     "execution_count": 47,
     "metadata": {},
     "output_type": "execute_result"
    },
    {
     "data": {
      "image/png": "[encoded data removed]",
      "text/plain": [
       "<Figure size 640x480 with 1 Axes>"
      ]
     },
     "metadata": {},
     "output_type": "display_data"
    }
   ],
   "source": [
    "sns.lineplot(data=loss, x='time', y='loss', hue='phase')\n"
   ]
  },
  {
   "cell_type": "markdown",
   "id": "115bd713",
   "metadata": {},
   "source": [
    "# With logic gates"
   ]
  },
  {
   "cell_type": "code",
   "execution_count": 48,
   "id": "77b1347a",
   "metadata": {},
   "outputs": [
    {
     "data": {
      "text/plain": [
       "Index(['treatment', 'cell_line', 'time', 'cellID', 'fileID', 'b.CATENIN',\n",
       "       'cleavedCas', 'CyclinB', 'GAPDH', 'IdU', 'Ki.67', 'p.4EBP1',\n",
       "       'p.Akt.Ser473.', 'p.AKT.Thr308.', 'p.AMPK', 'p.BTK', 'p.CREB', 'p.ERK',\n",
       "       'p.FAK', 'p.GSK3b', 'p.H3', 'p.HER2', 'p.JNK', 'p.MAP2K3', 'p.MAPKAPK2',\n",
       "       'p.MEK', 'p.MKK3.MKK6', 'p.MKK4', 'p.NFkB', 'p.p38', 'p.p53',\n",
       "       'p.p90RSK', 'p.PDPK1', 'p.PLCg2', 'p.RB', 'p.S6', 'p.S6K', 'p.SMAD23',\n",
       "       'p.SRC', 'p.STAT1', 'p.STAT3', 'p.STAT5'],\n",
       "      dtype='object')"
      ]
     },
     "execution_count": 48,
     "metadata": {},
     "output_type": "execute_result"
    }
   ],
   "source": [
    "cl_data.columns"
   ]
  },
  {
   "cell_type": "code",
   "execution_count": 49,
   "id": "eb303948",
   "metadata": {},
   "outputs": [
    {
     "data": {
      "text/html": [
       "<div>\n",
       "<style scoped>\n",
       "    .dataframe tbody tr th:only-of-type {\n",
       "        vertical-align: middle;\n",
       "    }\n",
       "\n",
       "    .dataframe tbody tr th {\n",
       "        vertical-align: top;\n",
       "    }\n",
       "\n",
       "    .dataframe thead th {\n",
       "        text-align: right;\n",
       "    }\n",
       "</style>\n",
       "<table border=\"1\" class=\"dataframe\">\n",
       "  <thead>\n",
       "    <tr style=\"text-align: right;\">\n",
       "      <th></th>\n",
       "      <th>p.MKK4</th>\n",
       "      <th>p.JNK</th>\n",
       "      <th>p.p53</th>\n",
       "      <th>p.RB</th>\n",
       "      <th>p.MKK3.MKK6</th>\n",
       "      <th>p.p38</th>\n",
       "    </tr>\n",
       "  </thead>\n",
       "  <tbody>\n",
       "    <tr>\n",
       "      <th>0</th>\n",
       "      <td>0.457823</td>\n",
       "      <td>0.426876</td>\n",
       "      <td>0.194365</td>\n",
       "      <td>0.099567</td>\n",
       "      <td>0.286825</td>\n",
       "      <td>0.000000</td>\n",
       "    </tr>\n",
       "    <tr>\n",
       "      <th>1</th>\n",
       "      <td>0.400166</td>\n",
       "      <td>0.288711</td>\n",
       "      <td>0.000000</td>\n",
       "      <td>0.598982</td>\n",
       "      <td>0.053185</td>\n",
       "      <td>0.004729</td>\n",
       "    </tr>\n",
       "    <tr>\n",
       "      <th>2</th>\n",
       "      <td>0.577745</td>\n",
       "      <td>0.492829</td>\n",
       "      <td>0.224935</td>\n",
       "      <td>0.303606</td>\n",
       "      <td>0.108874</td>\n",
       "      <td>0.061061</td>\n",
       "    </tr>\n",
       "    <tr>\n",
       "      <th>3</th>\n",
       "      <td>0.545781</td>\n",
       "      <td>0.355599</td>\n",
       "      <td>0.211484</td>\n",
       "      <td>0.000000</td>\n",
       "      <td>0.338688</td>\n",
       "      <td>0.909727</td>\n",
       "    </tr>\n",
       "    <tr>\n",
       "      <th>4</th>\n",
       "      <td>0.779333</td>\n",
       "      <td>0.650283</td>\n",
       "      <td>0.238072</td>\n",
       "      <td>0.828589</td>\n",
       "      <td>0.198516</td>\n",
       "      <td>0.542115</td>\n",
       "    </tr>\n",
       "    <tr>\n",
       "      <th>...</th>\n",
       "      <td>...</td>\n",
       "      <td>...</td>\n",
       "      <td>...</td>\n",
       "      <td>...</td>\n",
       "      <td>...</td>\n",
       "      <td>...</td>\n",
       "    </tr>\n",
       "    <tr>\n",
       "      <th>16375</th>\n",
       "      <td>0.366302</td>\n",
       "      <td>0.225716</td>\n",
       "      <td>0.203940</td>\n",
       "      <td>0.080011</td>\n",
       "      <td>0.000000</td>\n",
       "      <td>0.333136</td>\n",
       "    </tr>\n",
       "    <tr>\n",
       "      <th>16376</th>\n",
       "      <td>0.557901</td>\n",
       "      <td>0.333460</td>\n",
       "      <td>0.181002</td>\n",
       "      <td>0.161690</td>\n",
       "      <td>0.222409</td>\n",
       "      <td>0.475347</td>\n",
       "    </tr>\n",
       "    <tr>\n",
       "      <th>16377</th>\n",
       "      <td>0.480255</td>\n",
       "      <td>0.000000</td>\n",
       "      <td>0.021770</td>\n",
       "      <td>0.308577</td>\n",
       "      <td>0.184730</td>\n",
       "      <td>0.247533</td>\n",
       "    </tr>\n",
       "    <tr>\n",
       "      <th>16378</th>\n",
       "      <td>0.465469</td>\n",
       "      <td>0.395624</td>\n",
       "      <td>0.166905</td>\n",
       "      <td>0.155100</td>\n",
       "      <td>0.150340</td>\n",
       "      <td>0.000000</td>\n",
       "    </tr>\n",
       "    <tr>\n",
       "      <th>16379</th>\n",
       "      <td>0.515404</td>\n",
       "      <td>0.456065</td>\n",
       "      <td>0.205017</td>\n",
       "      <td>0.000000</td>\n",
       "      <td>0.147458</td>\n",
       "      <td>0.000000</td>\n",
       "    </tr>\n",
       "  </tbody>\n",
       "</table>\n",
       "<p>16380 rows × 6 columns</p>\n",
       "</div>"
      ],
      "text/plain": [
       "         p.MKK4     p.JNK     p.p53      p.RB  p.MKK3.MKK6     p.p38\n",
       "0      0.457823  0.426876  0.194365  0.099567     0.286825  0.000000\n",
       "1      0.400166  0.288711  0.000000  0.598982     0.053185  0.004729\n",
       "2      0.577745  0.492829  0.224935  0.303606     0.108874  0.061061\n",
       "3      0.545781  0.355599  0.211484  0.000000     0.338688  0.909727\n",
       "4      0.779333  0.650283  0.238072  0.828589     0.198516  0.542115\n",
       "...         ...       ...       ...       ...          ...       ...\n",
       "16375  0.366302  0.225716  0.203940  0.080011     0.000000  0.333136\n",
       "16376  0.557901  0.333460  0.181002  0.161690     0.222409  0.475347\n",
       "16377  0.480255  0.000000  0.021770  0.308577     0.184730  0.247533\n",
       "16378  0.465469  0.395624  0.166905  0.155100     0.150340  0.000000\n",
       "16379  0.515404  0.456065  0.205017  0.000000     0.147458  0.000000\n",
       "\n",
       "[16380 rows x 6 columns]"
      ]
     },
     "execution_count": 49,
     "metadata": {},
     "output_type": "execute_result"
    }
   ],
   "source": [
    "sel_data = cl_data.loc[(cl_data[\"treatment\"]==\"EGF\"),:][['p.MKK4', 'p.JNK', 'p.p53', 'p.RB', 'p.MKK3.MKK6',\n",
    "                                                        'p.p38']]\n",
    "sel_data.reset_index(drop=True, inplace=True)\n",
    "# sel_data[\"input\"] = 1.\n",
    "# sel_data.loc[sel_data[\"p.MKK4\"]==0, \"p.MKK4\"] = 1e-9\n",
    "# sel_data.loc[sel_data[\"p.MKK3.MKK6\"]==0, \"p.MKK3.MKK6\"] = 1e-9\n",
    "sel_data"
   ]
  },
  {
   "cell_type": "code",
   "execution_count": 50,
   "id": "701dfe03",
   "metadata": {},
   "outputs": [],
   "source": [
    "# Create an empty BioFuzzNet\n",
    "my_model = BioMixNet(None, None)\n",
    "\n",
    "# Add nodes\n",
    "# my_model.add_fuzzy_node(\"input\", \"BIO\")\n",
    "my_model.add_fuzzy_node(\"p.MKK4\", \"BIO\") # A biological node\n",
    "my_model.add_fuzzy_node(\"p.JNK\", 'BIO')\n",
    "my_model.add_fuzzy_node(\"p.p53\", \"BIO\")\n",
    "my_model.add_fuzzy_node(\"p.RB\", \"BIO\")\n",
    "my_model.add_fuzzy_node(\"p.p38\", \"BIO\")\n",
    "my_model.add_fuzzy_node(\"p.MKK3.MKK6\", \"BIO\")\n",
    "my_model.add_fuzzy_node(\"p.MKK4 AND p.MKK3.MKK6\", \"MIXED\") # A logical and gate\n",
    "my_model.add_fuzzy_node(\"p.JNK AND p.p38\", \"MIXED\") # A logical and gate\n",
    "\n",
    "\n",
    "# Add edges\n",
    "my_model.add_transfer_edge(\"p.MKK4\",\"p.MKK4 AND p.MKK3.MKK6\")\n",
    "my_model.add_transfer_edge(\"p.MKK4\",\"p.JNK\")\n",
    "my_model.add_transfer_edge(\"p.JNK\",\"p.JNK AND p.p38\")\n",
    "my_model.add_transfer_edge(\"p.p38\",\"p.JNK AND p.p38\")\n",
    "my_model.add_transfer_edge(\"p.MKK3.MKK6\",\"p.MKK4 AND p.MKK3.MKK6\")\n",
    "my_model.add_transfer_edge(\"p.p53\", \"p.RB\")\n",
    "\n",
    "my_model.add_simple_edge(\"p.MKK4 AND p.MKK3.MKK6\", \"p.p38\") # A simple edge downstream of a logical node\n",
    "my_model.add_simple_edge(\"p.JNK AND p.p38\", \"p.p53\")"
   ]
  },
  {
   "cell_type": "code",
   "execution_count": 51,
   "id": "3d576754",
   "metadata": {},
   "outputs": [
    {
     "data": {
      "image/png": "[encoded data removed]",
      "text/plain": [
       "<Figure size 640x480 with 1 Axes>"
      ]
     },
     "metadata": {},
     "output_type": "display_data"
    }
   ],
   "source": [
    "nx.draw(my_model, with_labels=True)"
   ]
  },
  {
   "cell_type": "code",
   "execution_count": 52,
   "id": "c88d1b4e",
   "metadata": {},
   "outputs": [
    {
     "name": "stdout",
     "output_type": "stream",
     "text": [
      "(12285, 6)\n",
      "(4095, 6)\n"
     ]
    }
   ],
   "source": [
    "train, test = train_test_split(sel_data)\n",
    "print(train.shape)\n",
    "print(test.shape)\n",
    "train = train.to_dict(\"list\")\n",
    "test = test.to_dict(\"list\")\n",
    "\n",
    "train = {k: torch.DoubleTensor(v) for k, v in train.items()}\n",
    "test = {k: torch.DoubleTensor(v) for k, v in test.items()}\n",
    "\n",
    "input_train = {\"p.MKK4\": train[\"p.MKK4\"],\n",
    "              \"p.MKK3.MKK6\": train[\"p.MKK3.MKK6\"]}  \n",
    "input_test = {\"p.MKK4\": test[\"p.MKK4\"],\n",
    "              \"p.MKK3.MKK6\": train[\"p.MKK3.MKK6\"]} \n"
   ]
  },
  {
   "cell_type": "code",
   "execution_count": 53,
   "id": "8dae6c73",
   "metadata": {},
   "outputs": [],
   "source": [
    "# Now we just need to specify some optimisation parameters\n",
    "\n",
    "learning_rate = 5e-3\n",
    "epochs = 10 # That seems like a lot, but 1 epoch is basically one simulation of the network on all datapoints, so we need a lot of them\n",
    "batch_size = 300 "
   ]
  },
  {
   "cell_type": "code",
   "execution_count": 54,
   "id": "2479743a",
   "metadata": {},
   "outputs": [
    {
     "name": "stderr",
     "output_type": "stream",
     "text": [
      "100%|██████████| 10/10 [00:19<00:00,  1.94s/it]\n"
     ]
    }
   ],
   "source": [
    "loss = my_model.conduct_optimisation(input = input_train,\n",
    "                                     test_input = input_test,\n",
    "                                     ground_truth=train,\n",
    "                                     epochs = epochs, \n",
    "                                     test_ground_truth=test,\n",
    "                                     learning_rate= learning_rate,\n",
    "                                     batch_size= batch_size\n",
    "                                         )"
   ]
  },
  {
   "cell_type": "code",
   "execution_count": 55,
   "id": "3650f781",
   "metadata": {},
   "outputs": [
    {
     "data": {
      "text/plain": [
       "<AxesSubplot: xlabel='time', ylabel='loss'>"
      ]
     },
     "execution_count": 55,
     "metadata": {},
     "output_type": "execute_result"
    },
    {
     "data": {
      "image/png": "[encoded data removed]",
      "text/plain": [
       "<Figure size 640x480 with 1 Axes>"
      ]
     },
     "metadata": {},
     "output_type": "display_data"
    }
   ],
   "source": [
    "sns.lineplot(data=loss, x='time', y='loss', hue='phase')\n"
   ]
  },
  {
   "cell_type": "code",
   "execution_count": 56,
   "id": "1f11871d",
   "metadata": {},
   "outputs": [
    {
     "name": "stdout",
     "output_type": "stream",
     "text": [
      "Parameter containing:\n",
      "tensor(-2.4996, requires_grad=True)\n",
      "Parameter containing:\n",
      "tensor(-2.5015, requires_grad=True)\n"
     ]
    }
   ],
   "source": [
    "for gate in my_model.mixed_gates:\n",
    "    g = my_model.nodes[gate][\"gate\"]\n",
    "    print(g.AND_param)"
   ]
  },
  {
   "cell_type": "code",
   "execution_count": 57,
   "id": "6592f0c4",
   "metadata": {},
   "outputs": [
    {
     "name": "stdout",
     "output_type": "stream",
     "text": [
      "The edge ('p.MKK4', 'p.MKK4 AND p.MKK3.MKK6') has parameter n = tensor([1.3745], grad_fn=<ExpBackward0>) and K = tensor([0.5454], grad_fn=<SigmoidBackward0>)\n",
      "The edge ('p.MKK4', 'p.JNK') has parameter n = tensor([1.3811], grad_fn=<ExpBackward0>) and K = tensor([0.4363], grad_fn=<SigmoidBackward0>)\n",
      "The edge ('p.JNK', 'p.JNK AND p.p38') has parameter n = tensor([7.7162], grad_fn=<ExpBackward0>) and K = tensor([0.6517], grad_fn=<SigmoidBackward0>)\n",
      "The edge ('p.p53', 'p.RB') has parameter n = tensor([0.9696], grad_fn=<ExpBackward0>) and K = tensor([0.3226], grad_fn=<SigmoidBackward0>)\n",
      "The edge ('p.p38', 'p.JNK AND p.p38') has parameter n = tensor([1.0104], grad_fn=<ExpBackward0>) and K = tensor([0.4938], grad_fn=<SigmoidBackward0>)\n",
      "The edge ('p.MKK3.MKK6', 'p.MKK4 AND p.MKK3.MKK6') has parameter n = tensor([1.0981], grad_fn=<ExpBackward0>) and K = tensor([0.5993], grad_fn=<SigmoidBackward0>)\n"
     ]
    }
   ],
   "source": [
    "for edge in my_model.transfer_edges:\n",
    "    # Each transfer edge has a layer\n",
    "    layer = my_model.edges()[edge][\"layer\"]\n",
    "    # Each layer has a n and an K parameter\n",
    "    print(f\"The edge {edge} has parameter n = {torch.exp(layer.n)} and K = {torch.sigmoid(layer.K)}\")\n",
    "    # Those parameters are torch.nn.Parameters and thus have a grad_fn which corresponds to their gradient\n"
   ]
  },
  {
   "cell_type": "code",
   "execution_count": 58,
   "id": "cda09b24",
   "metadata": {},
   "outputs": [],
   "source": [
    "x = torch.tensor(1e-9)\n",
    "n = torch.nn.Parameter(torch.tensor(-.1))\n",
    "res = x**n"
   ]
  },
  {
   "cell_type": "code",
   "execution_count": 59,
   "id": "44f258b3",
   "metadata": {},
   "outputs": [],
   "source": [
    "res.backward()"
   ]
  },
  {
   "cell_type": "code",
   "execution_count": 60,
   "id": "0bcdd67b",
   "metadata": {},
   "outputs": [
    {
     "data": {
      "text/plain": [
       "tensor(-164.6108)"
      ]
     },
     "execution_count": 60,
     "metadata": {},
     "output_type": "execute_result"
    }
   ],
   "source": [
    "n.grad"
   ]
  },
  {
   "cell_type": "code",
   "execution_count": null,
   "id": "7e50e3cd",
   "metadata": {},
   "outputs": [],
   "source": []
  }
 ],
 "metadata": {
  "kernelspec": {
   "display_name": "Python 3 (ipykernel)",
   "language": "python",
   "name": "python3"
  },
  "language_info": {
   "codemirror_mode": {
    "name": "ipython",
    "version": 3
   },
   "file_extension": ".py",
   "mimetype": "text/x-python",
   "name": "python",
   "nbconvert_exporter": "python",
   "pygments_lexer": "ipython3",
   "version": "3.10.9"
  }
 },
 "nbformat": 4,
 "nbformat_minor": 5
}
