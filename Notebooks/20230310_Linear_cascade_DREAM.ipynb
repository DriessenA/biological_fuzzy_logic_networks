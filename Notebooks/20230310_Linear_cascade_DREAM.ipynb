{
 "cells": [
  {
   "cell_type": "code",
   "execution_count": 69,
   "id": "fe6b1b3b",
   "metadata": {},
   "outputs": [],
   "source": [
    "from biofuzznet.utils import read_sif\n",
    "from biofuzznet.biofuzznet import BioFuzzNet\n",
    "from biofuzznet.biomixnet import BioMixNet\n",
    "import networkx as nx\n",
    "import pandas as pd\n",
    "import torch\n",
    "from sklearn.model_selection import train_test_split\n",
    "import seaborn as sns\n",
    "import matplotlib.pyplot as plt\n",
    "import numpy as np\n",
    "from sklearn.preprocessing import MinMaxScaler, StandardScaler"
   ]
  },
  {
   "cell_type": "code",
   "execution_count": 70,
   "id": "e3bc979b",
   "metadata": {},
   "outputs": [
    {
     "data": {
      "text/html": [
       "<div>\n",
       "<style scoped>\n",
       "    .dataframe tbody tr th:only-of-type {\n",
       "        vertical-align: middle;\n",
       "    }\n",
       "\n",
       "    .dataframe tbody tr th {\n",
       "        vertical-align: top;\n",
       "    }\n",
       "\n",
       "    .dataframe thead th {\n",
       "        text-align: right;\n",
       "    }\n",
       "</style>\n",
       "<table border=\"1\" class=\"dataframe\">\n",
       "  <thead>\n",
       "    <tr style=\"text-align: right;\">\n",
       "      <th></th>\n",
       "      <th>treatment</th>\n",
       "      <th>cell_line</th>\n",
       "      <th>time</th>\n",
       "      <th>cellID</th>\n",
       "      <th>fileID</th>\n",
       "      <th>b.CATENIN</th>\n",
       "      <th>cleavedCas</th>\n",
       "      <th>CyclinB</th>\n",
       "      <th>GAPDH</th>\n",
       "      <th>IdU</th>\n",
       "      <th>...</th>\n",
       "      <th>p.PDPK1</th>\n",
       "      <th>p.PLCg2</th>\n",
       "      <th>p.RB</th>\n",
       "      <th>p.S6</th>\n",
       "      <th>p.S6K</th>\n",
       "      <th>p.SMAD23</th>\n",
       "      <th>p.SRC</th>\n",
       "      <th>p.STAT1</th>\n",
       "      <th>p.STAT3</th>\n",
       "      <th>p.STAT5</th>\n",
       "    </tr>\n",
       "  </thead>\n",
       "  <tbody>\n",
       "    <tr>\n",
       "      <th>25595</th>\n",
       "      <td>EGF</td>\n",
       "      <td>ZR7530</td>\n",
       "      <td>9.0</td>\n",
       "      <td>1</td>\n",
       "      <td>1011</td>\n",
       "      <td>0.395636</td>\n",
       "      <td>0.402194</td>\n",
       "      <td>0.000000</td>\n",
       "      <td>0.492295</td>\n",
       "      <td>0.104349</td>\n",
       "      <td>...</td>\n",
       "      <td>0.375356</td>\n",
       "      <td>0.352125</td>\n",
       "      <td>0.099567</td>\n",
       "      <td>0.273289</td>\n",
       "      <td>0.369775</td>\n",
       "      <td>0.186604</td>\n",
       "      <td>0.383592</td>\n",
       "      <td>0.328056</td>\n",
       "      <td>0.441879</td>\n",
       "      <td>0.340322</td>\n",
       "    </tr>\n",
       "    <tr>\n",
       "      <th>25596</th>\n",
       "      <td>EGF</td>\n",
       "      <td>ZR7530</td>\n",
       "      <td>9.0</td>\n",
       "      <td>2</td>\n",
       "      <td>1011</td>\n",
       "      <td>0.000000</td>\n",
       "      <td>0.140044</td>\n",
       "      <td>0.537944</td>\n",
       "      <td>0.409615</td>\n",
       "      <td>0.897755</td>\n",
       "      <td>...</td>\n",
       "      <td>0.000000</td>\n",
       "      <td>0.082241</td>\n",
       "      <td>0.598982</td>\n",
       "      <td>0.378096</td>\n",
       "      <td>0.109032</td>\n",
       "      <td>0.478256</td>\n",
       "      <td>0.245605</td>\n",
       "      <td>0.355943</td>\n",
       "      <td>0.169588</td>\n",
       "      <td>0.300694</td>\n",
       "    </tr>\n",
       "    <tr>\n",
       "      <th>25597</th>\n",
       "      <td>EGF</td>\n",
       "      <td>ZR7530</td>\n",
       "      <td>9.0</td>\n",
       "      <td>3</td>\n",
       "      <td>1011</td>\n",
       "      <td>0.279084</td>\n",
       "      <td>0.432673</td>\n",
       "      <td>0.000000</td>\n",
       "      <td>0.713174</td>\n",
       "      <td>0.253652</td>\n",
       "      <td>...</td>\n",
       "      <td>0.210846</td>\n",
       "      <td>0.104309</td>\n",
       "      <td>0.303606</td>\n",
       "      <td>0.395779</td>\n",
       "      <td>0.563735</td>\n",
       "      <td>0.486540</td>\n",
       "      <td>0.255902</td>\n",
       "      <td>0.368843</td>\n",
       "      <td>0.457316</td>\n",
       "      <td>0.304705</td>\n",
       "    </tr>\n",
       "    <tr>\n",
       "      <th>25598</th>\n",
       "      <td>EGF</td>\n",
       "      <td>ZR7530</td>\n",
       "      <td>9.0</td>\n",
       "      <td>4</td>\n",
       "      <td>1011</td>\n",
       "      <td>0.000000</td>\n",
       "      <td>0.267420</td>\n",
       "      <td>0.141758</td>\n",
       "      <td>0.430330</td>\n",
       "      <td>0.000000</td>\n",
       "      <td>...</td>\n",
       "      <td>0.020738</td>\n",
       "      <td>0.449832</td>\n",
       "      <td>0.000000</td>\n",
       "      <td>0.453254</td>\n",
       "      <td>0.726091</td>\n",
       "      <td>0.000000</td>\n",
       "      <td>0.398669</td>\n",
       "      <td>0.446374</td>\n",
       "      <td>0.232850</td>\n",
       "      <td>0.345303</td>\n",
       "    </tr>\n",
       "    <tr>\n",
       "      <th>25599</th>\n",
       "      <td>EGF</td>\n",
       "      <td>ZR7530</td>\n",
       "      <td>9.0</td>\n",
       "      <td>5</td>\n",
       "      <td>1011</td>\n",
       "      <td>0.530664</td>\n",
       "      <td>0.402922</td>\n",
       "      <td>0.262447</td>\n",
       "      <td>0.677272</td>\n",
       "      <td>0.679108</td>\n",
       "      <td>...</td>\n",
       "      <td>0.590596</td>\n",
       "      <td>0.658284</td>\n",
       "      <td>0.828589</td>\n",
       "      <td>0.609928</td>\n",
       "      <td>0.596778</td>\n",
       "      <td>0.634626</td>\n",
       "      <td>0.410794</td>\n",
       "      <td>0.434798</td>\n",
       "      <td>0.531388</td>\n",
       "      <td>0.382133</td>\n",
       "    </tr>\n",
       "    <tr>\n",
       "      <th>...</th>\n",
       "      <td>...</td>\n",
       "      <td>...</td>\n",
       "      <td>...</td>\n",
       "      <td>...</td>\n",
       "      <td>...</td>\n",
       "      <td>...</td>\n",
       "      <td>...</td>\n",
       "      <td>...</td>\n",
       "      <td>...</td>\n",
       "      <td>...</td>\n",
       "      <td>...</td>\n",
       "      <td>...</td>\n",
       "      <td>...</td>\n",
       "      <td>...</td>\n",
       "      <td>...</td>\n",
       "      <td>...</td>\n",
       "      <td>...</td>\n",
       "      <td>...</td>\n",
       "      <td>...</td>\n",
       "      <td>...</td>\n",
       "      <td>...</td>\n",
       "    </tr>\n",
       "    <tr>\n",
       "      <th>438604</th>\n",
       "      <td>iPKC</td>\n",
       "      <td>ZR7530</td>\n",
       "      <td>9.0</td>\n",
       "      <td>8364</td>\n",
       "      <td>981</td>\n",
       "      <td>0.605812</td>\n",
       "      <td>0.292460</td>\n",
       "      <td>0.141792</td>\n",
       "      <td>0.563163</td>\n",
       "      <td>0.029755</td>\n",
       "      <td>...</td>\n",
       "      <td>0.436423</td>\n",
       "      <td>0.599954</td>\n",
       "      <td>0.152836</td>\n",
       "      <td>0.384682</td>\n",
       "      <td>0.554484</td>\n",
       "      <td>0.375520</td>\n",
       "      <td>0.454312</td>\n",
       "      <td>0.329122</td>\n",
       "      <td>0.651206</td>\n",
       "      <td>0.379009</td>\n",
       "    </tr>\n",
       "    <tr>\n",
       "      <th>438605</th>\n",
       "      <td>iPKC</td>\n",
       "      <td>ZR7530</td>\n",
       "      <td>9.0</td>\n",
       "      <td>8365</td>\n",
       "      <td>981</td>\n",
       "      <td>0.000000</td>\n",
       "      <td>0.000000</td>\n",
       "      <td>0.131784</td>\n",
       "      <td>0.369437</td>\n",
       "      <td>0.158079</td>\n",
       "      <td>...</td>\n",
       "      <td>0.000000</td>\n",
       "      <td>0.287432</td>\n",
       "      <td>0.000000</td>\n",
       "      <td>0.353103</td>\n",
       "      <td>0.277070</td>\n",
       "      <td>0.445072</td>\n",
       "      <td>0.132246</td>\n",
       "      <td>0.303992</td>\n",
       "      <td>0.311794</td>\n",
       "      <td>0.383396</td>\n",
       "    </tr>\n",
       "    <tr>\n",
       "      <th>438606</th>\n",
       "      <td>iPKC</td>\n",
       "      <td>ZR7530</td>\n",
       "      <td>9.0</td>\n",
       "      <td>8366</td>\n",
       "      <td>981</td>\n",
       "      <td>0.584230</td>\n",
       "      <td>0.312458</td>\n",
       "      <td>0.727297</td>\n",
       "      <td>0.552922</td>\n",
       "      <td>0.429372</td>\n",
       "      <td>...</td>\n",
       "      <td>0.501491</td>\n",
       "      <td>0.559899</td>\n",
       "      <td>0.748482</td>\n",
       "      <td>0.391360</td>\n",
       "      <td>0.604408</td>\n",
       "      <td>0.340593</td>\n",
       "      <td>0.354785</td>\n",
       "      <td>0.456384</td>\n",
       "      <td>0.446863</td>\n",
       "      <td>0.387726</td>\n",
       "    </tr>\n",
       "    <tr>\n",
       "      <th>438607</th>\n",
       "      <td>iPKC</td>\n",
       "      <td>ZR7530</td>\n",
       "      <td>9.0</td>\n",
       "      <td>8367</td>\n",
       "      <td>981</td>\n",
       "      <td>0.125551</td>\n",
       "      <td>0.480262</td>\n",
       "      <td>0.115179</td>\n",
       "      <td>0.736958</td>\n",
       "      <td>0.172115</td>\n",
       "      <td>...</td>\n",
       "      <td>0.422837</td>\n",
       "      <td>0.738014</td>\n",
       "      <td>0.231625</td>\n",
       "      <td>0.356163</td>\n",
       "      <td>0.653604</td>\n",
       "      <td>0.737798</td>\n",
       "      <td>0.315952</td>\n",
       "      <td>0.361219</td>\n",
       "      <td>0.413430</td>\n",
       "      <td>0.336527</td>\n",
       "    </tr>\n",
       "    <tr>\n",
       "      <th>438608</th>\n",
       "      <td>iPKC</td>\n",
       "      <td>ZR7530</td>\n",
       "      <td>9.0</td>\n",
       "      <td>8368</td>\n",
       "      <td>981</td>\n",
       "      <td>0.216619</td>\n",
       "      <td>0.424140</td>\n",
       "      <td>0.074959</td>\n",
       "      <td>0.691842</td>\n",
       "      <td>0.152519</td>\n",
       "      <td>...</td>\n",
       "      <td>0.351747</td>\n",
       "      <td>0.663714</td>\n",
       "      <td>0.288832</td>\n",
       "      <td>0.217364</td>\n",
       "      <td>0.514302</td>\n",
       "      <td>0.609506</td>\n",
       "      <td>0.260296</td>\n",
       "      <td>0.281700</td>\n",
       "      <td>0.363903</td>\n",
       "      <td>0.343128</td>\n",
       "    </tr>\n",
       "  </tbody>\n",
       "</table>\n",
       "<p>57951 rows × 42 columns</p>\n",
       "</div>"
      ],
      "text/plain": [
       "       treatment cell_line  time  cellID  fileID  b.CATENIN  cleavedCas  \\\n",
       "25595        EGF    ZR7530   9.0       1    1011   0.395636    0.402194   \n",
       "25596        EGF    ZR7530   9.0       2    1011   0.000000    0.140044   \n",
       "25597        EGF    ZR7530   9.0       3    1011   0.279084    0.432673   \n",
       "25598        EGF    ZR7530   9.0       4    1011   0.000000    0.267420   \n",
       "25599        EGF    ZR7530   9.0       5    1011   0.530664    0.402922   \n",
       "...          ...       ...   ...     ...     ...        ...         ...   \n",
       "438604      iPKC    ZR7530   9.0    8364     981   0.605812    0.292460   \n",
       "438605      iPKC    ZR7530   9.0    8365     981   0.000000    0.000000   \n",
       "438606      iPKC    ZR7530   9.0    8366     981   0.584230    0.312458   \n",
       "438607      iPKC    ZR7530   9.0    8367     981   0.125551    0.480262   \n",
       "438608      iPKC    ZR7530   9.0    8368     981   0.216619    0.424140   \n",
       "\n",
       "         CyclinB     GAPDH       IdU  ...   p.PDPK1   p.PLCg2      p.RB  \\\n",
       "25595   0.000000  0.492295  0.104349  ...  0.375356  0.352125  0.099567   \n",
       "25596   0.537944  0.409615  0.897755  ...  0.000000  0.082241  0.598982   \n",
       "25597   0.000000  0.713174  0.253652  ...  0.210846  0.104309  0.303606   \n",
       "25598   0.141758  0.430330  0.000000  ...  0.020738  0.449832  0.000000   \n",
       "25599   0.262447  0.677272  0.679108  ...  0.590596  0.658284  0.828589   \n",
       "...          ...       ...       ...  ...       ...       ...       ...   \n",
       "438604  0.141792  0.563163  0.029755  ...  0.436423  0.599954  0.152836   \n",
       "438605  0.131784  0.369437  0.158079  ...  0.000000  0.287432  0.000000   \n",
       "438606  0.727297  0.552922  0.429372  ...  0.501491  0.559899  0.748482   \n",
       "438607  0.115179  0.736958  0.172115  ...  0.422837  0.738014  0.231625   \n",
       "438608  0.074959  0.691842  0.152519  ...  0.351747  0.663714  0.288832   \n",
       "\n",
       "            p.S6     p.S6K  p.SMAD23     p.SRC   p.STAT1   p.STAT3   p.STAT5  \n",
       "25595   0.273289  0.369775  0.186604  0.383592  0.328056  0.441879  0.340322  \n",
       "25596   0.378096  0.109032  0.478256  0.245605  0.355943  0.169588  0.300694  \n",
       "25597   0.395779  0.563735  0.486540  0.255902  0.368843  0.457316  0.304705  \n",
       "25598   0.453254  0.726091  0.000000  0.398669  0.446374  0.232850  0.345303  \n",
       "25599   0.609928  0.596778  0.634626  0.410794  0.434798  0.531388  0.382133  \n",
       "...          ...       ...       ...       ...       ...       ...       ...  \n",
       "438604  0.384682  0.554484  0.375520  0.454312  0.329122  0.651206  0.379009  \n",
       "438605  0.353103  0.277070  0.445072  0.132246  0.303992  0.311794  0.383396  \n",
       "438606  0.391360  0.604408  0.340593  0.354785  0.456384  0.446863  0.387726  \n",
       "438607  0.356163  0.653604  0.737798  0.315952  0.361219  0.413430  0.336527  \n",
       "438608  0.217364  0.514302  0.609506  0.260296  0.281700  0.363903  0.343128  \n",
       "\n",
       "[57951 rows x 42 columns]"
      ]
     },
     "execution_count": 70,
     "metadata": {},
     "output_type": "execute_result"
    }
   ],
   "source": [
    "cl_data = pd.read_csv(\"/Users/adr/Box/CAR_Tcells/Data/DREAMdata/ZR7530.csv\")\n",
    "non_marker_cols = [\"treatment\", \"cell_line\", \"time\", \"cellID\", \"fileID\"]\n",
    "markers = [c for c in cl_data.columns if not c in non_marker_cols]\n",
    "\n",
    "cl_data = cl_data[cl_data[\"time\"]==9]\n",
    "scaler = MinMaxScaler()\n",
    "cl_data[markers] = scaler.fit_transform(cl_data[markers])\n",
    "cl_data"
   ]
  },
  {
   "cell_type": "code",
   "execution_count": 71,
   "id": "1bfbf96a",
   "metadata": {},
   "outputs": [
    {
     "data": {
      "text/html": [
       "<div>\n",
       "<style scoped>\n",
       "    .dataframe tbody tr th:only-of-type {\n",
       "        vertical-align: middle;\n",
       "    }\n",
       "\n",
       "    .dataframe tbody tr th {\n",
       "        vertical-align: top;\n",
       "    }\n",
       "\n",
       "    .dataframe thead th {\n",
       "        text-align: right;\n",
       "    }\n",
       "</style>\n",
       "<table border=\"1\" class=\"dataframe\">\n",
       "  <thead>\n",
       "    <tr style=\"text-align: right;\">\n",
       "      <th></th>\n",
       "      <th>treatment</th>\n",
       "      <th>cell_line</th>\n",
       "      <th>time</th>\n",
       "      <th>cellID</th>\n",
       "      <th>fileID</th>\n",
       "      <th>b.CATENIN</th>\n",
       "      <th>cleavedCas</th>\n",
       "      <th>CyclinB</th>\n",
       "      <th>GAPDH</th>\n",
       "      <th>IdU</th>\n",
       "      <th>...</th>\n",
       "      <th>p.PDPK1</th>\n",
       "      <th>p.PLCg2</th>\n",
       "      <th>p.RB</th>\n",
       "      <th>p.S6</th>\n",
       "      <th>p.S6K</th>\n",
       "      <th>p.SMAD23</th>\n",
       "      <th>p.SRC</th>\n",
       "      <th>p.STAT1</th>\n",
       "      <th>p.STAT3</th>\n",
       "      <th>p.STAT5</th>\n",
       "    </tr>\n",
       "  </thead>\n",
       "  <tbody>\n",
       "    <tr>\n",
       "      <th>25595</th>\n",
       "      <td>EGF</td>\n",
       "      <td>ZR7530</td>\n",
       "      <td>9.0</td>\n",
       "      <td>1</td>\n",
       "      <td>1011</td>\n",
       "      <td>0.395636</td>\n",
       "      <td>0.402194</td>\n",
       "      <td>0.000000</td>\n",
       "      <td>0.492295</td>\n",
       "      <td>0.104349</td>\n",
       "      <td>...</td>\n",
       "      <td>0.375356</td>\n",
       "      <td>0.352125</td>\n",
       "      <td>0.099567</td>\n",
       "      <td>0.273289</td>\n",
       "      <td>0.369775</td>\n",
       "      <td>0.186604</td>\n",
       "      <td>0.383592</td>\n",
       "      <td>0.328056</td>\n",
       "      <td>0.441879</td>\n",
       "      <td>0.340322</td>\n",
       "    </tr>\n",
       "    <tr>\n",
       "      <th>25596</th>\n",
       "      <td>EGF</td>\n",
       "      <td>ZR7530</td>\n",
       "      <td>9.0</td>\n",
       "      <td>2</td>\n",
       "      <td>1011</td>\n",
       "      <td>0.000000</td>\n",
       "      <td>0.140044</td>\n",
       "      <td>0.537944</td>\n",
       "      <td>0.409615</td>\n",
       "      <td>0.897755</td>\n",
       "      <td>...</td>\n",
       "      <td>0.000000</td>\n",
       "      <td>0.082241</td>\n",
       "      <td>0.598982</td>\n",
       "      <td>0.378096</td>\n",
       "      <td>0.109032</td>\n",
       "      <td>0.478256</td>\n",
       "      <td>0.245605</td>\n",
       "      <td>0.355943</td>\n",
       "      <td>0.169588</td>\n",
       "      <td>0.300694</td>\n",
       "    </tr>\n",
       "    <tr>\n",
       "      <th>25597</th>\n",
       "      <td>EGF</td>\n",
       "      <td>ZR7530</td>\n",
       "      <td>9.0</td>\n",
       "      <td>3</td>\n",
       "      <td>1011</td>\n",
       "      <td>0.279084</td>\n",
       "      <td>0.432673</td>\n",
       "      <td>0.000000</td>\n",
       "      <td>0.713174</td>\n",
       "      <td>0.253652</td>\n",
       "      <td>...</td>\n",
       "      <td>0.210846</td>\n",
       "      <td>0.104309</td>\n",
       "      <td>0.303606</td>\n",
       "      <td>0.395779</td>\n",
       "      <td>0.563735</td>\n",
       "      <td>0.486540</td>\n",
       "      <td>0.255902</td>\n",
       "      <td>0.368843</td>\n",
       "      <td>0.457316</td>\n",
       "      <td>0.304705</td>\n",
       "    </tr>\n",
       "    <tr>\n",
       "      <th>25598</th>\n",
       "      <td>EGF</td>\n",
       "      <td>ZR7530</td>\n",
       "      <td>9.0</td>\n",
       "      <td>4</td>\n",
       "      <td>1011</td>\n",
       "      <td>0.000000</td>\n",
       "      <td>0.267420</td>\n",
       "      <td>0.141758</td>\n",
       "      <td>0.430330</td>\n",
       "      <td>0.000000</td>\n",
       "      <td>...</td>\n",
       "      <td>0.020738</td>\n",
       "      <td>0.449832</td>\n",
       "      <td>0.000000</td>\n",
       "      <td>0.453254</td>\n",
       "      <td>0.726091</td>\n",
       "      <td>0.000000</td>\n",
       "      <td>0.398669</td>\n",
       "      <td>0.446374</td>\n",
       "      <td>0.232850</td>\n",
       "      <td>0.345303</td>\n",
       "    </tr>\n",
       "    <tr>\n",
       "      <th>25599</th>\n",
       "      <td>EGF</td>\n",
       "      <td>ZR7530</td>\n",
       "      <td>9.0</td>\n",
       "      <td>5</td>\n",
       "      <td>1011</td>\n",
       "      <td>0.530664</td>\n",
       "      <td>0.402922</td>\n",
       "      <td>0.262447</td>\n",
       "      <td>0.677272</td>\n",
       "      <td>0.679108</td>\n",
       "      <td>...</td>\n",
       "      <td>0.590596</td>\n",
       "      <td>0.658284</td>\n",
       "      <td>0.828589</td>\n",
       "      <td>0.609928</td>\n",
       "      <td>0.596778</td>\n",
       "      <td>0.634626</td>\n",
       "      <td>0.410794</td>\n",
       "      <td>0.434798</td>\n",
       "      <td>0.531388</td>\n",
       "      <td>0.382133</td>\n",
       "    </tr>\n",
       "    <tr>\n",
       "      <th>...</th>\n",
       "      <td>...</td>\n",
       "      <td>...</td>\n",
       "      <td>...</td>\n",
       "      <td>...</td>\n",
       "      <td>...</td>\n",
       "      <td>...</td>\n",
       "      <td>...</td>\n",
       "      <td>...</td>\n",
       "      <td>...</td>\n",
       "      <td>...</td>\n",
       "      <td>...</td>\n",
       "      <td>...</td>\n",
       "      <td>...</td>\n",
       "      <td>...</td>\n",
       "      <td>...</td>\n",
       "      <td>...</td>\n",
       "      <td>...</td>\n",
       "      <td>...</td>\n",
       "      <td>...</td>\n",
       "      <td>...</td>\n",
       "      <td>...</td>\n",
       "    </tr>\n",
       "    <tr>\n",
       "      <th>438604</th>\n",
       "      <td>iPKC</td>\n",
       "      <td>ZR7530</td>\n",
       "      <td>9.0</td>\n",
       "      <td>8364</td>\n",
       "      <td>981</td>\n",
       "      <td>0.605812</td>\n",
       "      <td>0.292460</td>\n",
       "      <td>0.141792</td>\n",
       "      <td>0.563163</td>\n",
       "      <td>0.029755</td>\n",
       "      <td>...</td>\n",
       "      <td>0.436423</td>\n",
       "      <td>0.599954</td>\n",
       "      <td>0.152836</td>\n",
       "      <td>0.384682</td>\n",
       "      <td>0.554484</td>\n",
       "      <td>0.375520</td>\n",
       "      <td>0.454312</td>\n",
       "      <td>0.329122</td>\n",
       "      <td>0.651206</td>\n",
       "      <td>0.379009</td>\n",
       "    </tr>\n",
       "    <tr>\n",
       "      <th>438605</th>\n",
       "      <td>iPKC</td>\n",
       "      <td>ZR7530</td>\n",
       "      <td>9.0</td>\n",
       "      <td>8365</td>\n",
       "      <td>981</td>\n",
       "      <td>0.000000</td>\n",
       "      <td>0.000000</td>\n",
       "      <td>0.131784</td>\n",
       "      <td>0.369437</td>\n",
       "      <td>0.158079</td>\n",
       "      <td>...</td>\n",
       "      <td>0.000000</td>\n",
       "      <td>0.287432</td>\n",
       "      <td>0.000000</td>\n",
       "      <td>0.353103</td>\n",
       "      <td>0.277070</td>\n",
       "      <td>0.445072</td>\n",
       "      <td>0.132246</td>\n",
       "      <td>0.303992</td>\n",
       "      <td>0.311794</td>\n",
       "      <td>0.383396</td>\n",
       "    </tr>\n",
       "    <tr>\n",
       "      <th>438606</th>\n",
       "      <td>iPKC</td>\n",
       "      <td>ZR7530</td>\n",
       "      <td>9.0</td>\n",
       "      <td>8366</td>\n",
       "      <td>981</td>\n",
       "      <td>0.584230</td>\n",
       "      <td>0.312458</td>\n",
       "      <td>0.727297</td>\n",
       "      <td>0.552922</td>\n",
       "      <td>0.429372</td>\n",
       "      <td>...</td>\n",
       "      <td>0.501491</td>\n",
       "      <td>0.559899</td>\n",
       "      <td>0.748482</td>\n",
       "      <td>0.391360</td>\n",
       "      <td>0.604408</td>\n",
       "      <td>0.340593</td>\n",
       "      <td>0.354785</td>\n",
       "      <td>0.456384</td>\n",
       "      <td>0.446863</td>\n",
       "      <td>0.387726</td>\n",
       "    </tr>\n",
       "    <tr>\n",
       "      <th>438607</th>\n",
       "      <td>iPKC</td>\n",
       "      <td>ZR7530</td>\n",
       "      <td>9.0</td>\n",
       "      <td>8367</td>\n",
       "      <td>981</td>\n",
       "      <td>0.125551</td>\n",
       "      <td>0.480262</td>\n",
       "      <td>0.115179</td>\n",
       "      <td>0.736958</td>\n",
       "      <td>0.172115</td>\n",
       "      <td>...</td>\n",
       "      <td>0.422837</td>\n",
       "      <td>0.738014</td>\n",
       "      <td>0.231625</td>\n",
       "      <td>0.356163</td>\n",
       "      <td>0.653604</td>\n",
       "      <td>0.737798</td>\n",
       "      <td>0.315952</td>\n",
       "      <td>0.361219</td>\n",
       "      <td>0.413430</td>\n",
       "      <td>0.336527</td>\n",
       "    </tr>\n",
       "    <tr>\n",
       "      <th>438608</th>\n",
       "      <td>iPKC</td>\n",
       "      <td>ZR7530</td>\n",
       "      <td>9.0</td>\n",
       "      <td>8368</td>\n",
       "      <td>981</td>\n",
       "      <td>0.216619</td>\n",
       "      <td>0.424140</td>\n",
       "      <td>0.074959</td>\n",
       "      <td>0.691842</td>\n",
       "      <td>0.152519</td>\n",
       "      <td>...</td>\n",
       "      <td>0.351747</td>\n",
       "      <td>0.663714</td>\n",
       "      <td>0.288832</td>\n",
       "      <td>0.217364</td>\n",
       "      <td>0.514302</td>\n",
       "      <td>0.609506</td>\n",
       "      <td>0.260296</td>\n",
       "      <td>0.281700</td>\n",
       "      <td>0.363903</td>\n",
       "      <td>0.343128</td>\n",
       "    </tr>\n",
       "  </tbody>\n",
       "</table>\n",
       "<p>57951 rows × 42 columns</p>\n",
       "</div>"
      ],
      "text/plain": [
       "       treatment cell_line  time  cellID  fileID  b.CATENIN  cleavedCas  \\\n",
       "25595        EGF    ZR7530   9.0       1    1011   0.395636    0.402194   \n",
       "25596        EGF    ZR7530   9.0       2    1011   0.000000    0.140044   \n",
       "25597        EGF    ZR7530   9.0       3    1011   0.279084    0.432673   \n",
       "25598        EGF    ZR7530   9.0       4    1011   0.000000    0.267420   \n",
       "25599        EGF    ZR7530   9.0       5    1011   0.530664    0.402922   \n",
       "...          ...       ...   ...     ...     ...        ...         ...   \n",
       "438604      iPKC    ZR7530   9.0    8364     981   0.605812    0.292460   \n",
       "438605      iPKC    ZR7530   9.0    8365     981   0.000000    0.000000   \n",
       "438606      iPKC    ZR7530   9.0    8366     981   0.584230    0.312458   \n",
       "438607      iPKC    ZR7530   9.0    8367     981   0.125551    0.480262   \n",
       "438608      iPKC    ZR7530   9.0    8368     981   0.216619    0.424140   \n",
       "\n",
       "         CyclinB     GAPDH       IdU  ...   p.PDPK1   p.PLCg2      p.RB  \\\n",
       "25595   0.000000  0.492295  0.104349  ...  0.375356  0.352125  0.099567   \n",
       "25596   0.537944  0.409615  0.897755  ...  0.000000  0.082241  0.598982   \n",
       "25597   0.000000  0.713174  0.253652  ...  0.210846  0.104309  0.303606   \n",
       "25598   0.141758  0.430330  0.000000  ...  0.020738  0.449832  0.000000   \n",
       "25599   0.262447  0.677272  0.679108  ...  0.590596  0.658284  0.828589   \n",
       "...          ...       ...       ...  ...       ...       ...       ...   \n",
       "438604  0.141792  0.563163  0.029755  ...  0.436423  0.599954  0.152836   \n",
       "438605  0.131784  0.369437  0.158079  ...  0.000000  0.287432  0.000000   \n",
       "438606  0.727297  0.552922  0.429372  ...  0.501491  0.559899  0.748482   \n",
       "438607  0.115179  0.736958  0.172115  ...  0.422837  0.738014  0.231625   \n",
       "438608  0.074959  0.691842  0.152519  ...  0.351747  0.663714  0.288832   \n",
       "\n",
       "            p.S6     p.S6K  p.SMAD23     p.SRC   p.STAT1   p.STAT3   p.STAT5  \n",
       "25595   0.273289  0.369775  0.186604  0.383592  0.328056  0.441879  0.340322  \n",
       "25596   0.378096  0.109032  0.478256  0.245605  0.355943  0.169588  0.300694  \n",
       "25597   0.395779  0.563735  0.486540  0.255902  0.368843  0.457316  0.304705  \n",
       "25598   0.453254  0.726091  0.000000  0.398669  0.446374  0.232850  0.345303  \n",
       "25599   0.609928  0.596778  0.634626  0.410794  0.434798  0.531388  0.382133  \n",
       "...          ...       ...       ...       ...       ...       ...       ...  \n",
       "438604  0.384682  0.554484  0.375520  0.454312  0.329122  0.651206  0.379009  \n",
       "438605  0.353103  0.277070  0.445072  0.132246  0.303992  0.311794  0.383396  \n",
       "438606  0.391360  0.604408  0.340593  0.354785  0.456384  0.446863  0.387726  \n",
       "438607  0.356163  0.653604  0.737798  0.315952  0.361219  0.413430  0.336527  \n",
       "438608  0.217364  0.514302  0.609506  0.260296  0.281700  0.363903  0.343128  \n",
       "\n",
       "[57951 rows x 42 columns]"
      ]
     },
     "execution_count": 71,
     "metadata": {},
     "output_type": "execute_result"
    }
   ],
   "source": [
    "cl_data"
   ]
  },
  {
   "cell_type": "code",
   "execution_count": 72,
   "id": "c19ebd5f",
   "metadata": {},
   "outputs": [],
   "source": [
    "nodes1, edges1 = read_sif(\"/Users/adr/Box/CAR_Tcells/Data/DREAMdata/prior_knowledge.sif\")"
   ]
  },
  {
   "cell_type": "code",
   "execution_count": 73,
   "id": "721a4516",
   "metadata": {},
   "outputs": [
    {
     "data": {
      "text/plain": [
       "{('p53', 'RB'): '1', ('MKK4', 'JNK'): '1', ('JNK', 'p53'): 1}"
      ]
     },
     "execution_count": 73,
     "metadata": {},
     "output_type": "execute_result"
    }
   ],
   "source": [
    "nodes, edges = read_sif(\"/Users/adr/Box/CAR_Tcells/Data/DREAMdata/DREAM_PKN_for_BFZ_input.sif\")\n",
    "edges[(\"JNK\", \"p53\")] = 1\n",
    "sel_nodes = [\"MKK4\", \"JNK\", \"p53\", \"RB\"]\n",
    "\n",
    "sel_edges = {k: v for k,v in edges.items() if (k[1] in sel_nodes) and (k[0] in sel_nodes)}\n",
    "sel_edges"
   ]
  },
  {
   "cell_type": "code",
   "execution_count": 74,
   "id": "ec67ca92",
   "metadata": {},
   "outputs": [],
   "source": [
    "G=nx.from_edgelist(sel_edges)"
   ]
  },
  {
   "cell_type": "code",
   "execution_count": 75,
   "id": "97bd286a",
   "metadata": {},
   "outputs": [
    {
     "data": {
      "image/png": "[encoded data removed]",
      "text/plain": [
       "<Figure size 640x480 with 1 Axes>"
      ]
     },
     "metadata": {},
     "output_type": "display_data"
    }
   ],
   "source": [
    "nx.draw(G, with_labels=True)"
   ]
  },
  {
   "cell_type": "code",
   "execution_count": 76,
   "id": "59f97603",
   "metadata": {},
   "outputs": [],
   "source": [
    "# Create an empty BioFuzzNet\n",
    "my_model = BioFuzzNet(None, None)\n",
    "\n",
    "# Add nodes\n",
    "# my_model.add_fuzzy_node(\"input\", \"BIO\")\n",
    "my_model.add_fuzzy_node(\"p.MKK4\", \"BIO\") # A biological node\n",
    "my_model.add_fuzzy_node(\"p.JNK\", 'BIO')\n",
    "my_model.add_fuzzy_node(\"p.p53\", \"BIO\")\n",
    "my_model.add_fuzzy_node(\"p.RB\", \"BIO\")\n",
    "# Add edges\n",
    "# my_model.add_transfer_edge(\"input\",\"p.MKK4\")\n",
    "my_model.add_transfer_edge(\"p.MKK4\",\"p.JNK\") \n",
    "my_model.add_transfer_edge(\"p.JNK\", \"p.p53\")\n",
    "my_model.add_transfer_edge(\"p.p53\", \"p.RB\")"
   ]
  },
  {
   "cell_type": "code",
   "execution_count": 77,
   "id": "66f81b9e",
   "metadata": {},
   "outputs": [
    {
     "data": {
      "text/plain": [
       "['p.MKK4']"
      ]
     },
     "execution_count": 77,
     "metadata": {},
     "output_type": "execute_result"
    }
   ],
   "source": [
    "my_model.root_nodes"
   ]
  },
  {
   "cell_type": "code",
   "execution_count": 78,
   "id": "2c4c2f4a",
   "metadata": {},
   "outputs": [
    {
     "name": "stdout",
     "output_type": "stream",
     "text": [
      "The edge ('p.MKK4', 'p.JNK') has parameter n = Parameter containing:\n",
      "tensor([-0.0984], requires_grad=True) and K = Parameter containing:\n",
      "tensor([-0.6655], requires_grad=True)\n",
      "The edge ('p.JNK', 'p.p53') has parameter n = Parameter containing:\n",
      "tensor([-0.4832], requires_grad=True) and K = Parameter containing:\n",
      "tensor([-0.5287], requires_grad=True)\n",
      "The edge ('p.p53', 'p.RB') has parameter n = Parameter containing:\n",
      "tensor([0.3695], requires_grad=True) and K = Parameter containing:\n",
      "tensor([-0.9595], requires_grad=True)\n"
     ]
    }
   ],
   "source": [
    "for edge in my_model.transfer_edges:\n",
    "    # Each transfer edge has a layer\n",
    "    layer = my_model.edges()[edge][\"layer\"]\n",
    "    # Each layer has a n and an K parameter\n",
    "    print(f\"The edge {edge} has parameter n = {layer.n} and K = {layer.K}\")\n",
    "    # Those parameters are torch.nn.Parameters and thus have a grad_fn which corresponds to their gradient\n"
   ]
  },
  {
   "cell_type": "code",
   "execution_count": 79,
   "id": "51722455",
   "metadata": {},
   "outputs": [
    {
     "data": {
      "image/png": "[encoded data removed]",
      "text/plain": [
       "<Figure size 640x480 with 1 Axes>"
      ]
     },
     "metadata": {},
     "output_type": "display_data"
    }
   ],
   "source": [
    "nx.draw(my_model, with_labels=True)"
   ]
  },
  {
   "cell_type": "code",
   "execution_count": 80,
   "id": "9d180583",
   "metadata": {},
   "outputs": [
    {
     "data": {
      "text/html": [
       "<div>\n",
       "<style scoped>\n",
       "    .dataframe tbody tr th:only-of-type {\n",
       "        vertical-align: middle;\n",
       "    }\n",
       "\n",
       "    .dataframe tbody tr th {\n",
       "        vertical-align: top;\n",
       "    }\n",
       "\n",
       "    .dataframe thead th {\n",
       "        text-align: right;\n",
       "    }\n",
       "</style>\n",
       "<table border=\"1\" class=\"dataframe\">\n",
       "  <thead>\n",
       "    <tr style=\"text-align: right;\">\n",
       "      <th></th>\n",
       "      <th>p.p53</th>\n",
       "      <th>p.MKK4</th>\n",
       "      <th>p.JNK</th>\n",
       "      <th>p.RB</th>\n",
       "    </tr>\n",
       "  </thead>\n",
       "  <tbody>\n",
       "    <tr>\n",
       "      <th>0</th>\n",
       "      <td>0.194365</td>\n",
       "      <td>0.457823</td>\n",
       "      <td>0.426876</td>\n",
       "      <td>0.099567</td>\n",
       "    </tr>\n",
       "    <tr>\n",
       "      <th>1</th>\n",
       "      <td>0.000000</td>\n",
       "      <td>0.400166</td>\n",
       "      <td>0.288711</td>\n",
       "      <td>0.598982</td>\n",
       "    </tr>\n",
       "    <tr>\n",
       "      <th>2</th>\n",
       "      <td>0.224935</td>\n",
       "      <td>0.577745</td>\n",
       "      <td>0.492829</td>\n",
       "      <td>0.303606</td>\n",
       "    </tr>\n",
       "    <tr>\n",
       "      <th>3</th>\n",
       "      <td>0.211484</td>\n",
       "      <td>0.545781</td>\n",
       "      <td>0.355599</td>\n",
       "      <td>0.000000</td>\n",
       "    </tr>\n",
       "    <tr>\n",
       "      <th>4</th>\n",
       "      <td>0.238072</td>\n",
       "      <td>0.779333</td>\n",
       "      <td>0.650283</td>\n",
       "      <td>0.828589</td>\n",
       "    </tr>\n",
       "    <tr>\n",
       "      <th>...</th>\n",
       "      <td>...</td>\n",
       "      <td>...</td>\n",
       "      <td>...</td>\n",
       "      <td>...</td>\n",
       "    </tr>\n",
       "    <tr>\n",
       "      <th>16375</th>\n",
       "      <td>0.203940</td>\n",
       "      <td>0.366302</td>\n",
       "      <td>0.225716</td>\n",
       "      <td>0.080011</td>\n",
       "    </tr>\n",
       "    <tr>\n",
       "      <th>16376</th>\n",
       "      <td>0.181002</td>\n",
       "      <td>0.557901</td>\n",
       "      <td>0.333460</td>\n",
       "      <td>0.161690</td>\n",
       "    </tr>\n",
       "    <tr>\n",
       "      <th>16377</th>\n",
       "      <td>0.021770</td>\n",
       "      <td>0.480255</td>\n",
       "      <td>0.000000</td>\n",
       "      <td>0.308577</td>\n",
       "    </tr>\n",
       "    <tr>\n",
       "      <th>16378</th>\n",
       "      <td>0.166905</td>\n",
       "      <td>0.465469</td>\n",
       "      <td>0.395624</td>\n",
       "      <td>0.155100</td>\n",
       "    </tr>\n",
       "    <tr>\n",
       "      <th>16379</th>\n",
       "      <td>0.205017</td>\n",
       "      <td>0.515404</td>\n",
       "      <td>0.456065</td>\n",
       "      <td>0.000000</td>\n",
       "    </tr>\n",
       "  </tbody>\n",
       "</table>\n",
       "<p>16380 rows × 4 columns</p>\n",
       "</div>"
      ],
      "text/plain": [
       "          p.p53    p.MKK4     p.JNK      p.RB\n",
       "0      0.194365  0.457823  0.426876  0.099567\n",
       "1      0.000000  0.400166  0.288711  0.598982\n",
       "2      0.224935  0.577745  0.492829  0.303606\n",
       "3      0.211484  0.545781  0.355599  0.000000\n",
       "4      0.238072  0.779333  0.650283  0.828589\n",
       "...         ...       ...       ...       ...\n",
       "16375  0.203940  0.366302  0.225716  0.080011\n",
       "16376  0.181002  0.557901  0.333460  0.161690\n",
       "16377  0.021770  0.480255  0.000000  0.308577\n",
       "16378  0.166905  0.465469  0.395624  0.155100\n",
       "16379  0.205017  0.515404  0.456065  0.000000\n",
       "\n",
       "[16380 rows x 4 columns]"
      ]
     },
     "execution_count": 80,
     "metadata": {},
     "output_type": "execute_result"
    }
   ],
   "source": [
    "sel_data = cl_data.loc[(cl_data[\"treatment\"]==\"EGF\"),:][[\"p.p53\", \"p.MKK4\", \"p.JNK\", \"p.RB\"]]\n",
    "# sel_data.loc[sel_data[\"p.MKK4\"] == 0, \"p.MKK4\"] = 1e-9\n",
    "sel_data.reset_index(drop=True, inplace=True)\n",
    "sel_data"
   ]
  },
  {
   "cell_type": "code",
   "execution_count": 81,
   "id": "7f287b9e",
   "metadata": {},
   "outputs": [
    {
     "name": "stdout",
     "output_type": "stream",
     "text": [
      "(12285, 4)\n",
      "(4095, 4)\n"
     ]
    }
   ],
   "source": [
    "train, test = train_test_split(sel_data)\n",
    "print(train.shape)\n",
    "print(test.shape)\n",
    "train = train.to_dict(\"list\")\n",
    "test = test.to_dict(\"list\")\n",
    "\n",
    "train = {k: torch.DoubleTensor(v) for k, v in train.items()}\n",
    "test = {k: torch.DoubleTensor(v) for k, v in test.items()}\n",
    "\n",
    "input_train = {\"p.MKK4\" : train[\"p.MKK4\"]}\n",
    "input_test = {\"p.MKK4\": test[\"p.MKK4\"]}\n"
   ]
  },
  {
   "cell_type": "code",
   "execution_count": 82,
   "id": "e1a46c90",
   "metadata": {},
   "outputs": [
    {
     "name": "stdout",
     "output_type": "stream",
     "text": [
      "torch.Size([12285])\n"
     ]
    },
    {
     "data": {
      "text/plain": [
       "{'p.MKK4': tensor([0.6764, 0.5850, 0.5646,  ..., 0.5373, 0.5191, 0.3282])}"
      ]
     },
     "execution_count": 82,
     "metadata": {},
     "output_type": "execute_result"
    }
   ],
   "source": [
    "print(input_train[\"p.MKK4\"].shape)\n",
    "input_train"
   ]
  },
  {
   "cell_type": "code",
   "execution_count": 83,
   "id": "848ccabb",
   "metadata": {},
   "outputs": [
    {
     "name": "stdout",
     "output_type": "stream",
     "text": [
      "torch.Size([12285])\n"
     ]
    },
    {
     "data": {
      "text/plain": [
       "{'p.p53': tensor([0.2631, 0.2594, 0.2519,  ..., 0.1252, 0.1969, 0.1282]),\n",
       " 'p.MKK4': tensor([0.6764, 0.5850, 0.5646,  ..., 0.5373, 0.5191, 0.3282]),\n",
       " 'p.JNK': tensor([0.6451, 0.5121, 0.2193,  ..., 0.0000, 0.1349, 0.3397]),\n",
       " 'p.RB': tensor([0.1973, 0.1920, 0.7976,  ..., 0.5299, 0.0000, 0.0000])}"
      ]
     },
     "execution_count": 83,
     "metadata": {},
     "output_type": "execute_result"
    }
   ],
   "source": [
    "print(train[\"p.MKK4\"].shape)\n",
    "train"
   ]
  },
  {
   "cell_type": "code",
   "execution_count": 84,
   "id": "112c18d4",
   "metadata": {},
   "outputs": [],
   "source": [
    "# Now we just need to specify some optimisation parameters\n",
    "\n",
    "learning_rate = 5e-3\n",
    "epochs = 20 # That seems like a lot, but 1 epoch is basically one simulation of the network on all datapoints, so we need a lot of them\n",
    "batch_size = 10"
   ]
  },
  {
   "cell_type": "code",
   "execution_count": 85,
   "id": "3f302326",
   "metadata": {},
   "outputs": [
    {
     "name": "stderr",
     "output_type": "stream",
     "text": [
      "  0%|                                                                      | 0/20 [00:00<?, ?it/s]/Users/adr/miniconda3/envs/biofuzznet/lib/python3.10/site-packages/torch/autograd/__init__.py:197: UserWarning: Error detected in PowBackward1. Traceback of forward call that caused the error:\n",
      "  File \"/Users/adr/miniconda3/envs/biofuzznet/lib/python3.10/runpy.py\", line 196, in _run_module_as_main\n",
      "    return _run_code(code, main_globals, None,\n",
      "  File \"/Users/adr/miniconda3/envs/biofuzznet/lib/python3.10/runpy.py\", line 86, in _run_code\n",
      "    exec(code, run_globals)\n",
      "  File \"/Users/adr/miniconda3/envs/biofuzznet/lib/python3.10/site-packages/ipykernel_launcher.py\", line 17, in <module>\n",
      "    app.launch_new_instance()\n",
      "  File \"/Users/adr/miniconda3/envs/biofuzznet/lib/python3.10/site-packages/traitlets/config/application.py\", line 1043, in launch_instance\n",
      "    app.start()\n",
      "  File \"/Users/adr/miniconda3/envs/biofuzznet/lib/python3.10/site-packages/ipykernel/kernelapp.py\", line 725, in start\n",
      "    self.io_loop.start()\n",
      "  File \"/Users/adr/miniconda3/envs/biofuzznet/lib/python3.10/site-packages/tornado/platform/asyncio.py\", line 215, in start\n",
      "    self.asyncio_loop.run_forever()\n",
      "  File \"/Users/adr/miniconda3/envs/biofuzznet/lib/python3.10/asyncio/base_events.py\", line 603, in run_forever\n",
      "    self._run_once()\n",
      "  File \"/Users/adr/miniconda3/envs/biofuzznet/lib/python3.10/asyncio/base_events.py\", line 1906, in _run_once\n",
      "    handle._run()\n",
      "  File \"/Users/adr/miniconda3/envs/biofuzznet/lib/python3.10/asyncio/events.py\", line 80, in _run\n",
      "    self._context.run(self._callback, *self._args)\n",
      "  File \"/Users/adr/miniconda3/envs/biofuzznet/lib/python3.10/site-packages/ipykernel/kernelbase.py\", line 513, in dispatch_queue\n",
      "    await self.process_one()\n",
      "  File \"/Users/adr/miniconda3/envs/biofuzznet/lib/python3.10/site-packages/ipykernel/kernelbase.py\", line 502, in process_one\n",
      "    await dispatch(*args)\n",
      "  File \"/Users/adr/miniconda3/envs/biofuzznet/lib/python3.10/site-packages/ipykernel/kernelbase.py\", line 409, in dispatch_shell\n",
      "    await result\n",
      "  File \"/Users/adr/miniconda3/envs/biofuzznet/lib/python3.10/site-packages/ipykernel/kernelbase.py\", line 729, in execute_request\n",
      "    reply_content = await reply_content\n",
      "  File \"/Users/adr/miniconda3/envs/biofuzznet/lib/python3.10/site-packages/ipykernel/ipkernel.py\", line 422, in do_execute\n",
      "    res = shell.run_cell(\n",
      "  File \"/Users/adr/miniconda3/envs/biofuzznet/lib/python3.10/site-packages/ipykernel/zmqshell.py\", line 540, in run_cell\n",
      "    return super().run_cell(*args, **kwargs)\n",
      "  File \"/Users/adr/miniconda3/envs/biofuzznet/lib/python3.10/site-packages/IPython/core/interactiveshell.py\", line 2961, in run_cell\n",
      "    result = self._run_cell(\n",
      "  File \"/Users/adr/miniconda3/envs/biofuzznet/lib/python3.10/site-packages/IPython/core/interactiveshell.py\", line 3016, in _run_cell\n",
      "    result = runner(coro)\n",
      "  File \"/Users/adr/miniconda3/envs/biofuzznet/lib/python3.10/site-packages/IPython/core/async_helpers.py\", line 129, in _pseudo_sync_runner\n",
      "    coro.send(None)\n",
      "  File \"/Users/adr/miniconda3/envs/biofuzznet/lib/python3.10/site-packages/IPython/core/interactiveshell.py\", line 3221, in run_cell_async\n",
      "    has_raised = await self.run_ast_nodes(code_ast.body, cell_name,\n",
      "  File \"/Users/adr/miniconda3/envs/biofuzznet/lib/python3.10/site-packages/IPython/core/interactiveshell.py\", line 3400, in run_ast_nodes\n",
      "    if await self.run_code(code, result, async_=asy):\n",
      "  File \"/Users/adr/miniconda3/envs/biofuzznet/lib/python3.10/site-packages/IPython/core/interactiveshell.py\", line 3460, in run_code\n",
      "    exec(code_obj, self.user_global_ns, self.user_ns)\n",
      "  File \"/var/folders/54/s3nhktxs0tz7w0f6tsj6pltc0000kp/T/ipykernel_55560/1366977666.py\", line 1, in <module>\n",
      "    loss = my_model.conduct_optimisation(input = input_train,\n",
      "  File \"/Users/adr/Projects/biofuzznet/biofuzznet/biofuzznet.py\", line 758, in conduct_optimisation\n",
      "    self.sequential_update(input_nodes)\n",
      "  File \"/Users/adr/Projects/biofuzznet/biofuzznet/biofuzznet.py\", line 630, in sequential_update\n",
      "    self.update_fuzzy_node(curr_node)\n",
      "  File \"/Users/adr/Projects/biofuzznet/biofuzznet/biofuzznet.py\", line 506, in update_fuzzy_node\n",
      "    self.nodes()[node][\"output_state\"] = self.update_biological_node(node)\n",
      "  File \"/Users/adr/Projects/biofuzznet/biofuzznet/biofuzznet.py\", line 494, in update_biological_node\n",
      "    return self.propagate_along_edge((parent_node[0], node))\n",
      "  File \"/Users/adr/Projects/biofuzznet/biofuzznet/biofuzznet.py\", line 386, in propagate_along_edge\n",
      "    state_to_propagate = self.edges()[edge][\"layer\"].forward(\n",
      "  File \"/Users/adr/Projects/biofuzznet/biofuzznet/Hill_function.py\", line 37, in forward\n",
      "    torch.exp(self.K) ** torch.exp(self.n) + x ** torch.exp(self.n)\n",
      "  File \"/Users/adr/miniconda3/envs/biofuzznet/lib/python3.10/site-packages/torch/_tensor.py\", line 39, in wrapped\n",
      "    return f(*args, **kwargs)\n",
      "  File \"/Users/adr/miniconda3/envs/biofuzznet/lib/python3.10/site-packages/torch/fx/traceback.py\", line 57, in format_stack\n",
      "    return traceback.format_stack()\n",
      " (Triggered internally at /Users/runner/work/pytorch/pytorch/pytorch/torch/csrc/autograd/python_anomaly_mode.cpp:119.)\n",
      "  Variable._execution_engine.run_backward(  # Calls into the C++ engine to run the backward pass\n",
      "  0%|                                                                      | 0/20 [00:00<?, ?it/s]\n"
     ]
    },
    {
     "ename": "RuntimeError",
     "evalue": "Function 'PowBackward1' returned nan values in its 0th output.",
     "output_type": "error",
     "traceback": [
      "\u001b[0;31m---------------------------------------------------------------------------\u001b[0m",
      "\u001b[0;31mRuntimeError\u001b[0m                              Traceback (most recent call last)",
      "Cell \u001b[0;32mIn[85], line 1\u001b[0m\n\u001b[0;32m----> 1\u001b[0m loss \u001b[38;5;241m=\u001b[39m \u001b[43mmy_model\u001b[49m\u001b[38;5;241;43m.\u001b[39;49m\u001b[43mconduct_optimisation\u001b[49m\u001b[43m(\u001b[49m\u001b[38;5;28;43minput\u001b[39;49m\u001b[43m \u001b[49m\u001b[38;5;241;43m=\u001b[39;49m\u001b[43m \u001b[49m\u001b[43minput_train\u001b[49m\u001b[43m,\u001b[49m\n\u001b[1;32m      2\u001b[0m \u001b[43m                                     \u001b[49m\u001b[43mtest_input\u001b[49m\u001b[43m \u001b[49m\u001b[38;5;241;43m=\u001b[39;49m\u001b[43m \u001b[49m\u001b[43minput_test\u001b[49m\u001b[43m,\u001b[49m\n\u001b[1;32m      3\u001b[0m \u001b[43m                                     \u001b[49m\u001b[43mground_truth\u001b[49m\u001b[38;5;241;43m=\u001b[39;49m\u001b[43mtrain\u001b[49m\u001b[43m,\u001b[49m\n\u001b[1;32m      4\u001b[0m \u001b[43m                                     \u001b[49m\u001b[43mepochs\u001b[49m\u001b[43m \u001b[49m\u001b[38;5;241;43m=\u001b[39;49m\u001b[43m \u001b[49m\u001b[43mepochs\u001b[49m\u001b[43m,\u001b[49m\u001b[43m \u001b[49m\n\u001b[1;32m      5\u001b[0m \u001b[43m                                     \u001b[49m\u001b[43mtest_ground_truth\u001b[49m\u001b[38;5;241;43m=\u001b[39;49m\u001b[43mtest\u001b[49m\u001b[43m,\u001b[49m\n\u001b[1;32m      6\u001b[0m \u001b[43m                                     \u001b[49m\u001b[43mlearning_rate\u001b[49m\u001b[38;5;241;43m=\u001b[39;49m\u001b[43m \u001b[49m\u001b[43mlearning_rate\u001b[49m\u001b[43m,\u001b[49m\n\u001b[1;32m      7\u001b[0m \u001b[43m                                     \u001b[49m\u001b[43mbatch_size\u001b[49m\u001b[38;5;241;43m=\u001b[39;49m\u001b[43m \u001b[49m\u001b[43mbatch_size\u001b[49m\n\u001b[1;32m      8\u001b[0m \u001b[43m                                         \u001b[49m\u001b[43m)\u001b[49m\n",
      "File \u001b[0;32m~/Projects/biofuzznet/biofuzznet/biofuzznet.py:767\u001b[0m, in \u001b[0;36mBioFuzzNet.conduct_optimisation\u001b[0;34m(self, input, ground_truth, test_input, test_ground_truth, epochs, batch_size, learning_rate, optim_wrapper)\u001b[0m\n\u001b[1;32m    765\u001b[0m \u001b[38;5;66;03m# First reset then compute the gradients\u001b[39;00m\n\u001b[1;32m    766\u001b[0m optim\u001b[38;5;241m.\u001b[39mzero_grad()\n\u001b[0;32m--> 767\u001b[0m \u001b[43mloss\u001b[49m\u001b[38;5;241;43m.\u001b[39;49m\u001b[43mbackward\u001b[49m\u001b[43m(\u001b[49m\u001b[43mretain_graph\u001b[49m\u001b[38;5;241;43m=\u001b[39;49m\u001b[38;5;28;43;01mTrue\u001b[39;49;00m\u001b[43m)\u001b[49m\n\u001b[1;32m    769\u001b[0m torch\u001b[38;5;241m.\u001b[39mnn\u001b[38;5;241m.\u001b[39mutils\u001b[38;5;241m.\u001b[39mclip_grad_value_(parameters, clip_value\u001b[38;5;241m=\u001b[39m\u001b[38;5;241m5\u001b[39m)\n\u001b[1;32m    770\u001b[0m \u001b[38;5;66;03m# Update the parameters\u001b[39;00m\n",
      "File \u001b[0;32m~/miniconda3/envs/biofuzznet/lib/python3.10/site-packages/torch/_tensor.py:488\u001b[0m, in \u001b[0;36mTensor.backward\u001b[0;34m(self, gradient, retain_graph, create_graph, inputs)\u001b[0m\n\u001b[1;32m    478\u001b[0m \u001b[38;5;28;01mif\u001b[39;00m has_torch_function_unary(\u001b[38;5;28mself\u001b[39m):\n\u001b[1;32m    479\u001b[0m     \u001b[38;5;28;01mreturn\u001b[39;00m handle_torch_function(\n\u001b[1;32m    480\u001b[0m         Tensor\u001b[38;5;241m.\u001b[39mbackward,\n\u001b[1;32m    481\u001b[0m         (\u001b[38;5;28mself\u001b[39m,),\n\u001b[0;32m   (...)\u001b[0m\n\u001b[1;32m    486\u001b[0m         inputs\u001b[38;5;241m=\u001b[39minputs,\n\u001b[1;32m    487\u001b[0m     )\n\u001b[0;32m--> 488\u001b[0m \u001b[43mtorch\u001b[49m\u001b[38;5;241;43m.\u001b[39;49m\u001b[43mautograd\u001b[49m\u001b[38;5;241;43m.\u001b[39;49m\u001b[43mbackward\u001b[49m\u001b[43m(\u001b[49m\n\u001b[1;32m    489\u001b[0m \u001b[43m    \u001b[49m\u001b[38;5;28;43mself\u001b[39;49m\u001b[43m,\u001b[49m\u001b[43m \u001b[49m\u001b[43mgradient\u001b[49m\u001b[43m,\u001b[49m\u001b[43m \u001b[49m\u001b[43mretain_graph\u001b[49m\u001b[43m,\u001b[49m\u001b[43m \u001b[49m\u001b[43mcreate_graph\u001b[49m\u001b[43m,\u001b[49m\u001b[43m \u001b[49m\u001b[43minputs\u001b[49m\u001b[38;5;241;43m=\u001b[39;49m\u001b[43minputs\u001b[49m\n\u001b[1;32m    490\u001b[0m \u001b[43m\u001b[49m\u001b[43m)\u001b[49m\n",
      "File \u001b[0;32m~/miniconda3/envs/biofuzznet/lib/python3.10/site-packages/torch/autograd/__init__.py:197\u001b[0m, in \u001b[0;36mbackward\u001b[0;34m(tensors, grad_tensors, retain_graph, create_graph, grad_variables, inputs)\u001b[0m\n\u001b[1;32m    192\u001b[0m     retain_graph \u001b[38;5;241m=\u001b[39m create_graph\n\u001b[1;32m    194\u001b[0m \u001b[38;5;66;03m# The reason we repeat same the comment below is that\u001b[39;00m\n\u001b[1;32m    195\u001b[0m \u001b[38;5;66;03m# some Python versions print out the first line of a multi-line function\u001b[39;00m\n\u001b[1;32m    196\u001b[0m \u001b[38;5;66;03m# calls in the traceback and some print out the last line\u001b[39;00m\n\u001b[0;32m--> 197\u001b[0m \u001b[43mVariable\u001b[49m\u001b[38;5;241;43m.\u001b[39;49m\u001b[43m_execution_engine\u001b[49m\u001b[38;5;241;43m.\u001b[39;49m\u001b[43mrun_backward\u001b[49m\u001b[43m(\u001b[49m\u001b[43m  \u001b[49m\u001b[38;5;66;43;03m# Calls into the C++ engine to run the backward pass\u001b[39;49;00m\n\u001b[1;32m    198\u001b[0m \u001b[43m    \u001b[49m\u001b[43mtensors\u001b[49m\u001b[43m,\u001b[49m\u001b[43m \u001b[49m\u001b[43mgrad_tensors_\u001b[49m\u001b[43m,\u001b[49m\u001b[43m \u001b[49m\u001b[43mretain_graph\u001b[49m\u001b[43m,\u001b[49m\u001b[43m \u001b[49m\u001b[43mcreate_graph\u001b[49m\u001b[43m,\u001b[49m\u001b[43m \u001b[49m\u001b[43minputs\u001b[49m\u001b[43m,\u001b[49m\n\u001b[1;32m    199\u001b[0m \u001b[43m    \u001b[49m\u001b[43mallow_unreachable\u001b[49m\u001b[38;5;241;43m=\u001b[39;49m\u001b[38;5;28;43;01mTrue\u001b[39;49;00m\u001b[43m,\u001b[49m\u001b[43m \u001b[49m\u001b[43maccumulate_grad\u001b[49m\u001b[38;5;241;43m=\u001b[39;49m\u001b[38;5;28;43;01mTrue\u001b[39;49;00m\u001b[43m)\u001b[49m\n",
      "\u001b[0;31mRuntimeError\u001b[0m: Function 'PowBackward1' returned nan values in its 0th output."
     ]
    }
   ],
   "source": [
    "loss = my_model.conduct_optimisation(input = input_train,\n",
    "                                     test_input = input_test,\n",
    "                                     ground_truth=train,\n",
    "                                     epochs = epochs, \n",
    "                                     test_ground_truth=test,\n",
    "                                     learning_rate= learning_rate,\n",
    "                                     batch_size= batch_size\n",
    "                                         )"
   ]
  },
  {
   "cell_type": "code",
   "execution_count": 18,
   "id": "2a3db361",
   "metadata": {},
   "outputs": [
    {
     "name": "stdout",
     "output_type": "stream",
     "text": [
      "The edge ('p.MKK4', 'p.JNK') has parameter n = tensor([0.8088], grad_fn=<ExpBackward0>) and K = tensor([0.5170], grad_fn=<SigmoidBackward0>)\n",
      "The edge ('p.JNK', 'p.p53') has parameter n = tensor([2.3907], grad_fn=<ExpBackward0>) and K = tensor([0.3857], grad_fn=<SigmoidBackward0>)\n",
      "The edge ('p.p53', 'p.RB') has parameter n = tensor([0.5840], grad_fn=<ExpBackward0>) and K = tensor([0.4429], grad_fn=<SigmoidBackward0>)\n"
     ]
    }
   ],
   "source": [
    "for edge in my_model.transfer_edges:\n",
    "    # Each transfer edge has a layer\n",
    "    layer = my_model.edges()[edge][\"layer\"]\n",
    "    # Each layer has a n and an K parameter\n",
    "    print(f\"The edge {edge} has parameter n = {torch.exp(layer.n)} and K = {torch.sigmoid(layer.K)}\")\n",
    "    # Those parameters are torch.nn.Parameters and thus have a grad_fn which corresponds to their gradient\n"
   ]
  },
  {
   "cell_type": "code",
   "execution_count": 19,
   "id": "856bf393",
   "metadata": {},
   "outputs": [
    {
     "data": {
      "text/html": [
       "<div>\n",
       "<style scoped>\n",
       "    .dataframe tbody tr th:only-of-type {\n",
       "        vertical-align: middle;\n",
       "    }\n",
       "\n",
       "    .dataframe tbody tr th {\n",
       "        vertical-align: top;\n",
       "    }\n",
       "\n",
       "    .dataframe thead th {\n",
       "        text-align: right;\n",
       "    }\n",
       "</style>\n",
       "<table border=\"1\" class=\"dataframe\">\n",
       "  <thead>\n",
       "    <tr style=\"text-align: right;\">\n",
       "      <th></th>\n",
       "      <th>time</th>\n",
       "      <th>loss</th>\n",
       "      <th>phase</th>\n",
       "    </tr>\n",
       "  </thead>\n",
       "  <tbody>\n",
       "    <tr>\n",
       "      <th>0</th>\n",
       "      <td>2023-03-20 17:10:55.416161</td>\n",
       "      <td>0.037098</td>\n",
       "      <td>train</td>\n",
       "    </tr>\n",
       "    <tr>\n",
       "      <th>1</th>\n",
       "      <td>2023-03-20 17:10:55.434374</td>\n",
       "      <td>0.037091</td>\n",
       "      <td>train</td>\n",
       "    </tr>\n",
       "    <tr>\n",
       "      <th>2</th>\n",
       "      <td>2023-03-20 17:10:55.448574</td>\n",
       "      <td>0.038375</td>\n",
       "      <td>train</td>\n",
       "    </tr>\n",
       "    <tr>\n",
       "      <th>3</th>\n",
       "      <td>2023-03-20 17:10:55.463069</td>\n",
       "      <td>0.034967</td>\n",
       "      <td>train</td>\n",
       "    </tr>\n",
       "    <tr>\n",
       "      <th>4</th>\n",
       "      <td>2023-03-20 17:10:55.478464</td>\n",
       "      <td>0.034421</td>\n",
       "      <td>train</td>\n",
       "    </tr>\n",
       "    <tr>\n",
       "      <th>...</th>\n",
       "      <td>...</td>\n",
       "      <td>...</td>\n",
       "      <td>...</td>\n",
       "    </tr>\n",
       "    <tr>\n",
       "      <th>835</th>\n",
       "      <td>2023-03-20 17:11:06.288596</td>\n",
       "      <td>0.023919</td>\n",
       "      <td>train</td>\n",
       "    </tr>\n",
       "    <tr>\n",
       "      <th>836</th>\n",
       "      <td>2023-03-20 17:11:06.300707</td>\n",
       "      <td>0.022055</td>\n",
       "      <td>train</td>\n",
       "    </tr>\n",
       "    <tr>\n",
       "      <th>837</th>\n",
       "      <td>2023-03-20 17:11:06.312642</td>\n",
       "      <td>0.022757</td>\n",
       "      <td>train</td>\n",
       "    </tr>\n",
       "    <tr>\n",
       "      <th>838</th>\n",
       "      <td>2023-03-20 17:11:06.324521</td>\n",
       "      <td>0.023099</td>\n",
       "      <td>train</td>\n",
       "    </tr>\n",
       "    <tr>\n",
       "      <th>839</th>\n",
       "      <td>2023-03-20 17:11:06.326272</td>\n",
       "      <td>0.023884</td>\n",
       "      <td>test</td>\n",
       "    </tr>\n",
       "  </tbody>\n",
       "</table>\n",
       "<p>840 rows × 3 columns</p>\n",
       "</div>"
      ],
      "text/plain": [
       "                          time      loss  phase\n",
       "0   2023-03-20 17:10:55.416161  0.037098  train\n",
       "1   2023-03-20 17:10:55.434374  0.037091  train\n",
       "2   2023-03-20 17:10:55.448574  0.038375  train\n",
       "3   2023-03-20 17:10:55.463069  0.034967  train\n",
       "4   2023-03-20 17:10:55.478464  0.034421  train\n",
       "..                         ...       ...    ...\n",
       "835 2023-03-20 17:11:06.288596  0.023919  train\n",
       "836 2023-03-20 17:11:06.300707  0.022055  train\n",
       "837 2023-03-20 17:11:06.312642  0.022757  train\n",
       "838 2023-03-20 17:11:06.324521  0.023099  train\n",
       "839 2023-03-20 17:11:06.326272  0.023884   test\n",
       "\n",
       "[840 rows x 3 columns]"
      ]
     },
     "execution_count": 19,
     "metadata": {},
     "output_type": "execute_result"
    }
   ],
   "source": [
    "loss"
   ]
  },
  {
   "cell_type": "code",
   "execution_count": 20,
   "id": "d4baaef5",
   "metadata": {},
   "outputs": [
    {
     "data": {
      "text/plain": [
       "<AxesSubplot: xlabel='time', ylabel='loss'>"
      ]
     },
     "execution_count": 20,
     "metadata": {},
     "output_type": "execute_result"
    },
    {
     "data": {
      "image/png": "[encoded data removed]",
      "text/plain": [
       "<Figure size 640x480 with 1 Axes>"
      ]
     },
     "metadata": {},
     "output_type": "display_data"
    }
   ],
   "source": [
    "sns.lineplot(data=loss, x='time', y='loss', hue='phase')"
   ]
  },
  {
   "cell_type": "markdown",
   "id": "4ccbf640",
   "metadata": {},
   "source": [
    "# Leave a treatment out"
   ]
  },
  {
   "cell_type": "code",
   "execution_count": 21,
   "id": "50de3d8d",
   "metadata": {},
   "outputs": [
    {
     "name": "stdout",
     "output_type": "stream",
     "text": [
      "(44516, 4)\n",
      "(13435, 4)\n"
     ]
    }
   ],
   "source": [
    "all_treatments = ['EGF', 'full', 'iEGFR', 'iMEK', 'iPI3K', 'iPKC']\n",
    "test_treatments = ['iEGFR']\n",
    "train_treatments = [treatment for treatment in all_treatments if not treatment in test_treatments]\n",
    "\n",
    "cl_data.loc[cl_data[\"p.MKK4\"]==0, \"p.MKK4\"] = 1e-9\n",
    "train = cl_data.loc[(cl_data[\"treatment\"].isin(train_treatments)), [\"p.p53\", \"p.MKK4\", \"p.JNK\", \"p.RB\"]]\n",
    "test = cl_data.loc[(cl_data[\"treatment\"].isin(test_treatments)), [\"p.p53\", \"p.MKK4\", \"p.JNK\", \"p.RB\"]]\n",
    "n_test = len(test)\n",
    "\n",
    "print(train.shape)\n",
    "print(test.shape)\n",
    "train = train.to_dict(\"list\")\n",
    "test = test.to_dict(\"list\")\n",
    "\n",
    "train = {k: torch.DoubleTensor(v) for k, v in train.items()}\n",
    "test = {k: torch.DoubleTensor(v) for k, v in test.items()}\n",
    "\n",
    "input_train = {\"p.MKK4\" : train[\"p.MKK4\"]}\n",
    "input_test = {\"p.MKK4\": test[\"p.MKK4\"]}"
   ]
  },
  {
   "cell_type": "code",
   "execution_count": 22,
   "id": "32471b6e",
   "metadata": {},
   "outputs": [],
   "source": [
    "# Create an empty BioFuzzNet\n",
    "my_model = BioFuzzNet(None, None)\n",
    "\n",
    "# Add nodes\n",
    "# my_model.add_fuzzy_node(\"input\", \"BIO\")\n",
    "my_model.add_fuzzy_node(\"p.MKK4\", \"BIO\") # A biological node\n",
    "my_model.add_fuzzy_node(\"p.JNK\", 'BIO')\n",
    "my_model.add_fuzzy_node(\"p.p53\", \"BIO\")\n",
    "my_model.add_fuzzy_node(\"p.RB\", \"BIO\")\n",
    "# Add edges\n",
    "# my_model.add_transfer_edge(\"input\",\"p.MKK4\")\n",
    "my_model.add_transfer_edge(\"p.MKK4\",\"p.JNK\") \n",
    "my_model.add_transfer_edge(\"p.JNK\", \"p.p53\")\n",
    "my_model.add_transfer_edge(\"p.p53\", \"p.RB\")"
   ]
  },
  {
   "cell_type": "code",
   "execution_count": 23,
   "id": "81653212",
   "metadata": {},
   "outputs": [],
   "source": [
    "# Now we just need to specify some optimisation parameters\n",
    "\n",
    "learning_rate = 5e-3\n",
    "epochs = 20 # That seems like a lot, but 1 epoch is basically one simulation of the network on all datapoints, so we need a lot of them\n",
    "batch_size = 300 "
   ]
  },
  {
   "cell_type": "code",
   "execution_count": 24,
   "id": "308941c9",
   "metadata": {},
   "outputs": [
    {
     "name": "stderr",
     "output_type": "stream",
     "text": [
      "100%|█████████████████████████████████████████████████████████████| 20/20 [00:46<00:00,  2.31s/it]\n"
     ]
    }
   ],
   "source": [
    "loss = my_model.conduct_optimisation(input = input_train,\n",
    "                                     test_input = input_test,\n",
    "                                     ground_truth=train,\n",
    "                                     epochs = epochs, \n",
    "                                     test_ground_truth=test,\n",
    "                                     learning_rate= learning_rate,\n",
    "                                     batch_size= batch_size\n",
    "                                         )"
   ]
  },
  {
   "cell_type": "code",
   "execution_count": 25,
   "id": "a775ae54",
   "metadata": {},
   "outputs": [
    {
     "name": "stdout",
     "output_type": "stream",
     "text": [
      "0.13344066054175854\n"
     ]
    }
   ],
   "source": [
    "# Create an empty BioFuzzNet\n",
    "random_model = BioFuzzNet(None, None)\n",
    "\n",
    "# Add nodes\n",
    "# my_model.add_fuzzy_node(\"input\", \"BIO\")\n",
    "random_model.add_fuzzy_node(\"p.MKK4\", \"BIO\") # A biological node\n",
    "random_model.add_fuzzy_node(\"p.JNK\", 'BIO')\n",
    "random_model.add_fuzzy_node(\"p.p53\", \"BIO\")\n",
    "random_model.add_fuzzy_node(\"p.RB\", \"BIO\")\n",
    "# Add edges\n",
    "# my_model.add_transfer_edge(\"input\",\"p.MKK4\")\n",
    "random_model.add_transfer_edge(\"p.MKK4\",\"p.JNK\") \n",
    "random_model.add_transfer_edge(\"p.JNK\", \"p.p53\")\n",
    "random_model.add_transfer_edge(\"p.p53\", \"p.RB\")\n",
    "\n",
    "random_model.initialise_random_truth_and_output(n_test)\n",
    "\n",
    "random_pred = random_model.output_states\n",
    "random_pred[\"p.MKK4\"] = test[\"p.MKK4\"]\n",
    "\n",
    "loss_func = torch.nn.MSELoss()\n",
    "MSE = sum([loss_func(test[node], random_pred[node]).item() for node in my_model.nodes]) / len(my_model.nodes)\n",
    "print(MSE)"
   ]
  },
  {
   "cell_type": "code",
   "execution_count": 26,
   "id": "c945316a",
   "metadata": {},
   "outputs": [
    {
     "data": {
      "text/plain": [
       "<matplotlib.lines.Line2D at 0x7f92f8bde7a0>"
      ]
     },
     "execution_count": 26,
     "metadata": {},
     "output_type": "execute_result"
    },
    {
     "data": {
      "image/png": "[encoded data removed]",
      "text/plain": [
       "<Figure size 640x480 with 1 Axes>"
      ]
     },
     "metadata": {},
     "output_type": "display_data"
    }
   ],
   "source": [
    "sns.lineplot(data=loss, x='time', y='loss', hue='phase')\n",
    "plt.axhline(y=MSE, color=\"red\", linestyle = \"--\")"
   ]
  },
  {
   "cell_type": "code",
   "execution_count": null,
   "id": "8032e0c7",
   "metadata": {},
   "outputs": [],
   "source": []
  },
  {
   "cell_type": "code",
   "execution_count": 27,
   "id": "2c4a1d70",
   "metadata": {},
   "outputs": [
    {
     "data": {
      "text/plain": [
       "torch.Size([13435])"
      ]
     },
     "execution_count": 27,
     "metadata": {},
     "output_type": "execute_result"
    }
   ],
   "source": [
    "random_model.output_states[\"p.MKK4\"].size()"
   ]
  },
  {
   "cell_type": "code",
   "execution_count": 28,
   "id": "59dfe3a7",
   "metadata": {},
   "outputs": [
    {
     "data": {
      "text/plain": [
       "NodeView(('p.MKK4', 'p.JNK', 'p.p53', 'p.RB'))"
      ]
     },
     "execution_count": 28,
     "metadata": {},
     "output_type": "execute_result"
    }
   ],
   "source": [
    "my_model.nodes"
   ]
  },
  {
   "cell_type": "markdown",
   "id": "924769b4",
   "metadata": {},
   "source": [
    "# Different linear cascade"
   ]
  },
  {
   "cell_type": "code",
   "execution_count": 29,
   "id": "64f5d3a9",
   "metadata": {},
   "outputs": [
    {
     "data": {
      "text/html": [
       "<div>\n",
       "<style scoped>\n",
       "    .dataframe tbody tr th:only-of-type {\n",
       "        vertical-align: middle;\n",
       "    }\n",
       "\n",
       "    .dataframe tbody tr th {\n",
       "        vertical-align: top;\n",
       "    }\n",
       "\n",
       "    .dataframe thead th {\n",
       "        text-align: right;\n",
       "    }\n",
       "</style>\n",
       "<table border=\"1\" class=\"dataframe\">\n",
       "  <thead>\n",
       "    <tr style=\"text-align: right;\">\n",
       "      <th></th>\n",
       "      <th>p.MEK</th>\n",
       "      <th>p.ERK</th>\n",
       "      <th>p.p90RSK</th>\n",
       "      <th>p.CREB</th>\n",
       "    </tr>\n",
       "  </thead>\n",
       "  <tbody>\n",
       "    <tr>\n",
       "      <th>0</th>\n",
       "      <td>0.367667</td>\n",
       "      <td>0.330656</td>\n",
       "      <td>0.572618</td>\n",
       "      <td>2.961296e-01</td>\n",
       "    </tr>\n",
       "    <tr>\n",
       "      <th>1</th>\n",
       "      <td>0.463700</td>\n",
       "      <td>0.241769</td>\n",
       "      <td>0.529345</td>\n",
       "      <td>1.611169e-07</td>\n",
       "    </tr>\n",
       "    <tr>\n",
       "      <th>2</th>\n",
       "      <td>0.394335</td>\n",
       "      <td>0.388390</td>\n",
       "      <td>0.513064</td>\n",
       "      <td>2.144081e-01</td>\n",
       "    </tr>\n",
       "    <tr>\n",
       "      <th>3</th>\n",
       "      <td>0.442553</td>\n",
       "      <td>0.407983</td>\n",
       "      <td>0.839117</td>\n",
       "      <td>2.696125e-01</td>\n",
       "    </tr>\n",
       "    <tr>\n",
       "      <th>4</th>\n",
       "      <td>0.491981</td>\n",
       "      <td>0.438286</td>\n",
       "      <td>0.831320</td>\n",
       "      <td>3.145570e-01</td>\n",
       "    </tr>\n",
       "    <tr>\n",
       "      <th>...</th>\n",
       "      <td>...</td>\n",
       "      <td>...</td>\n",
       "      <td>...</td>\n",
       "      <td>...</td>\n",
       "    </tr>\n",
       "    <tr>\n",
       "      <th>16375</th>\n",
       "      <td>0.383218</td>\n",
       "      <td>0.312925</td>\n",
       "      <td>0.404499</td>\n",
       "      <td>1.611169e-07</td>\n",
       "    </tr>\n",
       "    <tr>\n",
       "      <th>16376</th>\n",
       "      <td>0.380585</td>\n",
       "      <td>0.374604</td>\n",
       "      <td>0.634937</td>\n",
       "      <td>3.070390e-01</td>\n",
       "    </tr>\n",
       "    <tr>\n",
       "      <th>16377</th>\n",
       "      <td>0.229955</td>\n",
       "      <td>0.264660</td>\n",
       "      <td>0.385332</td>\n",
       "      <td>2.470109e-01</td>\n",
       "    </tr>\n",
       "    <tr>\n",
       "      <th>16378</th>\n",
       "      <td>0.390229</td>\n",
       "      <td>0.315155</td>\n",
       "      <td>0.505230</td>\n",
       "      <td>3.154158e-01</td>\n",
       "    </tr>\n",
       "    <tr>\n",
       "      <th>16379</th>\n",
       "      <td>0.412242</td>\n",
       "      <td>0.364442</td>\n",
       "      <td>0.658684</td>\n",
       "      <td>3.925755e-01</td>\n",
       "    </tr>\n",
       "  </tbody>\n",
       "</table>\n",
       "<p>16380 rows × 4 columns</p>\n",
       "</div>"
      ],
      "text/plain": [
       "          p.MEK     p.ERK  p.p90RSK        p.CREB\n",
       "0      0.367667  0.330656  0.572618  2.961296e-01\n",
       "1      0.463700  0.241769  0.529345  1.611169e-07\n",
       "2      0.394335  0.388390  0.513064  2.144081e-01\n",
       "3      0.442553  0.407983  0.839117  2.696125e-01\n",
       "4      0.491981  0.438286  0.831320  3.145570e-01\n",
       "...         ...       ...       ...           ...\n",
       "16375  0.383218  0.312925  0.404499  1.611169e-07\n",
       "16376  0.380585  0.374604  0.634937  3.070390e-01\n",
       "16377  0.229955  0.264660  0.385332  2.470109e-01\n",
       "16378  0.390229  0.315155  0.505230  3.154158e-01\n",
       "16379  0.412242  0.364442  0.658684  3.925755e-01\n",
       "\n",
       "[16380 rows x 4 columns]"
      ]
     },
     "execution_count": 29,
     "metadata": {},
     "output_type": "execute_result"
    }
   ],
   "source": [
    "sel_data = cl_data.loc[(cl_data[\"treatment\"]==\"EGF\"),:][['p.MEK', 'p.ERK', 'p.p90RSK', 'p.CREB']]\n",
    "sel_data.reset_index(drop=True, inplace=True)\n",
    "# sel_data[\"input\"] = 1.\n",
    "sel_data.loc[sel_data[\"p.MEK\"]==0, \"p.MEK\"] = 1e-9\n",
    "sel_data"
   ]
  },
  {
   "cell_type": "code",
   "execution_count": 30,
   "id": "dc06a14e",
   "metadata": {},
   "outputs": [
    {
     "data": {
      "text/plain": [
       "0"
      ]
     },
     "execution_count": 30,
     "metadata": {},
     "output_type": "execute_result"
    }
   ],
   "source": [
    "# Check for NaNs in the input data\n",
    "sel_data.isna().sum().sum()"
   ]
  },
  {
   "cell_type": "code",
   "execution_count": 31,
   "id": "1027a26a",
   "metadata": {},
   "outputs": [
    {
     "name": "stdout",
     "output_type": "stream",
     "text": [
      "(12285, 4)\n",
      "(4095, 4)\n"
     ]
    }
   ],
   "source": [
    "train, test = train_test_split(sel_data)\n",
    "print(train.shape)\n",
    "print(test.shape)\n",
    "train = train.to_dict(\"list\")\n",
    "test = test.to_dict(\"list\")\n",
    "\n",
    "train = {k: torch.DoubleTensor(v) for k, v in train.items()}\n",
    "test = {k: torch.DoubleTensor(v) for k, v in test.items()}\n",
    "\n",
    "input_train = {\"p.MEK\": train[\"p.MEK\"]} # \n",
    "input_test = {\"p.MEK\": test[\"p.MEK\"]} # \n"
   ]
  },
  {
   "cell_type": "code",
   "execution_count": 32,
   "id": "ab130443",
   "metadata": {},
   "outputs": [],
   "source": [
    "# Create an empty BioFuzzNet\n",
    "my_model = BioFuzzNet(None, None)\n",
    "\n",
    "# Add nodes\n",
    "# my_model.add_fuzzy_node(\"input\", \"BIO\")\n",
    "my_model.add_fuzzy_node(\"p.MEK\", \"BIO\") # A biological node\n",
    "my_model.add_fuzzy_node(\"p.ERK\", 'BIO')\n",
    "my_model.add_fuzzy_node(\"p.p90RSK\", \"BIO\")\n",
    "my_model.add_fuzzy_node(\"p.CREB\", \"BIO\")\n",
    "# Add edges\n",
    "# my_model.add_transfer_edge(\"input\",\"p.MEK\")\n",
    "my_model.add_transfer_edge(\"p.MEK\",\"p.ERK\") \n",
    "my_model.add_transfer_edge(\"p.ERK\", \"p.p90RSK\")\n",
    "my_model.add_transfer_edge(\"p.p90RSK\", \"p.CREB\")"
   ]
  },
  {
   "cell_type": "code",
   "execution_count": 33,
   "id": "4b25f812",
   "metadata": {},
   "outputs": [
    {
     "data": {
      "image/png": "[encoded data removed]",
      "text/plain": [
       "<Figure size 640x480 with 1 Axes>"
      ]
     },
     "metadata": {},
     "output_type": "display_data"
    }
   ],
   "source": [
    "nx.draw(my_model, with_labels=True)"
   ]
  },
  {
   "cell_type": "code",
   "execution_count": 34,
   "id": "6ad950d4",
   "metadata": {},
   "outputs": [],
   "source": [
    "# Now we just need to specify some optimisation parameters\n",
    "\n",
    "learning_rate = 5e-3\n",
    "epochs = 20 # That seems like a lot, but 1 epoch is basically one simulation of the network on all datapoints, so we need a lot of them\n",
    "batch_size = 300 "
   ]
  },
  {
   "cell_type": "code",
   "execution_count": 35,
   "id": "e6cae2cf",
   "metadata": {
    "scrolled": true
   },
   "outputs": [
    {
     "name": "stderr",
     "output_type": "stream",
     "text": [
      "100%|█████████████████████████████████████████████████████████████| 20/20 [00:11<00:00,  1.74it/s]\n"
     ]
    }
   ],
   "source": [
    "loss = my_model.conduct_optimisation(input = input_train,\n",
    "                                     test_input = input_test,\n",
    "                                     ground_truth=train,\n",
    "                                     epochs = epochs, \n",
    "                                     test_ground_truth=test,\n",
    "                                     learning_rate= learning_rate,\n",
    "                                     batch_size= batch_size\n",
    "                                         )"
   ]
  },
  {
   "cell_type": "code",
   "execution_count": 36,
   "id": "83264c13",
   "metadata": {},
   "outputs": [
    {
     "data": {
      "text/plain": [
       "<AxesSubplot: xlabel='time', ylabel='loss'>"
      ]
     },
     "execution_count": 36,
     "metadata": {},
     "output_type": "execute_result"
    },
    {
     "data": {
      "image/png": "[encoded data removed]",
      "text/plain": [
       "<Figure size 640x480 with 1 Axes>"
      ]
     },
     "metadata": {},
     "output_type": "display_data"
    }
   ],
   "source": [
    "sns.lineplot(data=loss, x='time', y='loss', hue='phase')\n"
   ]
  },
  {
   "cell_type": "markdown",
   "id": "be849622",
   "metadata": {},
   "source": [
    "# Leave one treatment out"
   ]
  },
  {
   "cell_type": "code",
   "execution_count": 37,
   "id": "48830c41",
   "metadata": {},
   "outputs": [
    {
     "name": "stdout",
     "output_type": "stream",
     "text": [
      "(44516, 4)\n",
      "(13435, 4)\n"
     ]
    }
   ],
   "source": [
    "all_treatments = ['EGF', 'full', 'iEGFR', 'iMEK', 'iPI3K', 'iPKC']\n",
    "test_treatments = ['iEGFR']\n",
    "train_treatments = [treatment for treatment in all_treatments if not treatment in test_treatments]\n",
    "\n",
    "cl_data.loc[cl_data[\"p.MEK\"]==0, \"p.MEK\"] = 1e-9\n",
    "train = cl_data.loc[(cl_data[\"treatment\"].isin(train_treatments)), ['p.MEK', 'p.ERK', 'p.p90RSK', 'p.CREB']]\n",
    "test = cl_data.loc[(cl_data[\"treatment\"].isin(test_treatments)), ['p.MEK', 'p.ERK', 'p.p90RSK', 'p.CREB']]\n",
    "n_test = len(test)\n",
    "\n",
    "print(train.shape)\n",
    "print(test.shape)\n",
    "train = train.to_dict(\"list\")\n",
    "test = test.to_dict(\"list\")\n",
    "\n",
    "train = {k: torch.DoubleTensor(v) for k, v in train.items()}\n",
    "test = {k: torch.DoubleTensor(v) for k, v in test.items()}\n",
    "\n",
    "input_train = {\"p.MEK\" : train[\"p.MEK\"]}\n",
    "input_test = {\"p.MEK\": test[\"p.MEK\"]}"
   ]
  },
  {
   "cell_type": "code",
   "execution_count": 38,
   "id": "e548d628",
   "metadata": {},
   "outputs": [],
   "source": [
    "# Create an empty BioFuzzNet\n",
    "my_model = BioFuzzNet(None, None)\n",
    "\n",
    "# Add nodes\n",
    "# my_model.add_fuzzy_node(\"input\", \"BIO\")\n",
    "my_model.add_fuzzy_node(\"p.MEK\", \"BIO\") # A biological node\n",
    "my_model.add_fuzzy_node(\"p.ERK\", 'BIO')\n",
    "my_model.add_fuzzy_node(\"p.p90RSK\", \"BIO\")\n",
    "my_model.add_fuzzy_node(\"p.CREB\", \"BIO\")\n",
    "# Add edges\n",
    "# my_model.add_transfer_edge(\"input\",\"p.MEK\")\n",
    "my_model.add_transfer_edge(\"p.MEK\",\"p.ERK\") \n",
    "my_model.add_transfer_edge(\"p.ERK\", \"p.p90RSK\")\n",
    "my_model.add_transfer_edge(\"p.p90RSK\", \"p.CREB\")"
   ]
  },
  {
   "cell_type": "code",
   "execution_count": 39,
   "id": "e268fc79",
   "metadata": {},
   "outputs": [],
   "source": [
    "# Now we just need to specify some optimisation parameters\n",
    "\n",
    "learning_rate = 5e-3\n",
    "epochs = 20 # That seems like a lot, but 1 epoch is basically one simulation of the network on all datapoints, so we need a lot of them\n",
    "batch_size = 300 "
   ]
  },
  {
   "cell_type": "code",
   "execution_count": 40,
   "id": "7bcd3b39",
   "metadata": {},
   "outputs": [
    {
     "name": "stderr",
     "output_type": "stream",
     "text": [
      "100%|█████████████████████████████████████████████████████████████| 20/20 [00:43<00:00,  2.16s/it]\n"
     ]
    }
   ],
   "source": [
    "loss = my_model.conduct_optimisation(input = input_train,\n",
    "                                     test_input = input_test,\n",
    "                                     ground_truth=train,\n",
    "                                     epochs = epochs, \n",
    "                                     test_ground_truth=test,\n",
    "                                     learning_rate= learning_rate,\n",
    "                                     batch_size= batch_size\n",
    "                                         )"
   ]
  },
  {
   "cell_type": "code",
   "execution_count": 41,
   "id": "e273c41e",
   "metadata": {},
   "outputs": [
    {
     "data": {
      "text/plain": [
       "<AxesSubplot: xlabel='time', ylabel='loss'>"
      ]
     },
     "execution_count": 41,
     "metadata": {},
     "output_type": "execute_result"
    },
    {
     "data": {
      "image/png": "[encoded data removed]",
      "text/plain": [
       "<Figure size 640x480 with 1 Axes>"
      ]
     },
     "metadata": {},
     "output_type": "display_data"
    }
   ],
   "source": [
    "sns.lineplot(data=loss, x='time', y='loss', hue='phase')\n"
   ]
  },
  {
   "cell_type": "markdown",
   "id": "115bd713",
   "metadata": {},
   "source": [
    "# With logic gates"
   ]
  },
  {
   "cell_type": "code",
   "execution_count": 42,
   "id": "77b1347a",
   "metadata": {},
   "outputs": [
    {
     "data": {
      "text/plain": [
       "Index(['treatment', 'cell_line', 'time', 'cellID', 'fileID', 'b.CATENIN',\n",
       "       'cleavedCas', 'CyclinB', 'GAPDH', 'IdU', 'Ki.67', 'p.4EBP1',\n",
       "       'p.Akt.Ser473.', 'p.AKT.Thr308.', 'p.AMPK', 'p.BTK', 'p.CREB', 'p.ERK',\n",
       "       'p.FAK', 'p.GSK3b', 'p.H3', 'p.HER2', 'p.JNK', 'p.MAP2K3', 'p.MAPKAPK2',\n",
       "       'p.MEK', 'p.MKK3.MKK6', 'p.MKK4', 'p.NFkB', 'p.p38', 'p.p53',\n",
       "       'p.p90RSK', 'p.PDPK1', 'p.PLCg2', 'p.RB', 'p.S6', 'p.S6K', 'p.SMAD23',\n",
       "       'p.SRC', 'p.STAT1', 'p.STAT3', 'p.STAT5'],\n",
       "      dtype='object')"
      ]
     },
     "execution_count": 42,
     "metadata": {},
     "output_type": "execute_result"
    }
   ],
   "source": [
    "cl_data.columns"
   ]
  },
  {
   "cell_type": "code",
   "execution_count": 60,
   "id": "eb303948",
   "metadata": {},
   "outputs": [
    {
     "data": {
      "text/html": [
       "<div>\n",
       "<style scoped>\n",
       "    .dataframe tbody tr th:only-of-type {\n",
       "        vertical-align: middle;\n",
       "    }\n",
       "\n",
       "    .dataframe tbody tr th {\n",
       "        vertical-align: top;\n",
       "    }\n",
       "\n",
       "    .dataframe thead th {\n",
       "        text-align: right;\n",
       "    }\n",
       "</style>\n",
       "<table border=\"1\" class=\"dataframe\">\n",
       "  <thead>\n",
       "    <tr style=\"text-align: right;\">\n",
       "      <th></th>\n",
       "      <th>p.MKK4</th>\n",
       "      <th>p.JNK</th>\n",
       "      <th>p.p53</th>\n",
       "      <th>p.RB</th>\n",
       "      <th>p.MKK3.MKK6</th>\n",
       "      <th>p.p38</th>\n",
       "    </tr>\n",
       "  </thead>\n",
       "  <tbody>\n",
       "    <tr>\n",
       "      <th>0</th>\n",
       "      <td>0.457823</td>\n",
       "      <td>0.426876</td>\n",
       "      <td>0.194365</td>\n",
       "      <td>0.099567</td>\n",
       "      <td>0.286825</td>\n",
       "      <td>0.000000</td>\n",
       "    </tr>\n",
       "    <tr>\n",
       "      <th>1</th>\n",
       "      <td>0.400166</td>\n",
       "      <td>0.288711</td>\n",
       "      <td>0.000000</td>\n",
       "      <td>0.598982</td>\n",
       "      <td>0.053185</td>\n",
       "      <td>0.004729</td>\n",
       "    </tr>\n",
       "    <tr>\n",
       "      <th>2</th>\n",
       "      <td>0.577745</td>\n",
       "      <td>0.492829</td>\n",
       "      <td>0.224935</td>\n",
       "      <td>0.303606</td>\n",
       "      <td>0.108874</td>\n",
       "      <td>0.061061</td>\n",
       "    </tr>\n",
       "    <tr>\n",
       "      <th>3</th>\n",
       "      <td>0.545781</td>\n",
       "      <td>0.355599</td>\n",
       "      <td>0.211484</td>\n",
       "      <td>0.000000</td>\n",
       "      <td>0.338688</td>\n",
       "      <td>0.909727</td>\n",
       "    </tr>\n",
       "    <tr>\n",
       "      <th>4</th>\n",
       "      <td>0.779333</td>\n",
       "      <td>0.650283</td>\n",
       "      <td>0.238072</td>\n",
       "      <td>0.828589</td>\n",
       "      <td>0.198516</td>\n",
       "      <td>0.542115</td>\n",
       "    </tr>\n",
       "    <tr>\n",
       "      <th>...</th>\n",
       "      <td>...</td>\n",
       "      <td>...</td>\n",
       "      <td>...</td>\n",
       "      <td>...</td>\n",
       "      <td>...</td>\n",
       "      <td>...</td>\n",
       "    </tr>\n",
       "    <tr>\n",
       "      <th>16375</th>\n",
       "      <td>0.366302</td>\n",
       "      <td>0.225716</td>\n",
       "      <td>0.203940</td>\n",
       "      <td>0.080011</td>\n",
       "      <td>0.000000</td>\n",
       "      <td>0.333136</td>\n",
       "    </tr>\n",
       "    <tr>\n",
       "      <th>16376</th>\n",
       "      <td>0.557901</td>\n",
       "      <td>0.333460</td>\n",
       "      <td>0.181002</td>\n",
       "      <td>0.161690</td>\n",
       "      <td>0.222409</td>\n",
       "      <td>0.475347</td>\n",
       "    </tr>\n",
       "    <tr>\n",
       "      <th>16377</th>\n",
       "      <td>0.480255</td>\n",
       "      <td>0.000000</td>\n",
       "      <td>0.021770</td>\n",
       "      <td>0.308577</td>\n",
       "      <td>0.184730</td>\n",
       "      <td>0.247533</td>\n",
       "    </tr>\n",
       "    <tr>\n",
       "      <th>16378</th>\n",
       "      <td>0.465469</td>\n",
       "      <td>0.395624</td>\n",
       "      <td>0.166905</td>\n",
       "      <td>0.155100</td>\n",
       "      <td>0.150340</td>\n",
       "      <td>0.000000</td>\n",
       "    </tr>\n",
       "    <tr>\n",
       "      <th>16379</th>\n",
       "      <td>0.515404</td>\n",
       "      <td>0.456065</td>\n",
       "      <td>0.205017</td>\n",
       "      <td>0.000000</td>\n",
       "      <td>0.147458</td>\n",
       "      <td>0.000000</td>\n",
       "    </tr>\n",
       "  </tbody>\n",
       "</table>\n",
       "<p>16380 rows × 6 columns</p>\n",
       "</div>"
      ],
      "text/plain": [
       "         p.MKK4     p.JNK     p.p53      p.RB  p.MKK3.MKK6     p.p38\n",
       "0      0.457823  0.426876  0.194365  0.099567     0.286825  0.000000\n",
       "1      0.400166  0.288711  0.000000  0.598982     0.053185  0.004729\n",
       "2      0.577745  0.492829  0.224935  0.303606     0.108874  0.061061\n",
       "3      0.545781  0.355599  0.211484  0.000000     0.338688  0.909727\n",
       "4      0.779333  0.650283  0.238072  0.828589     0.198516  0.542115\n",
       "...         ...       ...       ...       ...          ...       ...\n",
       "16375  0.366302  0.225716  0.203940  0.080011     0.000000  0.333136\n",
       "16376  0.557901  0.333460  0.181002  0.161690     0.222409  0.475347\n",
       "16377  0.480255  0.000000  0.021770  0.308577     0.184730  0.247533\n",
       "16378  0.465469  0.395624  0.166905  0.155100     0.150340  0.000000\n",
       "16379  0.515404  0.456065  0.205017  0.000000     0.147458  0.000000\n",
       "\n",
       "[16380 rows x 6 columns]"
      ]
     },
     "execution_count": 60,
     "metadata": {},
     "output_type": "execute_result"
    }
   ],
   "source": [
    "sel_data = cl_data.loc[(cl_data[\"treatment\"]==\"EGF\"),:][['p.MKK4', 'p.JNK', 'p.p53', 'p.RB', 'p.MKK3.MKK6',\n",
    "                                                        'p.p38']]\n",
    "sel_data.reset_index(drop=True, inplace=True)\n",
    "# sel_data[\"input\"] = 1.\n",
    "# sel_data.loc[sel_data[\"p.MKK4\"]==0, \"p.MKK4\"] = 1e-9\n",
    "# sel_data.loc[sel_data[\"p.MKK3.MKK6\"]==0, \"p.MKK3.MKK6\"] = 1e-9\n",
    "sel_data"
   ]
  },
  {
   "cell_type": "code",
   "execution_count": 61,
   "id": "701dfe03",
   "metadata": {},
   "outputs": [],
   "source": [
    "# Create an empty BioFuzzNet\n",
    "my_model = BioMixNet(None, None)\n",
    "\n",
    "# Add nodes\n",
    "# my_model.add_fuzzy_node(\"input\", \"BIO\")\n",
    "my_model.add_fuzzy_node(\"p.MKK4\", \"BIO\") # A biological node\n",
    "my_model.add_fuzzy_node(\"p.JNK\", 'BIO')\n",
    "my_model.add_fuzzy_node(\"p.p53\", \"BIO\")\n",
    "my_model.add_fuzzy_node(\"p.RB\", \"BIO\")\n",
    "my_model.add_fuzzy_node(\"p.p38\", \"BIO\")\n",
    "my_model.add_fuzzy_node(\"p.MKK3.MKK6\", \"BIO\")\n",
    "my_model.add_fuzzy_node(\"p.MKK4 AND p.MKK3.MKK6\", \"MIXED\") # A logical and gate\n",
    "my_model.add_fuzzy_node(\"p.JNK AND p.p38\", \"MIXED\") # A logical and gate\n",
    "\n",
    "\n",
    "# Add edges\n",
    "my_model.add_transfer_edge(\"p.MKK4\",\"p.MKK4 AND p.MKK3.MKK6\")\n",
    "my_model.add_transfer_edge(\"p.MKK4\",\"p.JNK\")\n",
    "my_model.add_transfer_edge(\"p.JNK\",\"p.JNK AND p.p38\")\n",
    "my_model.add_transfer_edge(\"p.p38\",\"p.JNK AND p.p38\")\n",
    "my_model.add_transfer_edge(\"p.MKK3.MKK6\",\"p.MKK4 AND p.MKK3.MKK6\")\n",
    "my_model.add_transfer_edge(\"p.p53\", \"p.RB\")\n",
    "\n",
    "my_model.add_simple_edge(\"p.MKK4 AND p.MKK3.MKK6\", \"p.p38\") # A simple edge downstream of a logical node\n",
    "my_model.add_simple_edge(\"p.JNK AND p.p38\", \"p.p53\")"
   ]
  },
  {
   "cell_type": "code",
   "execution_count": 62,
   "id": "3d576754",
   "metadata": {},
   "outputs": [
    {
     "data": {
      "image/png": "[encoded data removed]",
      "text/plain": [
       "<Figure size 640x480 with 1 Axes>"
      ]
     },
     "metadata": {},
     "output_type": "display_data"
    }
   ],
   "source": [
    "nx.draw(my_model, with_labels=True)"
   ]
  },
  {
   "cell_type": "code",
   "execution_count": 63,
   "id": "c88d1b4e",
   "metadata": {},
   "outputs": [
    {
     "name": "stdout",
     "output_type": "stream",
     "text": [
      "(12285, 6)\n",
      "(4095, 6)\n"
     ]
    }
   ],
   "source": [
    "train, test = train_test_split(sel_data)\n",
    "print(train.shape)\n",
    "print(test.shape)\n",
    "train = train.to_dict(\"list\")\n",
    "test = test.to_dict(\"list\")\n",
    "\n",
    "train = {k: torch.DoubleTensor(v) for k, v in train.items()}\n",
    "test = {k: torch.DoubleTensor(v) for k, v in test.items()}\n",
    "\n",
    "input_train = {\"p.MKK4\": train[\"p.MKK4\"],\n",
    "              \"p.MKK3.MKK6\": train[\"p.MKK3.MKK6\"]}  \n",
    "input_test = {\"p.MKK4\": test[\"p.MKK4\"],\n",
    "              \"p.MKK3.MKK6\": train[\"p.MKK3.MKK6\"]} \n"
   ]
  },
  {
   "cell_type": "code",
   "execution_count": 64,
   "id": "8dae6c73",
   "metadata": {},
   "outputs": [],
   "source": [
    "# Now we just need to specify some optimisation parameters\n",
    "\n",
    "learning_rate = 5e-3\n",
    "epochs = 50 # That seems like a lot, but 1 epoch is basically one simulation of the network on all datapoints, so we need a lot of them\n",
    "batch_size = 300 "
   ]
  },
  {
   "cell_type": "code",
   "execution_count": 65,
   "id": "2479743a",
   "metadata": {},
   "outputs": [
    {
     "name": "stderr",
     "output_type": "stream",
     "text": [
      "100%|█████████████████████████████████████████████████████████████| 50/50 [01:29<00:00,  1.80s/it]\n"
     ]
    }
   ],
   "source": [
    "loss = my_model.conduct_optimisation(input = input_train,\n",
    "                                     test_input = input_test,\n",
    "                                     ground_truth=train,\n",
    "                                     epochs = epochs, \n",
    "                                     test_ground_truth=test,\n",
    "                                     learning_rate= learning_rate,\n",
    "                                     batch_size= batch_size\n",
    "                                         )"
   ]
  },
  {
   "cell_type": "code",
   "execution_count": 66,
   "id": "3650f781",
   "metadata": {},
   "outputs": [
    {
     "data": {
      "text/plain": [
       "<AxesSubplot: xlabel='time', ylabel='loss'>"
      ]
     },
     "execution_count": 66,
     "metadata": {},
     "output_type": "execute_result"
    },
    {
     "data": {
      "image/png": "[encoded data removed]",
      "text/plain": [
       "<Figure size 640x480 with 1 Axes>"
      ]
     },
     "metadata": {},
     "output_type": "display_data"
    }
   ],
   "source": [
    "sns.lineplot(data=loss, x='time', y='loss', hue='phase')\n"
   ]
  },
  {
   "cell_type": "code",
   "execution_count": 67,
   "id": "1f11871d",
   "metadata": {},
   "outputs": [
    {
     "name": "stdout",
     "output_type": "stream",
     "text": [
      "Parameter containing:\n",
      "tensor(5.3026, requires_grad=True)\n",
      "Parameter containing:\n",
      "tensor(5.3044, requires_grad=True)\n"
     ]
    }
   ],
   "source": [
    "for gate in my_model.mixed_gates:\n",
    "    g = my_model.nodes[gate][\"gate\"]\n",
    "    print(g.AND_param)"
   ]
  },
  {
   "cell_type": "code",
   "execution_count": 68,
   "id": "6592f0c4",
   "metadata": {},
   "outputs": [
    {
     "name": "stdout",
     "output_type": "stream",
     "text": [
      "The edge ('p.MKK4', 'p.MKK4 AND p.MKK3.MKK6') has parameter n = tensor([1.1137], grad_fn=<ExpBackward0>) and K = tensor([0.2745], grad_fn=<SigmoidBackward0>)\n",
      "The edge ('p.MKK4', 'p.JNK') has parameter n = tensor([1.4636], grad_fn=<ExpBackward0>) and K = tensor([0.4308], grad_fn=<SigmoidBackward0>)\n",
      "The edge ('p.JNK', 'p.JNK AND p.p38') has parameter n = tensor([0.9595], grad_fn=<ExpBackward0>) and K = tensor([0.3454], grad_fn=<SigmoidBackward0>)\n",
      "The edge ('p.p53', 'p.RB') has parameter n = tensor([0.7578], grad_fn=<ExpBackward0>) and K = tensor([0.3696], grad_fn=<SigmoidBackward0>)\n",
      "The edge ('p.p38', 'p.JNK AND p.p38') has parameter n = tensor([0.0790], grad_fn=<ExpBackward0>) and K = tensor([0.3004], grad_fn=<SigmoidBackward0>)\n",
      "The edge ('p.MKK3.MKK6', 'p.MKK4 AND p.MKK3.MKK6') has parameter n = tensor([0.2167], grad_fn=<ExpBackward0>) and K = tensor([0.1492], grad_fn=<SigmoidBackward0>)\n"
     ]
    }
   ],
   "source": [
    "for edge in my_model.transfer_edges:\n",
    "    # Each transfer edge has a layer\n",
    "    layer = my_model.edges()[edge][\"layer\"]\n",
    "    # Each layer has a n and an K parameter\n",
    "    print(f\"The edge {edge} has parameter n = {torch.exp(layer.n)} and K = {torch.sigmoid(layer.K)}\")\n",
    "    # Those parameters are torch.nn.Parameters and thus have a grad_fn which corresponds to their gradient\n"
   ]
  },
  {
   "cell_type": "code",
   "execution_count": 90,
   "id": "cda09b24",
   "metadata": {},
   "outputs": [],
   "source": [
    "x = torch.tensor(1e-9)\n",
    "n = torch.nn.Parameter(torch.tensor(-.1))\n",
    "res = x**n"
   ]
  },
  {
   "cell_type": "code",
   "execution_count": 91,
   "id": "44f258b3",
   "metadata": {},
   "outputs": [],
   "source": [
    "res.backward()"
   ]
  },
  {
   "cell_type": "code",
   "execution_count": 92,
   "id": "0bcdd67b",
   "metadata": {},
   "outputs": [
    {
     "data": {
      "text/plain": [
       "tensor(-164.6108)"
      ]
     },
     "execution_count": 92,
     "metadata": {},
     "output_type": "execute_result"
    }
   ],
   "source": [
    "n.grad"
   ]
  },
  {
   "cell_type": "code",
   "execution_count": null,
   "id": "7e50e3cd",
   "metadata": {},
   "outputs": [],
   "source": []
  }
 ],
 "metadata": {
  "kernelspec": {
   "display_name": "Python 3 (ipykernel)",
   "language": "python",
   "name": "python3"
  },
  "language_info": {
   "codemirror_mode": {
    "name": "ipython",
    "version": 3
   },
   "file_extension": ".py",
   "mimetype": "text/x-python",
   "name": "python",
   "nbconvert_exporter": "python",
   "pygments_lexer": "ipython3",
   "version": "3.10.9"
  }
 },
 "nbformat": 4,
 "nbformat_minor": 5
}
