{
 "cells": [
  {
   "cell_type": "code",
   "execution_count": 1,
   "id": "ba6b661b",
   "metadata": {},
   "outputs": [
    {
     "name": "stderr",
     "output_type": "stream",
     "text": [
      "/dccstor/ipc1/.conda/envs/biofuzznet2/lib/python3.9/site-packages/tqdm/auto.py:22: TqdmWarning: IProgress not found. Please update jupyter and ipywidgets. See https://ipywidgets.readthedocs.io/en/stable/user_install.html\n",
      "  from .autonotebook import tqdm as notebook_tqdm\n"
     ]
    }
   ],
   "source": [
    "from biological_fuzzy_logic_networks.DREAM.DREAMBioFuzzNet import (\n",
    "    DREAMBioFuzzNet,\n",
    "    DREAMBioMixNet,\n",
    ")\n",
    "from biological_fuzzy_logic_networks.DREAM_analysis.utils import create_bfz\n",
    "from biological_fuzzy_logic_networks.Synthetic_experiments.generate_gates_data import generate_gate_datasets\n",
    "\n",
    "import torch\n",
    "import pickle\n",
    "import numpy as np"
   ]
  },
  {
   "cell_type": "code",
   "execution_count": 2,
   "id": "ef91f173",
   "metadata": {},
   "outputs": [],
   "source": [
    "gates_dir = \"/dccstor/ipc1/CAR/BFN/Model/Gates/\"\n",
    "pkn = \"/dccstor/ipc1/CAR/BFN/LiverDREAM_PKN.sif\"\n",
    "true_network_suffix=\"model_for_simulation.pt\"\n",
    "trained_network_suffix=\"model_for_simulation.pt\"\n",
    "optimized_network_suffix=\"model_for_prediction.pt\"\n",
    "n_gates = 15\n",
    "repeat = 0"
   ]
  },
  {
   "cell_type": "code",
   "execution_count": 3,
   "id": "0cb8976d",
   "metadata": {},
   "outputs": [],
   "source": [
    "teacher = create_bfz(pkn, \"DREAMBioFuzzNet\")\n"
   ]
  },
  {
   "cell_type": "code",
   "execution_count": 4,
   "id": "1fd7ce59",
   "metadata": {},
   "outputs": [
    {
     "data": {
      "text/plain": [
       "['_and_1',\n",
       " '_and_2',\n",
       " '_and_3',\n",
       " '_and_4',\n",
       " '_and_5',\n",
       " '_and_6',\n",
       " '_and_7',\n",
       " '_and_8',\n",
       " '_and_9',\n",
       " '_and_10',\n",
       " '_and_11',\n",
       " 'or1',\n",
       " 'or2',\n",
       " 'or3',\n",
       " 'or4',\n",
       " 'or5',\n",
       " 'or6',\n",
       " 'or7',\n",
       " 'or8',\n",
       " 'or9',\n",
       " 'or10',\n",
       " 'or11']"
      ]
     },
     "execution_count": 4,
     "metadata": {},
     "output_type": "execute_result"
    }
   ],
   "source": [
    "teacher.fuzzy_nodes"
   ]
  },
  {
   "cell_type": "code",
   "execution_count": 5,
   "id": "c4736d50",
   "metadata": {},
   "outputs": [
    {
     "data": {
      "text/plain": [
       "array([ 7,  3,  1,  0, 12,  5,  8,  9,  6, 17, 10, 11, 18,  4, 19])"
      ]
     },
     "execution_count": 5,
     "metadata": {},
     "output_type": "execute_result"
    }
   ],
   "source": [
    "chosen_gates_idx = np.random.choice(len(teacher.fuzzy_nodes), n_gates, replace=False)\n",
    "chosen_gates_idx"
   ]
  },
  {
   "cell_type": "code",
   "execution_count": 6,
   "id": "02768a9a",
   "metadata": {},
   "outputs": [
    {
     "data": {
      "text/plain": [
       "<torch._C.Generator at 0x14dc3c1366d0>"
      ]
     },
     "execution_count": 6,
     "metadata": {},
     "output_type": "execute_result"
    }
   ],
   "source": [
    "torch.manual_seed(1356)"
   ]
  },
  {
   "cell_type": "code",
   "execution_count": 7,
   "id": "2946e838",
   "metadata": {},
   "outputs": [],
   "source": [
    "(train_input_df,\n",
    " train_true_df,\n",
    " test_input_df,\n",
    " test_true_df,\n",
    " teacher_network,\n",
    " changed_gates) = generate_gate_datasets(pkn, \n",
    "                                         train_size=100, \n",
    "                                         test_size= 10, \n",
    "                                         chosen_gates_idx=chosen_gates_idx)"
   ]
  },
  {
   "cell_type": "code",
   "execution_count": 8,
   "id": "a7c4f7cf",
   "metadata": {},
   "outputs": [
    {
     "name": "stdout",
     "output_type": "stream",
     "text": [
      "True\n",
      "True\n",
      "True\n",
      "True\n",
      "True\n",
      "True\n",
      "True\n",
      "True\n",
      "True\n",
      "True\n",
      "True\n",
      "True\n",
      "True\n",
      "True\n",
      "True\n",
      "True\n",
      "True\n",
      "True\n",
      "False\n",
      "True\n",
      "True\n",
      "True\n",
      "False\n",
      "False\n",
      "True\n",
      "True\n",
      "False\n",
      "False\n",
      "False\n",
      "True\n",
      "True\n",
      "True\n",
      "True\n",
      "True\n",
      "False\n",
      "True\n",
      "True\n",
      "True\n",
      "True\n"
     ]
    }
   ],
   "source": [
    "for n in teacher_network.nodes():\n",
    "    print(teacher_network.nodes()[n][\"node_type\"]==teacher.nodes()[n][\"node_type\"])"
   ]
  },
  {
   "cell_type": "code",
   "execution_count": 9,
   "id": "5bd2a6a4",
   "metadata": {},
   "outputs": [],
   "source": [
    "model_state_dict, gate_dict = teacher_network.get_checkpoint(save_gates=True)"
   ]
  },
  {
   "cell_type": "code",
   "execution_count": 10,
   "id": "63be0848",
   "metadata": {},
   "outputs": [],
   "source": [
    "teacher.load_from_checkpoint(model_state_dict, gate_dict)"
   ]
  },
  {
   "cell_type": "code",
   "execution_count": 11,
   "id": "41ecaa52",
   "metadata": {},
   "outputs": [
    {
     "name": "stdout",
     "output_type": "stream",
     "text": [
      "True\n",
      "True\n",
      "True\n",
      "True\n",
      "True\n",
      "True\n",
      "True\n",
      "True\n",
      "True\n",
      "True\n",
      "True\n",
      "True\n",
      "True\n",
      "True\n",
      "True\n",
      "True\n",
      "True\n",
      "True\n",
      "True\n",
      "True\n",
      "True\n",
      "True\n",
      "True\n",
      "True\n",
      "True\n",
      "True\n",
      "True\n",
      "True\n",
      "True\n",
      "True\n",
      "True\n",
      "True\n",
      "True\n",
      "True\n",
      "True\n",
      "True\n",
      "True\n",
      "True\n",
      "True\n"
     ]
    }
   ],
   "source": [
    "for n in teacher_network.nodes():\n",
    "    print(teacher_network.nodes()[n][\"node_type\"]==teacher.nodes()[n][\"node_type\"])"
   ]
  },
  {
   "cell_type": "code",
   "execution_count": 12,
   "id": "2efa9794",
   "metadata": {},
   "outputs": [
    {
     "data": {
      "text/plain": [
       "<biological_fuzzy_logic_networks.DREAM.DREAMBioFuzzNet.DREAMBioFuzzNet at 0x14db310ba7c0>"
      ]
     },
     "execution_count": 12,
     "metadata": {},
     "output_type": "execute_result"
    }
   ],
   "source": [
    "teacher"
   ]
  },
  {
   "cell_type": "markdown",
   "id": "11784c89",
   "metadata": {},
   "source": [
    "# Load from experiment checkpoint"
   ]
  },
  {
   "cell_type": "code",
   "execution_count": 13,
   "id": "412b7fb7",
   "metadata": {},
   "outputs": [],
   "source": [
    "changed_gates = pickle.load(open(f\"{gates_dir}{n_gates}_gates_{repeat}_repeat_changed_gates.p\", \"rb\"))"
   ]
  },
  {
   "cell_type": "code",
   "execution_count": 14,
   "id": "f72dfbbc",
   "metadata": {},
   "outputs": [],
   "source": [
    "ckpts = [torch.load(f\"{gates_dir}{n_gates}_gates_{repeat}_repeat_{suffix}\") for suffix in [optimized_network_suffix, true_network_suffix ]\n",
    "    ]"
   ]
  },
  {
   "cell_type": "code",
   "execution_count": 15,
   "id": "465bfb6f",
   "metadata": {},
   "outputs": [],
   "source": [
    "teacher = create_bfz(pkn, \"DREAMBioFuzzNet\")\n",
    "\n",
    "teacher_network = create_bfz(pkn, \"DREAMBioFuzzNet\")\n",
    "teacher_network.load_from_checkpoint(ckpts[1][\"model_state_dict\"], ckpts[1][\"model_gate_dict\"])\n",
    "\n",
    "student_network = create_bfz(pkn, \"DREAMBioMixNet\")\n",
    "student_network.load_from_checkpoint(ckpts[0][\"model_state_dict\"], ckpts[0][\"model_gate_dict\"])\n"
   ]
  },
  {
   "cell_type": "code",
   "execution_count": 16,
   "id": "7b440a5f",
   "metadata": {},
   "outputs": [
    {
     "data": {
      "text/plain": [
       "['_and_2', '_and_3', '_and_5', '_and_8', '_and_11', 'or1', 'or6']"
      ]
     },
     "execution_count": 16,
     "metadata": {},
     "output_type": "execute_result"
    }
   ],
   "source": [
    "student_network.fuzzy_nodes"
   ]
  },
  {
   "cell_type": "code",
   "execution_count": 17,
   "id": "657c321b",
   "metadata": {},
   "outputs": [
    {
     "data": {
      "text/plain": [
       "['_and_1',\n",
       " '_and_4',\n",
       " '_and_6',\n",
       " '_and_7',\n",
       " '_and_9',\n",
       " '_and_10',\n",
       " 'or2',\n",
       " 'or3',\n",
       " 'or4',\n",
       " 'or5',\n",
       " 'or7',\n",
       " 'or8',\n",
       " 'or9',\n",
       " 'or10',\n",
       " 'or11']"
      ]
     },
     "execution_count": 17,
     "metadata": {},
     "output_type": "execute_result"
    }
   ],
   "source": [
    "student_network.mixed_gates\n"
   ]
  },
  {
   "cell_type": "code",
   "execution_count": 18,
   "id": "f912482a",
   "metadata": {},
   "outputs": [
    {
     "data": {
      "text/plain": [
       "['_and_1',\n",
       " '_and_4',\n",
       " '_and_6',\n",
       " '_and_7',\n",
       " '_and_9',\n",
       " '_and_10',\n",
       " 'or2',\n",
       " 'or3',\n",
       " 'or4',\n",
       " 'or5',\n",
       " 'or7',\n",
       " 'or8',\n",
       " 'or9',\n",
       " 'or10',\n",
       " 'or11']"
      ]
     },
     "execution_count": 18,
     "metadata": {},
     "output_type": "execute_result"
    }
   ],
   "source": [
    "changed_gates"
   ]
  },
  {
   "cell_type": "code",
   "execution_count": 19,
   "id": "ebccd6cc",
   "metadata": {},
   "outputs": [
    {
     "name": "stdout",
     "output_type": "stream",
     "text": [
      "_and_1 logic_gate_AND\n",
      "_and_4 logic_gate_OR\n",
      "_and_6 logic_gate_AND\n",
      "_and_7 logic_gate_OR\n",
      "_and_9 logic_gate_OR\n",
      "_and_10 logic_gate_AND\n",
      "or2 logic_gate_OR\n",
      "or3 logic_gate_OR\n",
      "or4 logic_gate_AND\n",
      "or5 logic_gate_AND\n",
      "or7 logic_gate_AND\n",
      "or8 logic_gate_OR\n",
      "or9 logic_gate_AND\n",
      "or10 logic_gate_AND\n",
      "or11 logic_gate_AND\n"
     ]
    }
   ],
   "source": [
    "for n in teacher_network.nodes():\n",
    "    node_type = teacher_network.nodes()[n][\"node_type\"]\n",
    "    if node_type.startswith(\"logic\"):\n",
    "        if n in changed_gates:\n",
    "            print(n, node_type)"
   ]
  },
  {
   "cell_type": "code",
   "execution_count": 20,
   "id": "05ce3293",
   "metadata": {},
   "outputs": [
    {
     "name": "stdout",
     "output_type": "stream",
     "text": [
      "_and_1 logic_gate_MIXED\n",
      "_and_4 logic_gate_MIXED\n",
      "_and_6 logic_gate_MIXED\n",
      "_and_7 logic_gate_MIXED\n",
      "_and_9 logic_gate_MIXED\n",
      "_and_10 logic_gate_MIXED\n",
      "or2 logic_gate_MIXED\n",
      "or3 logic_gate_MIXED\n",
      "or4 logic_gate_MIXED\n",
      "or5 logic_gate_MIXED\n",
      "or7 logic_gate_MIXED\n",
      "or8 logic_gate_MIXED\n",
      "or9 logic_gate_MIXED\n",
      "or10 logic_gate_MIXED\n",
      "or11 logic_gate_MIXED\n"
     ]
    }
   ],
   "source": [
    "for n in student_network.nodes():\n",
    "    node_type = student_network.nodes()[n][\"node_type\"]\n",
    "    if node_type.startswith(\"logic\"):\n",
    "        if n in changed_gates:\n",
    "            print(n, node_type)"
   ]
  }
 ],
 "metadata": {
  "kernelspec": {
   "display_name": "Python 3 (ipykernel)",
   "language": "python",
   "name": "python3"
  },
  "language_info": {
   "codemirror_mode": {
    "name": "ipython",
    "version": 3
   },
   "file_extension": ".py",
   "mimetype": "text/x-python",
   "name": "python",
   "nbconvert_exporter": "python",
   "pygments_lexer": "ipython3",
   "version": "3.9.13"
  }
 },
 "nbformat": 4,
 "nbformat_minor": 5
}
