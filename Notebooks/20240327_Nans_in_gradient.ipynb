{
 "cells": [
  {
   "cell_type": "code",
   "execution_count": 1,
   "id": "b4a02e24",
   "metadata": {},
   "outputs": [],
   "source": [
    "import json\n",
    "import pandas as pd\n",
    "import random\n",
    "import numpy as np\n"
   ]
  },
  {
   "cell_type": "code",
   "execution_count": 2,
   "id": "3688080c",
   "metadata": {},
   "outputs": [
    {
     "name": "stderr",
     "output_type": "stream",
     "text": [
      "/dccstor/ipc1/.conda/envs/biofuzznet2/lib/python3.9/site-packages/tqdm/auto.py:22: TqdmWarning: IProgress not found. Please update jupyter and ipywidgets. See https://ipywidgets.readthedocs.io/en/stable/user_install.html\n",
      "  from .autonotebook import tqdm as notebook_tqdm\n"
     ]
    }
   ],
   "source": [
    "from biological_fuzzy_logic_networks.DREAM import DREAMBioFuzzNet\n",
    "\n",
    "import torch\n",
    "import numpy as np\n",
    "import pandas as pd\n",
    "import json\n",
    "import click\n",
    "import os\n",
    "import pickle\n",
    "from sklearn.preprocessing import MinMaxScaler\n",
    "\n",
    "\n",
    "def load_and_prepare_data(\n",
    "    data_dir,\n",
    "    noise_sd,\n",
    "    add_noise_to_input_train,\n",
    "    add_noise_to_y_train,\n",
    "    add_noise_to_input_test,\n",
    "    add_noise_to_y_test,\n",
    "):\n",
    "    train_true_df = pd.read_csv(f\"{data_dir}/train_true_df.csv\")\n",
    "    train_input_df = pd.read_csv(f\"{data_dir}/train_input_df.csv\")\n",
    "    test_true_df = pd.read_csv(f\"{data_dir}/test_true_df.csv\")\n",
    "    test_input_df = pd.read_csv(f\"{data_dir}/test_input_df.csv\")\n",
    "\n",
    "    if add_noise_to_y_train:\n",
    "        # Add noise to training data (and test data?)\n",
    "        train_input_noise = np.random.normal(0, noise_sd, train_input_df.shape)\n",
    "        train_input_df = train_input_df + train_input_noise\n",
    "\n",
    "    if add_noise_to_y_train:\n",
    "        # Add noise to training data (and test data?)\n",
    "        train_noise = np.random.normal(0, noise_sd, train_true_df.shape)\n",
    "        train_true_df = train_true_df + train_noise\n",
    "\n",
    "    if add_noise_to_input_test:\n",
    "        # Add noise to test data\n",
    "        input_noise = np.random.normal(0, noise_sd, test_input_df.shape)\n",
    "        test_input_df = test_input_df + input_noise\n",
    "\n",
    "    if add_noise_to_y_test:\n",
    "        test_noise = np.random.normal(0, noise_sd, test_true_df.shape)\n",
    "        test_true_df = test_true_df + test_noise\n",
    "\n",
    "    return train_true_df, train_input_df, test_true_df, test_input_df\n",
    "\n",
    "\n",
    "def run_train_with_noise(\n",
    "    pkn_path,\n",
    "    data_dir,\n",
    "    train_frac: float = 0.7,\n",
    "    noise_sd: int = 1,\n",
    "    add_noise_to_input_train: bool = False,\n",
    "    add_noise_to_y_train: bool = False,\n",
    "    add_noise_to_input_test: bool = True,\n",
    "    add_noise_to_y_test: bool = False,\n",
    "    BFN_training_params: dict = {\n",
    "        \"epochs\": 100,\n",
    "        \"batch_size\": 500,\n",
    "        \"learning_rate\": 0.001,\n",
    "        \"tensors_to_cuda\": True,\n",
    "    },\n",
    "    **extras,\n",
    "):\n",
    "\n",
    "    student_network = DREAMBioFuzzNet.DREAMBioFuzzNet.build_DREAMBioFuzzNet_from_file(\n",
    "        pkn_path\n",
    "    )\n",
    "    untrained_network = DREAMBioFuzzNet.DREAMBioFuzzNet.build_DREAMBioFuzzNet_from_file(\n",
    "        pkn_path\n",
    "    )\n",
    "\n",
    "    # Get data with/without noise\n",
    "    train_true_df, train_input_df, test_true_df, test_input_df = load_and_prepare_data(\n",
    "        data_dir=data_dir,\n",
    "        add_noise_to_input_train=add_noise_to_input_train,\n",
    "        add_noise_to_y_train=add_noise_to_y_train,\n",
    "        add_noise_to_input_test=add_noise_to_input_test,\n",
    "        add_noise_to_y_test=add_noise_to_y_test,\n",
    "        noise_sd=noise_sd,\n",
    "    )\n",
    "    test_size = len(test_true_df)\n",
    "\n",
    "    # Train student on unperturbed training data\n",
    "    # Split train data in training and validation data\n",
    "    train = train_true_df.sample(frac=train_frac)\n",
    "    val = train_true_df.drop(train.index, axis=0)\n",
    "    train_size = len(train)\n",
    "    val_size = len(val)\n",
    "\n",
    "    # Same input as teacher:\n",
    "    train_input = train_input_df.iloc[train.index, :]\n",
    "    val_input = train_input_df.drop(train.index, axis=0)\n",
    "\n",
    "    # Data should have root nodes and non-root nodes\n",
    "    all_train = pd.concat([train, train_input], axis=1)\n",
    "    all_val = pd.concat([val, val_input], axis=1)\n",
    "    all_test = pd.concat([test_true_df, test_input_df], axis=1)\n",
    "\n",
    "    # Train scaler on the training data\n",
    "    scaler = MinMaxScaler()\n",
    "    all_train = pd.DataFrame(\n",
    "        scaler.fit_transform(all_train),\n",
    "        columns=all_train.columns,\n",
    "        index=all_train.index,\n",
    "    )\n",
    "\n",
    "    # Scale validation data and prepara tensors\n",
    "    all_val = pd.DataFrame(\n",
    "        scaler.transform(all_val),\n",
    "        columns=all_val.columns,\n",
    "        index=all_val.index,\n",
    "    )\n",
    "\n",
    "    all_test = pd.DataFrame(\n",
    "        scaler.transform(all_test),\n",
    "        columns=all_test.columns,\n",
    "        index=all_test.index,\n",
    "    )\n",
    "\n",
    "    all_test[all_test>1] = 1\n",
    "    all_val[all_val>1] = 1\n",
    "    all_train[all_train>1] = 1\n",
    "    \n",
    "    val_input_dict = {c: torch.Tensor(np.array(all_val[c])) for c in val_input.columns}\n",
    "    train_input_dict = {\n",
    "        c: torch.Tensor(np.array(all_train[c])) for c in train_input.columns\n",
    "    }\n",
    "    train_dict = {c: torch.Tensor(np.array(all_train[c])) for c in all_train.columns}\n",
    "    val_dict = {c: torch.Tensor(np.array(all_val[c])) for c in all_val.columns}\n",
    "\n",
    "    # Data should have root nodes and non-root nodes\n",
    "    val_dict.update(val_input_dict)\n",
    "\n",
    "    # Inhibitors\n",
    "    train_inhibitors = {c: torch.ones(len(all_train)) for c in train_dict.keys()}\n",
    "    val_inhibitors = {c: torch.ones(len(all_val)) for c in val_dict.keys()}\n",
    "\n",
    "    student_network.initialise_random_truth_and_output(\n",
    "        train_size, to_cuda=BFN_training_params[\"tensors_to_cuda\"]\n",
    "    )\n",
    "    losses, curr_best_val_loss, _ = student_network.conduct_optimisation(\n",
    "        input=train_input_dict,\n",
    "        ground_truth=train_dict,\n",
    "        train_inhibitors=train_inhibitors,\n",
    "        valid_ground_truth=val_dict,\n",
    "        valid_input=val_input_dict,\n",
    "        valid_inhibitors=val_inhibitors,\n",
    "        **BFN_training_params,\n",
    "    )\n",
    "\n",
    "    test_ground_truth = {\n",
    "        c: torch.Tensor(np.array(all_test[c])) for c in all_test.columns\n",
    "    }\n",
    "\n",
    "    no_inhibition_test = {k: torch.ones(test_size) for k in student_network.nodes}\n",
    "    student_network.initialise_random_truth_and_output(\n",
    "        test_size, to_cuda=BFN_training_params[\"tensors_to_cuda\"]\n",
    "    )\n",
    "    student_network.set_network_ground_truth(\n",
    "        test_ground_truth, to_cuda=BFN_training_params[\"tensors_to_cuda\"]\n",
    "    )\n",
    "    \n",
    "    student_network.sequential_update(\n",
    "        student_network.root_nodes,\n",
    "        inhibition=no_inhibition_test,\n",
    "        to_cuda=BFN_training_params[\"tensors_to_cuda\"],\n",
    "    )\n",
    "    with torch.no_grad():\n",
    "        test_output = {\n",
    "            k: v.cpu()\n",
    "            for k, v in student_network.output_states.items()\n",
    "            if k not in student_network.root_nodes\n",
    "        }\n",
    "        test_output_df = pd.DataFrame({k: v.numpy() for k, v in test_output.items()})\n",
    "\n",
    "    # TEST student network without perturbation, random inputs\n",
    "    student_network.initialise_random_truth_and_output(\n",
    "        test_size, to_cuda=BFN_training_params[\"tensors_to_cuda\"]\n",
    "    )\n",
    "    student_network.sequential_update(\n",
    "        student_network.root_nodes,\n",
    "        inhibition=no_inhibition_test,\n",
    "        to_cuda=BFN_training_params[\"tensors_to_cuda\"],\n",
    "    )\n",
    "    with torch.no_grad():\n",
    "        test_random_output = {\n",
    "            k: v.cpu()\n",
    "            for k, v in student_network.output_states.items()\n",
    "            if k not in student_network.root_nodes\n",
    "        }\n",
    "        test_random_output_df = pd.DataFrame(\n",
    "            {k: v.numpy() for k, v in test_random_output.items()}\n",
    "        )\n",
    "\n",
    "    # UNTRAINED NETWORK without perturbation, same inputs\n",
    "    untrained_network.initialise_random_truth_and_output(test_size)\n",
    "    untrained_network.set_network_ground_truth(test_ground_truth)\n",
    "    untrained_network.sequential_update(\n",
    "        untrained_network.root_nodes, inhibition=no_inhibition_test\n",
    "    )\n",
    "    with torch.no_grad():\n",
    "        gen_with_i_test = {\n",
    "            k: v.cpu().numpy()\n",
    "            for k, v in untrained_network.output_states.items()\n",
    "            if k not in untrained_network.root_nodes\n",
    "        }\n",
    "        ut_test_with_i_df = pd.DataFrame(gen_with_i_test)\n",
    "\n",
    "    # UNTRAINED NETWORK without perturbation, random inputs\n",
    "    untrained_network.initialise_random_truth_and_output(test_size)\n",
    "    untrained_network.sequential_update(\n",
    "        untrained_network.root_nodes, inhibition=no_inhibition_test\n",
    "    )\n",
    "    with torch.no_grad():\n",
    "        gen_test = {\n",
    "            k: v.cpu().numpy()\n",
    "            for k, v in untrained_network.output_states.items()\n",
    "            if k not in untrained_network.root_nodes\n",
    "        }\n",
    "        ut_test_df = pd.DataFrame(gen_test)\n",
    "\n",
    "    unpertubed_pred_data = pd.concat(\n",
    "        [\n",
    "            test_true_df,\n",
    "            test_output_df,\n",
    "            test_random_output_df,\n",
    "            ut_test_with_i_df,\n",
    "            ut_test_df,\n",
    "        ],\n",
    "        keys=[\n",
    "            \"teacher_true\",\n",
    "            \"student_same_input\",\n",
    "            \"student_random_input\",\n",
    "            \"untrained_same_input\",\n",
    "            \"untrained_random_input\",\n",
    "        ],\n",
    "    )\n",
    "\n",
    "    return (losses, unpertubed_pred_data, student_network.get_checkpoint(), scaler)\n",
    "\n",
    "def minimal_train(pkn_path, BFN_training_params, all_train, all_val, all_test):\n",
    "    \n",
    "    all_test[all_test>1] = 1\n",
    "    all_val[all_val>1] = 1\n",
    "    all_train[all_train>1] = 1\n",
    "            \n",
    "    test_size = len(all_test)\n",
    "    val_input_dict = {c: torch.Tensor(np.array(all_val[c])) for c in train_input_df.columns}\n",
    "    train_input_dict = {\n",
    "        c: torch.Tensor(np.array(all_train[c])) for c in train_input_df.columns\n",
    "    }\n",
    "    train_dict = {c: torch.Tensor(np.array(all_train[c])) for c in all_train.columns}\n",
    "    val_dict = {c: torch.Tensor(np.array(all_val[c])) for c in all_val.columns}\n",
    "\n",
    "    # Inhibitors\n",
    "    train_inhibitors = {c: torch.ones(len(all_train)) for c in train_dict.keys()}\n",
    "    val_inhibitors = {c: torch.ones(len(all_val)) for c in val_dict.keys()}\n",
    "\n",
    "    # Test set\n",
    "    test_ground_truth = {\n",
    "        c: torch.Tensor(np.array(all_test[c])) for c in all_test.columns\n",
    "    }\n",
    "\n",
    "    no_inhibition_test = {k: torch.ones(len(all_test)) for k in train_dict.keys()}\n",
    "    \n",
    "    student_network = DREAMBioFuzzNet.DREAMBioFuzzNet.build_DREAMBioFuzzNet_from_file(\n",
    "        pkn_path\n",
    "    )\n",
    "    untrained_network = DREAMBioFuzzNet.DREAMBioFuzzNet.build_DREAMBioFuzzNet_from_file(\n",
    "        pkn_path\n",
    "    )\n",
    "\n",
    "    student_network.initialise_random_truth_and_output(\n",
    "        len(all_train), to_cuda=BFN_training_params[\"tensors_to_cuda\"]\n",
    "    )\n",
    "    \n",
    "    losses, curr_best_val_loss, _ = student_network.conduct_optimisation(\n",
    "        input=train_input_dict,\n",
    "        ground_truth=train_dict,\n",
    "        train_inhibitors=train_inhibitors,\n",
    "        valid_ground_truth=val_dict,\n",
    "        valid_input=val_input_dict,\n",
    "        valid_inhibitors=val_inhibitors,\n",
    "        **BFN_training_params,\n",
    "    )\n",
    "\n",
    "    with torch.no_grad():\n",
    "            \n",
    "        student_network.initialise_random_truth_and_output(\n",
    "            test_size, to_cuda=BFN_training_params[\"tensors_to_cuda\"]\n",
    "        )\n",
    "        student_network.set_network_ground_truth(\n",
    "            test_ground_truth, to_cuda=BFN_training_params[\"tensors_to_cuda\"]\n",
    "        )\n",
    "\n",
    "        student_network.sequential_update(\n",
    "            student_network.root_nodes,\n",
    "            inhibition=no_inhibition_test,\n",
    "            to_cuda=BFN_training_params[\"tensors_to_cuda\"],\n",
    "        )\n",
    "        test_output = {\n",
    "            k: v.cpu()\n",
    "            for k, v in student_network.output_states.items()\n",
    "            if k not in student_network.root_nodes\n",
    "        }\n",
    "        test_output_df = pd.DataFrame({k: v.numpy() for k, v in test_output.items()})\n",
    "\n",
    "    # TEST student network without perturbation, random inputs\n",
    "    with torch.no_grad():\n",
    "        student_network.initialise_random_truth_and_output(\n",
    "        test_size, to_cuda=BFN_training_params[\"tensors_to_cuda\"]\n",
    "        )\n",
    "        student_network.sequential_update(\n",
    "            student_network.root_nodes,\n",
    "            inhibition=no_inhibition_test,\n",
    "            to_cuda=BFN_training_params[\"tensors_to_cuda\"],\n",
    "        )\n",
    "        test_random_output = {\n",
    "            k: v.cpu()\n",
    "            for k, v in student_network.output_states.items()\n",
    "            if k not in student_network.root_nodes\n",
    "        }\n",
    "        test_random_output_df = pd.DataFrame(\n",
    "            {k: v.numpy() for k, v in test_random_output.items()}\n",
    "        )\n",
    "\n",
    "    # UNTRAINED NETWORK without perturbation, same inputs\n",
    "    with torch.no_grad():\n",
    "        untrained_network.initialise_random_truth_and_output(test_size)\n",
    "        untrained_network.set_network_ground_truth(test_ground_truth)\n",
    "        untrained_network.sequential_update(\n",
    "            untrained_network.root_nodes, inhibition=no_inhibition_test\n",
    "        )\n",
    "        gen_with_i_test = {\n",
    "            k: v.cpu().numpy()\n",
    "            for k, v in untrained_network.output_states.items()\n",
    "            if k not in untrained_network.root_nodes\n",
    "        }\n",
    "        ut_test_with_i_df = pd.DataFrame(gen_with_i_test)\n",
    "\n",
    "    # UNTRAINED NETWORK without perturbation, random inputs\n",
    "    with torch.no_grad():\n",
    "        untrained_network.initialise_random_truth_and_output(test_size)\n",
    "        untrained_network.sequential_update(\n",
    "            untrained_network.root_nodes, inhibition=no_inhibition_test\n",
    "        )\n",
    "        gen_test = {\n",
    "            k: v.cpu().numpy()\n",
    "            for k, v in untrained_network.output_states.items()\n",
    "            if k not in untrained_network.root_nodes\n",
    "        }\n",
    "        ut_test_df = pd.DataFrame(gen_test)\n",
    "\n",
    "#     unpertubed_pred_data = pd.concat(\n",
    "#         [\n",
    "#             test_true_df,\n",
    "#             test_output_df,\n",
    "#             test_random_output_df,\n",
    "#             ut_test_with_i_df,\n",
    "#             ut_test_df,\n",
    "#         ],\n",
    "#         keys=[\n",
    "#             \"teacher_true\",\n",
    "#             \"student_same_input\",\n",
    "#             \"student_random_input\",\n",
    "#             \"untrained_same_input\",\n",
    "#             \"untrained_random_input\",\n",
    "#         ],\n",
    "#     )\n",
    "\n",
    "#     return (losses, unpertubed_pred_data, student_network.get_checkpoint())\n"
   ]
  },
  {
   "cell_type": "code",
   "execution_count": 3,
   "id": "c1cdc4e0",
   "metadata": {},
   "outputs": [],
   "source": [
    "with open(\"/dccstor/ipc1/CAR/BFN/Model/Noise/Configs/noise4_tri_try_tei_noise_config.json\", \"rb\") as f:\n",
    "    config = json.load(f)\n",
    "config[\"data_dir\"] = config[\"data_dir\"] + '4/'\n",
    "config[\"BFN_training_params\"][\"batch_size\"] = 1000\n",
    "config[\"BFN_training_params\"][\"epochs\"] = 100\n",
    "config[\"pkn_path\"]=\"/dccstor/ipc1/CAR/BFN/LiverDREAM_PKN.sif\""
   ]
  },
  {
   "cell_type": "code",
   "execution_count": 4,
   "id": "a210303b",
   "metadata": {},
   "outputs": [],
   "source": [
    "# from sklearn.preprocessing import MinMaxScaler\n",
    "# from biological_fuzzy_logic_networks.Synthetic_experiments.training_noise import load_and_prepare_data\n",
    "# train_true_df, train_input_df, test_true_df, test_input_df = load_and_prepare_data(\"/dccstor/ipc1/CAR/BFN/Model/Noise/SimData1/\", \n",
    "#                                                                                   add_noise_to_input_test=config[\"add_noise_to_input_test\"],\n",
    "#                                                                                   add_noise_to_input_train=config[\"add_noise_to_input_train\"],\n",
    "#                                                                                   add_noise_to_y_test=config[\"add_noise_to_y_test\"],\n",
    "#                                                                                   add_noise_to_y_train=config[\"add_noise_to_y_train\"],\n",
    "#                                                                                   noise_sd=config[\"noise_sd\"])\n",
    "\n",
    "# # Train student on unperturbed training data\n",
    "# # Split train data in training and validation data\n",
    "# train = train_true_df.sample(frac=config[\"train_frac\"])\n",
    "# val = train_true_df.drop(train.index, axis=0)\n",
    "# train_size = len(train)\n",
    "# val_size = len(val)\n",
    "\n",
    "# # Same input as teacher:\n",
    "# train_input = train_input_df.iloc[train.index, :]\n",
    "# val_input = train_input_df.drop(train.index, axis=0)\n",
    "\n",
    "# # Data should have root nodes and non-root nodes\n",
    "# all_train = pd.concat([train, train_input], axis=1)\n",
    "# all_val = pd.concat([val, val_input], axis=1)\n",
    "\n",
    "# all_train.to_csv(\"/dccstor/ipc1/CAR/BFN/Model/Test/temp_all_train_before_pp.csv\")\n",
    "# all_train.to_csv(\"/dccstor/ipc1/CAR/BFN/Model/Test/temp_all_val_before_pp.csv\")\n",
    "\n",
    "# all_train[all_train == 0] = 1e-5\n",
    "# all_val[all_val == 0] = 1e-5\n",
    "\n",
    "# # Train scaler on the training data\n",
    "# scaler = MinMaxScaler()\n",
    "# all_train = pd.DataFrame(\n",
    "#     scaler.fit_transform(all_train),\n",
    "#     columns=all_train.columns,\n",
    "#     index=all_train.index,\n",
    "# )\n",
    "\n",
    "# # Scale validation data and prepara tensors\n",
    "# all_val = pd.DataFrame(\n",
    "#     scaler.transform(all_val),\n",
    "#     columns=all_val.columns,\n",
    "#     index=all_val.index,\n",
    "# )\n",
    "\n",
    "# all_train.to_csv(\"/dccstor/ipc1/CAR/BFN/Model/Test/temp_all_train_after_pp.csv\")\n",
    "# all_train.to_csv(\"/dccstor/ipc1/CAR/BFN/Model/Test/temp_all_val_after_pp.csv\")\n",
    "\n",
    "# # TEST student without perturbation, same inputs\n",
    "# all_test = pd.concat([test_true_df, test_input_df], axis=1)\n",
    "# all_test.to_csv(\"/dccstor/ipc1/CAR/BFN/Model/Test/temp_all_test_before_pp.csv\")\n",
    "# all_test = pd.DataFrame(\n",
    "#     scaler.transform(all_test),\n",
    "#     columns=all_test.columns,\n",
    "#     index=all_test.index,\n",
    "# )\n",
    "\n",
    "# all_test[all_test == 0] = 1e-5\n",
    "# all_test.to_csv(\"/dccstor/ipc1/CAR/BFN/Model/Test/temp_all_test_after_pp.csv\")"
   ]
  },
  {
   "cell_type": "code",
   "execution_count": 5,
   "id": "1650d3d8",
   "metadata": {},
   "outputs": [],
   "source": [
    "from biological_fuzzy_logic_networks.Synthetic_experiments.training_noise import run_train_with_noise\n"
   ]
  },
  {
   "cell_type": "code",
   "execution_count": null,
   "id": "23314e86",
   "metadata": {
    "scrolled": false
   },
   "outputs": [
    {
     "name": "stderr",
     "output_type": "stream",
     "text": [
      "Loss=?.??e??:  21%|█████▉                      | 21/100 [00:20<01:16,  1.04it/s]\n"
     ]
    },
    {
     "name": "stdout",
     "output_type": "stream",
     "text": [
      "Early stopping. Epoch: 21 batch: 7\n"
     ]
    },
    {
     "name": "stderr",
     "output_type": "stream",
     "text": [
      "Loss=?.??e??:  21%|█████▉                      | 21/100 [00:21<01:19,  1.01s/it]\n"
     ]
    },
    {
     "name": "stdout",
     "output_type": "stream",
     "text": [
      "Early stopping. Epoch: 21 batch: 7\n"
     ]
    },
    {
     "name": "stderr",
     "output_type": "stream",
     "text": [
      "Loss=?.??e??:  21%|█████▉                      | 21/100 [00:19<01:13,  1.08it/s]\n"
     ]
    },
    {
     "name": "stdout",
     "output_type": "stream",
     "text": [
      "Early stopping. Epoch: 21 batch: 7\n"
     ]
    },
    {
     "name": "stderr",
     "output_type": "stream",
     "text": [
      "Loss=?.??e??:  21%|█████▉                      | 21/100 [00:18<01:10,  1.11it/s]\n"
     ]
    },
    {
     "name": "stdout",
     "output_type": "stream",
     "text": [
      "Early stopping. Epoch: 21 batch: 7\n"
     ]
    },
    {
     "name": "stderr",
     "output_type": "stream",
     "text": [
      "Loss=?.??e??:  21%|█████▉                      | 21/100 [00:19<01:11,  1.11it/s]\n"
     ]
    },
    {
     "name": "stdout",
     "output_type": "stream",
     "text": [
      "Early stopping. Epoch: 21 batch: 7\n"
     ]
    },
    {
     "name": "stderr",
     "output_type": "stream",
     "text": [
      "Loss=?.??e??:  21%|█████▉                      | 21/100 [00:18<01:10,  1.12it/s]\n"
     ]
    },
    {
     "name": "stdout",
     "output_type": "stream",
     "text": [
      "Early stopping. Epoch: 21 batch: 7\n"
     ]
    },
    {
     "name": "stderr",
     "output_type": "stream",
     "text": [
      "Loss=?.??e??:  21%|█████▉                      | 21/100 [00:18<01:10,  1.13it/s]"
     ]
    },
    {
     "name": "stdout",
     "output_type": "stream",
     "text": [
      "Early stopping. Epoch: 21 batch: 7\n"
     ]
    },
    {
     "name": "stderr",
     "output_type": "stream",
     "text": [
      "\n",
      "Loss=?.??e??:  21%|█████▉                      | 21/100 [00:19<01:13,  1.07it/s]\n"
     ]
    },
    {
     "name": "stdout",
     "output_type": "stream",
     "text": [
      "Early stopping. Epoch: 21 batch: 7\n"
     ]
    },
    {
     "name": "stderr",
     "output_type": "stream",
     "text": [
      "Loss=?.??e??:  21%|█████▉                      | 21/100 [00:21<01:20,  1.02s/it]\n"
     ]
    },
    {
     "name": "stdout",
     "output_type": "stream",
     "text": [
      "Early stopping. Epoch: 21 batch: 7\n"
     ]
    },
    {
     "name": "stderr",
     "output_type": "stream",
     "text": [
      "Loss=?.??e??:  21%|█████▉                      | 21/100 [00:20<01:16,  1.03it/s]\n"
     ]
    },
    {
     "name": "stdout",
     "output_type": "stream",
     "text": [
      "Early stopping. Epoch: 21 batch: 7\n"
     ]
    },
    {
     "name": "stderr",
     "output_type": "stream",
     "text": [
      "Loss=?.??e??:  21%|█████▉                      | 21/100 [00:19<01:15,  1.05it/s]\n"
     ]
    },
    {
     "name": "stdout",
     "output_type": "stream",
     "text": [
      "Early stopping. Epoch: 21 batch: 7\n"
     ]
    },
    {
     "name": "stderr",
     "output_type": "stream",
     "text": [
      "Loss=?.??e??:  21%|█████▉                      | 21/100 [00:20<01:15,  1.04it/s]\n"
     ]
    },
    {
     "name": "stdout",
     "output_type": "stream",
     "text": [
      "Early stopping. Epoch: 21 batch: 7\n"
     ]
    },
    {
     "name": "stderr",
     "output_type": "stream",
     "text": [
      "Loss=?.??e??:  21%|█████▉                      | 21/100 [00:20<01:15,  1.04it/s]\n"
     ]
    },
    {
     "name": "stdout",
     "output_type": "stream",
     "text": [
      "Early stopping. Epoch: 21 batch: 7\n"
     ]
    },
    {
     "name": "stderr",
     "output_type": "stream",
     "text": [
      "Loss=?.??e??:  21%|█████▉                      | 21/100 [00:20<01:15,  1.05it/s]\n"
     ]
    },
    {
     "name": "stdout",
     "output_type": "stream",
     "text": [
      "Early stopping. Epoch: 21 batch: 7\n"
     ]
    },
    {
     "name": "stderr",
     "output_type": "stream",
     "text": [
      "Loss=?.??e??:  21%|█████▉                      | 21/100 [00:20<01:15,  1.04it/s]\n"
     ]
    },
    {
     "name": "stdout",
     "output_type": "stream",
     "text": [
      "Early stopping. Epoch: 21 batch: 7\n"
     ]
    },
    {
     "name": "stderr",
     "output_type": "stream",
     "text": [
      "Loss=?.??e??:  21%|█████▉                      | 21/100 [00:20<01:16,  1.04it/s]\n"
     ]
    },
    {
     "name": "stdout",
     "output_type": "stream",
     "text": [
      "Early stopping. Epoch: 21 batch: 7\n"
     ]
    },
    {
     "name": "stderr",
     "output_type": "stream",
     "text": [
      "Loss=?.??e??:  21%|█████▉                      | 21/100 [00:21<01:19,  1.00s/it]\n"
     ]
    },
    {
     "name": "stdout",
     "output_type": "stream",
     "text": [
      "Early stopping. Epoch: 21 batch: 7\n"
     ]
    },
    {
     "name": "stderr",
     "output_type": "stream",
     "text": [
      "Loss=?.??e??:  21%|█████▉                      | 21/100 [00:21<01:19,  1.01s/it]\n"
     ]
    },
    {
     "name": "stdout",
     "output_type": "stream",
     "text": [
      "Early stopping. Epoch: 21 batch: 7\n"
     ]
    },
    {
     "name": "stderr",
     "output_type": "stream",
     "text": [
      "Loss=?.??e??:  21%|█████▉                      | 21/100 [00:20<01:16,  1.04it/s]\n"
     ]
    },
    {
     "name": "stdout",
     "output_type": "stream",
     "text": [
      "Early stopping. Epoch: 21 batch: 7\n"
     ]
    },
    {
     "name": "stderr",
     "output_type": "stream",
     "text": [
      "Loss=?.??e??:  21%|█████▉                      | 21/100 [00:19<01:14,  1.06it/s]\n"
     ]
    },
    {
     "name": "stdout",
     "output_type": "stream",
     "text": [
      "Early stopping. Epoch: 21 batch: 7\n"
     ]
    },
    {
     "name": "stderr",
     "output_type": "stream",
     "text": [
      "Loss=?.??e??:  21%|█████▉                      | 21/100 [00:19<01:15,  1.05it/s]\n"
     ]
    },
    {
     "name": "stdout",
     "output_type": "stream",
     "text": [
      "Early stopping. Epoch: 21 batch: 7\n"
     ]
    },
    {
     "name": "stderr",
     "output_type": "stream",
     "text": [
      "Loss=?.??e??:  21%|█████▉                      | 21/100 [00:20<01:18,  1.01it/s]\n"
     ]
    },
    {
     "name": "stdout",
     "output_type": "stream",
     "text": [
      "Early stopping. Epoch: 21 batch: 7\n"
     ]
    },
    {
     "name": "stderr",
     "output_type": "stream",
     "text": [
      "Loss=?.??e??:  21%|█████▉                      | 21/100 [00:20<01:15,  1.05it/s]\n"
     ]
    },
    {
     "name": "stdout",
     "output_type": "stream",
     "text": [
      "Early stopping. Epoch: 21 batch: 7\n"
     ]
    },
    {
     "name": "stderr",
     "output_type": "stream",
     "text": [
      "Loss=?.??e??:  21%|█████▉                      | 21/100 [00:19<01:14,  1.06it/s]\n"
     ]
    },
    {
     "name": "stdout",
     "output_type": "stream",
     "text": [
      "Early stopping. Epoch: 21 batch: 7\n"
     ]
    },
    {
     "name": "stderr",
     "output_type": "stream",
     "text": [
      "Loss=?.??e??:  21%|█████▉                      | 21/100 [00:19<01:14,  1.06it/s]\n"
     ]
    },
    {
     "name": "stdout",
     "output_type": "stream",
     "text": [
      "Early stopping. Epoch: 21 batch: 7\n"
     ]
    },
    {
     "name": "stderr",
     "output_type": "stream",
     "text": [
      "Loss=?.??e??:  21%|█████▉                      | 21/100 [00:19<01:14,  1.06it/s]\n"
     ]
    },
    {
     "name": "stdout",
     "output_type": "stream",
     "text": [
      "Early stopping. Epoch: 21 batch: 7\n"
     ]
    },
    {
     "name": "stderr",
     "output_type": "stream",
     "text": [
      "Loss=?.??e??:  21%|█████▉                      | 21/100 [00:19<01:14,  1.06it/s]\n"
     ]
    },
    {
     "name": "stdout",
     "output_type": "stream",
     "text": [
      "Early stopping. Epoch: 21 batch: 7\n"
     ]
    },
    {
     "name": "stderr",
     "output_type": "stream",
     "text": [
      "Loss=?.??e??:  21%|█████▉                      | 21/100 [00:19<01:14,  1.06it/s]\n"
     ]
    },
    {
     "name": "stdout",
     "output_type": "stream",
     "text": [
      "Early stopping. Epoch: 21 batch: 7\n"
     ]
    },
    {
     "name": "stderr",
     "output_type": "stream",
     "text": [
      "Loss=?.??e??:  21%|█████▉                      | 21/100 [00:19<01:14,  1.06it/s]\n"
     ]
    },
    {
     "name": "stdout",
     "output_type": "stream",
     "text": [
      "Early stopping. Epoch: 21 batch: 7\n"
     ]
    },
    {
     "name": "stderr",
     "output_type": "stream",
     "text": [
      "Loss=?.??e??:  21%|█████▉                      | 21/100 [00:19<01:14,  1.06it/s]\n"
     ]
    },
    {
     "name": "stdout",
     "output_type": "stream",
     "text": [
      "Early stopping. Epoch: 21 batch: 7\n"
     ]
    },
    {
     "name": "stderr",
     "output_type": "stream",
     "text": [
      "Loss=?.??e??:  21%|█████▉                      | 21/100 [00:19<01:14,  1.06it/s]\n"
     ]
    },
    {
     "name": "stdout",
     "output_type": "stream",
     "text": [
      "Early stopping. Epoch: 21 batch: 7\n"
     ]
    },
    {
     "name": "stderr",
     "output_type": "stream",
     "text": [
      "Loss=?.??e??:  21%|█████▉                      | 21/100 [00:19<01:14,  1.06it/s]\n"
     ]
    },
    {
     "name": "stdout",
     "output_type": "stream",
     "text": [
      "Early stopping. Epoch: 21 batch: 7\n"
     ]
    },
    {
     "name": "stderr",
     "output_type": "stream",
     "text": [
      "Loss=?.??e??:  21%|█████▉                      | 21/100 [00:20<01:16,  1.03it/s]\n"
     ]
    },
    {
     "name": "stdout",
     "output_type": "stream",
     "text": [
      "Early stopping. Epoch: 21 batch: 7\n"
     ]
    },
    {
     "name": "stderr",
     "output_type": "stream",
     "text": [
      "Loss=?.??e??:  21%|█████▉                      | 21/100 [00:20<01:18,  1.00it/s]\n"
     ]
    },
    {
     "name": "stdout",
     "output_type": "stream",
     "text": [
      "Early stopping. Epoch: 21 batch: 7\n"
     ]
    },
    {
     "name": "stderr",
     "output_type": "stream",
     "text": [
      "Loss=?.??e??:  21%|█████▉                      | 21/100 [00:20<01:16,  1.03it/s]\n"
     ]
    },
    {
     "name": "stdout",
     "output_type": "stream",
     "text": [
      "Early stopping. Epoch: 21 batch: 7\n"
     ]
    },
    {
     "name": "stderr",
     "output_type": "stream",
     "text": [
      "Loss=?.??e??:  21%|█████▉                      | 21/100 [00:20<01:16,  1.04it/s]\n"
     ]
    },
    {
     "name": "stdout",
     "output_type": "stream",
     "text": [
      "Early stopping. Epoch: 21 batch: 7\n"
     ]
    },
    {
     "name": "stderr",
     "output_type": "stream",
     "text": [
      "Loss=?.??e??:  21%|█████▉                      | 21/100 [00:19<01:14,  1.07it/s]\n"
     ]
    },
    {
     "name": "stdout",
     "output_type": "stream",
     "text": [
      "Early stopping. Epoch: 21 batch: 7\n"
     ]
    },
    {
     "name": "stderr",
     "output_type": "stream",
     "text": [
      "Loss=?.??e??:  21%|█████▉                      | 21/100 [00:19<01:14,  1.07it/s]\n"
     ]
    },
    {
     "name": "stdout",
     "output_type": "stream",
     "text": [
      "Early stopping. Epoch: 21 batch: 7\n"
     ]
    },
    {
     "name": "stderr",
     "output_type": "stream",
     "text": [
      "Loss=?.??e??:  21%|█████▉                      | 21/100 [00:19<01:13,  1.08it/s]\n"
     ]
    },
    {
     "name": "stdout",
     "output_type": "stream",
     "text": [
      "Early stopping. Epoch: 21 batch: 7\n"
     ]
    },
    {
     "name": "stderr",
     "output_type": "stream",
     "text": [
      "Loss=?.??e??:  21%|█████▉                      | 21/100 [00:20<01:17,  1.02it/s]\n"
     ]
    },
    {
     "name": "stdout",
     "output_type": "stream",
     "text": [
      "Early stopping. Epoch: 21 batch: 7\n"
     ]
    },
    {
     "name": "stderr",
     "output_type": "stream",
     "text": [
      "Loss=?.??e??:  21%|█████▉                      | 21/100 [00:19<01:13,  1.07it/s]\n"
     ]
    },
    {
     "name": "stdout",
     "output_type": "stream",
     "text": [
      "Early stopping. Epoch: 21 batch: 7\n"
     ]
    },
    {
     "name": "stderr",
     "output_type": "stream",
     "text": [
      "Loss=?.??e??:  21%|█████▉                      | 21/100 [00:20<01:16,  1.03it/s]\n"
     ]
    },
    {
     "name": "stdout",
     "output_type": "stream",
     "text": [
      "Early stopping. Epoch: 21 batch: 7\n"
     ]
    },
    {
     "name": "stderr",
     "output_type": "stream",
     "text": [
      "Loss=?.??e??:  21%|█████▉                      | 21/100 [00:21<01:19,  1.01s/it]\n"
     ]
    },
    {
     "name": "stdout",
     "output_type": "stream",
     "text": [
      "Early stopping. Epoch: 21 batch: 7\n"
     ]
    },
    {
     "name": "stderr",
     "output_type": "stream",
     "text": [
      "Loss=?.??e??:  21%|█████▉                      | 21/100 [00:19<01:12,  1.09it/s]\n"
     ]
    },
    {
     "name": "stdout",
     "output_type": "stream",
     "text": [
      "Early stopping. Epoch: 21 batch: 7\n"
     ]
    },
    {
     "name": "stderr",
     "output_type": "stream",
     "text": [
      "Loss=?.??e??:  21%|█████▉                      | 21/100 [00:19<01:14,  1.06it/s]\n"
     ]
    },
    {
     "name": "stdout",
     "output_type": "stream",
     "text": [
      "Early stopping. Epoch: 21 batch: 7\n"
     ]
    },
    {
     "name": "stderr",
     "output_type": "stream",
     "text": [
      "Loss=?.??e??:  21%|█████▉                      | 21/100 [00:19<01:14,  1.06it/s]\n"
     ]
    },
    {
     "name": "stdout",
     "output_type": "stream",
     "text": [
      "Early stopping. Epoch: 21 batch: 7\n"
     ]
    },
    {
     "name": "stderr",
     "output_type": "stream",
     "text": [
      "Loss=?.??e??:  21%|█████▉                      | 21/100 [00:20<01:18,  1.01it/s]\n"
     ]
    },
    {
     "name": "stdout",
     "output_type": "stream",
     "text": [
      "Early stopping. Epoch: 21 batch: 7\n"
     ]
    },
    {
     "name": "stderr",
     "output_type": "stream",
     "text": [
      "Loss=?.??e??:  21%|█████▉                      | 21/100 [00:20<01:17,  1.02it/s]\n"
     ]
    },
    {
     "name": "stdout",
     "output_type": "stream",
     "text": [
      "Early stopping. Epoch: 21 batch: 7\n"
     ]
    },
    {
     "name": "stderr",
     "output_type": "stream",
     "text": [
      "Loss=?.??e??:  21%|█████▉                      | 21/100 [00:20<01:15,  1.04it/s]\n"
     ]
    },
    {
     "name": "stdout",
     "output_type": "stream",
     "text": [
      "Early stopping. Epoch: 21 batch: 7\n"
     ]
    },
    {
     "name": "stderr",
     "output_type": "stream",
     "text": [
      "Loss=?.??e??:  21%|█████▉                      | 21/100 [00:19<01:13,  1.08it/s]\n"
     ]
    },
    {
     "name": "stdout",
     "output_type": "stream",
     "text": [
      "Early stopping. Epoch: 21 batch: 7\n"
     ]
    },
    {
     "name": "stderr",
     "output_type": "stream",
     "text": [
      "Loss=?.??e??:  21%|█████▉                      | 21/100 [00:19<01:13,  1.07it/s]\n"
     ]
    },
    {
     "name": "stdout",
     "output_type": "stream",
     "text": [
      "Early stopping. Epoch: 21 batch: 7\n"
     ]
    },
    {
     "name": "stderr",
     "output_type": "stream",
     "text": [
      "Loss=?.??e??:  21%|█████▉                      | 21/100 [00:19<01:13,  1.08it/s]\n"
     ]
    },
    {
     "name": "stdout",
     "output_type": "stream",
     "text": [
      "Early stopping. Epoch: 21 batch: 7\n"
     ]
    },
    {
     "name": "stderr",
     "output_type": "stream",
     "text": [
      "Loss=?.??e??:  21%|█████▉                      | 21/100 [00:19<01:14,  1.06it/s]\n"
     ]
    },
    {
     "name": "stdout",
     "output_type": "stream",
     "text": [
      "Early stopping. Epoch: 21 batch: 7\n"
     ]
    },
    {
     "name": "stderr",
     "output_type": "stream",
     "text": [
      "Loss=?.??e??:  21%|█████▉                      | 21/100 [00:20<01:17,  1.01it/s]\n"
     ]
    },
    {
     "name": "stdout",
     "output_type": "stream",
     "text": [
      "Early stopping. Epoch: 21 batch: 7\n"
     ]
    },
    {
     "name": "stderr",
     "output_type": "stream",
     "text": [
      "Loss=?.??e??:  21%|█████▉                      | 21/100 [00:20<01:15,  1.05it/s]\n"
     ]
    },
    {
     "name": "stdout",
     "output_type": "stream",
     "text": [
      "Early stopping. Epoch: 21 batch: 7\n"
     ]
    },
    {
     "name": "stderr",
     "output_type": "stream",
     "text": [
      "Loss=?.??e??:  21%|█████▉                      | 21/100 [00:19<01:14,  1.05it/s]\n"
     ]
    },
    {
     "name": "stdout",
     "output_type": "stream",
     "text": [
      "Early stopping. Epoch: 21 batch: 7\n"
     ]
    },
    {
     "name": "stderr",
     "output_type": "stream",
     "text": [
      "Loss=?.??e??:  21%|█████▉                      | 21/100 [00:19<01:14,  1.07it/s]\n"
     ]
    },
    {
     "name": "stdout",
     "output_type": "stream",
     "text": [
      "Early stopping. Epoch: 21 batch: 7\n"
     ]
    },
    {
     "name": "stderr",
     "output_type": "stream",
     "text": [
      "Loss=?.??e??:  21%|█████▉                      | 21/100 [00:19<01:14,  1.05it/s]\n"
     ]
    },
    {
     "name": "stdout",
     "output_type": "stream",
     "text": [
      "Early stopping. Epoch: 21 batch: 7\n"
     ]
    },
    {
     "name": "stderr",
     "output_type": "stream",
     "text": [
      "Loss=?.??e??:  21%|█████▉                      | 21/100 [00:19<01:13,  1.07it/s]\n"
     ]
    },
    {
     "name": "stdout",
     "output_type": "stream",
     "text": [
      "Early stopping. Epoch: 21 batch: 7\n"
     ]
    },
    {
     "name": "stderr",
     "output_type": "stream",
     "text": [
      "Loss=?.??e??:  21%|█████▉                      | 21/100 [00:19<01:12,  1.10it/s]\n"
     ]
    },
    {
     "name": "stdout",
     "output_type": "stream",
     "text": [
      "Early stopping. Epoch: 21 batch: 7\n"
     ]
    },
    {
     "name": "stderr",
     "output_type": "stream",
     "text": [
      "Loss=?.??e??:  21%|█████▉                      | 21/100 [00:18<01:10,  1.12it/s]"
     ]
    },
    {
     "name": "stdout",
     "output_type": "stream",
     "text": [
      "Early stopping. Epoch: 21 batch: 7\n"
     ]
    },
    {
     "name": "stderr",
     "output_type": "stream",
     "text": [
      "\n",
      "Loss=?.??e??:  21%|█████▉                      | 21/100 [00:19<01:13,  1.08it/s]\n"
     ]
    },
    {
     "name": "stdout",
     "output_type": "stream",
     "text": [
      "Early stopping. Epoch: 21 batch: 7\n"
     ]
    },
    {
     "name": "stderr",
     "output_type": "stream",
     "text": [
      "Loss=?.??e??:  21%|█████▉                      | 21/100 [00:19<01:14,  1.07it/s]\n"
     ]
    },
    {
     "name": "stdout",
     "output_type": "stream",
     "text": [
      "Early stopping. Epoch: 21 batch: 7\n"
     ]
    },
    {
     "name": "stderr",
     "output_type": "stream",
     "text": [
      "Loss=?.??e??:  21%|█████▉                      | 21/100 [00:19<01:13,  1.07it/s]\n"
     ]
    },
    {
     "name": "stdout",
     "output_type": "stream",
     "text": [
      "Early stopping. Epoch: 21 batch: 7\n"
     ]
    },
    {
     "name": "stderr",
     "output_type": "stream",
     "text": [
      "Loss=?.??e??:  21%|█████▉                      | 21/100 [00:18<01:10,  1.12it/s]\n"
     ]
    },
    {
     "name": "stdout",
     "output_type": "stream",
     "text": [
      "Early stopping. Epoch: 21 batch: 7\n"
     ]
    },
    {
     "name": "stderr",
     "output_type": "stream",
     "text": [
      "Loss=?.??e??:  21%|█████▉                      | 21/100 [00:19<01:13,  1.07it/s]\n"
     ]
    },
    {
     "name": "stdout",
     "output_type": "stream",
     "text": [
      "Early stopping. Epoch: 21 batch: 7\n"
     ]
    },
    {
     "name": "stderr",
     "output_type": "stream",
     "text": [
      "Loss=?.??e??:  21%|█████▉                      | 21/100 [00:20<01:15,  1.04it/s]\n"
     ]
    },
    {
     "name": "stdout",
     "output_type": "stream",
     "text": [
      "Early stopping. Epoch: 21 batch: 7\n"
     ]
    },
    {
     "name": "stderr",
     "output_type": "stream",
     "text": [
      "Loss=?.??e??:  21%|█████▉                      | 21/100 [00:19<01:13,  1.07it/s]\n"
     ]
    },
    {
     "name": "stdout",
     "output_type": "stream",
     "text": [
      "Early stopping. Epoch: 21 batch: 7\n"
     ]
    },
    {
     "name": "stderr",
     "output_type": "stream",
     "text": [
      "Loss=?.??e??:  21%|█████▉                      | 21/100 [00:19<01:13,  1.08it/s]\n"
     ]
    },
    {
     "name": "stdout",
     "output_type": "stream",
     "text": [
      "Early stopping. Epoch: 21 batch: 7\n"
     ]
    },
    {
     "name": "stderr",
     "output_type": "stream",
     "text": [
      "Loss=?.??e??:  21%|█████▉                      | 21/100 [00:20<01:15,  1.04it/s]\n"
     ]
    },
    {
     "name": "stdout",
     "output_type": "stream",
     "text": [
      "Early stopping. Epoch: 21 batch: 7\n"
     ]
    },
    {
     "name": "stderr",
     "output_type": "stream",
     "text": [
      "Loss=?.??e??:  21%|█████▉                      | 21/100 [00:19<01:12,  1.08it/s]\n"
     ]
    },
    {
     "name": "stdout",
     "output_type": "stream",
     "text": [
      "Early stopping. Epoch: 21 batch: 7\n"
     ]
    },
    {
     "name": "stderr",
     "output_type": "stream",
     "text": [
      "Loss=?.??e??:  21%|█████▉                      | 21/100 [00:19<01:12,  1.09it/s]\n"
     ]
    },
    {
     "name": "stdout",
     "output_type": "stream",
     "text": [
      "Early stopping. Epoch: 21 batch: 7\n"
     ]
    },
    {
     "name": "stderr",
     "output_type": "stream",
     "text": [
      "Loss=?.??e??:  21%|█████▉                      | 21/100 [00:19<01:12,  1.09it/s]\n"
     ]
    },
    {
     "name": "stdout",
     "output_type": "stream",
     "text": [
      "Early stopping. Epoch: 21 batch: 7\n"
     ]
    },
    {
     "name": "stderr",
     "output_type": "stream",
     "text": [
      "Loss=?.??e??:  21%|█████▉                      | 21/100 [00:19<01:12,  1.09it/s]\n"
     ]
    },
    {
     "name": "stdout",
     "output_type": "stream",
     "text": [
      "Early stopping. Epoch: 21 batch: 7\n"
     ]
    },
    {
     "name": "stderr",
     "output_type": "stream",
     "text": [
      "Loss=?.??e??:  21%|█████▉                      | 21/100 [00:19<01:12,  1.09it/s]\n"
     ]
    },
    {
     "name": "stdout",
     "output_type": "stream",
     "text": [
      "Early stopping. Epoch: 21 batch: 7\n"
     ]
    },
    {
     "name": "stderr",
     "output_type": "stream",
     "text": [
      "Loss=?.??e??:  21%|█████▉                      | 21/100 [00:20<01:18,  1.01it/s]\n"
     ]
    },
    {
     "name": "stdout",
     "output_type": "stream",
     "text": [
      "Early stopping. Epoch: 21 batch: 7\n"
     ]
    },
    {
     "name": "stderr",
     "output_type": "stream",
     "text": [
      "Loss=?.??e??:  21%|█████▉                      | 21/100 [00:19<01:14,  1.05it/s]\n"
     ]
    },
    {
     "name": "stdout",
     "output_type": "stream",
     "text": [
      "Early stopping. Epoch: 21 batch: 7\n"
     ]
    },
    {
     "name": "stderr",
     "output_type": "stream",
     "text": [
      "Loss=?.??e??:  21%|█████▉                      | 21/100 [00:19<01:14,  1.05it/s]\n"
     ]
    },
    {
     "name": "stdout",
     "output_type": "stream",
     "text": [
      "Early stopping. Epoch: 21 batch: 7\n"
     ]
    },
    {
     "name": "stderr",
     "output_type": "stream",
     "text": [
      "Loss=?.??e??:  21%|█████▉                      | 21/100 [00:19<01:11,  1.11it/s]\n"
     ]
    },
    {
     "name": "stdout",
     "output_type": "stream",
     "text": [
      "Early stopping. Epoch: 21 batch: 7\n"
     ]
    },
    {
     "name": "stderr",
     "output_type": "stream",
     "text": [
      "Loss=?.??e??:  21%|█████▉                      | 21/100 [00:19<01:12,  1.09it/s]\n"
     ]
    },
    {
     "name": "stdout",
     "output_type": "stream",
     "text": [
      "Early stopping. Epoch: 21 batch: 7\n"
     ]
    },
    {
     "name": "stderr",
     "output_type": "stream",
     "text": [
      "Loss=?.??e??:  21%|█████▉                      | 21/100 [00:20<01:16,  1.03it/s]\n"
     ]
    },
    {
     "name": "stdout",
     "output_type": "stream",
     "text": [
      "Early stopping. Epoch: 21 batch: 7\n"
     ]
    },
    {
     "name": "stderr",
     "output_type": "stream",
     "text": [
      "Loss=?.??e??:  21%|█████▉                      | 21/100 [00:20<01:16,  1.04it/s]\n"
     ]
    },
    {
     "name": "stdout",
     "output_type": "stream",
     "text": [
      "Early stopping. Epoch: 21 batch: 7\n"
     ]
    },
    {
     "name": "stderr",
     "output_type": "stream",
     "text": [
      "Loss=?.??e??:  21%|█████▉                      | 21/100 [00:20<01:16,  1.04it/s]\n"
     ]
    },
    {
     "name": "stdout",
     "output_type": "stream",
     "text": [
      "Early stopping. Epoch: 21 batch: 7\n"
     ]
    },
    {
     "name": "stderr",
     "output_type": "stream",
     "text": [
      "Loss=?.??e??:  21%|█████▉                      | 21/100 [00:20<01:16,  1.04it/s]\n"
     ]
    },
    {
     "name": "stdout",
     "output_type": "stream",
     "text": [
      "Early stopping. Epoch: 21 batch: 7\n"
     ]
    },
    {
     "name": "stderr",
     "output_type": "stream",
     "text": [
      "Loss=?.??e??:  21%|█████▉                      | 21/100 [00:20<01:15,  1.05it/s]\n"
     ]
    },
    {
     "name": "stdout",
     "output_type": "stream",
     "text": [
      "Early stopping. Epoch: 21 batch: 7\n"
     ]
    },
    {
     "name": "stderr",
     "output_type": "stream",
     "text": [
      "Loss=?.??e??:  21%|█████▉                      | 21/100 [00:19<01:14,  1.06it/s]\n"
     ]
    },
    {
     "name": "stdout",
     "output_type": "stream",
     "text": [
      "Early stopping. Epoch: 21 batch: 7\n"
     ]
    },
    {
     "name": "stderr",
     "output_type": "stream",
     "text": [
      "Loss=?.??e??:  21%|█████▉                      | 21/100 [00:19<01:13,  1.08it/s]\n"
     ]
    },
    {
     "name": "stdout",
     "output_type": "stream",
     "text": [
      "Early stopping. Epoch: 21 batch: 7\n"
     ]
    },
    {
     "name": "stderr",
     "output_type": "stream",
     "text": [
      "Loss=?.??e??:  21%|█████▉                      | 21/100 [00:19<01:13,  1.08it/s]\n"
     ]
    },
    {
     "name": "stdout",
     "output_type": "stream",
     "text": [
      "Early stopping. Epoch: 21 batch: 7\n"
     ]
    },
    {
     "name": "stderr",
     "output_type": "stream",
     "text": [
      "Loss=?.??e??:  21%|█████▉                      | 21/100 [00:19<01:13,  1.08it/s]\n"
     ]
    },
    {
     "name": "stdout",
     "output_type": "stream",
     "text": [
      "Early stopping. Epoch: 21 batch: 7\n"
     ]
    },
    {
     "name": "stderr",
     "output_type": "stream",
     "text": [
      "Loss=?.??e??:  21%|█████▉                      | 21/100 [00:19<01:12,  1.08it/s]\n"
     ]
    },
    {
     "name": "stdout",
     "output_type": "stream",
     "text": [
      "Early stopping. Epoch: 21 batch: 7\n"
     ]
    },
    {
     "name": "stderr",
     "output_type": "stream",
     "text": [
      "Loss=?.??e??:  21%|█████▉                      | 21/100 [00:19<01:13,  1.08it/s]\n"
     ]
    },
    {
     "name": "stdout",
     "output_type": "stream",
     "text": [
      "Early stopping. Epoch: 21 batch: 7\n"
     ]
    },
    {
     "name": "stderr",
     "output_type": "stream",
     "text": [
      "Loss=?.??e??:  21%|█████▉                      | 21/100 [00:19<01:13,  1.08it/s]\n"
     ]
    },
    {
     "name": "stdout",
     "output_type": "stream",
     "text": [
      "Early stopping. Epoch: 21 batch: 7\n"
     ]
    },
    {
     "name": "stderr",
     "output_type": "stream",
     "text": [
      "Loss=?.??e??:  21%|█████▉                      | 21/100 [00:19<01:12,  1.09it/s]\n"
     ]
    },
    {
     "name": "stdout",
     "output_type": "stream",
     "text": [
      "Early stopping. Epoch: 21 batch: 7\n"
     ]
    },
    {
     "name": "stderr",
     "output_type": "stream",
     "text": [
      "Loss=?.??e??:  21%|█████▉                      | 21/100 [00:19<01:12,  1.09it/s]\n"
     ]
    },
    {
     "name": "stdout",
     "output_type": "stream",
     "text": [
      "Early stopping. Epoch: 21 batch: 7\n"
     ]
    },
    {
     "name": "stderr",
     "output_type": "stream",
     "text": [
      "Loss=?.??e??:  21%|█████▉                      | 21/100 [00:19<01:12,  1.08it/s]\n"
     ]
    },
    {
     "name": "stdout",
     "output_type": "stream",
     "text": [
      "Early stopping. Epoch: 21 batch: 7\n"
     ]
    },
    {
     "name": "stderr",
     "output_type": "stream",
     "text": [
      "Loss=?.??e??:  21%|█████▉                      | 21/100 [00:19<01:12,  1.09it/s]\n"
     ]
    },
    {
     "name": "stdout",
     "output_type": "stream",
     "text": [
      "Early stopping. Epoch: 21 batch: 7\n"
     ]
    },
    {
     "name": "stderr",
     "output_type": "stream",
     "text": [
      "Loss=?.??e??:  21%|█████▉                      | 21/100 [00:19<01:12,  1.10it/s]\n"
     ]
    },
    {
     "name": "stdout",
     "output_type": "stream",
     "text": [
      "Early stopping. Epoch: 21 batch: 7\n"
     ]
    },
    {
     "name": "stderr",
     "output_type": "stream",
     "text": [
      "Loss=?.??e??:  21%|█████▉                      | 21/100 [00:19<01:12,  1.09it/s]\n"
     ]
    },
    {
     "name": "stdout",
     "output_type": "stream",
     "text": [
      "Early stopping. Epoch: 21 batch: 7\n"
     ]
    },
    {
     "name": "stderr",
     "output_type": "stream",
     "text": [
      "Loss=?.??e??:  21%|█████▉                      | 21/100 [00:19<01:12,  1.09it/s]\n"
     ]
    },
    {
     "name": "stdout",
     "output_type": "stream",
     "text": [
      "Early stopping. Epoch: 21 batch: 7\n"
     ]
    },
    {
     "name": "stderr",
     "output_type": "stream",
     "text": [
      "Loss=?.??e??:  21%|█████▉                      | 21/100 [00:19<01:12,  1.10it/s]\n"
     ]
    },
    {
     "name": "stdout",
     "output_type": "stream",
     "text": [
      "Early stopping. Epoch: 21 batch: 7\n"
     ]
    },
    {
     "name": "stderr",
     "output_type": "stream",
     "text": [
      "Loss=?.??e??:  21%|█████▉                      | 21/100 [00:19<01:12,  1.09it/s]\n"
     ]
    },
    {
     "name": "stdout",
     "output_type": "stream",
     "text": [
      "Early stopping. Epoch: 21 batch: 7\n"
     ]
    },
    {
     "name": "stderr",
     "output_type": "stream",
     "text": [
      "Loss=?.??e??:  21%|█████▉                      | 21/100 [00:19<01:12,  1.09it/s]\n"
     ]
    },
    {
     "name": "stdout",
     "output_type": "stream",
     "text": [
      "Early stopping. Epoch: 21 batch: 7\n"
     ]
    },
    {
     "name": "stderr",
     "output_type": "stream",
     "text": [
      "Loss=?.??e??:  21%|█████▉                      | 21/100 [00:20<01:18,  1.01it/s]\n"
     ]
    },
    {
     "name": "stdout",
     "output_type": "stream",
     "text": [
      "Early stopping. Epoch: 21 batch: 7\n"
     ]
    },
    {
     "name": "stderr",
     "output_type": "stream",
     "text": [
      "Loss=?.??e??:  21%|█████▉                      | 21/100 [00:21<01:20,  1.02s/it]\n"
     ]
    },
    {
     "name": "stdout",
     "output_type": "stream",
     "text": [
      "Early stopping. Epoch: 21 batch: 7\n"
     ]
    },
    {
     "name": "stderr",
     "output_type": "stream",
     "text": [
      "Loss=?.??e??:  21%|█████▉                      | 21/100 [00:19<01:14,  1.06it/s]\n"
     ]
    },
    {
     "name": "stdout",
     "output_type": "stream",
     "text": [
      "Early stopping. Epoch: 21 batch: 7\n"
     ]
    },
    {
     "name": "stderr",
     "output_type": "stream",
     "text": [
      "Loss=?.??e??:  21%|█████▉                      | 21/100 [00:19<01:15,  1.05it/s]\n"
     ]
    },
    {
     "name": "stdout",
     "output_type": "stream",
     "text": [
      "Early stopping. Epoch: 21 batch: 7\n"
     ]
    },
    {
     "name": "stderr",
     "output_type": "stream",
     "text": [
      "Loss=?.??e??:  21%|█████▉                      | 21/100 [00:19<01:14,  1.07it/s]\n"
     ]
    },
    {
     "name": "stdout",
     "output_type": "stream",
     "text": [
      "Early stopping. Epoch: 21 batch: 7\n"
     ]
    },
    {
     "name": "stderr",
     "output_type": "stream",
     "text": [
      "Loss=?.??e??:  21%|█████▉                      | 21/100 [00:19<01:11,  1.10it/s]\n"
     ]
    },
    {
     "name": "stdout",
     "output_type": "stream",
     "text": [
      "Early stopping. Epoch: 21 batch: 7\n"
     ]
    },
    {
     "name": "stderr",
     "output_type": "stream",
     "text": [
      "Loss=?.??e??:  21%|█████▉                      | 21/100 [00:19<01:12,  1.09it/s]\n"
     ]
    },
    {
     "name": "stdout",
     "output_type": "stream",
     "text": [
      "Early stopping. Epoch: 21 batch: 7\n"
     ]
    },
    {
     "name": "stderr",
     "output_type": "stream",
     "text": [
      "Loss=?.??e??:  21%|█████▉                      | 21/100 [00:19<01:11,  1.10it/s]\n"
     ]
    },
    {
     "name": "stdout",
     "output_type": "stream",
     "text": [
      "Early stopping. Epoch: 21 batch: 7\n"
     ]
    },
    {
     "name": "stderr",
     "output_type": "stream",
     "text": [
      "Loss=?.??e??:  21%|█████▉                      | 21/100 [00:19<01:12,  1.09it/s]\n"
     ]
    },
    {
     "name": "stdout",
     "output_type": "stream",
     "text": [
      "Early stopping. Epoch: 21 batch: 7\n"
     ]
    },
    {
     "name": "stderr",
     "output_type": "stream",
     "text": [
      "Loss=?.??e??:  21%|█████▉                      | 21/100 [00:19<01:13,  1.07it/s]\n"
     ]
    },
    {
     "name": "stdout",
     "output_type": "stream",
     "text": [
      "Early stopping. Epoch: 21 batch: 7\n"
     ]
    },
    {
     "name": "stderr",
     "output_type": "stream",
     "text": [
      "Loss=?.??e??:  21%|█████▉                      | 21/100 [00:19<01:12,  1.09it/s]\n"
     ]
    },
    {
     "name": "stdout",
     "output_type": "stream",
     "text": [
      "Early stopping. Epoch: 21 batch: 7\n"
     ]
    },
    {
     "name": "stderr",
     "output_type": "stream",
     "text": [
      "Loss=?.??e??:  21%|█████▉                      | 21/100 [00:18<01:09,  1.13it/s]\n"
     ]
    },
    {
     "name": "stdout",
     "output_type": "stream",
     "text": [
      "Early stopping. Epoch: 21 batch: 7\n"
     ]
    },
    {
     "name": "stderr",
     "output_type": "stream",
     "text": [
      "Loss=?.??e??:  21%|█████▉                      | 21/100 [00:18<01:09,  1.14it/s]\n"
     ]
    },
    {
     "name": "stdout",
     "output_type": "stream",
     "text": [
      "Early stopping. Epoch: 21 batch: 7\n"
     ]
    },
    {
     "name": "stderr",
     "output_type": "stream",
     "text": [
      "Loss=?.??e??:  21%|█████▉                      | 21/100 [00:19<01:11,  1.10it/s]\n"
     ]
    },
    {
     "name": "stdout",
     "output_type": "stream",
     "text": [
      "Early stopping. Epoch: 21 batch: 7\n"
     ]
    },
    {
     "name": "stderr",
     "output_type": "stream",
     "text": [
      "Loss=?.??e??:  21%|█████▉                      | 21/100 [00:20<01:17,  1.02it/s]\n"
     ]
    },
    {
     "name": "stdout",
     "output_type": "stream",
     "text": [
      "Early stopping. Epoch: 21 batch: 7\n"
     ]
    },
    {
     "name": "stderr",
     "output_type": "stream",
     "text": [
      "Loss=?.??e??:  21%|█████▉                      | 21/100 [00:20<01:18,  1.01it/s]\n"
     ]
    },
    {
     "name": "stdout",
     "output_type": "stream",
     "text": [
      "Early stopping. Epoch: 21 batch: 7\n"
     ]
    },
    {
     "name": "stderr",
     "output_type": "stream",
     "text": [
      "Loss=?.??e??:  21%|█████▉                      | 21/100 [00:20<01:15,  1.04it/s]\n"
     ]
    },
    {
     "name": "stdout",
     "output_type": "stream",
     "text": [
      "Early stopping. Epoch: 21 batch: 7\n"
     ]
    },
    {
     "name": "stderr",
     "output_type": "stream",
     "text": [
      "Loss=?.??e??:  21%|█████▉                      | 21/100 [00:19<01:14,  1.07it/s]\n"
     ]
    },
    {
     "name": "stdout",
     "output_type": "stream",
     "text": [
      "Early stopping. Epoch: 21 batch: 7\n"
     ]
    },
    {
     "name": "stderr",
     "output_type": "stream",
     "text": [
      "Loss=?.??e??:  21%|█████▉                      | 21/100 [00:20<01:15,  1.05it/s]\n"
     ]
    },
    {
     "name": "stdout",
     "output_type": "stream",
     "text": [
      "Early stopping. Epoch: 21 batch: 7\n"
     ]
    },
    {
     "name": "stderr",
     "output_type": "stream",
     "text": [
      "Loss=?.??e??:  21%|█████▉                      | 21/100 [00:20<01:16,  1.04it/s]\n"
     ]
    },
    {
     "name": "stdout",
     "output_type": "stream",
     "text": [
      "Early stopping. Epoch: 21 batch: 7\n"
     ]
    },
    {
     "name": "stderr",
     "output_type": "stream",
     "text": [
      "Loss=?.??e??:  21%|█████▉                      | 21/100 [00:20<01:16,  1.03it/s]\n"
     ]
    },
    {
     "name": "stdout",
     "output_type": "stream",
     "text": [
      "Early stopping. Epoch: 21 batch: 7\n"
     ]
    },
    {
     "name": "stderr",
     "output_type": "stream",
     "text": [
      "Loss=?.??e??:  21%|█████▉                      | 21/100 [00:20<01:16,  1.04it/s]\n"
     ]
    },
    {
     "name": "stdout",
     "output_type": "stream",
     "text": [
      "Early stopping. Epoch: 21 batch: 7\n"
     ]
    },
    {
     "name": "stderr",
     "output_type": "stream",
     "text": [
      "Loss=?.??e??:  21%|█████▉                      | 21/100 [00:19<01:13,  1.08it/s]\n"
     ]
    },
    {
     "name": "stdout",
     "output_type": "stream",
     "text": [
      "Early stopping. Epoch: 21 batch: 7\n"
     ]
    },
    {
     "name": "stderr",
     "output_type": "stream",
     "text": [
      "Loss=?.??e??:  21%|█████▉                      | 21/100 [00:19<01:13,  1.07it/s]\n"
     ]
    },
    {
     "name": "stdout",
     "output_type": "stream",
     "text": [
      "Early stopping. Epoch: 21 batch: 7\n"
     ]
    },
    {
     "name": "stderr",
     "output_type": "stream",
     "text": [
      "Loss=?.??e??:  21%|█████▉                      | 21/100 [00:19<01:14,  1.06it/s]\n"
     ]
    },
    {
     "name": "stdout",
     "output_type": "stream",
     "text": [
      "Early stopping. Epoch: 21 batch: 7\n"
     ]
    },
    {
     "name": "stderr",
     "output_type": "stream",
     "text": [
      "Loss=?.??e??:  21%|█████▉                      | 21/100 [00:20<01:16,  1.04it/s]\n"
     ]
    },
    {
     "name": "stdout",
     "output_type": "stream",
     "text": [
      "Early stopping. Epoch: 21 batch: 7\n"
     ]
    },
    {
     "name": "stderr",
     "output_type": "stream",
     "text": [
      "Loss=?.??e??:  21%|█████▉                      | 21/100 [00:19<01:14,  1.05it/s]\n"
     ]
    },
    {
     "name": "stdout",
     "output_type": "stream",
     "text": [
      "Early stopping. Epoch: 21 batch: 7\n"
     ]
    },
    {
     "name": "stderr",
     "output_type": "stream",
     "text": [
      "Loss=?.??e??:  21%|█████▉                      | 21/100 [00:19<01:12,  1.09it/s]\n"
     ]
    },
    {
     "name": "stdout",
     "output_type": "stream",
     "text": [
      "Early stopping. Epoch: 21 batch: 7\n"
     ]
    },
    {
     "name": "stderr",
     "output_type": "stream",
     "text": [
      "Loss=?.??e??:  21%|█████▉                      | 21/100 [00:19<01:12,  1.09it/s]\n"
     ]
    },
    {
     "name": "stdout",
     "output_type": "stream",
     "text": [
      "Early stopping. Epoch: 21 batch: 7\n"
     ]
    },
    {
     "name": "stderr",
     "output_type": "stream",
     "text": [
      "Loss=?.??e??:  21%|█████▉                      | 21/100 [00:19<01:12,  1.09it/s]"
     ]
    },
    {
     "name": "stdout",
     "output_type": "stream",
     "text": [
      "Early stopping. Epoch: 21 batch: 7\n"
     ]
    },
    {
     "name": "stderr",
     "output_type": "stream",
     "text": [
      "\n",
      "Loss=?.??e??:  21%|█████▉                      | 21/100 [00:19<01:12,  1.10it/s]\n"
     ]
    },
    {
     "name": "stdout",
     "output_type": "stream",
     "text": [
      "Early stopping. Epoch: 21 batch: 7\n"
     ]
    },
    {
     "name": "stderr",
     "output_type": "stream",
     "text": [
      "Loss=?.??e??:  21%|█████▉                      | 21/100 [00:19<01:13,  1.08it/s]\n"
     ]
    },
    {
     "name": "stdout",
     "output_type": "stream",
     "text": [
      "Early stopping. Epoch: 21 batch: 7\n"
     ]
    },
    {
     "name": "stderr",
     "output_type": "stream",
     "text": [
      "Loss=?.??e??:  21%|█████▉                      | 21/100 [00:20<01:17,  1.02it/s]\n"
     ]
    },
    {
     "name": "stdout",
     "output_type": "stream",
     "text": [
      "Early stopping. Epoch: 21 batch: 7\n"
     ]
    },
    {
     "name": "stderr",
     "output_type": "stream",
     "text": [
      "Loss=?.??e??:  21%|█████▉                      | 21/100 [00:19<01:13,  1.07it/s]\n"
     ]
    },
    {
     "name": "stdout",
     "output_type": "stream",
     "text": [
      "Early stopping. Epoch: 21 batch: 7\n"
     ]
    },
    {
     "name": "stderr",
     "output_type": "stream",
     "text": [
      "Loss=?.??e??:  21%|█████▉                      | 21/100 [00:19<01:12,  1.09it/s]\n"
     ]
    },
    {
     "name": "stdout",
     "output_type": "stream",
     "text": [
      "Early stopping. Epoch: 21 batch: 7\n"
     ]
    },
    {
     "name": "stderr",
     "output_type": "stream",
     "text": [
      "Loss=?.??e??:  21%|█████▉                      | 21/100 [00:19<01:12,  1.09it/s]\n"
     ]
    },
    {
     "name": "stdout",
     "output_type": "stream",
     "text": [
      "Early stopping. Epoch: 21 batch: 7\n"
     ]
    },
    {
     "name": "stderr",
     "output_type": "stream",
     "text": [
      "Loss=?.??e??:  21%|█████▉                      | 21/100 [00:19<01:11,  1.10it/s]\n"
     ]
    },
    {
     "name": "stdout",
     "output_type": "stream",
     "text": [
      "Early stopping. Epoch: 21 batch: 7\n"
     ]
    },
    {
     "name": "stderr",
     "output_type": "stream",
     "text": [
      "Loss=?.??e??:  21%|█████▉                      | 21/100 [00:19<01:11,  1.10it/s]\n"
     ]
    },
    {
     "name": "stdout",
     "output_type": "stream",
     "text": [
      "Early stopping. Epoch: 21 batch: 7\n"
     ]
    },
    {
     "name": "stderr",
     "output_type": "stream",
     "text": [
      "Loss=?.??e??:  21%|█████▉                      | 21/100 [00:19<01:12,  1.10it/s]\n"
     ]
    },
    {
     "name": "stdout",
     "output_type": "stream",
     "text": [
      "Early stopping. Epoch: 21 batch: 7\n"
     ]
    },
    {
     "name": "stderr",
     "output_type": "stream",
     "text": [
      "Loss=?.??e??:  21%|█████▉                      | 21/100 [00:19<01:11,  1.10it/s]\n"
     ]
    },
    {
     "name": "stdout",
     "output_type": "stream",
     "text": [
      "Early stopping. Epoch: 21 batch: 7\n"
     ]
    },
    {
     "name": "stderr",
     "output_type": "stream",
     "text": [
      "Loss=?.??e??:  21%|█████▉                      | 21/100 [00:19<01:12,  1.10it/s]\n"
     ]
    },
    {
     "name": "stdout",
     "output_type": "stream",
     "text": [
      "Early stopping. Epoch: 21 batch: 7\n"
     ]
    },
    {
     "name": "stderr",
     "output_type": "stream",
     "text": [
      "Loss=?.??e??:  21%|█████▉                      | 21/100 [00:19<01:12,  1.09it/s]\n"
     ]
    },
    {
     "name": "stdout",
     "output_type": "stream",
     "text": [
      "Early stopping. Epoch: 21 batch: 7\n"
     ]
    },
    {
     "name": "stderr",
     "output_type": "stream",
     "text": [
      "Loss=?.??e??:  21%|█████▉                      | 21/100 [00:19<01:11,  1.10it/s]\n"
     ]
    },
    {
     "name": "stdout",
     "output_type": "stream",
     "text": [
      "Early stopping. Epoch: 21 batch: 7\n"
     ]
    },
    {
     "name": "stderr",
     "output_type": "stream",
     "text": [
      "Loss=?.??e??:  21%|█████▉                      | 21/100 [00:19<01:11,  1.10it/s]\n"
     ]
    },
    {
     "name": "stdout",
     "output_type": "stream",
     "text": [
      "Early stopping. Epoch: 21 batch: 7\n"
     ]
    },
    {
     "name": "stderr",
     "output_type": "stream",
     "text": [
      "Loss=?.??e??:  21%|█████▉                      | 21/100 [00:19<01:12,  1.10it/s]\n"
     ]
    },
    {
     "name": "stdout",
     "output_type": "stream",
     "text": [
      "Early stopping. Epoch: 21 batch: 7\n"
     ]
    },
    {
     "name": "stderr",
     "output_type": "stream",
     "text": [
      "Loss=?.??e??:  21%|█████▉                      | 21/100 [00:19<01:12,  1.09it/s]\n"
     ]
    },
    {
     "name": "stdout",
     "output_type": "stream",
     "text": [
      "Early stopping. Epoch: 21 batch: 7\n"
     ]
    },
    {
     "name": "stderr",
     "output_type": "stream",
     "text": [
      "Loss=?.??e??:  21%|█████▉                      | 21/100 [00:19<01:13,  1.07it/s]\n"
     ]
    },
    {
     "name": "stdout",
     "output_type": "stream",
     "text": [
      "Early stopping. Epoch: 21 batch: 7\n"
     ]
    },
    {
     "name": "stderr",
     "output_type": "stream",
     "text": [
      "Loss=?.??e??:  21%|█████▉                      | 21/100 [00:19<01:11,  1.10it/s]\n"
     ]
    },
    {
     "name": "stdout",
     "output_type": "stream",
     "text": [
      "Early stopping. Epoch: 21 batch: 7\n"
     ]
    },
    {
     "name": "stderr",
     "output_type": "stream",
     "text": [
      "Loss=?.??e??:  21%|█████▉                      | 21/100 [00:19<01:11,  1.10it/s]\n"
     ]
    },
    {
     "name": "stdout",
     "output_type": "stream",
     "text": [
      "Early stopping. Epoch: 21 batch: 7\n"
     ]
    },
    {
     "name": "stderr",
     "output_type": "stream",
     "text": [
      "Loss=?.??e??:  21%|█████▉                      | 21/100 [00:18<01:08,  1.16it/s]\n"
     ]
    },
    {
     "name": "stdout",
     "output_type": "stream",
     "text": [
      "Early stopping. Epoch: 21 batch: 7\n"
     ]
    },
    {
     "name": "stderr",
     "output_type": "stream",
     "text": [
      "Loss=?.??e??:  21%|█████▉                      | 21/100 [00:19<01:14,  1.07it/s]\n"
     ]
    },
    {
     "name": "stdout",
     "output_type": "stream",
     "text": [
      "Early stopping. Epoch: 21 batch: 7\n"
     ]
    },
    {
     "name": "stderr",
     "output_type": "stream",
     "text": [
      "Loss=?.??e??:  21%|█████▉                      | 21/100 [00:20<01:15,  1.05it/s]\n"
     ]
    },
    {
     "name": "stdout",
     "output_type": "stream",
     "text": [
      "Early stopping. Epoch: 21 batch: 7\n"
     ]
    },
    {
     "name": "stderr",
     "output_type": "stream",
     "text": [
      "Loss=?.??e??:  21%|█████▉                      | 21/100 [00:18<01:11,  1.11it/s]\n"
     ]
    },
    {
     "name": "stdout",
     "output_type": "stream",
     "text": [
      "Early stopping. Epoch: 21 batch: 7\n"
     ]
    },
    {
     "name": "stderr",
     "output_type": "stream",
     "text": [
      "Loss=?.??e??:  21%|█████▉                      | 21/100 [00:20<01:18,  1.00it/s]\n"
     ]
    },
    {
     "name": "stdout",
     "output_type": "stream",
     "text": [
      "Early stopping. Epoch: 21 batch: 7\n"
     ]
    },
    {
     "name": "stderr",
     "output_type": "stream",
     "text": [
      "Loss=?.??e??:  21%|█████▉                      | 21/100 [00:19<01:12,  1.08it/s]\n"
     ]
    },
    {
     "name": "stdout",
     "output_type": "stream",
     "text": [
      "Early stopping. Epoch: 21 batch: 7\n"
     ]
    },
    {
     "name": "stderr",
     "output_type": "stream",
     "text": [
      "Loss=?.??e??:  21%|█████▉                      | 21/100 [00:19<01:12,  1.09it/s]\n"
     ]
    },
    {
     "name": "stdout",
     "output_type": "stream",
     "text": [
      "Early stopping. Epoch: 21 batch: 7\n"
     ]
    },
    {
     "name": "stderr",
     "output_type": "stream",
     "text": [
      "Loss=?.??e??:  21%|█████▉                      | 21/100 [00:19<01:12,  1.08it/s]\n"
     ]
    },
    {
     "name": "stdout",
     "output_type": "stream",
     "text": [
      "Early stopping. Epoch: 21 batch: 7\n"
     ]
    },
    {
     "name": "stderr",
     "output_type": "stream",
     "text": [
      "Loss=?.??e??:  15%|████▏                       | 15/100 [00:13<01:16,  1.11it/s]"
     ]
    }
   ],
   "source": [
    "for i in range(int(1e6)):\n",
    "#     os.environ[\"PL_GLOBAL_SEED\"] = str(0)\n",
    "#     random.seed(0)\n",
    "#     np.random.seed(0)\n",
    "#     torch.use_deterministic_algorithms(True)\n",
    "#     torch.manual_seed(0)\n",
    "#     torch.cuda.manual_seed_all(0)\n",
    "    (losses, unpertubed_pred_data, student_network, scaler) = run_train_with_noise(**config)\n"
   ]
  },
  {
   "cell_type": "code",
   "execution_count": null,
   "id": "345c0432",
   "metadata": {},
   "outputs": [],
   "source": [
    "config[\"data_dir\"] = config[\"data_dir\"] + '4/'\n",
    "config[\"BFN_training_params\"][\"batch_size\"] = 10\n",
    "config[\"BFN_training_params\"][\"epochs\"] = 1\n",
    "config[\"pkn_path\"]=\"/dccstor/ipc1/CAR/BFN/LiverDREAM_PKN.sif\""
   ]
  },
  {
   "cell_type": "code",
   "execution_count": null,
   "id": "658aedfe",
   "metadata": {},
   "outputs": [],
   "source": [
    "_, train_input_df, _, test_input_df = load_and_prepare_data(\"/dccstor/ipc1/CAR/BFN/Model/Noise/SimData1/\", \n",
    "                                                                                  add_noise_to_input_test=config[\"add_noise_to_input_test\"],\n",
    "                                                                                  add_noise_to_input_train=config[\"add_noise_to_input_train\"],\n",
    "                                                                                  add_noise_to_y_test=config[\"add_noise_to_y_test\"],\n",
    "                                                                                  add_noise_to_y_train=config[\"add_noise_to_y_train\"],\n",
    "                                                                                  noise_sd=config[\"noise_sd\"])\n",
    "\n",
    "all_train = pd.read_csv(\"/dccstor/ipc1/CAR/BFN/Model/Test/temp_all_train_after_pp.csv\", index_col=0)\n",
    "all_val = pd.read_csv(\"/dccstor/ipc1/CAR/BFN/Model/Test/temp_all_val_after_pp.csv\", index_col=0)\n",
    "all_test = pd.read_csv(\"/dccstor/ipc1/CAR/BFN/Model/Test/temp_all_test_after_pp.csv\", index_col=0)\n",
    "\n",
    "before_pp_all_train = pd.read_csv(\"/dccstor/ipc1/CAR/BFN/Model/Test/temp_all_train_before_pp.csv\", index_col=0)\n",
    "before_pp_all_val = pd.read_csv(\"/dccstor/ipc1/CAR/BFN/Model/Test/temp_all_val_before_pp.csv\", index_col=0)\n",
    "before_pp_all_test = pd.read_csv(\"/dccstor/ipc1/CAR/BFN/Model/Test/temp_all_test_before_pp.csv\", index_col=0)"
   ]
  },
  {
   "cell_type": "code",
   "execution_count": null,
   "id": "687b875a",
   "metadata": {},
   "outputs": [],
   "source": [
    "print(\"train: \", all_train.max().max(), \"val: \", all_val.max().max(), \"test: \", all_test.max().max())\n",
    "print(\"train: \", all_train.min().min(), \"val: \", all_val.min().min(), \"test: \", all_test.min().min())\n",
    "\n",
    "print(\"After PP\")\n",
    "print(\"train: \", before_pp_all_train.max().max(), \"val: \", before_pp_all_val.max().max(), \"test: \", before_pp_all_test.max().max())\n",
    "print(\"train: \", before_pp_all_train.min().min(), \"val: \", before_pp_all_val.min().min(), \"test: \", before_pp_all_test.min().min())\n"
   ]
  },
  {
   "cell_type": "code",
   "execution_count": null,
   "id": "fa02d23c",
   "metadata": {
    "scrolled": true
   },
   "outputs": [],
   "source": [
    "os.environ[\"PL_GLOBAL_SEED\"] = str(0)\n",
    "random.seed(0)\n",
    "np.random.seed(0)\n",
    "torch.use_deterministic_algorithms(True)\n",
    "torch.manual_seed(0)\n",
    "torch.cuda.manual_seed_all(0)\n",
    "try:\n",
    "    minimal_train(config[\"pkn_path\"], \n",
    "                  config['BFN_training_params'], \n",
    "                  all_train, \n",
    "                  all_val, \n",
    "                  all_test) # Print torch.seed()\n",
    "except RuntimeError:\n",
    "    print(\"Model stopped\")"
   ]
  },
  {
   "cell_type": "code",
   "execution_count": null,
   "id": "68bd3a60",
   "metadata": {},
   "outputs": [],
   "source": [
    "from biological_fuzzy_logic_networks.Hill_function import HillTransferFunction"
   ]
  },
  {
   "cell_type": "code",
   "execution_count": null,
   "id": "4d0b85d6",
   "metadata": {},
   "outputs": [],
   "source": [
    "hill = HillTransferFunction()\n",
    "hill.K = torch.nn.Parameter(torch.Tensor([-0.9838]))\n",
    "hill.n = torch.nn.Parameter(torch.Tensor([0.3227]))"
   ]
  },
  {
   "cell_type": "code",
   "execution_count": null,
   "id": "8d934d7d",
   "metadata": {},
   "outputs": [],
   "source": [
    "hill.forward(x=torch.Tensor([0.3553, 0.3177, 0.5697, 0.6115, 0.6100,train_input_dict[\"tgfa\"].max().item(), 0.7479, 0.7486, 0.4753,\n",
    "        0.4864]))"
   ]
  },
  {
   "cell_type": "code",
   "execution_count": null,
   "id": "cbdc442f",
   "metadata": {},
   "outputs": [],
   "source": []
  },
  {
   "cell_type": "code",
   "execution_count": null,
   "id": "1ded0cf1",
   "metadata": {},
   "outputs": [],
   "source": []
  },
  {
   "cell_type": "code",
   "execution_count": null,
   "id": "fe392dca",
   "metadata": {},
   "outputs": [],
   "source": []
  },
  {
   "cell_type": "code",
   "execution_count": null,
   "id": "4d5ab7b5",
   "metadata": {},
   "outputs": [],
   "source": []
  },
  {
   "cell_type": "code",
   "execution_count": null,
   "id": "581137af",
   "metadata": {},
   "outputs": [],
   "source": []
  },
  {
   "cell_type": "code",
   "execution_count": null,
   "id": "2f91fb02",
   "metadata": {},
   "outputs": [],
   "source": []
  },
  {
   "cell_type": "code",
   "execution_count": null,
   "id": "073f754d",
   "metadata": {},
   "outputs": [],
   "source": []
  },
  {
   "cell_type": "code",
   "execution_count": null,
   "id": "dbc732d8",
   "metadata": {},
   "outputs": [],
   "source": []
  },
  {
   "cell_type": "code",
   "execution_count": null,
   "id": "ce0e90e6",
   "metadata": {},
   "outputs": [],
   "source": []
  },
  {
   "cell_type": "code",
   "execution_count": null,
   "id": "b2b367fc",
   "metadata": {},
   "outputs": [],
   "source": []
  },
  {
   "cell_type": "code",
   "execution_count": null,
   "id": "293cface",
   "metadata": {},
   "outputs": [],
   "source": []
  },
  {
   "cell_type": "code",
   "execution_count": null,
   "id": "134f0967",
   "metadata": {},
   "outputs": [],
   "source": []
  },
  {
   "cell_type": "code",
   "execution_count": null,
   "id": "5688daef",
   "metadata": {},
   "outputs": [],
   "source": [
    "train_input_dict = {\n",
    "        c: torch.Tensor(np.array(all_train[c])) for c in train_input_df.columns\n",
    "    }"
   ]
  },
  {
   "cell_type": "code",
   "execution_count": null,
   "id": "f43bf413",
   "metadata": {},
   "outputs": [],
   "source": [
    "train_input_dict[\"tgfa\"].max().item()"
   ]
  },
  {
   "cell_type": "code",
   "execution_count": null,
   "id": "ad81debe",
   "metadata": {
    "scrolled": true
   },
   "outputs": [],
   "source": [
    "### FINDING PARAMETER SEED WITH NAN GRADIENT\n",
    "\n",
    "# for i in range(int(1e6)):\n",
    "#     os.environ[\"PL_GLOBAL_SEED\"] = str(0)\n",
    "#     random.seed(0)\n",
    "#     np.random.seed(0)\n",
    "#     torch.use_deterministic_algorithms(True)\n",
    "#     torch.manual_seed(0)\n",
    "#     torch.cuda.manual_seed_all(0)\n",
    "#     try:\n",
    "#         minimal_train(config[\"pkn_path\"], \n",
    "#                       config['BFN_training_params'], \n",
    "#                       all_train, \n",
    "#                       all_val, \n",
    "#                       all_test) # Print torch.seed()\n",
    "#     except RuntimeError:\n",
    "#         print(\"Model stopped at: \", i)"
   ]
  },
  {
   "cell_type": "code",
   "execution_count": null,
   "id": "5029f587",
   "metadata": {},
   "outputs": [],
   "source": []
  }
 ],
 "metadata": {
  "kernelspec": {
   "display_name": "Python 3 (ipykernel)",
   "language": "python",
   "name": "python3"
  },
  "language_info": {
   "codemirror_mode": {
    "name": "ipython",
    "version": 3
   },
   "file_extension": ".py",
   "mimetype": "text/x-python",
   "name": "python",
   "nbconvert_exporter": "python",
   "pygments_lexer": "ipython3",
   "version": "3.9.13"
  }
 },
 "nbformat": 4,
 "nbformat_minor": 5
}
