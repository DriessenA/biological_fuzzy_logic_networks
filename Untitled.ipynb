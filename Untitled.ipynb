{
 "cells": [
  {
   "cell_type": "code",
   "execution_count": 3,
   "id": "d47a5cc7",
   "metadata": {},
   "outputs": [],
   "source": [
    "import torch\n",
    "from torch import nn"
   ]
  },
  {
   "cell_type": "code",
   "execution_count": 69,
   "id": "3d280f67",
   "metadata": {},
   "outputs": [
    {
     "name": "stdout",
     "output_type": "stream",
     "text": [
      "tensor([[0.5528, 0.6372, 0.4378, 0.4763, 0.9781],\n",
      "        [0.9979, 0.9328, 0.8670, 0.3686, 0.9964],\n",
      "        [0.4484, 0.1823, 0.0010, 0.3506, 0.7781]])\n",
      "tensor([[[0.5528],\n",
      "         [0.6372],\n",
      "         [0.4378],\n",
      "         [0.4763],\n",
      "         [0.9781]],\n",
      "\n",
      "        [[0.9979],\n",
      "         [0.9328],\n",
      "         [0.8670],\n",
      "         [0.3686],\n",
      "         [0.9964]],\n",
      "\n",
      "        [[0.4484],\n",
      "         [0.1823],\n",
      "         [0.0010],\n",
      "         [0.3506],\n",
      "         [0.7781]]])\n"
     ]
    }
   ],
   "source": [
    "# 3 cells with 5 genes\n",
    "fake_data = torch.rand((3,5))\n",
    "print(fake_data)\n",
    "\n",
    "# reshape so that each gene is seen as one item in sequence of GEX\n",
    "# cells, genes, genes embedding\n",
    "fake_data = fake_data.reshape((3,5,1))\n",
    "print(fake_data)"
   ]
  },
  {
   "cell_type": "code",
   "execution_count": 73,
   "id": "3aa13f9d",
   "metadata": {},
   "outputs": [],
   "source": [
    "# Attention layer\n",
    "class AttentionLayer(nn.Module):\n",
    "    def __init__(self, n_genes):\n",
    "        super(AttentionLayer, self).__init__()\n",
    "        self.q_embed = 1 # If you assume each gene is represented by 1D expression in 1 cell, outwise set to outdim of embed genes layer\n",
    "        self.length = n_genes\n",
    "        \n",
    "#         self.embed_genes = torch.nn.Linear(1,10) # Map 1D genes to 10D embedding\n",
    "        self.k_layer = torch.nn.Linear(1, self.q_embed)\n",
    "        self.q_layer = torch.nn.Linear(1, self.q_embed)\n",
    "        self.v_layer = torch.nn.Linear(1, self.q_embed)\n",
    "        self.layer = torch.nn.MultiheadAttention(embed_dim=self.q_embed, num_heads=1)\n",
    "\n",
    "    def forward(self, x):\n",
    "#         y = self.embed_genes(x)\n",
    "        k = self.k_layer(x) # If embedding genes use y instead of x \n",
    "        v = self.v_layer(x) # If embedding genes use y instead of x\n",
    "        q = self.q_layer(x) # If embedding genes use y instead of x\n",
    "        x_out, x_out_weights = self.layer(q, k, v)\n",
    "        \n",
    "        return x_out"
   ]
  },
  {
   "cell_type": "code",
   "execution_count": 74,
   "id": "cee8f0ee",
   "metadata": {},
   "outputs": [],
   "source": [
    "layer = AttentionLayer(n_genes=5)"
   ]
  },
  {
   "cell_type": "code",
   "execution_count": 75,
   "id": "43269de4",
   "metadata": {},
   "outputs": [
    {
     "data": {
      "text/plain": [
       "torch.Size([3, 5, 1])"
      ]
     },
     "execution_count": 75,
     "metadata": {},
     "output_type": "execute_result"
    }
   ],
   "source": [
    "layer.forward(x=fake_data).shape"
   ]
  },
  {
   "cell_type": "code",
   "execution_count": null,
   "id": "924f7a54",
   "metadata": {},
   "outputs": [],
   "source": []
  },
  {
   "cell_type": "code",
   "execution_count": 42,
   "id": "595a5485",
   "metadata": {},
   "outputs": [],
   "source": [
    "embed_genes = torch.nn.Linear(1,20)\n",
    "\n",
    "k_layer = torch.nn.Linear(20, 10)\n",
    "q_layer = torch.nn.Linear(20, 10)\n",
    "v_layer = torch.nn.Linear(20, 10)\n",
    "layer = torch.nn.MultiheadAttention(embed_dim=10, num_heads=2)\n",
    "# 100 cells, 50 genes, 1D embedding per gene\n",
    "x = torch.rand((100,50,1))"
   ]
  },
  {
   "cell_type": "code",
   "execution_count": 43,
   "id": "74f95b1a",
   "metadata": {},
   "outputs": [],
   "source": [
    "y = embed_genes(x)\n",
    "k = k_layer(y)\n",
    "v = v_layer(y)\n",
    "q = q_layer(y)\n",
    "x_out, _ = layer(q, k, v)"
   ]
  },
  {
   "cell_type": "code",
   "execution_count": 44,
   "id": "8a239ce5",
   "metadata": {},
   "outputs": [
    {
     "data": {
      "text/plain": [
       "torch.Size([100, 50, 10])"
      ]
     },
     "execution_count": 44,
     "metadata": {},
     "output_type": "execute_result"
    }
   ],
   "source": [
    "x_out.shape"
   ]
  },
  {
   "cell_type": "code",
   "execution_count": 45,
   "id": "d49145e4",
   "metadata": {},
   "outputs": [
    {
     "data": {
      "text/plain": [
       "torch.Size([100, 50, 10])"
      ]
     },
     "execution_count": 45,
     "metadata": {},
     "output_type": "execute_result"
    }
   ],
   "source": [
    "q.shape"
   ]
  },
  {
   "cell_type": "code",
   "execution_count": null,
   "id": "a5f631f5",
   "metadata": {},
   "outputs": [],
   "source": []
  }
 ],
 "metadata": {
  "kernelspec": {
   "display_name": "Python 3 (ipykernel)",
   "language": "python",
   "name": "python3"
  },
  "language_info": {
   "codemirror_mode": {
    "name": "ipython",
    "version": 3
   },
   "file_extension": ".py",
   "mimetype": "text/x-python",
   "name": "python",
   "nbconvert_exporter": "python",
   "pygments_lexer": "ipython3",
   "version": "3.10.9"
  }
 },
 "nbformat": 4,
 "nbformat_minor": 5
}
